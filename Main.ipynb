{
 "cells": [
  {
   "cell_type": "code",
   "execution_count": 1,
   "id": "184d1c00",
   "metadata": {},
   "outputs": [],
   "source": [
    "import pandas as pd  \n",
    "import numpy as np   \n",
    "\n",
    "import matplotlib.pyplot as plt \n",
    "import seaborn as sns            \n",
    "\n",
    "from sklearn.metrics.pairwise import cosine_similarity  \n",
    "\n",
    "from sklearn.model_selection import train_test_split  \n"
   ]
  },
  {
   "cell_type": "markdown",
   "id": "d41af83d",
   "metadata": {},
   "source": [
    "# Load Data"
   ]
  },
  {
   "cell_type": "code",
   "execution_count": 2,
   "id": "196986dd",
   "metadata": {},
   "outputs": [
    {
     "data": {
      "application/vnd.microsoft.datawrangler.viewer.v0+json": {
       "columns": [
        {
         "name": "index",
         "rawType": "int64",
         "type": "integer"
        },
        {
         "name": "user_id",
         "rawType": "int64",
         "type": "integer"
        },
        {
         "name": "item_id",
         "rawType": "int64",
         "type": "integer"
        },
        {
         "name": "rating",
         "rawType": "int64",
         "type": "integer"
        },
        {
         "name": "timestamp",
         "rawType": "int64",
         "type": "integer"
        }
       ],
       "ref": "3f53fc95-c386-4023-95bc-dd347ef5c1ad",
       "rows": [
        [
         "0",
         "196",
         "242",
         "3",
         "881250949"
        ],
        [
         "1",
         "186",
         "302",
         "3",
         "891717742"
        ],
        [
         "2",
         "22",
         "377",
         "1",
         "878887116"
        ],
        [
         "3",
         "244",
         "51",
         "2",
         "880606923"
        ],
        [
         "4",
         "166",
         "346",
         "1",
         "886397596"
        ]
       ],
       "shape": {
        "columns": 4,
        "rows": 5
       }
      },
      "text/html": [
       "<div>\n",
       "<style scoped>\n",
       "    .dataframe tbody tr th:only-of-type {\n",
       "        vertical-align: middle;\n",
       "    }\n",
       "\n",
       "    .dataframe tbody tr th {\n",
       "        vertical-align: top;\n",
       "    }\n",
       "\n",
       "    .dataframe thead th {\n",
       "        text-align: right;\n",
       "    }\n",
       "</style>\n",
       "<table border=\"1\" class=\"dataframe\">\n",
       "  <thead>\n",
       "    <tr style=\"text-align: right;\">\n",
       "      <th></th>\n",
       "      <th>user_id</th>\n",
       "      <th>item_id</th>\n",
       "      <th>rating</th>\n",
       "      <th>timestamp</th>\n",
       "    </tr>\n",
       "  </thead>\n",
       "  <tbody>\n",
       "    <tr>\n",
       "      <th>0</th>\n",
       "      <td>196</td>\n",
       "      <td>242</td>\n",
       "      <td>3</td>\n",
       "      <td>881250949</td>\n",
       "    </tr>\n",
       "    <tr>\n",
       "      <th>1</th>\n",
       "      <td>186</td>\n",
       "      <td>302</td>\n",
       "      <td>3</td>\n",
       "      <td>891717742</td>\n",
       "    </tr>\n",
       "    <tr>\n",
       "      <th>2</th>\n",
       "      <td>22</td>\n",
       "      <td>377</td>\n",
       "      <td>1</td>\n",
       "      <td>878887116</td>\n",
       "    </tr>\n",
       "    <tr>\n",
       "      <th>3</th>\n",
       "      <td>244</td>\n",
       "      <td>51</td>\n",
       "      <td>2</td>\n",
       "      <td>880606923</td>\n",
       "    </tr>\n",
       "    <tr>\n",
       "      <th>4</th>\n",
       "      <td>166</td>\n",
       "      <td>346</td>\n",
       "      <td>1</td>\n",
       "      <td>886397596</td>\n",
       "    </tr>\n",
       "  </tbody>\n",
       "</table>\n",
       "</div>"
      ],
      "text/plain": [
       "   user_id  item_id  rating  timestamp\n",
       "0      196      242       3  881250949\n",
       "1      186      302       3  891717742\n",
       "2       22      377       1  878887116\n",
       "3      244       51       2  880606923\n",
       "4      166      346       1  886397596"
      ]
     },
     "execution_count": 2,
     "metadata": {},
     "output_type": "execute_result"
    }
   ],
   "source": [
    "ratings_columns = ['user_id', 'item_id', 'rating', 'timestamp']\n",
    "ratings = pd.read_csv('ml-100k/u.data', sep='\\t', names=ratings_columns)\n",
    "\n",
    "ratings.to_csv('ratings.csv', index=False)\n",
    "\n",
    "\n",
    "ratings.head()\n"
   ]
  },
  {
   "cell_type": "code",
   "execution_count": 3,
   "id": "2df81780",
   "metadata": {},
   "outputs": [
    {
     "data": {
      "application/vnd.microsoft.datawrangler.viewer.v0+json": {
       "columns": [
        {
         "name": "index",
         "rawType": "int64",
         "type": "integer"
        },
        {
         "name": "item_id",
         "rawType": "int64",
         "type": "integer"
        },
        {
         "name": "title",
         "rawType": "object",
         "type": "string"
        },
        {
         "name": "release_date",
         "rawType": "object",
         "type": "string"
        }
       ],
       "ref": "a63da6d8-91b1-4fcc-94d1-d2a9bdded052",
       "rows": [
        [
         "0",
         "1",
         "Toy Story (1995)",
         "01-Jan-1995"
        ],
        [
         "1",
         "2",
         "GoldenEye (1995)",
         "01-Jan-1995"
        ],
        [
         "2",
         "3",
         "Four Rooms (1995)",
         "01-Jan-1995"
        ],
        [
         "3",
         "4",
         "Get Shorty (1995)",
         "01-Jan-1995"
        ],
        [
         "4",
         "5",
         "Copycat (1995)",
         "01-Jan-1995"
        ]
       ],
       "shape": {
        "columns": 3,
        "rows": 5
       }
      },
      "text/html": [
       "<div>\n",
       "<style scoped>\n",
       "    .dataframe tbody tr th:only-of-type {\n",
       "        vertical-align: middle;\n",
       "    }\n",
       "\n",
       "    .dataframe tbody tr th {\n",
       "        vertical-align: top;\n",
       "    }\n",
       "\n",
       "    .dataframe thead th {\n",
       "        text-align: right;\n",
       "    }\n",
       "</style>\n",
       "<table border=\"1\" class=\"dataframe\">\n",
       "  <thead>\n",
       "    <tr style=\"text-align: right;\">\n",
       "      <th></th>\n",
       "      <th>item_id</th>\n",
       "      <th>title</th>\n",
       "      <th>release_date</th>\n",
       "    </tr>\n",
       "  </thead>\n",
       "  <tbody>\n",
       "    <tr>\n",
       "      <th>0</th>\n",
       "      <td>1</td>\n",
       "      <td>Toy Story (1995)</td>\n",
       "      <td>01-Jan-1995</td>\n",
       "    </tr>\n",
       "    <tr>\n",
       "      <th>1</th>\n",
       "      <td>2</td>\n",
       "      <td>GoldenEye (1995)</td>\n",
       "      <td>01-Jan-1995</td>\n",
       "    </tr>\n",
       "    <tr>\n",
       "      <th>2</th>\n",
       "      <td>3</td>\n",
       "      <td>Four Rooms (1995)</td>\n",
       "      <td>01-Jan-1995</td>\n",
       "    </tr>\n",
       "    <tr>\n",
       "      <th>3</th>\n",
       "      <td>4</td>\n",
       "      <td>Get Shorty (1995)</td>\n",
       "      <td>01-Jan-1995</td>\n",
       "    </tr>\n",
       "    <tr>\n",
       "      <th>4</th>\n",
       "      <td>5</td>\n",
       "      <td>Copycat (1995)</td>\n",
       "      <td>01-Jan-1995</td>\n",
       "    </tr>\n",
       "  </tbody>\n",
       "</table>\n",
       "</div>"
      ],
      "text/plain": [
       "   item_id              title release_date\n",
       "0        1   Toy Story (1995)  01-Jan-1995\n",
       "1        2   GoldenEye (1995)  01-Jan-1995\n",
       "2        3  Four Rooms (1995)  01-Jan-1995\n",
       "3        4  Get Shorty (1995)  01-Jan-1995\n",
       "4        5     Copycat (1995)  01-Jan-1995"
      ]
     },
     "execution_count": 3,
     "metadata": {},
     "output_type": "execute_result"
    }
   ],
   "source": [
    "movies_columns = ['item_id', 'title', 'release_date', 'video_release_date',\n",
    "                  'IMDb_URL', 'unknown', 'Action', 'Adventure', 'Animation',\n",
    "                  'Children', 'Comedy', 'Crime', 'Documentary', 'Drama',\n",
    "                  'Fantasy', 'Film-Noir', 'Horror', 'Musical', 'Mystery',\n",
    "                  'Romance', 'Sci-Fi', 'Thriller', 'War', 'Western']\n",
    "\n",
    "movies = pd.read_csv('ml-100k/u.item', sep='|', names=movies_columns, encoding='latin-1')\n",
    "\n",
    "movies = movies[['item_id', 'title', 'release_date']]\n",
    "\n",
    "movies.to_csv('movies.csv', index=False)\n",
    "\n",
    "\n",
    "movies.head()\n",
    "\n"
   ]
  },
  {
   "cell_type": "code",
   "execution_count": 4,
   "id": "377b1e8d",
   "metadata": {},
   "outputs": [
    {
     "data": {
      "application/vnd.microsoft.datawrangler.viewer.v0+json": {
       "columns": [
        {
         "name": "index",
         "rawType": "int64",
         "type": "integer"
        },
        {
         "name": "user_id",
         "rawType": "int64",
         "type": "integer"
        },
        {
         "name": "age",
         "rawType": "int64",
         "type": "integer"
        },
        {
         "name": "gender",
         "rawType": "object",
         "type": "string"
        },
        {
         "name": "occupation",
         "rawType": "object",
         "type": "string"
        },
        {
         "name": "zip_code",
         "rawType": "object",
         "type": "string"
        }
       ],
       "ref": "2982bfda-e1fa-4858-a6bf-d39009a0fb43",
       "rows": [
        [
         "0",
         "1",
         "24",
         "M",
         "technician",
         "85711"
        ],
        [
         "1",
         "2",
         "53",
         "F",
         "other",
         "94043"
        ],
        [
         "2",
         "3",
         "23",
         "M",
         "writer",
         "32067"
        ],
        [
         "3",
         "4",
         "24",
         "M",
         "technician",
         "43537"
        ],
        [
         "4",
         "5",
         "33",
         "F",
         "other",
         "15213"
        ]
       ],
       "shape": {
        "columns": 5,
        "rows": 5
       }
      },
      "text/html": [
       "<div>\n",
       "<style scoped>\n",
       "    .dataframe tbody tr th:only-of-type {\n",
       "        vertical-align: middle;\n",
       "    }\n",
       "\n",
       "    .dataframe tbody tr th {\n",
       "        vertical-align: top;\n",
       "    }\n",
       "\n",
       "    .dataframe thead th {\n",
       "        text-align: right;\n",
       "    }\n",
       "</style>\n",
       "<table border=\"1\" class=\"dataframe\">\n",
       "  <thead>\n",
       "    <tr style=\"text-align: right;\">\n",
       "      <th></th>\n",
       "      <th>user_id</th>\n",
       "      <th>age</th>\n",
       "      <th>gender</th>\n",
       "      <th>occupation</th>\n",
       "      <th>zip_code</th>\n",
       "    </tr>\n",
       "  </thead>\n",
       "  <tbody>\n",
       "    <tr>\n",
       "      <th>0</th>\n",
       "      <td>1</td>\n",
       "      <td>24</td>\n",
       "      <td>M</td>\n",
       "      <td>technician</td>\n",
       "      <td>85711</td>\n",
       "    </tr>\n",
       "    <tr>\n",
       "      <th>1</th>\n",
       "      <td>2</td>\n",
       "      <td>53</td>\n",
       "      <td>F</td>\n",
       "      <td>other</td>\n",
       "      <td>94043</td>\n",
       "    </tr>\n",
       "    <tr>\n",
       "      <th>2</th>\n",
       "      <td>3</td>\n",
       "      <td>23</td>\n",
       "      <td>M</td>\n",
       "      <td>writer</td>\n",
       "      <td>32067</td>\n",
       "    </tr>\n",
       "    <tr>\n",
       "      <th>3</th>\n",
       "      <td>4</td>\n",
       "      <td>24</td>\n",
       "      <td>M</td>\n",
       "      <td>technician</td>\n",
       "      <td>43537</td>\n",
       "    </tr>\n",
       "    <tr>\n",
       "      <th>4</th>\n",
       "      <td>5</td>\n",
       "      <td>33</td>\n",
       "      <td>F</td>\n",
       "      <td>other</td>\n",
       "      <td>15213</td>\n",
       "    </tr>\n",
       "  </tbody>\n",
       "</table>\n",
       "</div>"
      ],
      "text/plain": [
       "   user_id  age gender  occupation zip_code\n",
       "0        1   24      M  technician    85711\n",
       "1        2   53      F       other    94043\n",
       "2        3   23      M      writer    32067\n",
       "3        4   24      M  technician    43537\n",
       "4        5   33      F       other    15213"
      ]
     },
     "execution_count": 4,
     "metadata": {},
     "output_type": "execute_result"
    }
   ],
   "source": [
    "user_columns = ['user_id', 'age', 'gender', 'occupation', 'zip_code']\n",
    "users = pd.read_csv('ml-100k/u.user', sep='|', names=user_columns)\n",
    "\n",
    "users.to_csv('users.csv', index=False)\n",
    "\n",
    "users.head()\n"
   ]
  },
  {
   "cell_type": "code",
   "execution_count": 5,
   "id": "ad0975e8",
   "metadata": {},
   "outputs": [
    {
     "data": {
      "application/vnd.microsoft.datawrangler.viewer.v0+json": {
       "columns": [
        {
         "name": "index",
         "rawType": "int64",
         "type": "integer"
        },
        {
         "name": "user_id",
         "rawType": "int64",
         "type": "integer"
        },
        {
         "name": "item_id",
         "rawType": "int64",
         "type": "integer"
        },
        {
         "name": "rating",
         "rawType": "int64",
         "type": "integer"
        },
        {
         "name": "timestamp",
         "rawType": "int64",
         "type": "integer"
        },
        {
         "name": "title",
         "rawType": "object",
         "type": "string"
        },
        {
         "name": "release_date",
         "rawType": "object",
         "type": "string"
        }
       ],
       "ref": "387cb2b4-2757-43c2-af52-1e13dc1a5881",
       "rows": [
        [
         "0",
         "196",
         "242",
         "3",
         "881250949",
         "Kolya (1996)",
         "24-Jan-1997"
        ],
        [
         "1",
         "186",
         "302",
         "3",
         "891717742",
         "L.A. Confidential (1997)",
         "01-Jan-1997"
        ],
        [
         "2",
         "22",
         "377",
         "1",
         "878887116",
         "Heavyweights (1994)",
         "01-Jan-1994"
        ],
        [
         "3",
         "244",
         "51",
         "2",
         "880606923",
         "Legends of the Fall (1994)",
         "01-Jan-1994"
        ],
        [
         "4",
         "166",
         "346",
         "1",
         "886397596",
         "Jackie Brown (1997)",
         "01-Jan-1997"
        ]
       ],
       "shape": {
        "columns": 6,
        "rows": 5
       }
      },
      "text/html": [
       "<div>\n",
       "<style scoped>\n",
       "    .dataframe tbody tr th:only-of-type {\n",
       "        vertical-align: middle;\n",
       "    }\n",
       "\n",
       "    .dataframe tbody tr th {\n",
       "        vertical-align: top;\n",
       "    }\n",
       "\n",
       "    .dataframe thead th {\n",
       "        text-align: right;\n",
       "    }\n",
       "</style>\n",
       "<table border=\"1\" class=\"dataframe\">\n",
       "  <thead>\n",
       "    <tr style=\"text-align: right;\">\n",
       "      <th></th>\n",
       "      <th>user_id</th>\n",
       "      <th>item_id</th>\n",
       "      <th>rating</th>\n",
       "      <th>timestamp</th>\n",
       "      <th>title</th>\n",
       "      <th>release_date</th>\n",
       "    </tr>\n",
       "  </thead>\n",
       "  <tbody>\n",
       "    <tr>\n",
       "      <th>0</th>\n",
       "      <td>196</td>\n",
       "      <td>242</td>\n",
       "      <td>3</td>\n",
       "      <td>881250949</td>\n",
       "      <td>Kolya (1996)</td>\n",
       "      <td>24-Jan-1997</td>\n",
       "    </tr>\n",
       "    <tr>\n",
       "      <th>1</th>\n",
       "      <td>186</td>\n",
       "      <td>302</td>\n",
       "      <td>3</td>\n",
       "      <td>891717742</td>\n",
       "      <td>L.A. Confidential (1997)</td>\n",
       "      <td>01-Jan-1997</td>\n",
       "    </tr>\n",
       "    <tr>\n",
       "      <th>2</th>\n",
       "      <td>22</td>\n",
       "      <td>377</td>\n",
       "      <td>1</td>\n",
       "      <td>878887116</td>\n",
       "      <td>Heavyweights (1994)</td>\n",
       "      <td>01-Jan-1994</td>\n",
       "    </tr>\n",
       "    <tr>\n",
       "      <th>3</th>\n",
       "      <td>244</td>\n",
       "      <td>51</td>\n",
       "      <td>2</td>\n",
       "      <td>880606923</td>\n",
       "      <td>Legends of the Fall (1994)</td>\n",
       "      <td>01-Jan-1994</td>\n",
       "    </tr>\n",
       "    <tr>\n",
       "      <th>4</th>\n",
       "      <td>166</td>\n",
       "      <td>346</td>\n",
       "      <td>1</td>\n",
       "      <td>886397596</td>\n",
       "      <td>Jackie Brown (1997)</td>\n",
       "      <td>01-Jan-1997</td>\n",
       "    </tr>\n",
       "  </tbody>\n",
       "</table>\n",
       "</div>"
      ],
      "text/plain": [
       "   user_id  item_id  rating  timestamp                       title  \\\n",
       "0      196      242       3  881250949                Kolya (1996)   \n",
       "1      186      302       3  891717742    L.A. Confidential (1997)   \n",
       "2       22      377       1  878887116         Heavyweights (1994)   \n",
       "3      244       51       2  880606923  Legends of the Fall (1994)   \n",
       "4      166      346       1  886397596         Jackie Brown (1997)   \n",
       "\n",
       "  release_date  \n",
       "0  24-Jan-1997  \n",
       "1  01-Jan-1997  \n",
       "2  01-Jan-1994  \n",
       "3  01-Jan-1994  \n",
       "4  01-Jan-1997  "
      ]
     },
     "execution_count": 5,
     "metadata": {},
     "output_type": "execute_result"
    }
   ],
   "source": [
    "ratings_with_titles = ratings.merge(movies, on='item_id')\n",
    "ratings_with_titles.head()"
   ]
  },
  {
   "cell_type": "markdown",
   "id": "753ae0f2",
   "metadata": {},
   "source": [
    "## User Item Matrix"
   ]
  },
  {
   "cell_type": "code",
   "execution_count": 6,
   "id": "22384069",
   "metadata": {},
   "outputs": [],
   "source": [
    "user_item_matrix = ratings_with_titles.pivot_table(index='user_id', columns='title', values='rating')"
   ]
  },
  {
   "cell_type": "code",
   "execution_count": 7,
   "id": "5ca9c9ff",
   "metadata": {},
   "outputs": [
    {
     "data": {
      "application/vnd.microsoft.datawrangler.viewer.v0+json": {
       "columns": [
        {
         "name": "user_id",
         "rawType": "int64",
         "type": "integer"
        },
        {
         "name": "'Til There Was You (1997)",
         "rawType": "float64",
         "type": "float"
        },
        {
         "name": "1-900 (1994)",
         "rawType": "float64",
         "type": "float"
        },
        {
         "name": "101 Dalmatians (1996)",
         "rawType": "float64",
         "type": "float"
        },
        {
         "name": "12 Angry Men (1957)",
         "rawType": "float64",
         "type": "float"
        },
        {
         "name": "187 (1997)",
         "rawType": "float64",
         "type": "float"
        },
        {
         "name": "2 Days in the Valley (1996)",
         "rawType": "float64",
         "type": "float"
        },
        {
         "name": "20,000 Leagues Under the Sea (1954)",
         "rawType": "float64",
         "type": "float"
        },
        {
         "name": "2001: A Space Odyssey (1968)",
         "rawType": "float64",
         "type": "float"
        },
        {
         "name": "3 Ninjas: High Noon At Mega Mountain (1998)",
         "rawType": "float64",
         "type": "float"
        },
        {
         "name": "39 Steps, The (1935)",
         "rawType": "float64",
         "type": "float"
        },
        {
         "name": "8 1/2 (1963)",
         "rawType": "float64",
         "type": "float"
        },
        {
         "name": "8 Heads in a Duffel Bag (1997)",
         "rawType": "float64",
         "type": "float"
        },
        {
         "name": "8 Seconds (1994)",
         "rawType": "float64",
         "type": "float"
        },
        {
         "name": "A Chef in Love (1996)",
         "rawType": "float64",
         "type": "float"
        },
        {
         "name": "Above the Rim (1994)",
         "rawType": "float64",
         "type": "float"
        },
        {
         "name": "Absolute Power (1997)",
         "rawType": "float64",
         "type": "float"
        },
        {
         "name": "Abyss, The (1989)",
         "rawType": "float64",
         "type": "float"
        },
        {
         "name": "Ace Ventura: Pet Detective (1994)",
         "rawType": "float64",
         "type": "float"
        },
        {
         "name": "Ace Ventura: When Nature Calls (1995)",
         "rawType": "float64",
         "type": "float"
        },
        {
         "name": "Across the Sea of Time (1995)",
         "rawType": "float64",
         "type": "float"
        },
        {
         "name": "Addams Family Values (1993)",
         "rawType": "float64",
         "type": "float"
        },
        {
         "name": "Addicted to Love (1997)",
         "rawType": "float64",
         "type": "float"
        },
        {
         "name": "Addiction, The (1995)",
         "rawType": "float64",
         "type": "float"
        },
        {
         "name": "Adventures of Pinocchio, The (1996)",
         "rawType": "float64",
         "type": "float"
        },
        {
         "name": "Adventures of Priscilla, Queen of the Desert, The (1994)",
         "rawType": "float64",
         "type": "float"
        },
        {
         "name": "Adventures of Robin Hood, The (1938)",
         "rawType": "float64",
         "type": "float"
        },
        {
         "name": "Affair to Remember, An (1957)",
         "rawType": "float64",
         "type": "float"
        },
        {
         "name": "African Queen, The (1951)",
         "rawType": "float64",
         "type": "float"
        },
        {
         "name": "Afterglow (1997)",
         "rawType": "float64",
         "type": "float"
        },
        {
         "name": "Age of Innocence, The (1993)",
         "rawType": "float64",
         "type": "float"
        },
        {
         "name": "Aiqing wansui (1994)",
         "rawType": "float64",
         "type": "float"
        },
        {
         "name": "Air Bud (1997)",
         "rawType": "float64",
         "type": "float"
        },
        {
         "name": "Air Force One (1997)",
         "rawType": "float64",
         "type": "float"
        },
        {
         "name": "Air Up There, The (1994)",
         "rawType": "float64",
         "type": "float"
        },
        {
         "name": "Airheads (1994)",
         "rawType": "float64",
         "type": "float"
        },
        {
         "name": "Akira (1988)",
         "rawType": "float64",
         "type": "float"
        },
        {
         "name": "Aladdin (1992)",
         "rawType": "float64",
         "type": "float"
        },
        {
         "name": "Aladdin and the King of Thieves (1996)",
         "rawType": "float64",
         "type": "float"
        },
        {
         "name": "Alaska (1996)",
         "rawType": "float64",
         "type": "float"
        },
        {
         "name": "Albino Alligator (1996)",
         "rawType": "float64",
         "type": "float"
        },
        {
         "name": "Alice in Wonderland (1951)",
         "rawType": "float64",
         "type": "float"
        },
        {
         "name": "Alien (1979)",
         "rawType": "float64",
         "type": "float"
        },
        {
         "name": "Alien 3 (1992)",
         "rawType": "float64",
         "type": "float"
        },
        {
         "name": "Alien: Resurrection (1997)",
         "rawType": "float64",
         "type": "float"
        },
        {
         "name": "Aliens (1986)",
         "rawType": "float64",
         "type": "float"
        },
        {
         "name": "All About Eve (1950)",
         "rawType": "float64",
         "type": "float"
        },
        {
         "name": "All Dogs Go to Heaven 2 (1996)",
         "rawType": "float64",
         "type": "float"
        },
        {
         "name": "All Over Me (1997)",
         "rawType": "float64",
         "type": "float"
        },
        {
         "name": "All Things Fair (1996)",
         "rawType": "float64",
         "type": "float"
        },
        {
         "name": "Alphaville (1965)",
         "rawType": "float64",
         "type": "float"
        },
        {
         "name": "Amadeus (1984)",
         "rawType": "float64",
         "type": "float"
        },
        {
         "name": "Amateur (1994)",
         "rawType": "float64",
         "type": "float"
        },
        {
         "name": "Amazing Panda Adventure, The (1995)",
         "rawType": "float64",
         "type": "float"
        },
        {
         "name": "American Buffalo (1996)",
         "rawType": "float64",
         "type": "float"
        },
        {
         "name": "American Dream (1990)",
         "rawType": "float64",
         "type": "float"
        },
        {
         "name": "American President, The (1995)",
         "rawType": "float64",
         "type": "float"
        },
        {
         "name": "American Strays (1996)",
         "rawType": "float64",
         "type": "float"
        },
        {
         "name": "American Werewolf in London, An (1981)",
         "rawType": "float64",
         "type": "float"
        },
        {
         "name": "American in Paris, An (1951)",
         "rawType": "float64",
         "type": "float"
        },
        {
         "name": "Amistad (1997)",
         "rawType": "float64",
         "type": "float"
        },
        {
         "name": "Amityville 1992: It's About Time (1992)",
         "rawType": "float64",
         "type": "float"
        },
        {
         "name": "Amityville 3-D (1983)",
         "rawType": "float64",
         "type": "float"
        },
        {
         "name": "Amityville Curse, The (1990)",
         "rawType": "float64",
         "type": "float"
        },
        {
         "name": "Amityville Horror, The (1979)",
         "rawType": "float64",
         "type": "float"
        },
        {
         "name": "Amityville II: The Possession (1982)",
         "rawType": "float64",
         "type": "float"
        },
        {
         "name": "Amityville: A New Generation (1993)",
         "rawType": "float64",
         "type": "float"
        },
        {
         "name": "Amityville: Dollhouse (1996)",
         "rawType": "float64",
         "type": "float"
        },
        {
         "name": "Amos & Andrew (1993)",
         "rawType": "float64",
         "type": "float"
        },
        {
         "name": "An Unforgettable Summer (1994)",
         "rawType": "float64",
         "type": "float"
        },
        {
         "name": "Anaconda (1997)",
         "rawType": "float64",
         "type": "float"
        },
        {
         "name": "Anastasia (1997)",
         "rawType": "float64",
         "type": "float"
        },
        {
         "name": "Andre (1994)",
         "rawType": "float64",
         "type": "float"
        },
        {
         "name": "Angel Baby (1995)",
         "rawType": "float64",
         "type": "float"
        },
        {
         "name": "Angel and the Badman (1947)",
         "rawType": "float64",
         "type": "float"
        },
        {
         "name": "Angel on My Shoulder (1946)",
         "rawType": "float64",
         "type": "float"
        },
        {
         "name": "Angela (1995)",
         "rawType": "float64",
         "type": "float"
        },
        {
         "name": "Angels and Insects (1995)",
         "rawType": "float64",
         "type": "float"
        },
        {
         "name": "Angels in the Outfield (1994)",
         "rawType": "float64",
         "type": "float"
        },
        {
         "name": "Angus (1995)",
         "rawType": "float64",
         "type": "float"
        },
        {
         "name": "Anna (1996)",
         "rawType": "float64",
         "type": "float"
        },
        {
         "name": "Anna Karenina (1997)",
         "rawType": "float64",
         "type": "float"
        },
        {
         "name": "Anne Frank Remembered (1995)",
         "rawType": "float64",
         "type": "float"
        },
        {
         "name": "Annie Hall (1977)",
         "rawType": "float64",
         "type": "float"
        },
        {
         "name": "Another Stakeout (1993)",
         "rawType": "float64",
         "type": "float"
        },
        {
         "name": "Antonia's Line (1995)",
         "rawType": "float64",
         "type": "float"
        },
        {
         "name": "Aparajito (1956)",
         "rawType": "float64",
         "type": "float"
        },
        {
         "name": "Apartment, The (1960)",
         "rawType": "float64",
         "type": "float"
        },
        {
         "name": "Apocalypse Now (1979)",
         "rawType": "float64",
         "type": "float"
        },
        {
         "name": "Apollo 13 (1995)",
         "rawType": "float64",
         "type": "float"
        },
        {
         "name": "Apostle, The (1997)",
         "rawType": "float64",
         "type": "float"
        },
        {
         "name": "Apple Dumpling Gang, The (1975)",
         "rawType": "float64",
         "type": "float"
        },
        {
         "name": "April Fool's Day (1986)",
         "rawType": "float64",
         "type": "float"
        },
        {
         "name": "Apt Pupil (1998)",
         "rawType": "float64",
         "type": "float"
        },
        {
         "name": "Aristocats, The (1970)",
         "rawType": "float64",
         "type": "float"
        },
        {
         "name": "Army of Darkness (1993)",
         "rawType": "float64",
         "type": "float"
        },
        {
         "name": "Around the World in 80 Days (1956)",
         "rawType": "float64",
         "type": "float"
        },
        {
         "name": "Arrival, The (1996)",
         "rawType": "float64",
         "type": "float"
        },
        {
         "name": "Arsenic and Old Lace (1944)",
         "rawType": "float64",
         "type": "float"
        },
        {
         "name": "As Good As It Gets (1997)",
         "rawType": "float64",
         "type": "float"
        },
        {
         "name": "Assassins (1995)",
         "rawType": "float64",
         "type": "float"
        },
        {
         "name": "Assignment, The (1997)",
         "rawType": "float64",
         "type": "float"
        },
        {
         "name": "Associate, The (1996)",
         "rawType": "float64",
         "type": "float"
        },
        {
         "name": "Audrey Rose (1977)",
         "rawType": "float64",
         "type": "float"
        },
        {
         "name": "August (1996)",
         "rawType": "float64",
         "type": "float"
        },
        {
         "name": "Austin Powers: International Man of Mystery (1997)",
         "rawType": "float64",
         "type": "float"
        },
        {
         "name": "Awfully Big Adventure, An (1995)",
         "rawType": "float64",
         "type": "float"
        },
        {
         "name": "Ayn Rand: A Sense of Life (1997)",
         "rawType": "float64",
         "type": "float"
        },
        {
         "name": "B*A*P*S (1997)",
         "rawType": "float64",
         "type": "float"
        },
        {
         "name": "B. Monkey (1998)",
         "rawType": "float64",
         "type": "float"
        },
        {
         "name": "Babe (1995)",
         "rawType": "float64",
         "type": "float"
        },
        {
         "name": "Baby-Sitters Club, The (1995)",
         "rawType": "float64",
         "type": "float"
        },
        {
         "name": "Babyfever (1994)",
         "rawType": "float64",
         "type": "float"
        },
        {
         "name": "Babysitter, The (1995)",
         "rawType": "float64",
         "type": "float"
        },
        {
         "name": "Back to the Future (1985)",
         "rawType": "float64",
         "type": "float"
        },
        {
         "name": "Backbeat (1993)",
         "rawType": "float64",
         "type": "float"
        },
        {
         "name": "Bad Boys (1995)",
         "rawType": "float64",
         "type": "float"
        },
        {
         "name": "Bad Company (1995)",
         "rawType": "float64",
         "type": "float"
        },
        {
         "name": "Bad Girls (1994)",
         "rawType": "float64",
         "type": "float"
        },
        {
         "name": "Bad Moon (1996)",
         "rawType": "float64",
         "type": "float"
        },
        {
         "name": "Bad Taste (1987)",
         "rawType": "float64",
         "type": "float"
        },
        {
         "name": "Ballad of Narayama, The (Narayama Bushiko) (1958)",
         "rawType": "float64",
         "type": "float"
        },
        {
         "name": "Balto (1995)",
         "rawType": "float64",
         "type": "float"
        },
        {
         "name": "Bananas (1971)",
         "rawType": "float64",
         "type": "float"
        },
        {
         "name": "Band Wagon, The (1953)",
         "rawType": "float64",
         "type": "float"
        },
        {
         "name": "Barb Wire (1996)",
         "rawType": "float64",
         "type": "float"
        },
        {
         "name": "Barbarella (1968)",
         "rawType": "float64",
         "type": "float"
        },
        {
         "name": "Barcelona (1994)",
         "rawType": "float64",
         "type": "float"
        },
        {
         "name": "Basic Instinct (1992)",
         "rawType": "float64",
         "type": "float"
        },
        {
         "name": "Basketball Diaries, The (1995)",
         "rawType": "float64",
         "type": "float"
        },
        {
         "name": "Basquiat (1996)",
         "rawType": "float64",
         "type": "float"
        },
        {
         "name": "Bastard Out of Carolina (1996)",
         "rawType": "float64",
         "type": "float"
        },
        {
         "name": "Batman & Robin (1997)",
         "rawType": "float64",
         "type": "float"
        },
        {
         "name": "Batman (1989)",
         "rawType": "float64",
         "type": "float"
        },
        {
         "name": "Batman Forever (1995)",
         "rawType": "float64",
         "type": "float"
        },
        {
         "name": "Batman Returns (1992)",
         "rawType": "float64",
         "type": "float"
        },
        {
         "name": "Baton Rouge (1988)",
         "rawType": "float64",
         "type": "float"
        },
        {
         "name": "Bean (1997)",
         "rawType": "float64",
         "type": "float"
        },
        {
         "name": "Beans of Egypt, Maine, The (1994)",
         "rawType": "float64",
         "type": "float"
        },
        {
         "name": "Beat the Devil (1954)",
         "rawType": "float64",
         "type": "float"
        },
        {
         "name": "Beautician and the Beast, The (1997)",
         "rawType": "float64",
         "type": "float"
        },
        {
         "name": "Beautiful Girls (1996)",
         "rawType": "float64",
         "type": "float"
        },
        {
         "name": "Beautiful Thing (1996)",
         "rawType": "float64",
         "type": "float"
        },
        {
         "name": "Beauty and the Beast (1991)",
         "rawType": "float64",
         "type": "float"
        },
        {
         "name": "Beavis and Butt-head Do America (1996)",
         "rawType": "float64",
         "type": "float"
        },
        {
         "name": "Bed of Roses (1996)",
         "rawType": "float64",
         "type": "float"
        },
        {
         "name": "Bedknobs and Broomsticks (1971)",
         "rawType": "float64",
         "type": "float"
        },
        {
         "name": "Before Sunrise (1995)",
         "rawType": "float64",
         "type": "float"
        },
        {
         "name": "Before and After (1996)",
         "rawType": "float64",
         "type": "float"
        },
        {
         "name": "Before the Rain (Pred dozhdot) (1994)",
         "rawType": "float64",
         "type": "float"
        },
        {
         "name": "Being Human (1993)",
         "rawType": "float64",
         "type": "float"
        },
        {
         "name": "Being There (1979)",
         "rawType": "float64",
         "type": "float"
        },
        {
         "name": "Believers, The (1987)",
         "rawType": "float64",
         "type": "float"
        },
        {
         "name": "Belle de jour (1967)",
         "rawType": "float64",
         "type": "float"
        },
        {
         "name": "Ben-Hur (1959)",
         "rawType": "float64",
         "type": "float"
        },
        {
         "name": "Benny & Joon (1993)",
         "rawType": "float64",
         "type": "float"
        },
        {
         "name": "Bent (1997)",
         "rawType": "float64",
         "type": "float"
        },
        {
         "name": "Best Men (1997)",
         "rawType": "float64",
         "type": "float"
        },
        {
         "name": "Best of the Best 3: No Turning Back (1995)",
         "rawType": "float64",
         "type": "float"
        },
        {
         "name": "Better Off Dead... (1985)",
         "rawType": "float64",
         "type": "float"
        },
        {
         "name": "Beverly Hillbillies, The (1993)",
         "rawType": "float64",
         "type": "float"
        },
        {
         "name": "Beverly Hills Cop III (1994)",
         "rawType": "float64",
         "type": "float"
        },
        {
         "name": "Beverly Hills Ninja (1997)",
         "rawType": "float64",
         "type": "float"
        },
        {
         "name": "Bewegte Mann, Der (1994)",
         "rawType": "float64",
         "type": "float"
        },
        {
         "name": "Beyond Bedlam (1993)",
         "rawType": "float64",
         "type": "float"
        },
        {
         "name": "Beyond Rangoon (1995)",
         "rawType": "float64",
         "type": "float"
        },
        {
         "name": "Bhaji on the Beach (1993)",
         "rawType": "float64",
         "type": "float"
        },
        {
         "name": "Big Bang Theory, The (1994)",
         "rawType": "float64",
         "type": "float"
        },
        {
         "name": "Big Blue, The (Grand bleu, Le) (1988)",
         "rawType": "float64",
         "type": "float"
        },
        {
         "name": "Big Bully (1996)",
         "rawType": "float64",
         "type": "float"
        },
        {
         "name": "Big Green, The (1995)",
         "rawType": "float64",
         "type": "float"
        },
        {
         "name": "Big Lebowski, The (1998)",
         "rawType": "float64",
         "type": "float"
        },
        {
         "name": "Big Night (1996)",
         "rawType": "float64",
         "type": "float"
        },
        {
         "name": "Big One, The (1997)",
         "rawType": "float64",
         "type": "float"
        },
        {
         "name": "Big Sleep, The (1946)",
         "rawType": "float64",
         "type": "float"
        },
        {
         "name": "Big Squeeze, The (1996)",
         "rawType": "float64",
         "type": "float"
        },
        {
         "name": "Billy Madison (1995)",
         "rawType": "float64",
         "type": "float"
        },
        {
         "name": "Bio-Dome (1996)",
         "rawType": "float64",
         "type": "float"
        },
        {
         "name": "Bird of Prey (1996)",
         "rawType": "float64",
         "type": "float"
        },
        {
         "name": "Birdcage, The (1996)",
         "rawType": "float64",
         "type": "float"
        },
        {
         "name": "Birds, The (1963)",
         "rawType": "float64",
         "type": "float"
        },
        {
         "name": "Bitter Moon (1992)",
         "rawType": "float64",
         "type": "float"
        },
        {
         "name": "Bitter Sugar (Azucar Amargo) (1996)",
         "rawType": "float64",
         "type": "float"
        },
        {
         "name": "Black Beauty (1994)",
         "rawType": "float64",
         "type": "float"
        },
        {
         "name": "Black Sheep (1996)",
         "rawType": "float64",
         "type": "float"
        },
        {
         "name": "Blade Runner (1982)",
         "rawType": "float64",
         "type": "float"
        },
        {
         "name": "Blink (1994)",
         "rawType": "float64",
         "type": "float"
        },
        {
         "name": "Bliss (1997)",
         "rawType": "float64",
         "type": "float"
        },
        {
         "name": "Blob, The (1958)",
         "rawType": "float64",
         "type": "float"
        },
        {
         "name": "Blood & Wine (1997)",
         "rawType": "float64",
         "type": "float"
        },
        {
         "name": "Blood Beach (1981)",
         "rawType": "float64",
         "type": "float"
        },
        {
         "name": "Blood For Dracula (Andy Warhol's Dracula) (1974)",
         "rawType": "float64",
         "type": "float"
        },
        {
         "name": "Bloodsport 2 (1995)",
         "rawType": "float64",
         "type": "float"
        },
        {
         "name": "Bloody Child, The (1996)",
         "rawType": "float64",
         "type": "float"
        },
        {
         "name": "Blown Away (1994)",
         "rawType": "float64",
         "type": "float"
        },
        {
         "name": "Blue Angel, The (Blaue Engel, Der) (1930)",
         "rawType": "float64",
         "type": "float"
        },
        {
         "name": "Blue Chips (1994)",
         "rawType": "float64",
         "type": "float"
        },
        {
         "name": "Blue Sky (1994)",
         "rawType": "float64",
         "type": "float"
        },
        {
         "name": "Blue in the Face (1995)",
         "rawType": "float64",
         "type": "float"
        },
        {
         "name": "Blues Brothers 2000 (1998)",
         "rawType": "float64",
         "type": "float"
        },
        {
         "name": "Blues Brothers, The (1980)",
         "rawType": "float64",
         "type": "float"
        },
        {
         "name": "Bob Roberts (1992)",
         "rawType": "float64",
         "type": "float"
        },
        {
         "name": "Body Parts (1991)",
         "rawType": "float64",
         "type": "float"
        },
        {
         "name": "Body Snatcher, The (1945)",
         "rawType": "float64",
         "type": "float"
        },
        {
         "name": "Body Snatchers (1993)",
         "rawType": "float64",
         "type": "float"
        },
        {
         "name": "Bogus (1996)",
         "rawType": "float64",
         "type": "float"
        },
        {
         "name": "Bonheur, Le (1965)",
         "rawType": "float64",
         "type": "float"
        },
        {
         "name": "Bonnie and Clyde (1967)",
         "rawType": "float64",
         "type": "float"
        },
        {
         "name": "Boogie Nights (1997)",
         "rawType": "float64",
         "type": "float"
        },
        {
         "name": "Boomerang (1992)",
         "rawType": "float64",
         "type": "float"
        },
        {
         "name": "Boot, Das (1981)",
         "rawType": "float64",
         "type": "float"
        },
        {
         "name": "Booty Call (1997)",
         "rawType": "float64",
         "type": "float"
        },
        {
         "name": "Bottle Rocket (1996)",
         "rawType": "float64",
         "type": "float"
        },
        {
         "name": "Bound (1996)",
         "rawType": "float64",
         "type": "float"
        },
        {
         "name": "Boxing Helena (1993)",
         "rawType": "float64",
         "type": "float"
        },
        {
         "name": "Boy's Life 2 (1997)",
         "rawType": "float64",
         "type": "float"
        },
        {
         "name": "Boys (1996)",
         "rawType": "float64",
         "type": "float"
        },
        {
         "name": "Boys Life (1995)",
         "rawType": "float64",
         "type": "float"
        },
        {
         "name": "Boys in Venice (1996)",
         "rawType": "float64",
         "type": "float"
        },
        {
         "name": "Boys of St. Vincent, The (1993)",
         "rawType": "float64",
         "type": "float"
        },
        {
         "name": "Boys on the Side (1995)",
         "rawType": "float64",
         "type": "float"
        },
        {
         "name": "Boys, Les (1997)",
         "rawType": "float64",
         "type": "float"
        },
        {
         "name": "Brady Bunch Movie, The (1995)",
         "rawType": "float64",
         "type": "float"
        },
        {
         "name": "Braindead (1992)",
         "rawType": "float64",
         "type": "float"
        },
        {
         "name": "Bram Stoker's Dracula (1992)",
         "rawType": "float64",
         "type": "float"
        },
        {
         "name": "Brassed Off (1996)",
         "rawType": "float64",
         "type": "float"
        },
        {
         "name": "Braveheart (1995)",
         "rawType": "float64",
         "type": "float"
        },
        {
         "name": "Brazil (1985)",
         "rawType": "float64",
         "type": "float"
        },
        {
         "name": "Bread and Chocolate (Pane e cioccolata) (1973)",
         "rawType": "float64",
         "type": "float"
        },
        {
         "name": "Breakdown (1997)",
         "rawType": "float64",
         "type": "float"
        },
        {
         "name": "Breakfast at Tiffany's (1961)",
         "rawType": "float64",
         "type": "float"
        },
        {
         "name": "Breaking the Waves (1996)",
         "rawType": "float64",
         "type": "float"
        },
        {
         "name": "Bride of Frankenstein (1935)",
         "rawType": "float64",
         "type": "float"
        },
        {
         "name": "Bridge on the River Kwai, The (1957)",
         "rawType": "float64",
         "type": "float"
        },
        {
         "name": "Bridges of Madison County, The (1995)",
         "rawType": "float64",
         "type": "float"
        },
        {
         "name": "Bringing Up Baby (1938)",
         "rawType": "float64",
         "type": "float"
        },
        {
         "name": "Broken Arrow (1996)",
         "rawType": "float64",
         "type": "float"
        },
        {
         "name": "Broken English (1996)",
         "rawType": "float64",
         "type": "float"
        },
        {
         "name": "Bronx Tale, A (1993)",
         "rawType": "float64",
         "type": "float"
        },
        {
         "name": "Brother Minister: The Assassination of Malcolm X (1994)",
         "rawType": "float64",
         "type": "float"
        },
        {
         "name": "Brother's Kiss, A (1997)",
         "rawType": "float64",
         "type": "float"
        },
        {
         "name": "Brothers McMullen, The (1995)",
         "rawType": "float64",
         "type": "float"
        },
        {
         "name": "Brothers in Trouble (1995)",
         "rawType": "float64",
         "type": "float"
        },
        {
         "name": "Browning Version, The (1994)",
         "rawType": "float64",
         "type": "float"
        },
        {
         "name": "Buddy (1997)",
         "rawType": "float64",
         "type": "float"
        },
        {
         "name": "Bulletproof (1996)",
         "rawType": "float64",
         "type": "float"
        },
        {
         "name": "Bullets Over Broadway (1994)",
         "rawType": "float64",
         "type": "float"
        },
        {
         "name": "Burnt By the Sun (1994)",
         "rawType": "float64",
         "type": "float"
        },
        {
         "name": "Burnt Offerings (1976)",
         "rawType": "float64",
         "type": "float"
        },
        {
         "name": "Bushwhacked (1995)",
         "rawType": "float64",
         "type": "float"
        },
        {
         "name": "Butch Cassidy and the Sundance Kid (1969)",
         "rawType": "float64",
         "type": "float"
        },
        {
         "name": "Butcher Boy, The (1998)",
         "rawType": "float64",
         "type": "float"
        },
        {
         "name": "Butterfly Kiss (1995)",
         "rawType": "float64",
         "type": "float"
        },
        {
         "name": "Bye Bye, Love (1995)",
         "rawType": "float64",
         "type": "float"
        },
        {
         "name": "C'est arrivé près de chez vous (1992)",
         "rawType": "float64",
         "type": "float"
        },
        {
         "name": "Cabin Boy (1994)",
         "rawType": "float64",
         "type": "float"
        },
        {
         "name": "Cable Guy, The (1996)",
         "rawType": "float64",
         "type": "float"
        },
        {
         "name": "Calendar Girl (1993)",
         "rawType": "float64",
         "type": "float"
        },
        {
         "name": "Canadian Bacon (1994)",
         "rawType": "float64",
         "type": "float"
        },
        {
         "name": "Candidate, The (1972)",
         "rawType": "float64",
         "type": "float"
        },
        {
         "name": "Candyman (1992)",
         "rawType": "float64",
         "type": "float"
        },
        {
         "name": "Candyman: Farewell to the Flesh (1995)",
         "rawType": "float64",
         "type": "float"
        },
        {
         "name": "Cape Fear (1962)",
         "rawType": "float64",
         "type": "float"
        },
        {
         "name": "Cape Fear (1991)",
         "rawType": "float64",
         "type": "float"
        },
        {
         "name": "Captives (1994)",
         "rawType": "float64",
         "type": "float"
        },
        {
         "name": "Career Girls (1997)",
         "rawType": "float64",
         "type": "float"
        },
        {
         "name": "Careful (1992)",
         "rawType": "float64",
         "type": "float"
        },
        {
         "name": "Carlito's Way (1993)",
         "rawType": "float64",
         "type": "float"
        },
        {
         "name": "Carmen Miranda: Bananas Is My Business (1994)",
         "rawType": "float64",
         "type": "float"
        },
        {
         "name": "Caro Diario (Dear Diary) (1994)",
         "rawType": "float64",
         "type": "float"
        },
        {
         "name": "Carpool (1996)",
         "rawType": "float64",
         "type": "float"
        },
        {
         "name": "Carrie (1976)",
         "rawType": "float64",
         "type": "float"
        },
        {
         "name": "Carried Away (1996)",
         "rawType": "float64",
         "type": "float"
        },
        {
         "name": "Carrington (1995)",
         "rawType": "float64",
         "type": "float"
        },
        {
         "name": "Casablanca (1942)",
         "rawType": "float64",
         "type": "float"
        },
        {
         "name": "Casino (1995)",
         "rawType": "float64",
         "type": "float"
        },
        {
         "name": "Casper (1995)",
         "rawType": "float64",
         "type": "float"
        },
        {
         "name": "Castle Freak (1995)",
         "rawType": "float64",
         "type": "float"
        },
        {
         "name": "Cat People (1982)",
         "rawType": "float64",
         "type": "float"
        },
        {
         "name": "Cat on a Hot Tin Roof (1958)",
         "rawType": "float64",
         "type": "float"
        },
        {
         "name": "Cats Don't Dance (1997)",
         "rawType": "float64",
         "type": "float"
        },
        {
         "name": "Catwalk (1995)",
         "rawType": "float64",
         "type": "float"
        },
        {
         "name": "Caught (1996)",
         "rawType": "float64",
         "type": "float"
        },
        {
         "name": "Celestial Clockwork (1994)",
         "rawType": "float64",
         "type": "float"
        },
        {
         "name": "Celluloid Closet, The (1995)",
         "rawType": "float64",
         "type": "float"
        },
        {
         "name": "Celtic Pride (1996)",
         "rawType": "float64",
         "type": "float"
        },
        {
         "name": "Cement Garden, The (1993)",
         "rawType": "float64",
         "type": "float"
        },
        {
         "name": "Cemetery Man (Dellamorte Dellamore) (1994)",
         "rawType": "float64",
         "type": "float"
        },
        {
         "name": "Century (1993)",
         "rawType": "float64",
         "type": "float"
        },
        {
         "name": "Chain Reaction (1996)",
         "rawType": "float64",
         "type": "float"
        },
        {
         "name": "Chairman of the Board (1998)",
         "rawType": "float64",
         "type": "float"
        },
        {
         "name": "Chamber, The (1996)",
         "rawType": "float64",
         "type": "float"
        },
        {
         "name": "Charade (1963)",
         "rawType": "float64",
         "type": "float"
        },
        {
         "name": "Chasers (1994)",
         "rawType": "float64",
         "type": "float"
        },
        {
         "name": "Chasing Amy (1997)",
         "rawType": "float64",
         "type": "float"
        },
        {
         "name": "Children of the Corn: The Gathering (1996)",
         "rawType": "float64",
         "type": "float"
        },
        {
         "name": "Children of the Revolution (1996)",
         "rawType": "float64",
         "type": "float"
        },
        {
         "name": "Chinatown (1974)",
         "rawType": "float64",
         "type": "float"
        },
        {
         "name": "Christmas Carol, A (1938)",
         "rawType": "float64",
         "type": "float"
        },
        {
         "name": "Chungking Express (1994)",
         "rawType": "float64",
         "type": "float"
        },
        {
         "name": "Ciao, Professore! (1993)",
         "rawType": "float64",
         "type": "float"
        },
        {
         "name": "Cinderella (1950)",
         "rawType": "float64",
         "type": "float"
        },
        {
         "name": "Cinema Paradiso (1988)",
         "rawType": "float64",
         "type": "float"
        },
        {
         "name": "Circle of Friends (1995)",
         "rawType": "float64",
         "type": "float"
        },
        {
         "name": "Citizen Kane (1941)",
         "rawType": "float64",
         "type": "float"
        },
        {
         "name": "Citizen Ruth (1996)",
         "rawType": "float64",
         "type": "float"
        },
        {
         "name": "City Hall (1996)",
         "rawType": "float64",
         "type": "float"
        },
        {
         "name": "City Slickers II: The Legend of Curly's Gold (1994)",
         "rawType": "float64",
         "type": "float"
        },
        {
         "name": "City of Angels (1998)",
         "rawType": "float64",
         "type": "float"
        },
        {
         "name": "City of Industry (1997)",
         "rawType": "float64",
         "type": "float"
        },
        {
         "name": "City of Lost Children, The (1995)",
         "rawType": "float64",
         "type": "float"
        },
        {
         "name": "Clean Slate (1994)",
         "rawType": "float64",
         "type": "float"
        },
        {
         "name": "Clean Slate (Coup de Torchon) (1981)",
         "rawType": "float64",
         "type": "float"
        },
        {
         "name": "Clear and Present Danger (1994)",
         "rawType": "float64",
         "type": "float"
        },
        {
         "name": "Clerks (1994)",
         "rawType": "float64",
         "type": "float"
        },
        {
         "name": "Client, The (1994)",
         "rawType": "float64",
         "type": "float"
        },
        {
         "name": "Cliffhanger (1993)",
         "rawType": "float64",
         "type": "float"
        },
        {
         "name": "Clockers (1995)",
         "rawType": "float64",
         "type": "float"
        },
        {
         "name": "Clockwork Orange, A (1971)",
         "rawType": "float64",
         "type": "float"
        },
        {
         "name": "Close Shave, A (1995)",
         "rawType": "float64",
         "type": "float"
        },
        {
         "name": "Clueless (1995)",
         "rawType": "float64",
         "type": "float"
        },
        {
         "name": "Cobb (1994)",
         "rawType": "float64",
         "type": "float"
        },
        {
         "name": "Cold Comfort Farm (1995)",
         "rawType": "float64",
         "type": "float"
        },
        {
         "name": "Coldblooded (1995)",
         "rawType": "float64",
         "type": "float"
        },
        {
         "name": "Collectionneuse, La (1967)",
         "rawType": "float64",
         "type": "float"
        },
        {
         "name": "Colonel Chabert, Le (1994)",
         "rawType": "float64",
         "type": "float"
        },
        {
         "name": "Color of Night (1994)",
         "rawType": "float64",
         "type": "float"
        },
        {
         "name": "Commandments (1997)",
         "rawType": "float64",
         "type": "float"
        },
        {
         "name": "Con Air (1997)",
         "rawType": "float64",
         "type": "float"
        },
        {
         "name": "Conan the Barbarian (1981)",
         "rawType": "float64",
         "type": "float"
        },
        {
         "name": "Condition Red (1995)",
         "rawType": "float64",
         "type": "float"
        },
        {
         "name": "Coneheads (1993)",
         "rawType": "float64",
         "type": "float"
        },
        {
         "name": "Congo (1995)",
         "rawType": "float64",
         "type": "float"
        },
        {
         "name": "Conspiracy Theory (1997)",
         "rawType": "float64",
         "type": "float"
        },
        {
         "name": "Contact (1997)",
         "rawType": "float64",
         "type": "float"
        },
        {
         "name": "Contempt (Mépris, Le) (1963)",
         "rawType": "float64",
         "type": "float"
        },
        {
         "name": "Convent, The (Convento, O) (1995)",
         "rawType": "float64",
         "type": "float"
        },
        {
         "name": "Cook the Thief His Wife & Her Lover, The (1989)",
         "rawType": "float64",
         "type": "float"
        },
        {
         "name": "Cool Hand Luke (1967)",
         "rawType": "float64",
         "type": "float"
        },
        {
         "name": "Cool Runnings (1993)",
         "rawType": "float64",
         "type": "float"
        },
        {
         "name": "Cop Land (1997)",
         "rawType": "float64",
         "type": "float"
        },
        {
         "name": "Cops and Robbersons (1994)",
         "rawType": "float64",
         "type": "float"
        },
        {
         "name": "Copycat (1995)",
         "rawType": "float64",
         "type": "float"
        },
        {
         "name": "Corrina, Corrina (1994)",
         "rawType": "float64",
         "type": "float"
        },
        {
         "name": "Cosi (1996)",
         "rawType": "float64",
         "type": "float"
        },
        {
         "name": "Country Life (1994)",
         "rawType": "float64",
         "type": "float"
        },
        {
         "name": "Courage Under Fire (1996)",
         "rawType": "float64",
         "type": "float"
        },
        {
         "name": "Cowboy Way, The (1994)",
         "rawType": "float64",
         "type": "float"
        },
        {
         "name": "Craft, The (1996)",
         "rawType": "float64",
         "type": "float"
        },
        {
         "name": "Crash (1996)",
         "rawType": "float64",
         "type": "float"
        },
        {
         "name": "Crimson Tide (1995)",
         "rawType": "float64",
         "type": "float"
        },
        {
         "name": "Critical Care (1997)",
         "rawType": "float64",
         "type": "float"
        },
        {
         "name": "Cronos (1992)",
         "rawType": "float64",
         "type": "float"
        },
        {
         "name": "Crooklyn (1994)",
         "rawType": "float64",
         "type": "float"
        },
        {
         "name": "Crossfire (1947)",
         "rawType": "float64",
         "type": "float"
        },
        {
         "name": "Crossing Guard, The (1995)",
         "rawType": "float64",
         "type": "float"
        },
        {
         "name": "Crow, The (1994)",
         "rawType": "float64",
         "type": "float"
        },
        {
         "name": "Crow: City of Angels, The (1996)",
         "rawType": "float64",
         "type": "float"
        },
        {
         "name": "Crows and Sparrows (1949)",
         "rawType": "float64",
         "type": "float"
        },
        {
         "name": "Crucible, The (1996)",
         "rawType": "float64",
         "type": "float"
        },
        {
         "name": "Crude Oasis, The (1995)",
         "rawType": "float64",
         "type": "float"
        },
        {
         "name": "Crumb (1994)",
         "rawType": "float64",
         "type": "float"
        },
        {
         "name": "Cry, the Beloved Country (1995)",
         "rawType": "float64",
         "type": "float"
        },
        {
         "name": "Crying Game, The (1992)",
         "rawType": "float64",
         "type": "float"
        },
        {
         "name": "Curdled (1996)",
         "rawType": "float64",
         "type": "float"
        },
        {
         "name": "Cure, The (1995)",
         "rawType": "float64",
         "type": "float"
        },
        {
         "name": "Cutthroat Island (1995)",
         "rawType": "float64",
         "type": "float"
        },
        {
         "name": "Cyclo (1995)",
         "rawType": "float64",
         "type": "float"
        },
        {
         "name": "Cyrano de Bergerac (1990)",
         "rawType": "float64",
         "type": "float"
        },
        {
         "name": "Cérémonie, La (1995)",
         "rawType": "float64",
         "type": "float"
        },
        {
         "name": "D3: The Mighty Ducks (1996)",
         "rawType": "float64",
         "type": "float"
        },
        {
         "name": "Dadetown (1995)",
         "rawType": "float64",
         "type": "float"
        },
        {
         "name": "Daens (1992)",
         "rawType": "float64",
         "type": "float"
        },
        {
         "name": "Damsel in Distress, A (1937)",
         "rawType": "float64",
         "type": "float"
        },
        {
         "name": "Dances with Wolves (1990)",
         "rawType": "float64",
         "type": "float"
        },
        {
         "name": "Dangerous Beauty (1998)",
         "rawType": "float64",
         "type": "float"
        },
        {
         "name": "Dangerous Ground (1997)",
         "rawType": "float64",
         "type": "float"
        },
        {
         "name": "Dangerous Minds (1995)",
         "rawType": "float64",
         "type": "float"
        },
        {
         "name": "Daniel Defoe's Robinson Crusoe (1996)",
         "rawType": "float64",
         "type": "float"
        },
        {
         "name": "Dante's Peak (1997)",
         "rawType": "float64",
         "type": "float"
        },
        {
         "name": "Dark City (1998)",
         "rawType": "float64",
         "type": "float"
        },
        {
         "name": "Dave (1993)",
         "rawType": "float64",
         "type": "float"
        },
        {
         "name": "Davy Crockett, King of the Wild Frontier (1955)",
         "rawType": "float64",
         "type": "float"
        },
        {
         "name": "Day the Earth Stood Still, The (1951)",
         "rawType": "float64",
         "type": "float"
        },
        {
         "name": "Day the Sun Turned Cold, The (Tianguo niezi) (1994)",
         "rawType": "float64",
         "type": "float"
        },
        {
         "name": "Daylight (1996)",
         "rawType": "float64",
         "type": "float"
        },
        {
         "name": "Days of Thunder (1990)",
         "rawType": "float64",
         "type": "float"
        },
        {
         "name": "Daytrippers, The (1996)",
         "rawType": "float64",
         "type": "float"
        },
        {
         "name": "Dazed and Confused (1993)",
         "rawType": "float64",
         "type": "float"
        },
        {
         "name": "Dead Man (1995)",
         "rawType": "float64",
         "type": "float"
        },
        {
         "name": "Dead Man Walking (1995)",
         "rawType": "float64",
         "type": "float"
        },
        {
         "name": "Dead Poets Society (1989)",
         "rawType": "float64",
         "type": "float"
        },
        {
         "name": "Dead Presidents (1995)",
         "rawType": "float64",
         "type": "float"
        },
        {
         "name": "Dear God (1996)",
         "rawType": "float64",
         "type": "float"
        },
        {
         "name": "Death and the Maiden (1994)",
         "rawType": "float64",
         "type": "float"
        },
        {
         "name": "Death in Brunswick (1991)",
         "rawType": "float64",
         "type": "float"
        },
        {
         "name": "Death in the Garden (Mort en ce jardin, La) (1956)",
         "rawType": "float64",
         "type": "float"
        },
        {
         "name": "Deceiver (1997)",
         "rawType": "float64",
         "type": "float"
        },
        {
         "name": "Deconstructing Harry (1997)",
         "rawType": "float64",
         "type": "float"
        },
        {
         "name": "Deep Rising (1998)",
         "rawType": "float64",
         "type": "float"
        },
        {
         "name": "Deer Hunter, The (1978)",
         "rawType": "float64",
         "type": "float"
        },
        {
         "name": "Delicatessen (1991)",
         "rawType": "float64",
         "type": "float"
        },
        {
         "name": "Delta of Venus (1994)",
         "rawType": "float64",
         "type": "float"
        },
        {
         "name": "Demolition Man (1993)",
         "rawType": "float64",
         "type": "float"
        },
        {
         "name": "Denise Calls Up (1995)",
         "rawType": "float64",
         "type": "float"
        },
        {
         "name": "Desert Winds (1995)",
         "rawType": "float64",
         "type": "float"
        },
        {
         "name": "Designated Mourner, The (1997)",
         "rawType": "float64",
         "type": "float"
        },
        {
         "name": "Desperado (1995)",
         "rawType": "float64",
         "type": "float"
        },
        {
         "name": "Desperate Measures (1998)",
         "rawType": "float64",
         "type": "float"
        },
        {
         "name": "Destiny Turns on the Radio (1995)",
         "rawType": "float64",
         "type": "float"
        },
        {
         "name": "Devil in a Blue Dress (1995)",
         "rawType": "float64",
         "type": "float"
        },
        {
         "name": "Devil's Advocate, The (1997)",
         "rawType": "float64",
         "type": "float"
        },
        {
         "name": "Devil's Own, The (1997)",
         "rawType": "float64",
         "type": "float"
        },
        {
         "name": "Diabolique (1996)",
         "rawType": "float64",
         "type": "float"
        },
        {
         "name": "Dial M for Murder (1954)",
         "rawType": "float64",
         "type": "float"
        },
        {
         "name": "Die Hard (1988)",
         "rawType": "float64",
         "type": "float"
        },
        {
         "name": "Die Hard 2 (1990)",
         "rawType": "float64",
         "type": "float"
        },
        {
         "name": "Die Hard: With a Vengeance (1995)",
         "rawType": "float64",
         "type": "float"
        },
        {
         "name": "Die xue shuang xiong (Killer, The) (1989)",
         "rawType": "float64",
         "type": "float"
        },
        {
         "name": "Dingo (1992)",
         "rawType": "float64",
         "type": "float"
        },
        {
         "name": "Dirty Dancing (1987)",
         "rawType": "float64",
         "type": "float"
        },
        {
         "name": "Disclosure (1994)",
         "rawType": "float64",
         "type": "float"
        },
        {
         "name": "Diva (1981)",
         "rawType": "float64",
         "type": "float"
        },
        {
         "name": "Dolores Claiborne (1994)",
         "rawType": "float64",
         "type": "float"
        },
        {
         "name": "Don Juan DeMarco (1995)",
         "rawType": "float64",
         "type": "float"
        },
        {
         "name": "Don't Be a Menace to South Central While Drinking Your Juice in the Hood (1996)",
         "rawType": "float64",
         "type": "float"
        },
        {
         "name": "Donnie Brasco (1997)",
         "rawType": "float64",
         "type": "float"
        },
        {
         "name": "Doom Generation, The (1995)",
         "rawType": "float64",
         "type": "float"
        },
        {
         "name": "Doors, The (1991)",
         "rawType": "float64",
         "type": "float"
        },
        {
         "name": "Double Happiness (1994)",
         "rawType": "float64",
         "type": "float"
        },
        {
         "name": "Double Team (1997)",
         "rawType": "float64",
         "type": "float"
        },
        {
         "name": "Double vie de Véronique, La (Double Life of Veronique, The) (1991)",
         "rawType": "float64",
         "type": "float"
        },
        {
         "name": "Down Periscope (1996)",
         "rawType": "float64",
         "type": "float"
        },
        {
         "name": "Down by Law (1986)",
         "rawType": "float64",
         "type": "float"
        },
        {
         "name": "Dr. Strangelove or: How I Learned to Stop Worrying and Love the Bomb (1963)",
         "rawType": "float64",
         "type": "float"
        },
        {
         "name": "Dracula: Dead and Loving It (1995)",
         "rawType": "float64",
         "type": "float"
        },
        {
         "name": "Dragonheart (1996)",
         "rawType": "float64",
         "type": "float"
        },
        {
         "name": "Dream Man (1995)",
         "rawType": "float64",
         "type": "float"
        },
        {
         "name": "Dream With the Fishes (1997)",
         "rawType": "float64",
         "type": "float"
        },
        {
         "name": "Drop Dead Fred (1991)",
         "rawType": "float64",
         "type": "float"
        },
        {
         "name": "Drop Zone (1994)",
         "rawType": "float64",
         "type": "float"
        },
        {
         "name": "Drunks (1995)",
         "rawType": "float64",
         "type": "float"
        },
        {
         "name": "Duck Soup (1933)",
         "rawType": "float64",
         "type": "float"
        },
        {
         "name": "Dumb & Dumber (1994)",
         "rawType": "float64",
         "type": "float"
        },
        {
         "name": "Dumbo (1941)",
         "rawType": "float64",
         "type": "float"
        },
        {
         "name": "Dunston Checks In (1996)",
         "rawType": "float64",
         "type": "float"
        },
        {
         "name": "Duoluo tianshi (1995)",
         "rawType": "float64",
         "type": "float"
        },
        {
         "name": "E.T. the Extra-Terrestrial (1982)",
         "rawType": "float64",
         "type": "float"
        },
        {
         "name": "East of Eden (1955)",
         "rawType": "float64",
         "type": "float"
        },
        {
         "name": "Eat Drink Man Woman (1994)",
         "rawType": "float64",
         "type": "float"
        },
        {
         "name": "Ed (1996)",
         "rawType": "float64",
         "type": "float"
        },
        {
         "name": "Ed Wood (1994)",
         "rawType": "float64",
         "type": "float"
        },
        {
         "name": "Ed's Next Move (1996)",
         "rawType": "float64",
         "type": "float"
        },
        {
         "name": "Eddie (1996)",
         "rawType": "float64",
         "type": "float"
        },
        {
         "name": "Edge, The (1997)",
         "rawType": "float64",
         "type": "float"
        },
        {
         "name": "Eighth Day, The (1996)",
         "rawType": "float64",
         "type": "float"
        },
        {
         "name": "Emma (1996)",
         "rawType": "float64",
         "type": "float"
        },
        {
         "name": "Empire Strikes Back, The (1980)",
         "rawType": "float64",
         "type": "float"
        },
        {
         "name": "Enchanted April (1991)",
         "rawType": "float64",
         "type": "float"
        },
        {
         "name": "Endless Summer 2, The (1994)",
         "rawType": "float64",
         "type": "float"
        },
        {
         "name": "Enfer, L' (1994)",
         "rawType": "float64",
         "type": "float"
        },
        {
         "name": "English Patient, The (1996)",
         "rawType": "float64",
         "type": "float"
        },
        {
         "name": "Englishman Who Went Up a Hill, But Came Down a Mountain, The (1995)",
         "rawType": "float64",
         "type": "float"
        },
        {
         "name": "Entertaining Angels: The Dorothy Day Story (1996)",
         "rawType": "float64",
         "type": "float"
        },
        {
         "name": "Eraser (1996)",
         "rawType": "float64",
         "type": "float"
        },
        {
         "name": "Escape from L.A. (1996)",
         "rawType": "float64",
         "type": "float"
        },
        {
         "name": "Escape from New York (1981)",
         "rawType": "float64",
         "type": "float"
        },
        {
         "name": "Escape to Witch Mountain (1975)",
         "rawType": "float64",
         "type": "float"
        },
        {
         "name": "Etz Hadomim Tafus (Under the Domin Tree) (1994)",
         "rawType": "float64",
         "type": "float"
        },
        {
         "name": "Eve's Bayou (1997)",
         "rawType": "float64",
         "type": "float"
        },
        {
         "name": "Even Cowgirls Get the Blues (1993)",
         "rawType": "float64",
         "type": "float"
        },
        {
         "name": "Evening Star, The (1996)",
         "rawType": "float64",
         "type": "float"
        },
        {
         "name": "Event Horizon (1997)",
         "rawType": "float64",
         "type": "float"
        },
        {
         "name": "Everest (1998)",
         "rawType": "float64",
         "type": "float"
        },
        {
         "name": "Every Other Weekend (1990)",
         "rawType": "float64",
         "type": "float"
        },
        {
         "name": "Everyone Says I Love You (1996)",
         "rawType": "float64",
         "type": "float"
        },
        {
         "name": "Evil Dead II (1987)",
         "rawType": "float64",
         "type": "float"
        },
        {
         "name": "Evita (1996)",
         "rawType": "float64",
         "type": "float"
        },
        {
         "name": "Excess Baggage (1997)",
         "rawType": "float64",
         "type": "float"
        },
        {
         "name": "Executive Decision (1996)",
         "rawType": "float64",
         "type": "float"
        },
        {
         "name": "Exit to Eden (1994)",
         "rawType": "float64",
         "type": "float"
        },
        {
         "name": "Exotica (1994)",
         "rawType": "float64",
         "type": "float"
        },
        {
         "name": "Extreme Measures (1996)",
         "rawType": "float64",
         "type": "float"
        },
        {
         "name": "Eye for an Eye (1996)",
         "rawType": "float64",
         "type": "float"
        },
        {
         "name": "Eye of Vichy, The (Oeil de Vichy, L') (1993)",
         "rawType": "float64",
         "type": "float"
        },
        {
         "name": "Face/Off (1997)",
         "rawType": "float64",
         "type": "float"
        },
        {
         "name": "Faces (1968)",
         "rawType": "float64",
         "type": "float"
        },
        {
         "name": "Fair Game (1995)",
         "rawType": "float64",
         "type": "float"
        },
        {
         "name": "FairyTale: A True Story (1997)",
         "rawType": "float64",
         "type": "float"
        },
        {
         "name": "Faithful (1996)",
         "rawType": "float64",
         "type": "float"
        },
        {
         "name": "Fall (1997)",
         "rawType": "float64",
         "type": "float"
        },
        {
         "name": "Fallen (1998)",
         "rawType": "float64",
         "type": "float"
        },
        {
         "name": "Falling in Love Again (1980)",
         "rawType": "float64",
         "type": "float"
        },
        {
         "name": "Family Thing, A (1996)",
         "rawType": "float64",
         "type": "float"
        },
        {
         "name": "Fan, The (1996)",
         "rawType": "float64",
         "type": "float"
        },
        {
         "name": "Fantasia (1940)",
         "rawType": "float64",
         "type": "float"
        },
        {
         "name": "Far From Home: The Adventures of Yellow Dog (1995)",
         "rawType": "float64",
         "type": "float"
        },
        {
         "name": "Farewell My Concubine (1993)",
         "rawType": "float64",
         "type": "float"
        },
        {
         "name": "Farewell to Arms, A (1932)",
         "rawType": "float64",
         "type": "float"
        },
        {
         "name": "Fargo (1996)",
         "rawType": "float64",
         "type": "float"
        },
        {
         "name": "Farinelli: il castrato (1994)",
         "rawType": "float64",
         "type": "float"
        },
        {
         "name": "Farmer & Chase (1995)",
         "rawType": "float64",
         "type": "float"
        },
        {
         "name": "Fast, Cheap & Out of Control (1997)",
         "rawType": "float64",
         "type": "float"
        },
        {
         "name": "Faster Pussycat! Kill! Kill! (1965)",
         "rawType": "float64",
         "type": "float"
        },
        {
         "name": "Fatal Instinct (1993)",
         "rawType": "float64",
         "type": "float"
        },
        {
         "name": "Father of the Bride (1950)",
         "rawType": "float64",
         "type": "float"
        },
        {
         "name": "Father of the Bride Part II (1995)",
         "rawType": "float64",
         "type": "float"
        },
        {
         "name": "Fathers' Day (1997)",
         "rawType": "float64",
         "type": "float"
        },
        {
         "name": "Faust (1994)",
         "rawType": "float64",
         "type": "float"
        },
        {
         "name": "Fausto (1993)",
         "rawType": "float64",
         "type": "float"
        },
        {
         "name": "Favor, The (1994)",
         "rawType": "float64",
         "type": "float"
        },
        {
         "name": "Fear (1996)",
         "rawType": "float64",
         "type": "float"
        },
        {
         "name": "Fear of a Black Hat (1993)",
         "rawType": "float64",
         "type": "float"
        },
        {
         "name": "Fear, The (1995)",
         "rawType": "float64",
         "type": "float"
        },
        {
         "name": "Fearless (1993)",
         "rawType": "float64",
         "type": "float"
        },
        {
         "name": "Feast of July (1995)",
         "rawType": "float64",
         "type": "float"
        },
        {
         "name": "Feeling Minnesota (1996)",
         "rawType": "float64",
         "type": "float"
        },
        {
         "name": "Female Perversions (1996)",
         "rawType": "float64",
         "type": "float"
        },
        {
         "name": "Field of Dreams (1989)",
         "rawType": "float64",
         "type": "float"
        },
        {
         "name": "Fierce Creatures (1997)",
         "rawType": "float64",
         "type": "float"
        },
        {
         "name": "Fifth Element, The (1997)",
         "rawType": "float64",
         "type": "float"
        },
        {
         "name": "Fille seule, La (A Single Girl) (1995)",
         "rawType": "float64",
         "type": "float"
        },
        {
         "name": "Fire Down Below (1997)",
         "rawType": "float64",
         "type": "float"
        },
        {
         "name": "Fire on the Mountain (1996)",
         "rawType": "float64",
         "type": "float"
        },
        {
         "name": "Firestorm (1998)",
         "rawType": "float64",
         "type": "float"
        },
        {
         "name": "Firm, The (1993)",
         "rawType": "float64",
         "type": "float"
        },
        {
         "name": "First Kid (1996)",
         "rawType": "float64",
         "type": "float"
        },
        {
         "name": "First Knight (1995)",
         "rawType": "float64",
         "type": "float"
        },
        {
         "name": "First Wives Club, The (1996)",
         "rawType": "float64",
         "type": "float"
        },
        {
         "name": "Fish Called Wanda, A (1988)",
         "rawType": "float64",
         "type": "float"
        },
        {
         "name": "Fled (1996)",
         "rawType": "float64",
         "type": "float"
        },
        {
         "name": "Flesh and Bone (1993)",
         "rawType": "float64",
         "type": "float"
        },
        {
         "name": "Flintstones, The (1994)",
         "rawType": "float64",
         "type": "float"
        },
        {
         "name": "Flipper (1996)",
         "rawType": "float64",
         "type": "float"
        },
        {
         "name": "Flirt (1995)",
         "rawType": "float64",
         "type": "float"
        },
        {
         "name": "Flirting With Disaster (1996)",
         "rawType": "float64",
         "type": "float"
        },
        {
         "name": "Flower of My Secret, The (Flor de mi secreto, La) (1995)",
         "rawType": "float64",
         "type": "float"
        },
        {
         "name": "Flubber (1997)",
         "rawType": "float64",
         "type": "float"
        },
        {
         "name": "Fluke (1995)",
         "rawType": "float64",
         "type": "float"
        },
        {
         "name": "Fly Away Home (1996)",
         "rawType": "float64",
         "type": "float"
        },
        {
         "name": "Fog, The (1980)",
         "rawType": "float64",
         "type": "float"
        },
        {
         "name": "Fools Rush In (1997)",
         "rawType": "float64",
         "type": "float"
        },
        {
         "name": "For Ever Mozart (1996)",
         "rawType": "float64",
         "type": "float"
        },
        {
         "name": "For Love or Money (1993)",
         "rawType": "float64",
         "type": "float"
        },
        {
         "name": "For Richer or Poorer (1997)",
         "rawType": "float64",
         "type": "float"
        },
        {
         "name": "For Whom the Bell Tolls (1943)",
         "rawType": "float64",
         "type": "float"
        },
        {
         "name": "For the Moment (1994)",
         "rawType": "float64",
         "type": "float"
        },
        {
         "name": "Forbidden Christ, The (Cristo proibito, Il) (1950)",
         "rawType": "float64",
         "type": "float"
        },
        {
         "name": "Forbidden Planet (1956)",
         "rawType": "float64",
         "type": "float"
        },
        {
         "name": "Foreign Correspondent (1940)",
         "rawType": "float64",
         "type": "float"
        },
        {
         "name": "Foreign Student (1994)",
         "rawType": "float64",
         "type": "float"
        },
        {
         "name": "Forget Paris (1995)",
         "rawType": "float64",
         "type": "float"
        },
        {
         "name": "Forrest Gump (1994)",
         "rawType": "float64",
         "type": "float"
        },
        {
         "name": "Four Days in September (1997)",
         "rawType": "float64",
         "type": "float"
        },
        {
         "name": "Four Rooms (1995)",
         "rawType": "float64",
         "type": "float"
        },
        {
         "name": "Four Weddings and a Funeral (1994)",
         "rawType": "float64",
         "type": "float"
        },
        {
         "name": "Fox and the Hound, The (1981)",
         "rawType": "float64",
         "type": "float"
        },
        {
         "name": "Foxfire (1996)",
         "rawType": "float64",
         "type": "float"
        },
        {
         "name": "Frankie Starlight (1995)",
         "rawType": "float64",
         "type": "float"
        },
        {
         "name": "Free Willy (1993)",
         "rawType": "float64",
         "type": "float"
        },
        {
         "name": "Free Willy 2: The Adventure Home (1995)",
         "rawType": "float64",
         "type": "float"
        },
        {
         "name": "Free Willy 3: The Rescue (1997)",
         "rawType": "float64",
         "type": "float"
        },
        {
         "name": "Freeway (1996)",
         "rawType": "float64",
         "type": "float"
        },
        {
         "name": "French Kiss (1995)",
         "rawType": "float64",
         "type": "float"
        },
        {
         "name": "French Twist (Gazon maudit) (1995)",
         "rawType": "float64",
         "type": "float"
        },
        {
         "name": "Fresh (1994)",
         "rawType": "float64",
         "type": "float"
        },
        {
         "name": "Friday (1995)",
         "rawType": "float64",
         "type": "float"
        },
        {
         "name": "Fried Green Tomatoes (1991)",
         "rawType": "float64",
         "type": "float"
        },
        {
         "name": "Frighteners, The (1996)",
         "rawType": "float64",
         "type": "float"
        },
        {
         "name": "Frisk (1995)",
         "rawType": "float64",
         "type": "float"
        },
        {
         "name": "From Dusk Till Dawn (1996)",
         "rawType": "float64",
         "type": "float"
        },
        {
         "name": "Fugitive, The (1993)",
         "rawType": "float64",
         "type": "float"
        },
        {
         "name": "Full Metal Jacket (1987)",
         "rawType": "float64",
         "type": "float"
        },
        {
         "name": "Full Monty, The (1997)",
         "rawType": "float64",
         "type": "float"
        },
        {
         "name": "Full Speed (1996)",
         "rawType": "float64",
         "type": "float"
        },
        {
         "name": "Funeral, The (1996)",
         "rawType": "float64",
         "type": "float"
        },
        {
         "name": "Funny Face (1957)",
         "rawType": "float64",
         "type": "float"
        },
        {
         "name": "Further Gesture, A (1996)",
         "rawType": "float64",
         "type": "float"
        },
        {
         "name": "G.I. Jane (1997)",
         "rawType": "float64",
         "type": "float"
        },
        {
         "name": "Gabbeh (1996)",
         "rawType": "float64",
         "type": "float"
        },
        {
         "name": "Game, The (1997)",
         "rawType": "float64",
         "type": "float"
        },
        {
         "name": "Gandhi (1982)",
         "rawType": "float64",
         "type": "float"
        },
        {
         "name": "Gang Related (1997)",
         "rawType": "float64",
         "type": "float"
        },
        {
         "name": "Garden of Finzi-Contini, The (Giardino dei Finzi-Contini, Il) (1970)",
         "rawType": "float64",
         "type": "float"
        },
        {
         "name": "Gaslight (1944)",
         "rawType": "float64",
         "type": "float"
        },
        {
         "name": "Gate of Heavenly Peace, The (1995)",
         "rawType": "float64",
         "type": "float"
        },
        {
         "name": "Gattaca (1997)",
         "rawType": "float64",
         "type": "float"
        },
        {
         "name": "Gay Divorcee, The (1934)",
         "rawType": "float64",
         "type": "float"
        },
        {
         "name": "George of the Jungle (1997)",
         "rawType": "float64",
         "type": "float"
        },
        {
         "name": "Georgia (1995)",
         "rawType": "float64",
         "type": "float"
        },
        {
         "name": "Germinal (1993)",
         "rawType": "float64",
         "type": "float"
        },
        {
         "name": "Geronimo: An American Legend (1993)",
         "rawType": "float64",
         "type": "float"
        },
        {
         "name": "Get Shorty (1995)",
         "rawType": "float64",
         "type": "float"
        },
        {
         "name": "Get on the Bus (1996)",
         "rawType": "float64",
         "type": "float"
        },
        {
         "name": "Getaway, The (1994)",
         "rawType": "float64",
         "type": "float"
        },
        {
         "name": "Getting Away With Murder (1996)",
         "rawType": "float64",
         "type": "float"
        },
        {
         "name": "Getting Even with Dad (1994)",
         "rawType": "float64",
         "type": "float"
        },
        {
         "name": "Ghost (1990)",
         "rawType": "float64",
         "type": "float"
        },
        {
         "name": "Ghost and Mrs. Muir, The (1947)",
         "rawType": "float64",
         "type": "float"
        },
        {
         "name": "Ghost and the Darkness, The (1996)",
         "rawType": "float64",
         "type": "float"
        },
        {
         "name": "Ghost in the Shell (Kokaku kidotai) (1995)",
         "rawType": "float64",
         "type": "float"
        },
        {
         "name": "Ghosts of Mississippi (1996)",
         "rawType": "float64",
         "type": "float"
        },
        {
         "name": "Giant (1956)",
         "rawType": "float64",
         "type": "float"
        },
        {
         "name": "Gigi (1958)",
         "rawType": "float64",
         "type": "float"
        },
        {
         "name": "Gilligan's Island: The Movie (1998)",
         "rawType": "float64",
         "type": "float"
        },
        {
         "name": "Girl 6 (1996)",
         "rawType": "float64",
         "type": "float"
        },
        {
         "name": "Girl in the Cadillac (1995)",
         "rawType": "float64",
         "type": "float"
        },
        {
         "name": "Girls Town (1996)",
         "rawType": "float64",
         "type": "float"
        },
        {
         "name": "Glass Shield, The (1994)",
         "rawType": "float64",
         "type": "float"
        },
        {
         "name": "Glengarry Glen Ross (1992)",
         "rawType": "float64",
         "type": "float"
        },
        {
         "name": "Glimmer Man, The (1996)",
         "rawType": "float64",
         "type": "float"
        },
        {
         "name": "Glory (1989)",
         "rawType": "float64",
         "type": "float"
        },
        {
         "name": "Go Fish (1994)",
         "rawType": "float64",
         "type": "float"
        },
        {
         "name": "Godfather, The (1972)",
         "rawType": "float64",
         "type": "float"
        },
        {
         "name": "Godfather: Part II, The (1974)",
         "rawType": "float64",
         "type": "float"
        },
        {
         "name": "Gold Diggers: The Secret of Bear Mountain (1995)",
         "rawType": "float64",
         "type": "float"
        },
        {
         "name": "Golden Earrings (1947)",
         "rawType": "float64",
         "type": "float"
        },
        {
         "name": "GoldenEye (1995)",
         "rawType": "float64",
         "type": "float"
        },
        {
         "name": "Gone Fishin' (1997)",
         "rawType": "float64",
         "type": "float"
        },
        {
         "name": "Gone with the Wind (1939)",
         "rawType": "float64",
         "type": "float"
        },
        {
         "name": "Good Man in Africa, A (1994)",
         "rawType": "float64",
         "type": "float"
        },
        {
         "name": "Good Morning (1971)",
         "rawType": "float64",
         "type": "float"
        },
        {
         "name": "Good Will Hunting (1997)",
         "rawType": "float64",
         "type": "float"
        },
        {
         "name": "Good, The Bad and The Ugly, The (1966)",
         "rawType": "float64",
         "type": "float"
        },
        {
         "name": "GoodFellas (1990)",
         "rawType": "float64",
         "type": "float"
        },
        {
         "name": "Goofy Movie, A (1995)",
         "rawType": "float64",
         "type": "float"
        },
        {
         "name": "Gordy (1995)",
         "rawType": "float64",
         "type": "float"
        },
        {
         "name": "Grace of My Heart (1996)",
         "rawType": "float64",
         "type": "float"
        },
        {
         "name": "Graduate, The (1967)",
         "rawType": "float64",
         "type": "float"
        },
        {
         "name": "Grand Day Out, A (1992)",
         "rawType": "float64",
         "type": "float"
        },
        {
         "name": "Grass Harp, The (1995)",
         "rawType": "float64",
         "type": "float"
        },
        {
         "name": "Grateful Dead (1995)",
         "rawType": "float64",
         "type": "float"
        },
        {
         "name": "Grease (1978)",
         "rawType": "float64",
         "type": "float"
        },
        {
         "name": "Grease 2 (1982)",
         "rawType": "float64",
         "type": "float"
        },
        {
         "name": "Great Day in Harlem, A (1994)",
         "rawType": "float64",
         "type": "float"
        },
        {
         "name": "Great Dictator, The (1940)",
         "rawType": "float64",
         "type": "float"
        },
        {
         "name": "Great Escape, The (1963)",
         "rawType": "float64",
         "type": "float"
        },
        {
         "name": "Great Expectations (1998)",
         "rawType": "float64",
         "type": "float"
        },
        {
         "name": "Great Race, The (1965)",
         "rawType": "float64",
         "type": "float"
        },
        {
         "name": "Great White Hype, The (1996)",
         "rawType": "float64",
         "type": "float"
        },
        {
         "name": "Gridlock'd (1997)",
         "rawType": "float64",
         "type": "float"
        },
        {
         "name": "Grifters, The (1990)",
         "rawType": "float64",
         "type": "float"
        },
        {
         "name": "Grosse Fatigue (1994)",
         "rawType": "float64",
         "type": "float"
        },
        {
         "name": "Grosse Pointe Blank (1997)",
         "rawType": "float64",
         "type": "float"
        },
        {
         "name": "Groundhog Day (1993)",
         "rawType": "float64",
         "type": "float"
        },
        {
         "name": "Grumpier Old Men (1995)",
         "rawType": "float64",
         "type": "float"
        },
        {
         "name": "Guantanamera (1994)",
         "rawType": "float64",
         "type": "float"
        },
        {
         "name": "Guilty as Sin (1993)",
         "rawType": "float64",
         "type": "float"
        },
        {
         "name": "Gumby: The Movie (1995)",
         "rawType": "float64",
         "type": "float"
        },
        {
         "name": "Hackers (1995)",
         "rawType": "float64",
         "type": "float"
        },
        {
         "name": "Half Baked (1998)",
         "rawType": "float64",
         "type": "float"
        },
        {
         "name": "Halloween: The Curse of Michael Myers (1995)",
         "rawType": "float64",
         "type": "float"
        },
        {
         "name": "Hamlet (1996)",
         "rawType": "float64",
         "type": "float"
        },
        {
         "name": "Hana-bi (1997)",
         "rawType": "float64",
         "type": "float"
        },
        {
         "name": "Happy Gilmore (1996)",
         "rawType": "float64",
         "type": "float"
        },
        {
         "name": "Hard Eight (1996)",
         "rawType": "float64",
         "type": "float"
        },
        {
         "name": "Hard Rain (1998)",
         "rawType": "float64",
         "type": "float"
        },
        {
         "name": "Hard Target (1993)",
         "rawType": "float64",
         "type": "float"
        },
        {
         "name": "Harlem (1993)",
         "rawType": "float64",
         "type": "float"
        },
        {
         "name": "Harold and Maude (1971)",
         "rawType": "float64",
         "type": "float"
        },
        {
         "name": "Harriet the Spy (1996)",
         "rawType": "float64",
         "type": "float"
        },
        {
         "name": "Hate (Haine, La) (1995)",
         "rawType": "float64",
         "type": "float"
        },
        {
         "name": "Haunted World of Edward D. Wood Jr., The (1995)",
         "rawType": "float64",
         "type": "float"
        },
        {
         "name": "He Walked by Night (1948)",
         "rawType": "float64",
         "type": "float"
        },
        {
         "name": "Head Above Water (1996)",
         "rawType": "float64",
         "type": "float"
        },
        {
         "name": "Hear My Song (1991)",
         "rawType": "float64",
         "type": "float"
        },
        {
         "name": "Hearts and Minds (1996)",
         "rawType": "float64",
         "type": "float"
        },
        {
         "name": "Heat (1995)",
         "rawType": "float64",
         "type": "float"
        },
        {
         "name": "Heathers (1989)",
         "rawType": "float64",
         "type": "float"
        },
        {
         "name": "Heaven & Earth (1993)",
         "rawType": "float64",
         "type": "float"
        },
        {
         "name": "Heaven's Prisoners (1996)",
         "rawType": "float64",
         "type": "float"
        },
        {
         "name": "Heavenly Creatures (1994)",
         "rawType": "float64",
         "type": "float"
        },
        {
         "name": "Heavy (1995)",
         "rawType": "float64",
         "type": "float"
        },
        {
         "name": "Heavy Metal (1981)",
         "rawType": "float64",
         "type": "float"
        },
        {
         "name": "Heavyweights (1994)",
         "rawType": "float64",
         "type": "float"
        },
        {
         "name": "Hedd Wyn (1992)",
         "rawType": "float64",
         "type": "float"
        },
        {
         "name": "Heidi Fleiss: Hollywood Madam (1995) ",
         "rawType": "float64",
         "type": "float"
        },
        {
         "name": "Hellraiser: Bloodline (1996)",
         "rawType": "float64",
         "type": "float"
        },
        {
         "name": "Henry V (1989)",
         "rawType": "float64",
         "type": "float"
        },
        {
         "name": "Herbie Rides Again (1974)",
         "rawType": "float64",
         "type": "float"
        },
        {
         "name": "Hercules (1997)",
         "rawType": "float64",
         "type": "float"
        },
        {
         "name": "Here Comes Cookie (1935)",
         "rawType": "float64",
         "type": "float"
        },
        {
         "name": "Hideaway (1995)",
         "rawType": "float64",
         "type": "float"
        },
        {
         "name": "High Noon (1952)",
         "rawType": "float64",
         "type": "float"
        },
        {
         "name": "High School High (1996)",
         "rawType": "float64",
         "type": "float"
        },
        {
         "name": "Higher Learning (1995)",
         "rawType": "float64",
         "type": "float"
        },
        {
         "name": "Highlander (1986)",
         "rawType": "float64",
         "type": "float"
        },
        {
         "name": "Highlander III: The Sorcerer (1994)",
         "rawType": "float64",
         "type": "float"
        },
        {
         "name": "His Girl Friday (1940)",
         "rawType": "float64",
         "type": "float"
        },
        {
         "name": "Hollow Reed (1996)",
         "rawType": "float64",
         "type": "float"
        },
        {
         "name": "Homage (1995)",
         "rawType": "float64",
         "type": "float"
        },
        {
         "name": "Home Alone (1990)",
         "rawType": "float64",
         "type": "float"
        },
        {
         "name": "Home Alone 3 (1997)",
         "rawType": "float64",
         "type": "float"
        },
        {
         "name": "Home for the Holidays (1995)",
         "rawType": "float64",
         "type": "float"
        },
        {
         "name": "Homeward Bound II: Lost in San Francisco (1996)",
         "rawType": "float64",
         "type": "float"
        },
        {
         "name": "Homeward Bound: The Incredible Journey (1993)",
         "rawType": "float64",
         "type": "float"
        },
        {
         "name": "Hoodlum (1997)",
         "rawType": "float64",
         "type": "float"
        },
        {
         "name": "Hoop Dreams (1994)",
         "rawType": "float64",
         "type": "float"
        },
        {
         "name": "Horse Whisperer, The (1998)",
         "rawType": "float64",
         "type": "float"
        },
        {
         "name": "Horseman on the Roof, The (Hussard sur le toit, Le) (1995)",
         "rawType": "float64",
         "type": "float"
        },
        {
         "name": "Hostile Intentions (1994)",
         "rawType": "float64",
         "type": "float"
        },
        {
         "name": "Hot Shots! Part Deux (1993)",
         "rawType": "float64",
         "type": "float"
        },
        {
         "name": "Hotel de Love (1996)",
         "rawType": "float64",
         "type": "float"
        },
        {
         "name": "Hour of the Pig, The (1993)",
         "rawType": "float64",
         "type": "float"
        },
        {
         "name": "House Arrest (1996)",
         "rawType": "float64",
         "type": "float"
        },
        {
         "name": "House Party 3 (1994)",
         "rawType": "float64",
         "type": "float"
        },
        {
         "name": "House of Yes, The (1997)",
         "rawType": "float64",
         "type": "float"
        },
        {
         "name": "House of the Spirits, The (1993)",
         "rawType": "float64",
         "type": "float"
        },
        {
         "name": "Houseguest (1994)",
         "rawType": "float64",
         "type": "float"
        },
        {
         "name": "How to Be a Player (1997)",
         "rawType": "float64",
         "type": "float"
        },
        {
         "name": "How to Make an American Quilt (1995)",
         "rawType": "float64",
         "type": "float"
        },
        {
         "name": "Howling, The (1981)",
         "rawType": "float64",
         "type": "float"
        },
        {
         "name": "Hudsucker Proxy, The (1994)",
         "rawType": "float64",
         "type": "float"
        },
        {
         "name": "Hugo Pool (1997)",
         "rawType": "float64",
         "type": "float"
        },
        {
         "name": "Hunchback of Notre Dame, The (1996)",
         "rawType": "float64",
         "type": "float"
        },
        {
         "name": "Hungarian Fairy Tale, A (1987)",
         "rawType": "float64",
         "type": "float"
        },
        {
         "name": "Hunt for Red October, The (1990)",
         "rawType": "float64",
         "type": "float"
        },
        {
         "name": "Hunted, The (1995)",
         "rawType": "float64",
         "type": "float"
        },
        {
         "name": "Hurricane Streets (1998)",
         "rawType": "float64",
         "type": "float"
        },
        {
         "name": "Hush (1998)",
         "rawType": "float64",
         "type": "float"
        },
        {
         "name": "I Can't Sleep (J'ai pas sommeil) (1994)",
         "rawType": "float64",
         "type": "float"
        },
        {
         "name": "I Don't Want to Talk About It (De eso no se habla) (1993)",
         "rawType": "float64",
         "type": "float"
        },
        {
         "name": "I Know What You Did Last Summer (1997)",
         "rawType": "float64",
         "type": "float"
        },
        {
         "name": "I Like It Like That (1994)",
         "rawType": "float64",
         "type": "float"
        },
        {
         "name": "I Love Trouble (1994)",
         "rawType": "float64",
         "type": "float"
        },
        {
         "name": "I Shot Andy Warhol (1996)",
         "rawType": "float64",
         "type": "float"
        },
        {
         "name": "I'll Do Anything (1994)",
         "rawType": "float64",
         "type": "float"
        },
        {
         "name": "I'm Not Rappaport (1996)",
         "rawType": "float64",
         "type": "float"
        },
        {
         "name": "I, Worst of All (Yo, la peor de todas) (1990)",
         "rawType": "float64",
         "type": "float"
        },
        {
         "name": "I.Q. (1994)",
         "rawType": "float64",
         "type": "float"
        },
        {
         "name": "Ice Storm, The (1997)",
         "rawType": "float64",
         "type": "float"
        },
        {
         "name": "If Lucy Fell (1996)",
         "rawType": "float64",
         "type": "float"
        },
        {
         "name": "Ill Gotten Gains (1997)",
         "rawType": "float64",
         "type": "float"
        },
        {
         "name": "Immortal Beloved (1994)",
         "rawType": "float64",
         "type": "float"
        },
        {
         "name": "In & Out (1997)",
         "rawType": "float64",
         "type": "float"
        },
        {
         "name": "In Love and War (1996)",
         "rawType": "float64",
         "type": "float"
        },
        {
         "name": "In the Army Now (1994)",
         "rawType": "float64",
         "type": "float"
        },
        {
         "name": "In the Bleak Midwinter (1995)",
         "rawType": "float64",
         "type": "float"
        },
        {
         "name": "In the Company of Men (1997)",
         "rawType": "float64",
         "type": "float"
        },
        {
         "name": "In the Line of Duty 2 (1987)",
         "rawType": "float64",
         "type": "float"
        },
        {
         "name": "In the Line of Fire (1993)",
         "rawType": "float64",
         "type": "float"
        },
        {
         "name": "In the Mouth of Madness (1995)",
         "rawType": "float64",
         "type": "float"
        },
        {
         "name": "In the Name of the Father (1993)",
         "rawType": "float64",
         "type": "float"
        },
        {
         "name": "In the Realm of the Senses (Ai no corrida) (1976)",
         "rawType": "float64",
         "type": "float"
        },
        {
         "name": "Incognito (1997)",
         "rawType": "float64",
         "type": "float"
        },
        {
         "name": "Independence Day (ID4) (1996)",
         "rawType": "float64",
         "type": "float"
        },
        {
         "name": "Indian Summer (1996)",
         "rawType": "float64",
         "type": "float"
        },
        {
         "name": "Indian in the Cupboard, The (1995)",
         "rawType": "float64",
         "type": "float"
        },
        {
         "name": "Indiana Jones and the Last Crusade (1989)",
         "rawType": "float64",
         "type": "float"
        },
        {
         "name": "Infinity (1996)",
         "rawType": "float64",
         "type": "float"
        },
        {
         "name": "Inkwell, The (1994)",
         "rawType": "float64",
         "type": "float"
        },
        {
         "name": "Innocent Sleep, The (1995)",
         "rawType": "float64",
         "type": "float"
        },
        {
         "name": "Innocents, The (1961)",
         "rawType": "float64",
         "type": "float"
        },
        {
         "name": "Inspector General, The (1949)",
         "rawType": "float64",
         "type": "float"
        },
        {
         "name": "Interview with the Vampire (1994)",
         "rawType": "float64",
         "type": "float"
        },
        {
         "name": "Intimate Relations (1996)",
         "rawType": "float64",
         "type": "float"
        },
        {
         "name": "Inventing the Abbotts (1997)",
         "rawType": "float64",
         "type": "float"
        },
        {
         "name": "Invitation, The (Zaproszenie) (1986)",
         "rawType": "float64",
         "type": "float"
        },
        {
         "name": "Island of Dr. Moreau, The (1996)",
         "rawType": "float64",
         "type": "float"
        },
        {
         "name": "It Could Happen to You (1994)",
         "rawType": "float64",
         "type": "float"
        },
        {
         "name": "It Happened One Night (1934)",
         "rawType": "float64",
         "type": "float"
        },
        {
         "name": "It Takes Two (1995)",
         "rawType": "float64",
         "type": "float"
        },
        {
         "name": "It's My Party (1995)",
         "rawType": "float64",
         "type": "float"
        },
        {
         "name": "It's a Wonderful Life (1946)",
         "rawType": "float64",
         "type": "float"
        },
        {
         "name": "JLG/JLG - autoportrait de décembre (1994)",
         "rawType": "float64",
         "type": "float"
        },
        {
         "name": "Jack (1996)",
         "rawType": "float64",
         "type": "float"
        },
        {
         "name": "Jack and Sarah (1995)",
         "rawType": "float64",
         "type": "float"
        },
        {
         "name": "Jackal, The (1997)",
         "rawType": "float64",
         "type": "float"
        },
        {
         "name": "Jackie Brown (1997)",
         "rawType": "float64",
         "type": "float"
        },
        {
         "name": "Jackie Chan's First Strike (1996)",
         "rawType": "float64",
         "type": "float"
        },
        {
         "name": "Jade (1995)",
         "rawType": "float64",
         "type": "float"
        },
        {
         "name": "James and the Giant Peach (1996)",
         "rawType": "float64",
         "type": "float"
        },
        {
         "name": "Jane Eyre (1996)",
         "rawType": "float64",
         "type": "float"
        },
        {
         "name": "Jason's Lyric (1994)",
         "rawType": "float64",
         "type": "float"
        },
        {
         "name": "Jaws (1975)",
         "rawType": "float64",
         "type": "float"
        },
        {
         "name": "Jaws 2 (1978)",
         "rawType": "float64",
         "type": "float"
        },
        {
         "name": "Jaws 3-D (1983)",
         "rawType": "float64",
         "type": "float"
        },
        {
         "name": "Jean de Florette (1986)",
         "rawType": "float64",
         "type": "float"
        },
        {
         "name": "Jefferson in Paris (1995)",
         "rawType": "float64",
         "type": "float"
        },
        {
         "name": "Jeffrey (1995)",
         "rawType": "float64",
         "type": "float"
        },
        {
         "name": "Jerky Boys, The (1994)",
         "rawType": "float64",
         "type": "float"
        },
        {
         "name": "Jerry Maguire (1996)",
         "rawType": "float64",
         "type": "float"
        },
        {
         "name": "Jimmy Hollywood (1994)",
         "rawType": "float64",
         "type": "float"
        },
        {
         "name": "Jingle All the Way (1996)",
         "rawType": "float64",
         "type": "float"
        },
        {
         "name": "Joe's Apartment (1996)",
         "rawType": "float64",
         "type": "float"
        },
        {
         "name": "Johnny 100 Pesos (1993)",
         "rawType": "float64",
         "type": "float"
        },
        {
         "name": "Johnny Mnemonic (1995)",
         "rawType": "float64",
         "type": "float"
        },
        {
         "name": "Johns (1996)",
         "rawType": "float64",
         "type": "float"
        },
        {
         "name": "Journey of August King, The (1995)",
         "rawType": "float64",
         "type": "float"
        },
        {
         "name": "Joy Luck Club, The (1993)",
         "rawType": "float64",
         "type": "float"
        },
        {
         "name": "Jude (1996)",
         "rawType": "float64",
         "type": "float"
        },
        {
         "name": "Judge Dredd (1995)",
         "rawType": "float64",
         "type": "float"
        },
        {
         "name": "Judgment Night (1993)",
         "rawType": "float64",
         "type": "float"
        },
        {
         "name": "Jumanji (1995)",
         "rawType": "float64",
         "type": "float"
        },
        {
         "name": "Jungle Book, The (1994)",
         "rawType": "float64",
         "type": "float"
        },
        {
         "name": "Jungle2Jungle (1997)",
         "rawType": "float64",
         "type": "float"
        },
        {
         "name": "Junior (1994)",
         "rawType": "float64",
         "type": "float"
        },
        {
         "name": "Jupiter's Wife (1994)",
         "rawType": "float64",
         "type": "float"
        },
        {
         "name": "Jurassic Park (1993)",
         "rawType": "float64",
         "type": "float"
        },
        {
         "name": "Juror, The (1996)",
         "rawType": "float64",
         "type": "float"
        },
        {
         "name": "Jury Duty (1995)",
         "rawType": "float64",
         "type": "float"
        },
        {
         "name": "Just Cause (1995)",
         "rawType": "float64",
         "type": "float"
        },
        {
         "name": "Kalifornia (1993)",
         "rawType": "float64",
         "type": "float"
        },
        {
         "name": "Kama Sutra: A Tale of Love (1996)",
         "rawType": "float64",
         "type": "float"
        },
        {
         "name": "Kansas City (1996)",
         "rawType": "float64",
         "type": "float"
        },
        {
         "name": "Kaspar Hauser (1993)",
         "rawType": "float64",
         "type": "float"
        },
        {
         "name": "Kazaam (1996)",
         "rawType": "float64",
         "type": "float"
        },
        {
         "name": "Keys to Tulsa (1997)",
         "rawType": "float64",
         "type": "float"
        },
        {
         "name": "Kicked in the Head (1997)",
         "rawType": "float64",
         "type": "float"
        },
        {
         "name": "Kicking and Screaming (1995)",
         "rawType": "float64",
         "type": "float"
        },
        {
         "name": "Kid in King Arthur's Court, A (1995)",
         "rawType": "float64",
         "type": "float"
        },
        {
         "name": "Kids (1995)",
         "rawType": "float64",
         "type": "float"
        },
        {
         "name": "Kids in the Hall: Brain Candy (1996)",
         "rawType": "float64",
         "type": "float"
        },
        {
         "name": "Kika (1993)",
         "rawType": "float64",
         "type": "float"
        },
        {
         "name": "Killer (Bulletproof Heart) (1994)",
         "rawType": "float64",
         "type": "float"
        },
        {
         "name": "Killer: A Journal of Murder (1995)",
         "rawType": "float64",
         "type": "float"
        },
        {
         "name": "Killing Fields, The (1984)",
         "rawType": "float64",
         "type": "float"
        },
        {
         "name": "Killing Zoe (1994)",
         "rawType": "float64",
         "type": "float"
        },
        {
         "name": "Kim (1950)",
         "rawType": "float64",
         "type": "float"
        },
        {
         "name": "King of New York (1990)",
         "rawType": "float64",
         "type": "float"
        },
        {
         "name": "King of the Hill (1993)",
         "rawType": "float64",
         "type": "float"
        },
        {
         "name": "Kingpin (1996)",
         "rawType": "float64",
         "type": "float"
        },
        {
         "name": "Kiss Me, Guido (1997)",
         "rawType": "float64",
         "type": "float"
        },
        {
         "name": "Kiss of Death (1995)",
         "rawType": "float64",
         "type": "float"
        },
        {
         "name": "Kiss the Girls (1997)",
         "rawType": "float64",
         "type": "float"
        },
        {
         "name": "Kissed (1996)",
         "rawType": "float64",
         "type": "float"
        },
        {
         "name": "Kolya (1996)",
         "rawType": "float64",
         "type": "float"
        },
        {
         "name": "Koyaanisqatsi (1983)",
         "rawType": "float64",
         "type": "float"
        },
        {
         "name": "Kull the Conqueror (1997)",
         "rawType": "float64",
         "type": "float"
        },
        {
         "name": "Kundun (1997)",
         "rawType": "float64",
         "type": "float"
        },
        {
         "name": "L.A. Confidential (1997)",
         "rawType": "float64",
         "type": "float"
        },
        {
         "name": "Lady of Burlesque (1943)",
         "rawType": "float64",
         "type": "float"
        },
        {
         "name": "Ladybird Ladybird (1994)",
         "rawType": "float64",
         "type": "float"
        },
        {
         "name": "Lamerica (1994)",
         "rawType": "float64",
         "type": "float"
        },
        {
         "name": "Land Before Time III: The Time of the Great Giving (1995) (V)",
         "rawType": "float64",
         "type": "float"
        },
        {
         "name": "Land and Freedom (Tierra y libertad) (1995)",
         "rawType": "float64",
         "type": "float"
        },
        {
         "name": "Larger Than Life (1996)",
         "rawType": "float64",
         "type": "float"
        },
        {
         "name": "Lashou shentan (1992)",
         "rawType": "float64",
         "type": "float"
        },
        {
         "name": "Lassie (1994)",
         "rawType": "float64",
         "type": "float"
        },
        {
         "name": "Last Action Hero (1993)",
         "rawType": "float64",
         "type": "float"
        },
        {
         "name": "Last Dance (1996)",
         "rawType": "float64",
         "type": "float"
        },
        {
         "name": "Last Klezmer: Leopold Kozlowski, His Life and Music, The (1995)",
         "rawType": "float64",
         "type": "float"
        },
        {
         "name": "Last Man Standing (1996)",
         "rawType": "float64",
         "type": "float"
        },
        {
         "name": "Last Summer in the Hamptons (1995)",
         "rawType": "float64",
         "type": "float"
        },
        {
         "name": "Last Supper, The (1995)",
         "rawType": "float64",
         "type": "float"
        },
        {
         "name": "Last Time I Committed Suicide, The (1997)",
         "rawType": "float64",
         "type": "float"
        },
        {
         "name": "Last Time I Saw Paris, The (1954)",
         "rawType": "float64",
         "type": "float"
        },
        {
         "name": "Last of the Mohicans, The (1992)",
         "rawType": "float64",
         "type": "float"
        },
        {
         "name": "Late Bloomers (1996)",
         "rawType": "float64",
         "type": "float"
        },
        {
         "name": "Laura (1944)",
         "rawType": "float64",
         "type": "float"
        },
        {
         "name": "Lawnmower Man 2: Beyond Cyberspace (1996)",
         "rawType": "float64",
         "type": "float"
        },
        {
         "name": "Lawnmower Man, The (1992)",
         "rawType": "float64",
         "type": "float"
        },
        {
         "name": "Lawrence of Arabia (1962)",
         "rawType": "float64",
         "type": "float"
        },
        {
         "name": "Lay of the Land, The (1997)",
         "rawType": "float64",
         "type": "float"
        },
        {
         "name": "Leading Man, The (1996)",
         "rawType": "float64",
         "type": "float"
        },
        {
         "name": "Leave It to Beaver (1997)",
         "rawType": "float64",
         "type": "float"
        },
        {
         "name": "Leaving Las Vegas (1995)",
         "rawType": "float64",
         "type": "float"
        },
        {
         "name": "Legal Deceit (1997)",
         "rawType": "float64",
         "type": "float"
        },
        {
         "name": "Legends of the Fall (1994)",
         "rawType": "float64",
         "type": "float"
        },
        {
         "name": "Leopard Son, The (1996)",
         "rawType": "float64",
         "type": "float"
        },
        {
         "name": "Letter From Death Row, A (1998)",
         "rawType": "float64",
         "type": "float"
        },
        {
         "name": "Liar Liar (1997)",
         "rawType": "float64",
         "type": "float"
        },
        {
         "name": "Liebelei (1933)",
         "rawType": "float64",
         "type": "float"
        },
        {
         "name": "Life Less Ordinary, A (1997)",
         "rawType": "float64",
         "type": "float"
        },
        {
         "name": "Life with Mikey (1993)",
         "rawType": "float64",
         "type": "float"
        },
        {
         "name": "Lightning Jack (1994)",
         "rawType": "float64",
         "type": "float"
        },
        {
         "name": "Like Water For Chocolate (Como agua para chocolate) (1992)",
         "rawType": "float64",
         "type": "float"
        },
        {
         "name": "Line King: Al Hirschfeld, The (1996)",
         "rawType": "float64",
         "type": "float"
        },
        {
         "name": "Lion King, The (1994)",
         "rawType": "float64",
         "type": "float"
        },
        {
         "name": "Little Big League (1994)",
         "rawType": "float64",
         "type": "float"
        },
        {
         "name": "Little Buddha (1993)",
         "rawType": "float64",
         "type": "float"
        },
        {
         "name": "Little City (1998)",
         "rawType": "float64",
         "type": "float"
        },
        {
         "name": "Little Lord Fauntleroy (1936)",
         "rawType": "float64",
         "type": "float"
        },
        {
         "name": "Little Odessa (1994)",
         "rawType": "float64",
         "type": "float"
        },
        {
         "name": "Little Princess, A (1995)",
         "rawType": "float64",
         "type": "float"
        },
        {
         "name": "Little Princess, The (1939)",
         "rawType": "float64",
         "type": "float"
        },
        {
         "name": "Little Rascals, The (1994)",
         "rawType": "float64",
         "type": "float"
        },
        {
         "name": "Little Women (1994)",
         "rawType": "float64",
         "type": "float"
        },
        {
         "name": "Live Nude Girls (1995)",
         "rawType": "float64",
         "type": "float"
        },
        {
         "name": "Living in Oblivion (1995)",
         "rawType": "float64",
         "type": "float"
        },
        {
         "name": "Loaded (1994)",
         "rawType": "float64",
         "type": "float"
        },
        {
         "name": "Local Hero (1983)",
         "rawType": "float64",
         "type": "float"
        },
        {
         "name": "Loch Ness (1995)",
         "rawType": "float64",
         "type": "float"
        },
        {
         "name": "Locusts, The (1997)",
         "rawType": "float64",
         "type": "float"
        },
        {
         "name": "Lone Star (1996)",
         "rawType": "float64",
         "type": "float"
        },
        {
         "name": "Long Kiss Goodnight, The (1996)",
         "rawType": "float64",
         "type": "float"
        },
        {
         "name": "Looking for Richard (1996)",
         "rawType": "float64",
         "type": "float"
        },
        {
         "name": "Lord of Illusions (1995)",
         "rawType": "float64",
         "type": "float"
        },
        {
         "name": "Losing Chase (1996)",
         "rawType": "float64",
         "type": "float"
        },
        {
         "name": "Losing Isaiah (1995)",
         "rawType": "float64",
         "type": "float"
        },
        {
         "name": "Lost Highway (1997)",
         "rawType": "float64",
         "type": "float"
        },
        {
         "name": "Lost Horizon (1937)",
         "rawType": "float64",
         "type": "float"
        },
        {
         "name": "Lost World: Jurassic Park, The (1997)",
         "rawType": "float64",
         "type": "float"
        },
        {
         "name": "Lost in Space (1998)",
         "rawType": "float64",
         "type": "float"
        },
        {
         "name": "Lotto Land (1995)",
         "rawType": "float64",
         "type": "float"
        },
        {
         "name": "Love & Human Remains (1993)",
         "rawType": "float64",
         "type": "float"
        },
        {
         "name": "Love Affair (1994)",
         "rawType": "float64",
         "type": "float"
        },
        {
         "name": "Love Bug, The (1969)",
         "rawType": "float64",
         "type": "float"
        },
        {
         "name": "Love Is All There Is (1996)",
         "rawType": "float64",
         "type": "float"
        },
        {
         "name": "Love Jones (1997)",
         "rawType": "float64",
         "type": "float"
        },
        {
         "name": "Love Serenade (1996)",
         "rawType": "float64",
         "type": "float"
        },
        {
         "name": "Love and Death on Long Island (1997)",
         "rawType": "float64",
         "type": "float"
        },
        {
         "name": "Love and Other Catastrophes (1996)",
         "rawType": "float64",
         "type": "float"
        },
        {
         "name": "Love and a .45 (1994)",
         "rawType": "float64",
         "type": "float"
        },
        {
         "name": "Love in the Afternoon (1957)",
         "rawType": "float64",
         "type": "float"
        },
        {
         "name": "Love! Valour! Compassion! (1997)",
         "rawType": "float64",
         "type": "float"
        },
        {
         "name": "Lover's Knot (1996)",
         "rawType": "float64",
         "type": "float"
        },
        {
         "name": "Low Down Dirty Shame, A (1994)",
         "rawType": "float64",
         "type": "float"
        },
        {
         "name": "Low Life, The (1994)",
         "rawType": "float64",
         "type": "float"
        },
        {
         "name": "M (1931)",
         "rawType": "float64",
         "type": "float"
        },
        {
         "name": "M*A*S*H (1970)",
         "rawType": "float64",
         "type": "float"
        },
        {
         "name": "M. Butterfly (1993)",
         "rawType": "float64",
         "type": "float"
        },
        {
         "name": "MURDER and murder (1996)",
         "rawType": "float64",
         "type": "float"
        },
        {
         "name": "Ma vie en rose (My Life in Pink) (1997)",
         "rawType": "float64",
         "type": "float"
        },
        {
         "name": "Machine, The (1994)",
         "rawType": "float64",
         "type": "float"
        },
        {
         "name": "Mad City (1997)",
         "rawType": "float64",
         "type": "float"
        },
        {
         "name": "Mad Dog Time (1996)",
         "rawType": "float64",
         "type": "float"
        },
        {
         "name": "Mad Love (1995)",
         "rawType": "float64",
         "type": "float"
        },
        {
         "name": "Madame Butterfly (1995)",
         "rawType": "float64",
         "type": "float"
        },
        {
         "name": "Made in America (1993)",
         "rawType": "float64",
         "type": "float"
        },
        {
         "name": "Madness of King George, The (1994)",
         "rawType": "float64",
         "type": "float"
        },
        {
         "name": "Madonna: Truth or Dare (1991)",
         "rawType": "float64",
         "type": "float"
        },
        {
         "name": "Magic Hour, The (1998)",
         "rawType": "float64",
         "type": "float"
        },
        {
         "name": "Magnificent Seven, The (1954)",
         "rawType": "float64",
         "type": "float"
        },
        {
         "name": "Major Payne (1994)",
         "rawType": "float64",
         "type": "float"
        },
        {
         "name": "Malice (1993)",
         "rawType": "float64",
         "type": "float"
        },
        {
         "name": "Mallrats (1995)",
         "rawType": "float64",
         "type": "float"
        },
        {
         "name": "Maltese Falcon, The (1941)",
         "rawType": "float64",
         "type": "float"
        },
        {
         "name": "Mamma Roma (1962)",
         "rawType": "float64",
         "type": "float"
        },
        {
         "name": "Man Who Knew Too Little, The (1997)",
         "rawType": "float64",
         "type": "float"
        },
        {
         "name": "Man Who Would Be King, The (1975)",
         "rawType": "float64",
         "type": "float"
        },
        {
         "name": "Man Without a Face, The (1993)",
         "rawType": "float64",
         "type": "float"
        },
        {
         "name": "Man from Down Under, The (1943)",
         "rawType": "float64",
         "type": "float"
        },
        {
         "name": "Man in the Iron Mask, The (1998)",
         "rawType": "float64",
         "type": "float"
        },
        {
         "name": "Man of No Importance, A (1994)",
         "rawType": "float64",
         "type": "float"
        },
        {
         "name": "Man of the House (1995)",
         "rawType": "float64",
         "type": "float"
        },
        {
         "name": "Man of the Year (1995)",
         "rawType": "float64",
         "type": "float"
        },
        {
         "name": "Manchurian Candidate, The (1962)",
         "rawType": "float64",
         "type": "float"
        },
        {
         "name": "Manhattan (1979)",
         "rawType": "float64",
         "type": "float"
        },
        {
         "name": "Manhattan Murder Mystery (1993)",
         "rawType": "float64",
         "type": "float"
        },
        {
         "name": "Manny & Lo (1996)",
         "rawType": "float64",
         "type": "float"
        },
        {
         "name": "Manon of the Spring (Manon des sources) (1986)",
         "rawType": "float64",
         "type": "float"
        },
        {
         "name": "Margaret's Museum (1995)",
         "rawType": "float64",
         "type": "float"
        },
        {
         "name": "Mark of Zorro, The (1940)",
         "rawType": "float64",
         "type": "float"
        },
        {
         "name": "Marked for Death (1990)",
         "rawType": "float64",
         "type": "float"
        },
        {
         "name": "Marlene Dietrich: Shadow and Light (1996) ",
         "rawType": "float64",
         "type": "float"
        },
        {
         "name": "Mars Attacks! (1996)",
         "rawType": "float64",
         "type": "float"
        },
        {
         "name": "Marvin's Room (1996)",
         "rawType": "float64",
         "type": "float"
        },
        {
         "name": "Mary Poppins (1964)",
         "rawType": "float64",
         "type": "float"
        },
        {
         "name": "Mary Reilly (1996)",
         "rawType": "float64",
         "type": "float"
        },
        {
         "name": "Mary Shelley's Frankenstein (1994)",
         "rawType": "float64",
         "type": "float"
        },
        {
         "name": "Mask, The (1994)",
         "rawType": "float64",
         "type": "float"
        },
        {
         "name": "Mat' i syn (1997)",
         "rawType": "float64",
         "type": "float"
        },
        {
         "name": "MatchMaker, The (1997)",
         "rawType": "float64",
         "type": "float"
        },
        {
         "name": "Matilda (1996)",
         "rawType": "float64",
         "type": "float"
        },
        {
         "name": "Maverick (1994)",
         "rawType": "float64",
         "type": "float"
        },
        {
         "name": "Maximum Risk (1996)",
         "rawType": "float64",
         "type": "float"
        },
        {
         "name": "Maya Lin: A Strong Clear Vision (1994)",
         "rawType": "float64",
         "type": "float"
        },
        {
         "name": "Maybe, Maybe Not (Bewegte Mann, Der) (1994)",
         "rawType": "float64",
         "type": "float"
        },
        {
         "name": "McHale's Navy (1997)",
         "rawType": "float64",
         "type": "float"
        },
        {
         "name": "Mediterraneo (1991)",
         "rawType": "float64",
         "type": "float"
        },
        {
         "name": "Meet John Doe (1941)",
         "rawType": "float64",
         "type": "float"
        },
        {
         "name": "Meet Me in St. Louis (1944)",
         "rawType": "float64",
         "type": "float"
        },
        {
         "name": "Meet Wally Sparks (1997)",
         "rawType": "float64",
         "type": "float"
        },
        {
         "name": "Men With Guns (1997)",
         "rawType": "float64",
         "type": "float"
        },
        {
         "name": "Men in Black (1997)",
         "rawType": "float64",
         "type": "float"
        },
        {
         "name": "Men of Means (1998)",
         "rawType": "float64",
         "type": "float"
        },
        {
         "name": "Menace II Society (1993)",
         "rawType": "float64",
         "type": "float"
        },
        {
         "name": "Mercury Rising (1998)",
         "rawType": "float64",
         "type": "float"
        },
        {
         "name": "Metisse (Café au Lait) (1993)",
         "rawType": "float64",
         "type": "float"
        },
        {
         "name": "Metro (1997)",
         "rawType": "float64",
         "type": "float"
        },
        {
         "name": "Miami Rhapsody (1995)",
         "rawType": "float64",
         "type": "float"
        },
        {
         "name": "Michael (1996)",
         "rawType": "float64",
         "type": "float"
        },
        {
         "name": "Michael Collins (1996)",
         "rawType": "float64",
         "type": "float"
        },
        {
         "name": "Microcosmos: Le peuple de l'herbe (1996)",
         "rawType": "float64",
         "type": "float"
        },
        {
         "name": "Midnight Dancers (Sibak) (1994)",
         "rawType": "float64",
         "type": "float"
        },
        {
         "name": "Midnight in the Garden of Good and Evil (1997)",
         "rawType": "float64",
         "type": "float"
        },
        {
         "name": "Mighty Aphrodite (1995)",
         "rawType": "float64",
         "type": "float"
        },
        {
         "name": "Mighty Morphin Power Rangers: The Movie (1995)",
         "rawType": "float64",
         "type": "float"
        },
        {
         "name": "Mighty, The (1998)",
         "rawType": "float64",
         "type": "float"
        },
        {
         "name": "Milk Money (1994)",
         "rawType": "float64",
         "type": "float"
        },
        {
         "name": "Mille bolle blu (1993)",
         "rawType": "float64",
         "type": "float"
        },
        {
         "name": "Miller's Crossing (1990)",
         "rawType": "float64",
         "type": "float"
        },
        {
         "name": "Mimic (1997)",
         "rawType": "float64",
         "type": "float"
        },
        {
         "name": "Mina Tannenbaum (1994)",
         "rawType": "float64",
         "type": "float"
        },
        {
         "name": "Miracle on 34th Street (1994)",
         "rawType": "float64",
         "type": "float"
        },
        {
         "name": "Mirage (1995)",
         "rawType": "float64",
         "type": "float"
        },
        {
         "name": "Mirror Has Two Faces, The (1996)",
         "rawType": "float64",
         "type": "float"
        },
        {
         "name": "Mission: Impossible (1996)",
         "rawType": "float64",
         "type": "float"
        },
        {
         "name": "Misérables, Les (1995)",
         "rawType": "float64",
         "type": "float"
        },
        {
         "name": "Mixed Nuts (1994)",
         "rawType": "float64",
         "type": "float"
        },
        {
         "name": "Modern Affair, A (1995)",
         "rawType": "float64",
         "type": "float"
        },
        {
         "name": "Moll Flanders (1996)",
         "rawType": "float64",
         "type": "float"
        },
        {
         "name": "Mondo (1996)",
         "rawType": "float64",
         "type": "float"
        },
        {
         "name": "Money Talks (1997)",
         "rawType": "float64",
         "type": "float"
        },
        {
         "name": "Money Train (1995)",
         "rawType": "float64",
         "type": "float"
        },
        {
         "name": "Month by the Lake, A (1995)",
         "rawType": "float64",
         "type": "float"
        },
        {
         "name": "Monty Python and the Holy Grail (1974)",
         "rawType": "float64",
         "type": "float"
        },
        {
         "name": "Monty Python's Life of Brian (1979)",
         "rawType": "float64",
         "type": "float"
        },
        {
         "name": "Moonlight and Valentino (1995)",
         "rawType": "float64",
         "type": "float"
        },
        {
         "name": "Mortal Kombat (1995)",
         "rawType": "float64",
         "type": "float"
        },
        {
         "name": "Mortal Kombat: Annihilation (1997)",
         "rawType": "float64",
         "type": "float"
        },
        {
         "name": "Mostro, Il (1994)",
         "rawType": "float64",
         "type": "float"
        },
        {
         "name": "Mother (1996)",
         "rawType": "float64",
         "type": "float"
        },
        {
         "name": "Mother Night (1996)",
         "rawType": "float64",
         "type": "float"
        },
        {
         "name": "Mouse Hunt (1997)",
         "rawType": "float64",
         "type": "float"
        },
        {
         "name": "Mr. Holland's Opus (1995)",
         "rawType": "float64",
         "type": "float"
        },
        {
         "name": "Mr. Jones (1993)",
         "rawType": "float64",
         "type": "float"
        },
        {
         "name": "Mr. Magoo (1997)",
         "rawType": "float64",
         "type": "float"
        },
        {
         "name": "Mr. Smith Goes to Washington (1939)",
         "rawType": "float64",
         "type": "float"
        },
        {
         "name": "Mr. Wonderful (1993)",
         "rawType": "float64",
         "type": "float"
        },
        {
         "name": "Mr. Wrong (1996)",
         "rawType": "float64",
         "type": "float"
        },
        {
         "name": "Mrs. Brown (Her Majesty, Mrs. Brown) (1997)",
         "rawType": "float64",
         "type": "float"
        },
        {
         "name": "Mrs. Dalloway (1997)",
         "rawType": "float64",
         "type": "float"
        },
        {
         "name": "Mrs. Doubtfire (1993)",
         "rawType": "float64",
         "type": "float"
        },
        {
         "name": "Mrs. Parker and the Vicious Circle (1994)",
         "rawType": "float64",
         "type": "float"
        },
        {
         "name": "Mrs. Winterbourne (1996)",
         "rawType": "float64",
         "type": "float"
        },
        {
         "name": "Much Ado About Nothing (1993)",
         "rawType": "float64",
         "type": "float"
        },
        {
         "name": "Mulholland Falls (1996)",
         "rawType": "float64",
         "type": "float"
        },
        {
         "name": "Multiplicity (1996)",
         "rawType": "float64",
         "type": "float"
        },
        {
         "name": "Muppet Treasure Island (1996)",
         "rawType": "float64",
         "type": "float"
        },
        {
         "name": "Murder at 1600 (1997)",
         "rawType": "float64",
         "type": "float"
        },
        {
         "name": "Murder in the First (1995)",
         "rawType": "float64",
         "type": "float"
        },
        {
         "name": "Murder, My Sweet (1944)",
         "rawType": "float64",
         "type": "float"
        },
        {
         "name": "Muriel's Wedding (1994)",
         "rawType": "float64",
         "type": "float"
        },
        {
         "name": "Mute Witness (1994)",
         "rawType": "float64",
         "type": "float"
        },
        {
         "name": "My Best Friend's Wedding (1997)",
         "rawType": "float64",
         "type": "float"
        },
        {
         "name": "My Crazy Life (Mi vida loca) (1993)",
         "rawType": "float64",
         "type": "float"
        },
        {
         "name": "My Fair Lady (1964)",
         "rawType": "float64",
         "type": "float"
        },
        {
         "name": "My Family (1995)",
         "rawType": "float64",
         "type": "float"
        },
        {
         "name": "My Favorite Season (1993)",
         "rawType": "float64",
         "type": "float"
        },
        {
         "name": "My Favorite Year (1982)",
         "rawType": "float64",
         "type": "float"
        },
        {
         "name": "My Fellow Americans (1996)",
         "rawType": "float64",
         "type": "float"
        },
        {
         "name": "My Left Foot (1989)",
         "rawType": "float64",
         "type": "float"
        },
        {
         "name": "My Life and Times With Antonin Artaud (En compagnie d'Antonin Artaud) (1993)",
         "rawType": "float64",
         "type": "float"
        },
        {
         "name": "My Life as a Dog (Mitt liv som hund) (1985)",
         "rawType": "float64",
         "type": "float"
        },
        {
         "name": "My Man Godfrey (1936)",
         "rawType": "float64",
         "type": "float"
        },
        {
         "name": "My Own Private Idaho (1991)",
         "rawType": "float64",
         "type": "float"
        },
        {
         "name": "Mystery Science Theater 3000: The Movie (1996)",
         "rawType": "float64",
         "type": "float"
        },
        {
         "name": "Nadja (1994)",
         "rawType": "float64",
         "type": "float"
        },
        {
         "name": "Naked (1993)",
         "rawType": "float64",
         "type": "float"
        },
        {
         "name": "Naked Gun 33 1/3: The Final Insult (1994)",
         "rawType": "float64",
         "type": "float"
        },
        {
         "name": "Naked in New York (1994)",
         "rawType": "float64",
         "type": "float"
        },
        {
         "name": "National Lampoon's Senior Trip (1995)",
         "rawType": "float64",
         "type": "float"
        },
        {
         "name": "Natural Born Killers (1994)",
         "rawType": "float64",
         "type": "float"
        },
        {
         "name": "Nell (1994)",
         "rawType": "float64",
         "type": "float"
        },
        {
         "name": "Nelly & Monsieur Arnaud (1995)",
         "rawType": "float64",
         "type": "float"
        },
        {
         "name": "Nemesis 2: Nebula (1995)",
         "rawType": "float64",
         "type": "float"
        },
        {
         "name": "Neon Bible, The (1995)",
         "rawType": "float64",
         "type": "float"
        },
        {
         "name": "Net, The (1995)",
         "rawType": "float64",
         "type": "float"
        },
        {
         "name": "NeverEnding Story III, The (1994)",
         "rawType": "float64",
         "type": "float"
        },
        {
         "name": "New Age, The (1994)",
         "rawType": "float64",
         "type": "float"
        },
        {
         "name": "New Jersey Drive (1995)",
         "rawType": "float64",
         "type": "float"
        },
        {
         "name": "New York Cop (1996)",
         "rawType": "float64",
         "type": "float"
        },
        {
         "name": "Newton Boys, The (1998)",
         "rawType": "float64",
         "type": "float"
        },
        {
         "name": "Next Karate Kid, The (1994)",
         "rawType": "float64",
         "type": "float"
        },
        {
         "name": "Next Step, The (1995)",
         "rawType": "float64",
         "type": "float"
        },
        {
         "name": "Niagara, Niagara (1997)",
         "rawType": "float64",
         "type": "float"
        },
        {
         "name": "Nick of Time (1995)",
         "rawType": "float64",
         "type": "float"
        },
        {
         "name": "Nico Icon (1995)",
         "rawType": "float64",
         "type": "float"
        },
        {
         "name": "Night Falls on Manhattan (1997)",
         "rawType": "float64",
         "type": "float"
        },
        {
         "name": "Night Flier (1997)",
         "rawType": "float64",
         "type": "float"
        },
        {
         "name": "Night of the Living Dead (1968)",
         "rawType": "float64",
         "type": "float"
        },
        {
         "name": "Night on Earth (1991)",
         "rawType": "float64",
         "type": "float"
        },
        {
         "name": "Nightmare Before Christmas, The (1993)",
         "rawType": "float64",
         "type": "float"
        },
        {
         "name": "Nightmare on Elm Street, A (1984)",
         "rawType": "float64",
         "type": "float"
        },
        {
         "name": "Nightwatch (1997)",
         "rawType": "float64",
         "type": "float"
        },
        {
         "name": "Nikita (La Femme Nikita) (1990)",
         "rawType": "float64",
         "type": "float"
        },
        {
         "name": "Nil By Mouth (1997)",
         "rawType": "float64",
         "type": "float"
        },
        {
         "name": "Nina Takes a Lover (1994)",
         "rawType": "float64",
         "type": "float"
        },
        {
         "name": "Nine Months (1995)",
         "rawType": "float64",
         "type": "float"
        },
        {
         "name": "Ninotchka (1939)",
         "rawType": "float64",
         "type": "float"
        },
        {
         "name": "Nixon (1995)",
         "rawType": "float64",
         "type": "float"
        },
        {
         "name": "No Escape (1994)",
         "rawType": "float64",
         "type": "float"
        },
        {
         "name": "Nobody Loves Me (Keiner liebt mich) (1994)",
         "rawType": "float64",
         "type": "float"
        },
        {
         "name": "Nobody's Fool (1994)",
         "rawType": "float64",
         "type": "float"
        },
        {
         "name": "Normal Life (1996)",
         "rawType": "float64",
         "type": "float"
        },
        {
         "name": "North (1994)",
         "rawType": "float64",
         "type": "float"
        },
        {
         "name": "North by Northwest (1959)",
         "rawType": "float64",
         "type": "float"
        },
        {
         "name": "Nosferatu (Nosferatu, eine Symphonie des Grauens) (1922)",
         "rawType": "float64",
         "type": "float"
        },
        {
         "name": "Nosferatu a Venezia (1986)",
         "rawType": "float64",
         "type": "float"
        },
        {
         "name": "Nothing Personal (1995)",
         "rawType": "float64",
         "type": "float"
        },
        {
         "name": "Nothing to Lose (1994)",
         "rawType": "float64",
         "type": "float"
        },
        {
         "name": "Notorious (1946)",
         "rawType": "float64",
         "type": "float"
        },
        {
         "name": "Now and Then (1995)",
         "rawType": "float64",
         "type": "float"
        },
        {
         "name": "Nowhere (1997)",
         "rawType": "float64",
         "type": "float"
        },
        {
         "name": "Nutty Professor, The (1996)",
         "rawType": "float64",
         "type": "float"
        },
        {
         "name": "Nénette et Boni (1996)",
         "rawType": "float64",
         "type": "float"
        },
        {
         "name": "Object of My Affection, The (1998)",
         "rawType": "float64",
         "type": "float"
        },
        {
         "name": "Of Human Bondage (1934)",
         "rawType": "float64",
         "type": "float"
        },
        {
         "name": "Of Love and Shadows (1994)",
         "rawType": "float64",
         "type": "float"
        },
        {
         "name": "Office Killer (1997)",
         "rawType": "float64",
         "type": "float"
        },
        {
         "name": "Old Lady Who Walked in the Sea, The (Vieille qui marchait dans la mer, La) (1991)",
         "rawType": "float64",
         "type": "float"
        },
        {
         "name": "Old Man and the Sea, The (1958)",
         "rawType": "float64",
         "type": "float"
        },
        {
         "name": "Old Yeller (1957)",
         "rawType": "float64",
         "type": "float"
        },
        {
         "name": "Oliver & Company (1988)",
         "rawType": "float64",
         "type": "float"
        },
        {
         "name": "Omen, The (1976)",
         "rawType": "float64",
         "type": "float"
        },
        {
         "name": "On Golden Pond (1981)",
         "rawType": "float64",
         "type": "float"
        },
        {
         "name": "Once Upon a Time in America (1984)",
         "rawType": "float64",
         "type": "float"
        },
        {
         "name": "Once Upon a Time in the West (1969)",
         "rawType": "float64",
         "type": "float"
        },
        {
         "name": "Once Upon a Time... When We Were Colored (1995)",
         "rawType": "float64",
         "type": "float"
        },
        {
         "name": "Once Were Warriors (1994)",
         "rawType": "float64",
         "type": "float"
        },
        {
         "name": "One Fine Day (1996)",
         "rawType": "float64",
         "type": "float"
        },
        {
         "name": "One Flew Over the Cuckoo's Nest (1975)",
         "rawType": "float64",
         "type": "float"
        },
        {
         "name": "One Night Stand (1997)",
         "rawType": "float64",
         "type": "float"
        },
        {
         "name": "Only You (1994)",
         "rawType": "float64",
         "type": "float"
        },
        {
         "name": "Open Season (1996)",
         "rawType": "float64",
         "type": "float"
        },
        {
         "name": "Operation Dumbo Drop (1995)",
         "rawType": "float64",
         "type": "float"
        },
        {
         "name": "Original Gangstas (1996)",
         "rawType": "float64",
         "type": "float"
        },
        {
         "name": "Orlando (1993)",
         "rawType": "float64",
         "type": "float"
        },
        {
         "name": "Oscar & Lucinda (1997)",
         "rawType": "float64",
         "type": "float"
        },
        {
         "name": "Othello (1995)",
         "rawType": "float64",
         "type": "float"
        },
        {
         "name": "Other Voices, Other Rooms (1997)",
         "rawType": "float64",
         "type": "float"
        },
        {
         "name": "Out to Sea (1997)",
         "rawType": "float64",
         "type": "float"
        },
        {
         "name": "Outbreak (1995)",
         "rawType": "float64",
         "type": "float"
        },
        {
         "name": "Outlaw, The (1943)",
         "rawType": "float64",
         "type": "float"
        },
        {
         "name": "Pagemaster, The (1994)",
         "rawType": "float64",
         "type": "float"
        },
        {
         "name": "Pallbearer, The (1996)",
         "rawType": "float64",
         "type": "float"
        },
        {
         "name": "Palmetto (1998)",
         "rawType": "float64",
         "type": "float"
        },
        {
         "name": "Palookaville (1996)",
         "rawType": "float64",
         "type": "float"
        },
        {
         "name": "Panther (1995)",
         "rawType": "float64",
         "type": "float"
        },
        {
         "name": "Paper, The (1994)",
         "rawType": "float64",
         "type": "float"
        },
        {
         "name": "Paradise Lost: The Child Murders at Robin Hood Hills (1996)",
         "rawType": "float64",
         "type": "float"
        },
        {
         "name": "Paradise Road (1997)",
         "rawType": "float64",
         "type": "float"
        },
        {
         "name": "Parent Trap, The (1961)",
         "rawType": "float64",
         "type": "float"
        },
        {
         "name": "Paris Is Burning (1990)",
         "rawType": "float64",
         "type": "float"
        },
        {
         "name": "Paris Was a Woman (1995)",
         "rawType": "float64",
         "type": "float"
        },
        {
         "name": "Paris, France (1993)",
         "rawType": "float64",
         "type": "float"
        },
        {
         "name": "Paris, Texas (1984)",
         "rawType": "float64",
         "type": "float"
        },
        {
         "name": "Party Girl (1995)",
         "rawType": "float64",
         "type": "float"
        },
        {
         "name": "Passion Fish (1992)",
         "rawType": "float64",
         "type": "float"
        },
        {
         "name": "Pather Panchali (1955)",
         "rawType": "float64",
         "type": "float"
        },
        {
         "name": "Paths of Glory (1957)",
         "rawType": "float64",
         "type": "float"
        },
        {
         "name": "Patton (1970)",
         "rawType": "float64",
         "type": "float"
        },
        {
         "name": "Peacemaker, The (1997)",
         "rawType": "float64",
         "type": "float"
        },
        {
         "name": "Penny Serenade (1941)",
         "rawType": "float64",
         "type": "float"
        },
        {
         "name": "People vs. Larry Flynt, The (1996)",
         "rawType": "float64",
         "type": "float"
        },
        {
         "name": "Perez Family, The (1995)",
         "rawType": "float64",
         "type": "float"
        },
        {
         "name": "Perfect Candidate, A (1996)",
         "rawType": "float64",
         "type": "float"
        },
        {
         "name": "Perfect World, A (1993)",
         "rawType": "float64",
         "type": "float"
        },
        {
         "name": "Persuasion (1995)",
         "rawType": "float64",
         "type": "float"
        },
        {
         "name": "Pest, The (1997)",
         "rawType": "float64",
         "type": "float"
        },
        {
         "name": "Pete's Dragon (1977)",
         "rawType": "float64",
         "type": "float"
        },
        {
         "name": "Phantom, The (1996)",
         "rawType": "float64",
         "type": "float"
        },
        {
         "name": "Phantoms (1998)",
         "rawType": "float64",
         "type": "float"
        },
        {
         "name": "Pharaoh's Army (1995)",
         "rawType": "float64",
         "type": "float"
        },
        {
         "name": "Phat Beach (1996)",
         "rawType": "float64",
         "type": "float"
        },
        {
         "name": "Phenomenon (1996)",
         "rawType": "float64",
         "type": "float"
        },
        {
         "name": "Philadelphia (1993)",
         "rawType": "float64",
         "type": "float"
        },
        {
         "name": "Philadelphia Story, The (1940)",
         "rawType": "float64",
         "type": "float"
        },
        {
         "name": "Piano, The (1993)",
         "rawType": "float64",
         "type": "float"
        },
        {
         "name": "Picnic (1955)",
         "rawType": "float64",
         "type": "float"
        },
        {
         "name": "Picture Bride (1995)",
         "rawType": "float64",
         "type": "float"
        },
        {
         "name": "Picture Perfect (1997)",
         "rawType": "float64",
         "type": "float"
        },
        {
         "name": "Pie in the Sky (1995)",
         "rawType": "float64",
         "type": "float"
        },
        {
         "name": "Pillow Book, The (1995)",
         "rawType": "float64",
         "type": "float"
        },
        {
         "name": "Pink Floyd - The Wall (1982)",
         "rawType": "float64",
         "type": "float"
        },
        {
         "name": "Pinocchio (1940)",
         "rawType": "float64",
         "type": "float"
        },
        {
         "name": "Platoon (1986)",
         "rawType": "float64",
         "type": "float"
        },
        {
         "name": "Playing God (1997)",
         "rawType": "float64",
         "type": "float"
        },
        {
         "name": "Pocahontas (1995)",
         "rawType": "float64",
         "type": "float"
        },
        {
         "name": "Poetic Justice (1993)",
         "rawType": "float64",
         "type": "float"
        },
        {
         "name": "Poison Ivy II (1995)",
         "rawType": "float64",
         "type": "float"
        },
        {
         "name": "Police Story 4: Project S (Chao ji ji hua) (1993)",
         "rawType": "float64",
         "type": "float"
        },
        {
         "name": "Pollyanna (1960)",
         "rawType": "float64",
         "type": "float"
        },
        {
         "name": "Pompatus of Love, The (1996)",
         "rawType": "float64",
         "type": "float"
        },
        {
         "name": "Ponette (1996)",
         "rawType": "float64",
         "type": "float"
        },
        {
         "name": "Portrait of a Lady, The (1996)",
         "rawType": "float64",
         "type": "float"
        },
        {
         "name": "Postino, Il (1994)",
         "rawType": "float64",
         "type": "float"
        },
        {
         "name": "Postman, The (1997)",
         "rawType": "float64",
         "type": "float"
        },
        {
         "name": "Powder (1995)",
         "rawType": "float64",
         "type": "float"
        },
        {
         "name": "Power 98 (1995)",
         "rawType": "float64",
         "type": "float"
        },
        {
         "name": "Preacher's Wife, The (1996)",
         "rawType": "float64",
         "type": "float"
        },
        {
         "name": "Prefontaine (1997)",
         "rawType": "float64",
         "type": "float"
        },
        {
         "name": "Pretty Woman (1990)",
         "rawType": "float64",
         "type": "float"
        },
        {
         "name": "Price Above Rubies, A (1998)",
         "rawType": "float64",
         "type": "float"
        },
        {
         "name": "Priest (1994)",
         "rawType": "float64",
         "type": "float"
        },
        {
         "name": "Primal Fear (1996)",
         "rawType": "float64",
         "type": "float"
        },
        {
         "name": "Primary Colors (1998)",
         "rawType": "float64",
         "type": "float"
        },
        {
         "name": "Princess Bride, The (1987)",
         "rawType": "float64",
         "type": "float"
        },
        {
         "name": "Princess Caraboo (1994)",
         "rawType": "float64",
         "type": "float"
        },
        {
         "name": "Prisoner of the Mountains (Kavkazsky Plennik) (1996)",
         "rawType": "float64",
         "type": "float"
        },
        {
         "name": "Private Benjamin (1980)",
         "rawType": "float64",
         "type": "float"
        },
        {
         "name": "Private Parts (1997)",
         "rawType": "float64",
         "type": "float"
        },
        {
         "name": "Professional, The (1994)",
         "rawType": "float64",
         "type": "float"
        },
        {
         "name": "Program, The (1993)",
         "rawType": "float64",
         "type": "float"
        },
        {
         "name": "Promesse, La (1996)",
         "rawType": "float64",
         "type": "float"
        },
        {
         "name": "Promise, The (Versprechen, Das) (1994)",
         "rawType": "float64",
         "type": "float"
        },
        {
         "name": "Prophecy II, The (1998)",
         "rawType": "float64",
         "type": "float"
        },
        {
         "name": "Prophecy, The (1995)",
         "rawType": "float64",
         "type": "float"
        },
        {
         "name": "Psycho (1960)",
         "rawType": "float64",
         "type": "float"
        },
        {
         "name": "Pulp Fiction (1994)",
         "rawType": "float64",
         "type": "float"
        },
        {
         "name": "Pump Up the Volume (1990)",
         "rawType": "float64",
         "type": "float"
        },
        {
         "name": "Purple Noon (1960)",
         "rawType": "float64",
         "type": "float"
        },
        {
         "name": "Pushing Hands (1992)",
         "rawType": "float64",
         "type": "float"
        },
        {
         "name": "Pyromaniac's Love Story, A (1995)",
         "rawType": "float64",
         "type": "float"
        },
        {
         "name": "Quartier Mozart (1992)",
         "rawType": "float64",
         "type": "float"
        },
        {
         "name": "Queen Margot (Reine Margot, La) (1994)",
         "rawType": "float64",
         "type": "float"
        },
        {
         "name": "Quest, The (1996)",
         "rawType": "float64",
         "type": "float"
        },
        {
         "name": "Quick and the Dead, The (1995)",
         "rawType": "float64",
         "type": "float"
        },
        {
         "name": "Quiet Man, The (1952)",
         "rawType": "float64",
         "type": "float"
        },
        {
         "name": "Quiet Room, The (1996)",
         "rawType": "float64",
         "type": "float"
        },
        {
         "name": "Quiz Show (1994)",
         "rawType": "float64",
         "type": "float"
        },
        {
         "name": "Race the Sun (1996)",
         "rawType": "float64",
         "type": "float"
        },
        {
         "name": "Radioland Murders (1994)",
         "rawType": "float64",
         "type": "float"
        },
        {
         "name": "Raging Bull (1980)",
         "rawType": "float64",
         "type": "float"
        },
        {
         "name": "Raiders of the Lost Ark (1981)",
         "rawType": "float64",
         "type": "float"
        },
        {
         "name": "Rainmaker, The (1997)",
         "rawType": "float64",
         "type": "float"
        },
        {
         "name": "Raise the Red Lantern (1991)",
         "rawType": "float64",
         "type": "float"
        },
        {
         "name": "Raising Arizona (1987)",
         "rawType": "float64",
         "type": "float"
        },
        {
         "name": "Ran (1985)",
         "rawType": "float64",
         "type": "float"
        },
        {
         "name": "Ransom (1996)",
         "rawType": "float64",
         "type": "float"
        },
        {
         "name": "Raw Deal (1948)",
         "rawType": "float64",
         "type": "float"
        },
        {
         "name": "Ready to Wear (Pret-A-Porter) (1994)",
         "rawType": "float64",
         "type": "float"
        },
        {
         "name": "Real Genius (1985)",
         "rawType": "float64",
         "type": "float"
        },
        {
         "name": "Reality Bites (1994)",
         "rawType": "float64",
         "type": "float"
        },
        {
         "name": "Rear Window (1954)",
         "rawType": "float64",
         "type": "float"
        },
        {
         "name": "Rebecca (1940)",
         "rawType": "float64",
         "type": "float"
        },
        {
         "name": "Rebel Without a Cause (1955)",
         "rawType": "float64",
         "type": "float"
        },
        {
         "name": "Reckless (1995)",
         "rawType": "float64",
         "type": "float"
        },
        {
         "name": "Red Corner (1997)",
         "rawType": "float64",
         "type": "float"
        },
        {
         "name": "Red Firecracker, Green Firecracker (1994)",
         "rawType": "float64",
         "type": "float"
        },
        {
         "name": "Red Rock West (1992)",
         "rawType": "float64",
         "type": "float"
        },
        {
         "name": "Ref, The (1994)",
         "rawType": "float64",
         "type": "float"
        },
        {
         "name": "Relative Fear (1994)",
         "rawType": "float64",
         "type": "float"
        },
        {
         "name": "Relic, The (1997)",
         "rawType": "float64",
         "type": "float"
        },
        {
         "name": "Reluctant Debutante, The (1958)",
         "rawType": "float64",
         "type": "float"
        },
        {
         "name": "Remains of the Day, The (1993)",
         "rawType": "float64",
         "type": "float"
        },
        {
         "name": "Renaissance Man (1994)",
         "rawType": "float64",
         "type": "float"
        },
        {
         "name": "Rendezvous in Paris (Rendez-vous de Paris, Les) (1995)",
         "rawType": "float64",
         "type": "float"
        },
        {
         "name": "Rent-a-Kid (1995)",
         "rawType": "float64",
         "type": "float"
        },
        {
         "name": "Replacement Killers, The (1998)",
         "rawType": "float64",
         "type": "float"
        },
        {
         "name": "Reservoir Dogs (1992)",
         "rawType": "float64",
         "type": "float"
        },
        {
         "name": "Restoration (1995)",
         "rawType": "float64",
         "type": "float"
        },
        {
         "name": "Return of Martin Guerre, The (Retour de Martin Guerre, Le) (1982)",
         "rawType": "float64",
         "type": "float"
        },
        {
         "name": "Return of the Jedi (1983)",
         "rawType": "float64",
         "type": "float"
        },
        {
         "name": "Return of the Pink Panther, The (1974)",
         "rawType": "float64",
         "type": "float"
        },
        {
         "name": "Rhyme & Reason (1997)",
         "rawType": "float64",
         "type": "float"
        },
        {
         "name": "Rich Man's Wife, The (1996)",
         "rawType": "float64",
         "type": "float"
        },
        {
         "name": "Richard III (1995)",
         "rawType": "float64",
         "type": "float"
        },
        {
         "name": "Richie Rich (1994)",
         "rawType": "float64",
         "type": "float"
        },
        {
         "name": "Ridicule (1996)",
         "rawType": "float64",
         "type": "float"
        },
        {
         "name": "Right Stuff, The (1983)",
         "rawType": "float64",
         "type": "float"
        },
        {
         "name": "Ripe (1996)",
         "rawType": "float64",
         "type": "float"
        },
        {
         "name": "Rising Sun (1993)",
         "rawType": "float64",
         "type": "float"
        },
        {
         "name": "River Wild, The (1994)",
         "rawType": "float64",
         "type": "float"
        },
        {
         "name": "Road to Wellville, The (1994)",
         "rawType": "float64",
         "type": "float"
        },
        {
         "name": "Rob Roy (1995)",
         "rawType": "float64",
         "type": "float"
        },
        {
         "name": "Robert A. Heinlein's The Puppet Masters (1994)",
         "rawType": "float64",
         "type": "float"
        },
        {
         "name": "Robin Hood: Men in Tights (1993)",
         "rawType": "float64",
         "type": "float"
        },
        {
         "name": "Robin Hood: Prince of Thieves (1991)",
         "rawType": "float64",
         "type": "float"
        },
        {
         "name": "Robocop 3 (1993)",
         "rawType": "float64",
         "type": "float"
        },
        {
         "name": "Rock, The (1996)",
         "rawType": "float64",
         "type": "float"
        },
        {
         "name": "Rocket Man (1997)",
         "rawType": "float64",
         "type": "float"
        },
        {
         "name": "Roman Holiday (1953)",
         "rawType": "float64",
         "type": "float"
        },
        {
         "name": "Romeo Is Bleeding (1993)",
         "rawType": "float64",
         "type": "float"
        },
        {
         "name": "Romper Stomper (1992)",
         "rawType": "float64",
         "type": "float"
        },
        {
         "name": "Romy and Michele's High School Reunion (1997)",
         "rawType": "float64",
         "type": "float"
        },
        {
         "name": "Room with a View, A (1986)",
         "rawType": "float64",
         "type": "float"
        },
        {
         "name": "Roommates (1995)",
         "rawType": "float64",
         "type": "float"
        },
        {
         "name": "Roseanna's Grave (For Roseanna) (1997)",
         "rawType": "float64",
         "type": "float"
        },
        {
         "name": "Rosencrantz and Guildenstern Are Dead (1990)",
         "rawType": "float64",
         "type": "float"
        },
        {
         "name": "Rosewood (1997)",
         "rawType": "float64",
         "type": "float"
        },
        {
         "name": "Rough Magic (1995)",
         "rawType": "float64",
         "type": "float"
        },
        {
         "name": "Ruby in Paradise (1993)",
         "rawType": "float64",
         "type": "float"
        },
        {
         "name": "Rudy (1993)",
         "rawType": "float64",
         "type": "float"
        },
        {
         "name": "Ruling Class, The (1972)",
         "rawType": "float64",
         "type": "float"
        },
        {
         "name": "Rumble in the Bronx (1995)",
         "rawType": "float64",
         "type": "float"
        },
        {
         "name": "Run of the Country, The (1995)",
         "rawType": "float64",
         "type": "float"
        },
        {
         "name": "S.F.W. (1994)",
         "rawType": "float64",
         "type": "float"
        },
        {
         "name": "Sabrina (1954)",
         "rawType": "float64",
         "type": "float"
        },
        {
         "name": "Sabrina (1995)",
         "rawType": "float64",
         "type": "float"
        },
        {
         "name": "Safe (1995)",
         "rawType": "float64",
         "type": "float"
        },
        {
         "name": "Safe Passage (1994)",
         "rawType": "float64",
         "type": "float"
        },
        {
         "name": "Saint of Fort Washington, The (1993)",
         "rawType": "float64",
         "type": "float"
        },
        {
         "name": "Saint, The (1997)",
         "rawType": "float64",
         "type": "float"
        },
        {
         "name": "Salut cousin! (1996)",
         "rawType": "float64",
         "type": "float"
        },
        {
         "name": "Santa Clause, The (1994)",
         "rawType": "float64",
         "type": "float"
        },
        {
         "name": "Santa with Muscles (1996)",
         "rawType": "float64",
         "type": "float"
        },
        {
         "name": "Savage Nights (Nuits fauves, Les) (1992)",
         "rawType": "float64",
         "type": "float"
        },
        {
         "name": "Scarlet Letter, The (1926)",
         "rawType": "float64",
         "type": "float"
        },
        {
         "name": "Scarlet Letter, The (1995)",
         "rawType": "float64",
         "type": "float"
        },
        {
         "name": "Schindler's List (1993)",
         "rawType": "float64",
         "type": "float"
        },
        {
         "name": "Schizopolis (1996)",
         "rawType": "float64",
         "type": "float"
        },
        {
         "name": "Scout, The (1994)",
         "rawType": "float64",
         "type": "float"
        },
        {
         "name": "Scream (1996)",
         "rawType": "float64",
         "type": "float"
        },
        {
         "name": "Scream 2 (1997)",
         "rawType": "float64",
         "type": "float"
        },
        {
         "name": "Scream of Stone (Schrei aus Stein) (1991)",
         "rawType": "float64",
         "type": "float"
        },
        {
         "name": "Screamers (1995)",
         "rawType": "float64",
         "type": "float"
        },
        {
         "name": "Search for One-eye Jimmy, The (1996)",
         "rawType": "float64",
         "type": "float"
        },
        {
         "name": "Searching for Bobby Fischer (1993)",
         "rawType": "float64",
         "type": "float"
        },
        {
         "name": "Second Jungle Book: Mowgli & Baloo, The (1997)",
         "rawType": "float64",
         "type": "float"
        },
        {
         "name": "Secret Adventures of Tom Thumb, The (1993)",
         "rawType": "float64",
         "type": "float"
        },
        {
         "name": "Secret Agent, The (1996)",
         "rawType": "float64",
         "type": "float"
        },
        {
         "name": "Secret Garden, The (1993)",
         "rawType": "float64",
         "type": "float"
        },
        {
         "name": "Secret of Roan Inish, The (1994)",
         "rawType": "float64",
         "type": "float"
        },
        {
         "name": "Secrets & Lies (1996)",
         "rawType": "float64",
         "type": "float"
        },
        {
         "name": "Selena (1997)",
         "rawType": "float64",
         "type": "float"
        },
        {
         "name": "Sense and Sensibility (1995)",
         "rawType": "float64",
         "type": "float"
        },
        {
         "name": "Senseless (1998)",
         "rawType": "float64",
         "type": "float"
        },
        {
         "name": "Serial Mom (1994)",
         "rawType": "float64",
         "type": "float"
        },
        {
         "name": "Set It Off (1996)",
         "rawType": "float64",
         "type": "float"
        },
        {
         "name": "Seven (Se7en) (1995)",
         "rawType": "float64",
         "type": "float"
        },
        {
         "name": "Seven Years in Tibet (1997)",
         "rawType": "float64",
         "type": "float"
        },
        {
         "name": "Seventh Seal, The (Sjunde inseglet, Det) (1957)",
         "rawType": "float64",
         "type": "float"
        },
        {
         "name": "Sex, Lies, and Videotape (1989)",
         "rawType": "float64",
         "type": "float"
        },
        {
         "name": "Sexual Life of the Belgians, The (1994)",
         "rawType": "float64",
         "type": "float"
        },
        {
         "name": "Sgt. Bilko (1996)",
         "rawType": "float64",
         "type": "float"
        },
        {
         "name": "Shadow Conspiracy (1997)",
         "rawType": "float64",
         "type": "float"
        },
        {
         "name": "Shadow of Angels (Schatten der Engel) (1976)",
         "rawType": "float64",
         "type": "float"
        },
        {
         "name": "Shadow, The (1994)",
         "rawType": "float64",
         "type": "float"
        },
        {
         "name": "Shadowlands (1993)",
         "rawType": "float64",
         "type": "float"
        },
        {
         "name": "Shadows (Cienie) (1988)",
         "rawType": "float64",
         "type": "float"
        },
        {
         "name": "Shaggy Dog, The (1959)",
         "rawType": "float64",
         "type": "float"
        },
        {
         "name": "Shall We Dance? (1937)",
         "rawType": "float64",
         "type": "float"
        },
        {
         "name": "Shall We Dance? (1996)",
         "rawType": "float64",
         "type": "float"
        },
        {
         "name": "Shallow Grave (1994)",
         "rawType": "float64",
         "type": "float"
        },
        {
         "name": "Shanghai Triad (Yao a yao yao dao waipo qiao) (1995)",
         "rawType": "float64",
         "type": "float"
        },
        {
         "name": "Shawshank Redemption, The (1994)",
         "rawType": "float64",
         "type": "float"
        },
        {
         "name": "She's So Lovely (1997)",
         "rawType": "float64",
         "type": "float"
        },
        {
         "name": "She's the One (1996)",
         "rawType": "float64",
         "type": "float"
        },
        {
         "name": "Shiloh (1997)",
         "rawType": "float64",
         "type": "float"
        },
        {
         "name": "Shine (1996)",
         "rawType": "float64",
         "type": "float"
        },
        {
         "name": "Shining, The (1980)",
         "rawType": "float64",
         "type": "float"
        },
        {
         "name": "Shooter, The (1995)",
         "rawType": "float64",
         "type": "float"
        },
        {
         "name": "Shooting Fish (1997)",
         "rawType": "float64",
         "type": "float"
        },
        {
         "name": "Shopping (1994)",
         "rawType": "float64",
         "type": "float"
        },
        {
         "name": "Short Cuts (1993)",
         "rawType": "float64",
         "type": "float"
        },
        {
         "name": "Show, The (1995)",
         "rawType": "float64",
         "type": "float"
        },
        {
         "name": "Showgirls (1995)",
         "rawType": "float64",
         "type": "float"
        },
        {
         "name": "Silence of the Lambs, The (1991)",
         "rawType": "float64",
         "type": "float"
        },
        {
         "name": "Silence of the Palace, The (Saimt el Qusur) (1994)",
         "rawType": "float64",
         "type": "float"
        },
        {
         "name": "Simple Twist of Fate, A (1994)",
         "rawType": "float64",
         "type": "float"
        },
        {
         "name": "Simple Wish, A (1997)",
         "rawType": "float64",
         "type": "float"
        },
        {
         "name": "Singin' in the Rain (1952)",
         "rawType": "float64",
         "type": "float"
        },
        {
         "name": "Sirens (1994)",
         "rawType": "float64",
         "type": "float"
        },
        {
         "name": "Six Degrees of Separation (1993)",
         "rawType": "float64",
         "type": "float"
        },
        {
         "name": "Sixth Man, The (1997)",
         "rawType": "float64",
         "type": "float"
        },
        {
         "name": "Sleeper (1973)",
         "rawType": "float64",
         "type": "float"
        },
        {
         "name": "Sleepers (1996)",
         "rawType": "float64",
         "type": "float"
        },
        {
         "name": "Sleepless in Seattle (1993)",
         "rawType": "float64",
         "type": "float"
        },
        {
         "name": "Sleepover (1995)",
         "rawType": "float64",
         "type": "float"
        },
        {
         "name": "Sliding Doors (1998)",
         "rawType": "float64",
         "type": "float"
        },
        {
         "name": "Sling Blade (1996)",
         "rawType": "float64",
         "type": "float"
        },
        {
         "name": "Slingshot, The (1993)",
         "rawType": "float64",
         "type": "float"
        },
        {
         "name": "Sliver (1993)",
         "rawType": "float64",
         "type": "float"
        },
        {
         "name": "Small Faces (1995)",
         "rawType": "float64",
         "type": "float"
        },
        {
         "name": "Smile Like Yours, A (1997)",
         "rawType": "float64",
         "type": "float"
        },
        {
         "name": "Smilla's Sense of Snow (1997)",
         "rawType": "float64",
         "type": "float"
        },
        {
         "name": "Smoke (1995)",
         "rawType": "float64",
         "type": "float"
        },
        {
         "name": "Sneakers (1992)",
         "rawType": "float64",
         "type": "float"
        },
        {
         "name": "Snow White and the Seven Dwarfs (1937)",
         "rawType": "float64",
         "type": "float"
        },
        {
         "name": "So Dear to My Heart (1949)",
         "rawType": "float64",
         "type": "float"
        },
        {
         "name": "So I Married an Axe Murderer (1993)",
         "rawType": "float64",
         "type": "float"
        },
        {
         "name": "Solo (1996)",
         "rawType": "float64",
         "type": "float"
        },
        {
         "name": "Some Folks Call It a Sling Blade (1993)",
         "rawType": "float64",
         "type": "float"
        },
        {
         "name": "Some Kind of Wonderful (1987)",
         "rawType": "float64",
         "type": "float"
        },
        {
         "name": "Some Like It Hot (1959)",
         "rawType": "float64",
         "type": "float"
        },
        {
         "name": "Some Mother's Son (1996)",
         "rawType": "float64",
         "type": "float"
        },
        {
         "name": "Somebody to Love (1994)",
         "rawType": "float64",
         "type": "float"
        },
        {
         "name": "Someone Else's America (1995)",
         "rawType": "float64",
         "type": "float"
        },
        {
         "name": "Something to Talk About (1995)",
         "rawType": "float64",
         "type": "float"
        },
        {
         "name": "Somewhere in Time (1980)",
         "rawType": "float64",
         "type": "float"
        },
        {
         "name": "Son in Law (1993)",
         "rawType": "float64",
         "type": "float"
        },
        {
         "name": "Sophie's Choice (1982)",
         "rawType": "float64",
         "type": "float"
        },
        {
         "name": "Soul Food (1997)",
         "rawType": "float64",
         "type": "float"
        },
        {
         "name": "Sound of Music, The (1965)",
         "rawType": "float64",
         "type": "float"
        },
        {
         "name": "Space Jam (1996)",
         "rawType": "float64",
         "type": "float"
        },
        {
         "name": "Spanish Prisoner, The (1997)",
         "rawType": "float64",
         "type": "float"
        },
        {
         "name": "Spanking the Monkey (1994)",
         "rawType": "float64",
         "type": "float"
        },
        {
         "name": "Spawn (1997)",
         "rawType": "float64",
         "type": "float"
        },
        {
         "name": "Specialist, The (1994)",
         "rawType": "float64",
         "type": "float"
        },
        {
         "name": "Species (1995)",
         "rawType": "float64",
         "type": "float"
        },
        {
         "name": "Speechless (1994)",
         "rawType": "float64",
         "type": "float"
        },
        {
         "name": "Speed (1994)",
         "rawType": "float64",
         "type": "float"
        },
        {
         "name": "Speed 2: Cruise Control (1997)",
         "rawType": "float64",
         "type": "float"
        },
        {
         "name": "Spellbound (1945)",
         "rawType": "float64",
         "type": "float"
        },
        {
         "name": "Sphere (1998)",
         "rawType": "float64",
         "type": "float"
        },
        {
         "name": "Spice World (1997)",
         "rawType": "float64",
         "type": "float"
        },
        {
         "name": "Spirits of the Dead (Tre passi nel delirio) (1968)",
         "rawType": "float64",
         "type": "float"
        },
        {
         "name": "Spitfire Grill, The (1996)",
         "rawType": "float64",
         "type": "float"
        },
        {
         "name": "Sprung (1997)",
         "rawType": "float64",
         "type": "float"
        },
        {
         "name": "Spy Hard (1996)",
         "rawType": "float64",
         "type": "float"
        },
        {
         "name": "Squeeze (1996)",
         "rawType": "float64",
         "type": "float"
        },
        {
         "name": "Stag (1997)",
         "rawType": "float64",
         "type": "float"
        },
        {
         "name": "Stalingrad (1993)",
         "rawType": "float64",
         "type": "float"
        },
        {
         "name": "Stalker (1979)",
         "rawType": "float64",
         "type": "float"
        },
        {
         "name": "Stand by Me (1986)",
         "rawType": "float64",
         "type": "float"
        },
        {
         "name": "Star Kid (1997)",
         "rawType": "float64",
         "type": "float"
        },
        {
         "name": "Star Maker, The (Uomo delle stelle, L') (1995)",
         "rawType": "float64",
         "type": "float"
        },
        {
         "name": "Star Maps (1997)",
         "rawType": "float64",
         "type": "float"
        },
        {
         "name": "Star Trek III: The Search for Spock (1984)",
         "rawType": "float64",
         "type": "float"
        },
        {
         "name": "Star Trek IV: The Voyage Home (1986)",
         "rawType": "float64",
         "type": "float"
        },
        {
         "name": "Star Trek V: The Final Frontier (1989)",
         "rawType": "float64",
         "type": "float"
        },
        {
         "name": "Star Trek VI: The Undiscovered Country (1991)",
         "rawType": "float64",
         "type": "float"
        },
        {
         "name": "Star Trek: First Contact (1996)",
         "rawType": "float64",
         "type": "float"
        },
        {
         "name": "Star Trek: Generations (1994)",
         "rawType": "float64",
         "type": "float"
        },
        {
         "name": "Star Trek: The Motion Picture (1979)",
         "rawType": "float64",
         "type": "float"
        },
        {
         "name": "Star Trek: The Wrath of Khan (1982)",
         "rawType": "float64",
         "type": "float"
        },
        {
         "name": "Star Wars (1977)",
         "rawType": "float64",
         "type": "float"
        },
        {
         "name": "Stargate (1994)",
         "rawType": "float64",
         "type": "float"
        },
        {
         "name": "Stars Fell on Henrietta, The (1995)",
         "rawType": "float64",
         "type": "float"
        },
        {
         "name": "Starship Troopers (1997)",
         "rawType": "float64",
         "type": "float"
        },
        {
         "name": "Steal Big, Steal Little (1995)",
         "rawType": "float64",
         "type": "float"
        },
        {
         "name": "Stealing Beauty (1996)",
         "rawType": "float64",
         "type": "float"
        },
        {
         "name": "Steel (1997)",
         "rawType": "float64",
         "type": "float"
        },
        {
         "name": "Stefano Quantestorie (1993)",
         "rawType": "float64",
         "type": "float"
        },
        {
         "name": "Stephen King's The Langoliers (1995)",
         "rawType": "float64",
         "type": "float"
        },
        {
         "name": "Sting, The (1973)",
         "rawType": "float64",
         "type": "float"
        },
        {
         "name": "Stonewall (1995)",
         "rawType": "float64",
         "type": "float"
        },
        {
         "name": "Story of Xinghua, The (1993)",
         "rawType": "float64",
         "type": "float"
        },
        {
         "name": "Strange Days (1995)",
         "rawType": "float64",
         "type": "float"
        },
        {
         "name": "Stranger in the House (1997)",
         "rawType": "float64",
         "type": "float"
        },
        {
         "name": "Stranger, The (1994)",
         "rawType": "float64",
         "type": "float"
        },
        {
         "name": "Strawberry and Chocolate (Fresa y chocolate) (1993)",
         "rawType": "float64",
         "type": "float"
        },
        {
         "name": "Street Fighter (1994)",
         "rawType": "float64",
         "type": "float"
        },
        {
         "name": "Streetcar Named Desire, A (1951)",
         "rawType": "float64",
         "type": "float"
        },
        {
         "name": "Strictly Ballroom (1992)",
         "rawType": "float64",
         "type": "float"
        },
        {
         "name": "Striking Distance (1993)",
         "rawType": "float64",
         "type": "float"
        },
        {
         "name": "Stripes (1981)",
         "rawType": "float64",
         "type": "float"
        },
        {
         "name": "Striptease (1996)",
         "rawType": "float64",
         "type": "float"
        },
        {
         "name": "Stuart Saves His Family (1995)",
         "rawType": "float64",
         "type": "float"
        },
        {
         "name": "Stupids, The (1996)",
         "rawType": "float64",
         "type": "float"
        },
        {
         "name": "SubUrbia (1997)",
         "rawType": "float64",
         "type": "float"
        },
        {
         "name": "Substance of Fire, The (1996)",
         "rawType": "float64",
         "type": "float"
        },
        {
         "name": "Substitute, The (1996)",
         "rawType": "float64",
         "type": "float"
        },
        {
         "name": "Sudden Death (1995)",
         "rawType": "float64",
         "type": "float"
        },
        {
         "name": "Sudden Manhattan (1996)",
         "rawType": "float64",
         "type": "float"
        },
        {
         "name": "Sum of Us, The (1994)",
         "rawType": "float64",
         "type": "float"
        },
        {
         "name": "Sunchaser, The (1996)",
         "rawType": "float64",
         "type": "float"
        },
        {
         "name": "Sunset Blvd. (1950)",
         "rawType": "float64",
         "type": "float"
        },
        {
         "name": "Sunset Park (1996)",
         "rawType": "float64",
         "type": "float"
        },
        {
         "name": "Super Mario Bros. (1993)",
         "rawType": "float64",
         "type": "float"
        },
        {
         "name": "Supercop (1992)",
         "rawType": "float64",
         "type": "float"
        },
        {
         "name": "Surviving Picasso (1996)",
         "rawType": "float64",
         "type": "float"
        },
        {
         "name": "Surviving the Game (1994)",
         "rawType": "float64",
         "type": "float"
        },
        {
         "name": "Suture (1993)",
         "rawType": "float64",
         "type": "float"
        },
        {
         "name": "Swan Princess, The (1994)",
         "rawType": "float64",
         "type": "float"
        },
        {
         "name": "Sweet Hereafter, The (1997)",
         "rawType": "float64",
         "type": "float"
        },
        {
         "name": "Sweet Nothing (1995)",
         "rawType": "float64",
         "type": "float"
        },
        {
         "name": "Swept from the Sea (1997)",
         "rawType": "float64",
         "type": "float"
        },
        {
         "name": "Swimming with Sharks (1995)",
         "rawType": "float64",
         "type": "float"
        },
        {
         "name": "Swingers (1996)",
         "rawType": "float64",
         "type": "float"
        },
        {
         "name": "Swiss Family Robinson (1960)",
         "rawType": "float64",
         "type": "float"
        },
        {
         "name": "Switchback (1997)",
         "rawType": "float64",
         "type": "float"
        },
        {
         "name": "Switchblade Sisters (1975)",
         "rawType": "float64",
         "type": "float"
        },
        {
         "name": "Sword in the Stone, The (1963)",
         "rawType": "float64",
         "type": "float"
        },
        {
         "name": "Symphonie pastorale, La (1946)",
         "rawType": "float64",
         "type": "float"
        },
        {
         "name": "T-Men (1947)",
         "rawType": "float64",
         "type": "float"
        },
        {
         "name": "Tainted (1998)",
         "rawType": "float64",
         "type": "float"
        },
        {
         "name": "Tales From the Crypt Presents: Demon Knight (1995)",
         "rawType": "float64",
         "type": "float"
        },
        {
         "name": "Tales from the Crypt Presents: Bordello of Blood (1996)",
         "rawType": "float64",
         "type": "float"
        },
        {
         "name": "Tales from the Hood (1995)",
         "rawType": "float64",
         "type": "float"
        },
        {
         "name": "Talking About Sex (1994)",
         "rawType": "float64",
         "type": "float"
        },
        {
         "name": "Tango Lesson, The (1997)",
         "rawType": "float64",
         "type": "float"
        },
        {
         "name": "Tank Girl (1995)",
         "rawType": "float64",
         "type": "float"
        },
        {
         "name": "Target (1995)",
         "rawType": "float64",
         "type": "float"
        },
        {
         "name": "Taxi Driver (1976)",
         "rawType": "float64",
         "type": "float"
        },
        {
         "name": "Telling Lies in America (1997)",
         "rawType": "float64",
         "type": "float"
        },
        {
         "name": "Temptress Moon (Feng Yue) (1996)",
         "rawType": "float64",
         "type": "float"
        },
        {
         "name": "Terminal Velocity (1994)",
         "rawType": "float64",
         "type": "float"
        },
        {
         "name": "Terminator 2: Judgment Day (1991)",
         "rawType": "float64",
         "type": "float"
        },
        {
         "name": "Terminator, The (1984)",
         "rawType": "float64",
         "type": "float"
        },
        {
         "name": "Terror in a Texas Town (1958)",
         "rawType": "float64",
         "type": "float"
        },
        {
         "name": "Tetsuo II: Body Hammer (1992)",
         "rawType": "float64",
         "type": "float"
        },
        {
         "name": "That Darn Cat! (1965)",
         "rawType": "float64",
         "type": "float"
        },
        {
         "name": "That Darn Cat! (1997)",
         "rawType": "float64",
         "type": "float"
        },
        {
         "name": "That Old Feeling (1997)",
         "rawType": "float64",
         "type": "float"
        },
        {
         "name": "That Thing You Do! (1996)",
         "rawType": "float64",
         "type": "float"
        },
        {
         "name": "The Courtyard (1995)",
         "rawType": "float64",
         "type": "float"
        },
        {
         "name": "The Deadly Cure (1996)",
         "rawType": "float64",
         "type": "float"
        },
        {
         "name": "The Innocent (1994)",
         "rawType": "float64",
         "type": "float"
        },
        {
         "name": "Theodore Rex (1995)",
         "rawType": "float64",
         "type": "float"
        },
        {
         "name": "They Made Me a Criminal (1939)",
         "rawType": "float64",
         "type": "float"
        },
        {
         "name": "Thieves (Voleurs, Les) (1996)",
         "rawType": "float64",
         "type": "float"
        },
        {
         "name": "Thin Blue Line, The (1988)",
         "rawType": "float64",
         "type": "float"
        },
        {
         "name": "Thin Line Between Love and Hate, A (1996)",
         "rawType": "float64",
         "type": "float"
        },
        {
         "name": "Thin Man, The (1934)",
         "rawType": "float64",
         "type": "float"
        },
        {
         "name": "Things to Do in Denver when You're Dead (1995)",
         "rawType": "float64",
         "type": "float"
        },
        {
         "name": "Thinner (1996)",
         "rawType": "float64",
         "type": "float"
        },
        {
         "name": "Third Man, The (1949)",
         "rawType": "float64",
         "type": "float"
        },
        {
         "name": "Thirty-Two Short Films About Glenn Gould (1993)",
         "rawType": "float64",
         "type": "float"
        },
        {
         "name": "This Is Spinal Tap (1984)",
         "rawType": "float64",
         "type": "float"
        },
        {
         "name": "Thousand Acres, A (1997)",
         "rawType": "float64",
         "type": "float"
        },
        {
         "name": "Three Caballeros, The (1945)",
         "rawType": "float64",
         "type": "float"
        },
        {
         "name": "Three Colors: Blue (1993)",
         "rawType": "float64",
         "type": "float"
        },
        {
         "name": "Three Colors: Red (1994)",
         "rawType": "float64",
         "type": "float"
        },
        {
         "name": "Three Colors: White (1994)",
         "rawType": "float64",
         "type": "float"
        },
        {
         "name": "Three Lives and Only One Death (1996)",
         "rawType": "float64",
         "type": "float"
        },
        {
         "name": "Three Musketeers, The (1993)",
         "rawType": "float64",
         "type": "float"
        },
        {
         "name": "Three Wishes (1995)",
         "rawType": "float64",
         "type": "float"
        },
        {
         "name": "Threesome (1994)",
         "rawType": "float64",
         "type": "float"
        },
        {
         "name": "Tie Me Up! Tie Me Down! (1990)",
         "rawType": "float64",
         "type": "float"
        },
        {
         "name": "Tie That Binds, The (1995)",
         "rawType": "float64",
         "type": "float"
        },
        {
         "name": "Tigrero: A Film That Was Never Made (1994)",
         "rawType": "float64",
         "type": "float"
        },
        {
         "name": "Time Tracers (1995)",
         "rawType": "float64",
         "type": "float"
        },
        {
         "name": "Time to Kill, A (1996)",
         "rawType": "float64",
         "type": "float"
        },
        {
         "name": "Timecop (1994)",
         "rawType": "float64",
         "type": "float"
        },
        {
         "name": "Tin Cup (1996)",
         "rawType": "float64",
         "type": "float"
        },
        {
         "name": "Tin Drum, The (Blechtrommel, Die) (1979)",
         "rawType": "float64",
         "type": "float"
        },
        {
         "name": "Tin Men (1987)",
         "rawType": "float64",
         "type": "float"
        },
        {
         "name": "Titanic (1997)",
         "rawType": "float64",
         "type": "float"
        },
        {
         "name": "To Be or Not to Be (1942)",
         "rawType": "float64",
         "type": "float"
        },
        {
         "name": "To Catch a Thief (1955)",
         "rawType": "float64",
         "type": "float"
        },
        {
         "name": "To Cross the Rubicon (1991)",
         "rawType": "float64",
         "type": "float"
        },
        {
         "name": "To Die For (1995)",
         "rawType": "float64",
         "type": "float"
        },
        {
         "name": "To Gillian on Her 37th Birthday (1996)",
         "rawType": "float64",
         "type": "float"
        },
        {
         "name": "To Have, or Not (1995)",
         "rawType": "float64",
         "type": "float"
        },
        {
         "name": "To Kill a Mockingbird (1962)",
         "rawType": "float64",
         "type": "float"
        },
        {
         "name": "To Live (Huozhe) (1994)",
         "rawType": "float64",
         "type": "float"
        },
        {
         "name": "To Wong Foo, Thanks for Everything! Julie Newmar (1995)",
         "rawType": "float64",
         "type": "float"
        },
        {
         "name": "Tokyo Fist (1995)",
         "rawType": "float64",
         "type": "float"
        },
        {
         "name": "Tom & Viv (1994)",
         "rawType": "float64",
         "type": "float"
        },
        {
         "name": "Tom and Huck (1995)",
         "rawType": "float64",
         "type": "float"
        },
        {
         "name": "Tombstone (1993)",
         "rawType": "float64",
         "type": "float"
        },
        {
         "name": "Tommy Boy (1995)",
         "rawType": "float64",
         "type": "float"
        },
        {
         "name": "Tomorrow Never Dies (1997)",
         "rawType": "float64",
         "type": "float"
        },
        {
         "name": "Top Gun (1986)",
         "rawType": "float64",
         "type": "float"
        },
        {
         "name": "Top Hat (1935)",
         "rawType": "float64",
         "type": "float"
        },
        {
         "name": "Total Eclipse (1995)",
         "rawType": "float64",
         "type": "float"
        },
        {
         "name": "Touch (1997)",
         "rawType": "float64",
         "type": "float"
        },
        {
         "name": "Touch of Evil (1958)",
         "rawType": "float64",
         "type": "float"
        },
        {
         "name": "Tough and Deadly (1995)",
         "rawType": "float64",
         "type": "float"
        },
        {
         "name": "Touki Bouki (Journey of the Hyena) (1973)",
         "rawType": "float64",
         "type": "float"
        },
        {
         "name": "Toy Story (1995)",
         "rawType": "float64",
         "type": "float"
        },
        {
         "name": "Trainspotting (1996)",
         "rawType": "float64",
         "type": "float"
        },
        {
         "name": "Transformers: The Movie, The (1986)",
         "rawType": "float64",
         "type": "float"
        },
        {
         "name": "Traveller (1997)",
         "rawType": "float64",
         "type": "float"
        },
        {
         "name": "Treasure of the Sierra Madre, The (1948)",
         "rawType": "float64",
         "type": "float"
        },
        {
         "name": "Trees Lounge (1996)",
         "rawType": "float64",
         "type": "float"
        },
        {
         "name": "Trial and Error (1997)",
         "rawType": "float64",
         "type": "float"
        },
        {
         "name": "Trial by Jury (1994)",
         "rawType": "float64",
         "type": "float"
        },
        {
         "name": "Trigger Effect, The (1996)",
         "rawType": "float64",
         "type": "float"
        },
        {
         "name": "True Crime (1995)",
         "rawType": "float64",
         "type": "float"
        },
        {
         "name": "True Lies (1994)",
         "rawType": "float64",
         "type": "float"
        },
        {
         "name": "True Romance (1993)",
         "rawType": "float64",
         "type": "float"
        },
        {
         "name": "Truman Show, The (1998)",
         "rawType": "float64",
         "type": "float"
        },
        {
         "name": "Trust (1990)",
         "rawType": "float64",
         "type": "float"
        },
        {
         "name": "Truth About Cats & Dogs, The (1996)",
         "rawType": "float64",
         "type": "float"
        },
        {
         "name": "Truth or Consequences, N.M. (1997)",
         "rawType": "float64",
         "type": "float"
        },
        {
         "name": "Turbo: A Power Rangers Movie (1997)",
         "rawType": "float64",
         "type": "float"
        },
        {
         "name": "Turbulence (1997)",
         "rawType": "float64",
         "type": "float"
        },
        {
         "name": "Turning, The (1992)",
         "rawType": "float64",
         "type": "float"
        },
        {
         "name": "Twelfth Night (1996)",
         "rawType": "float64",
         "type": "float"
        },
        {
         "name": "Twelve Monkeys (1995)",
         "rawType": "float64",
         "type": "float"
        },
        {
         "name": "Twilight (1998)",
         "rawType": "float64",
         "type": "float"
        },
        {
         "name": "Twin Town (1997)",
         "rawType": "float64",
         "type": "float"
        },
        {
         "name": "Twisted (1996)",
         "rawType": "float64",
         "type": "float"
        },
        {
         "name": "Twister (1996)",
         "rawType": "float64",
         "type": "float"
        },
        {
         "name": "Two Bits (1995)",
         "rawType": "float64",
         "type": "float"
        },
        {
         "name": "Two Deaths (1995)",
         "rawType": "float64",
         "type": "float"
        },
        {
         "name": "Two Friends (1986) ",
         "rawType": "float64",
         "type": "float"
        },
        {
         "name": "Two Much (1996)",
         "rawType": "float64",
         "type": "float"
        },
        {
         "name": "Two if by Sea (1996)",
         "rawType": "float64",
         "type": "float"
        },
        {
         "name": "Two or Three Things I Know About Her (1966)",
         "rawType": "float64",
         "type": "float"
        },
        {
         "name": "U Turn (1997)",
         "rawType": "float64",
         "type": "float"
        },
        {
         "name": "U.S. Marshalls (1998)",
         "rawType": "float64",
         "type": "float"
        },
        {
         "name": "Ulee's Gold (1997)",
         "rawType": "float64",
         "type": "float"
        },
        {
         "name": "Umbrellas of Cherbourg, The (Parapluies de Cherbourg, Les) (1964)",
         "rawType": "float64",
         "type": "float"
        },
        {
         "name": "Unbearable Lightness of Being, The (1988)",
         "rawType": "float64",
         "type": "float"
        },
        {
         "name": "Under Siege (1992)",
         "rawType": "float64",
         "type": "float"
        },
        {
         "name": "Under Siege 2: Dark Territory (1995)",
         "rawType": "float64",
         "type": "float"
        },
        {
         "name": "Underground (1995)",
         "rawType": "float64",
         "type": "float"
        },
        {
         "name": "Underneath, The (1995)",
         "rawType": "float64",
         "type": "float"
        },
        {
         "name": "Underworld (1997)",
         "rawType": "float64",
         "type": "float"
        },
        {
         "name": "Unforgettable (1996)",
         "rawType": "float64",
         "type": "float"
        },
        {
         "name": "Unforgiven (1992)",
         "rawType": "float64",
         "type": "float"
        },
        {
         "name": "Unhook the Stars (1996)",
         "rawType": "float64",
         "type": "float"
        },
        {
         "name": "Unstrung Heroes (1995)",
         "rawType": "float64",
         "type": "float"
        },
        {
         "name": "Until the End of the World (Bis ans Ende der Welt) (1991)",
         "rawType": "float64",
         "type": "float"
        },
        {
         "name": "Unzipped (1995)",
         "rawType": "float64",
         "type": "float"
        },
        {
         "name": "Up Close and Personal (1996)",
         "rawType": "float64",
         "type": "float"
        },
        {
         "name": "Up in Smoke (1978)",
         "rawType": "float64",
         "type": "float"
        },
        {
         "name": "Usual Suspects, The (1995)",
         "rawType": "float64",
         "type": "float"
        },
        {
         "name": "Vampire in Brooklyn (1995)",
         "rawType": "float64",
         "type": "float"
        },
        {
         "name": "Van, The (1996)",
         "rawType": "float64",
         "type": "float"
        },
        {
         "name": "Vanya on 42nd Street (1994)",
         "rawType": "float64",
         "type": "float"
        },
        {
         "name": "Vegas Vacation (1997)",
         "rawType": "float64",
         "type": "float"
        },
        {
         "name": "Venice/Venice (1992)",
         "rawType": "float64",
         "type": "float"
        },
        {
         "name": "Vermin (1998)",
         "rawType": "float64",
         "type": "float"
        },
        {
         "name": "Vermont Is For Lovers (1992)",
         "rawType": "float64",
         "type": "float"
        },
        {
         "name": "Vertigo (1958)",
         "rawType": "float64",
         "type": "float"
        },
        {
         "name": "Very Brady Sequel, A (1996)",
         "rawType": "float64",
         "type": "float"
        },
        {
         "name": "Very Natural Thing, A (1974)",
         "rawType": "float64",
         "type": "float"
        },
        {
         "name": "Victor/Victoria (1982)",
         "rawType": "float64",
         "type": "float"
        },
        {
         "name": "Vie est belle, La (Life is Rosey) (1987)",
         "rawType": "float64",
         "type": "float"
        },
        {
         "name": "Village of the Damned (1995)",
         "rawType": "float64",
         "type": "float"
        },
        {
         "name": "Virtuosity (1995)",
         "rawType": "float64",
         "type": "float"
        },
        {
         "name": "Visitors, The (Visiteurs, Les) (1993)",
         "rawType": "float64",
         "type": "float"
        },
        {
         "name": "Volcano (1997)",
         "rawType": "float64",
         "type": "float"
        },
        {
         "name": "Wag the Dog (1997)",
         "rawType": "float64",
         "type": "float"
        },
        {
         "name": "Waiting for Guffman (1996)",
         "rawType": "float64",
         "type": "float"
        },
        {
         "name": "Waiting to Exhale (1995)",
         "rawType": "float64",
         "type": "float"
        },
        {
         "name": "Walk in the Clouds, A (1995)",
         "rawType": "float64",
         "type": "float"
        },
        {
         "name": "Walk in the Sun, A (1945)",
         "rawType": "float64",
         "type": "float"
        },
        {
         "name": "Walkabout (1971)",
         "rawType": "float64",
         "type": "float"
        },
        {
         "name": "Walking Dead, The (1995)",
         "rawType": "float64",
         "type": "float"
        },
        {
         "name": "Walking and Talking (1996)",
         "rawType": "float64",
         "type": "float"
        },
        {
         "name": "Wallace & Gromit: The Best of Aardman Animation (1996)",
         "rawType": "float64",
         "type": "float"
        },
        {
         "name": "War Room, The (1993)",
         "rawType": "float64",
         "type": "float"
        },
        {
         "name": "War at Home, The (1996)",
         "rawType": "float64",
         "type": "float"
        },
        {
         "name": "War, The (1994)",
         "rawType": "float64",
         "type": "float"
        },
        {
         "name": "Warriors of Virtue (1997)",
         "rawType": "float64",
         "type": "float"
        },
        {
         "name": "Washington Square (1997)",
         "rawType": "float64",
         "type": "float"
        },
        {
         "name": "Waterworld (1995)",
         "rawType": "float64",
         "type": "float"
        },
        {
         "name": "Wedding Bell Blues (1996)",
         "rawType": "float64",
         "type": "float"
        },
        {
         "name": "Wedding Gift, The (1994)",
         "rawType": "float64",
         "type": "float"
        },
        {
         "name": "Wedding Singer, The (1998)",
         "rawType": "float64",
         "type": "float"
        },
        {
         "name": "Weekend at Bernie's (1989)",
         "rawType": "float64",
         "type": "float"
        },
        {
         "name": "Welcome To Sarajevo (1997)",
         "rawType": "float64",
         "type": "float"
        },
        {
         "name": "Welcome to the Dollhouse (1995)",
         "rawType": "float64",
         "type": "float"
        },
        {
         "name": "Wend Kuuni (God's Gift) (1982)",
         "rawType": "float64",
         "type": "float"
        },
        {
         "name": "Wes Craven's New Nightmare (1994)",
         "rawType": "float64",
         "type": "float"
        },
        {
         "name": "What Happened Was... (1994)",
         "rawType": "float64",
         "type": "float"
        },
        {
         "name": "What's Eating Gilbert Grape (1993)",
         "rawType": "float64",
         "type": "float"
        },
        {
         "name": "What's Love Got to Do with It (1993)",
         "rawType": "float64",
         "type": "float"
        },
        {
         "name": "When Harry Met Sally... (1989)",
         "rawType": "float64",
         "type": "float"
        },
        {
         "name": "When Night Is Falling (1995)",
         "rawType": "float64",
         "type": "float"
        },
        {
         "name": "When We Were Kings (1996)",
         "rawType": "float64",
         "type": "float"
        },
        {
         "name": "When a Man Loves a Woman (1994)",
         "rawType": "float64",
         "type": "float"
        },
        {
         "name": "When the Cats Away (Chacun cherche son chat) (1996)",
         "rawType": "float64",
         "type": "float"
        },
        {
         "name": "While You Were Sleeping (1995)",
         "rawType": "float64",
         "type": "float"
        },
        {
         "name": "White Balloon, The (1995)",
         "rawType": "float64",
         "type": "float"
        },
        {
         "name": "White Man's Burden (1995)",
         "rawType": "float64",
         "type": "float"
        },
        {
         "name": "White Squall (1996)",
         "rawType": "float64",
         "type": "float"
        },
        {
         "name": "Whole Wide World, The (1996)",
         "rawType": "float64",
         "type": "float"
        },
        {
         "name": "Widows' Peak (1994)",
         "rawType": "float64",
         "type": "float"
        },
        {
         "name": "Wife, The (1995)",
         "rawType": "float64",
         "type": "float"
        },
        {
         "name": "Wild America (1997)",
         "rawType": "float64",
         "type": "float"
        },
        {
         "name": "Wild Bill (1995)",
         "rawType": "float64",
         "type": "float"
        },
        {
         "name": "Wild Bunch, The (1969)",
         "rawType": "float64",
         "type": "float"
        },
        {
         "name": "Wild Reeds (1994)",
         "rawType": "float64",
         "type": "float"
        },
        {
         "name": "Wild Things (1998)",
         "rawType": "float64",
         "type": "float"
        },
        {
         "name": "William Shakespeare's Romeo and Juliet (1996)",
         "rawType": "float64",
         "type": "float"
        },
        {
         "name": "Willy Wonka and the Chocolate Factory (1971)",
         "rawType": "float64",
         "type": "float"
        },
        {
         "name": "Window to Paris (1994)",
         "rawType": "float64",
         "type": "float"
        },
        {
         "name": "Wings of Courage (1995)",
         "rawType": "float64",
         "type": "float"
        },
        {
         "name": "Wings of Desire (1987)",
         "rawType": "float64",
         "type": "float"
        },
        {
         "name": "Wings of the Dove, The (1997)",
         "rawType": "float64",
         "type": "float"
        },
        {
         "name": "Winnie the Pooh and the Blustery Day (1968)",
         "rawType": "float64",
         "type": "float"
        },
        {
         "name": "Winter Guest, The (1997)",
         "rawType": "float64",
         "type": "float"
        },
        {
         "name": "Wishmaster (1997)",
         "rawType": "float64",
         "type": "float"
        },
        {
         "name": "With Honors (1994)",
         "rawType": "float64",
         "type": "float"
        },
        {
         "name": "Withnail and I (1987)",
         "rawType": "float64",
         "type": "float"
        },
        {
         "name": "Witness (1985)",
         "rawType": "float64",
         "type": "float"
        },
        {
         "name": "Wizard of Oz, The (1939)",
         "rawType": "float64",
         "type": "float"
        },
        {
         "name": "Wolf (1994)",
         "rawType": "float64",
         "type": "float"
        },
        {
         "name": "Woman in Question, The (1950)",
         "rawType": "float64",
         "type": "float"
        },
        {
         "name": "Women, The (1939)",
         "rawType": "float64",
         "type": "float"
        },
        {
         "name": "Wonderful, Horrible Life of Leni Riefenstahl, The (1993)",
         "rawType": "float64",
         "type": "float"
        },
        {
         "name": "Wonderland (1997)",
         "rawType": "float64",
         "type": "float"
        },
        {
         "name": "Wooden Man's Bride, The (Wu Kui) (1994)",
         "rawType": "float64",
         "type": "float"
        },
        {
         "name": "World of Apu, The (Apur Sansar) (1959)",
         "rawType": "float64",
         "type": "float"
        },
        {
         "name": "Wrong Trousers, The (1993)",
         "rawType": "float64",
         "type": "float"
        },
        {
         "name": "Wyatt Earp (1994)",
         "rawType": "float64",
         "type": "float"
        },
        {
         "name": "Yankee Zulu (1994)",
         "rawType": "float64",
         "type": "float"
        },
        {
         "name": "Year of the Horse (1997)",
         "rawType": "float64",
         "type": "float"
        },
        {
         "name": "You So Crazy (1994)",
         "rawType": "float64",
         "type": "float"
        },
        {
         "name": "Young Frankenstein (1974)",
         "rawType": "float64",
         "type": "float"
        },
        {
         "name": "Young Guns (1988)",
         "rawType": "float64",
         "type": "float"
        },
        {
         "name": "Young Guns II (1990)",
         "rawType": "float64",
         "type": "float"
        },
        {
         "name": "Young Poisoner's Handbook, The (1995)",
         "rawType": "float64",
         "type": "float"
        },
        {
         "name": "Zeus and Roxanne (1997)",
         "rawType": "float64",
         "type": "float"
        },
        {
         "name": "unknown",
         "rawType": "float64",
         "type": "float"
        },
        {
         "name": "Á köldum klaka (Cold Fever) (1994)",
         "rawType": "float64",
         "type": "float"
        }
       ],
       "ref": "3d85abc4-3603-4878-aae0-7e99bb195cbc",
       "rows": [
        [
         "1",
         "0.0",
         "0.0",
         "2.0",
         "5.0",
         "0.0",
         "0.0",
         "3.0",
         "4.0",
         "0.0",
         "0.0",
         "0.0",
         "0.0",
         "0.0",
         "0.0",
         "0.0",
         "0.0",
         "3.0",
         "3.0",
         "0.0",
         "0.0",
         "0.0",
         "0.0",
         "0.0",
         "0.0",
         "0.0",
         "0.0",
         "0.0",
         "0.0",
         "0.0",
         "0.0",
         "0.0",
         "1.0",
         "0.0",
         "0.0",
         "0.0",
         "4.0",
         "4.0",
         "0.0",
         "0.0",
         "0.0",
         "0.0",
         "5.0",
         "0.0",
         "0.0",
         "5.0",
         "0.0",
         "1.0",
         "0.0",
         "0.0",
         "0.0",
         "5.0",
         "0.0",
         "0.0",
         "0.0",
         "0.0",
         "0.0",
         "0.0",
         "0.0",
         "0.0",
         "0.0",
         "0.0",
         "0.0",
         "0.0",
         "0.0",
         "0.0",
         "0.0",
         "0.0",
         "0.0",
         "0.0",
         "0.0",
         "0.0",
         "0.0",
         "0.0",
         "0.0",
         "0.0",
         "0.0",
         "4.0",
         "0.0",
         "0.0",
         "0.0",
         "0.0",
         "0.0",
         "0.0",
         "0.0",
         "5.0",
         "0.0",
         "0.0",
         "3.0",
         "4.0",
         "0.0",
         "0.0",
         "0.0",
         "0.0",
         "2.0",
         "4.0",
         "0.0",
         "0.0",
         "0.0",
         "0.0",
         "0.0",
         "0.0",
         "0.0",
         "0.0",
         "0.0",
         "4.0",
         "0.0",
         "0.0",
         "0.0",
         "0.0",
         "1.0",
         "0.0",
         "0.0",
         "0.0",
         "5.0",
         "0.0",
         "2.0",
         "0.0",
         "0.0",
         "0.0",
         "0.0",
         "0.0",
         "0.0",
         "0.0",
         "0.0",
         "0.0",
         "0.0",
         "0.0",
         "3.0",
         "0.0",
         "0.0",
         "0.0",
         "1.0",
         "0.0",
         "1.0",
         "1.0",
         "0.0",
         "0.0",
         "0.0",
         "0.0",
         "0.0",
         "0.0",
         "0.0",
         "0.0",
         "3.0",
         "0.0",
         "2.0",
         "0.0",
         "0.0",
         "0.0",
         "0.0",
         "0.0",
         "0.0",
         "3.0",
         "0.0",
         "0.0",
         "0.0",
         "0.0",
         "0.0",
         "0.0",
         "0.0",
         "0.0",
         "0.0",
         "0.0",
         "0.0",
         "0.0",
         "0.0",
         "0.0",
         "0.0",
         "0.0",
         "0.0",
         "0.0",
         "5.0",
         "0.0",
         "0.0",
         "0.0",
         "2.0",
         "0.0",
         "0.0",
         "4.0",
         "0.0",
         "0.0",
         "0.0",
         "0.0",
         "0.0",
         "5.0",
         "0.0",
         "0.0",
         "0.0",
         "0.0",
         "0.0",
         "0.0",
         "0.0",
         "0.0",
         "0.0",
         "0.0",
         "0.0",
         "0.0",
         "0.0",
         "0.0",
         "4.0",
         "0.0",
         "0.0",
         "0.0",
         "0.0",
         "0.0",
         "0.0",
         "0.0",
         "0.0",
         "0.0",
         "0.0",
         "0.0",
         "0.0",
         "5.0",
         "0.0",
         "0.0",
         "0.0",
         "0.0",
         "0.0",
         "0.0",
         "0.0",
         "0.0",
         "0.0",
         "0.0",
         "3.0",
         "0.0",
         "4.0",
         "5.0",
         "0.0",
         "0.0",
         "1.0",
         "5.0",
         "0.0",
         "4.0",
         "0.0",
         "0.0",
         "0.0",
         "0.0",
         "0.0",
         "4.0",
         "0.0",
         "3.0",
         "0.0",
         "0.0",
         "0.0",
         "0.0",
         "0.0",
         "0.0",
         "0.0",
         "0.0",
         "0.0",
         "0.0",
         "0.0",
         "0.0",
         "0.0",
         "0.0",
         "3.0",
         "0.0",
         "0.0",
         "0.0",
         "0.0",
         "0.0",
         "0.0",
         "3.0",
         "0.0",
         "0.0",
         "0.0",
         "4.0",
         "0.0",
         "0.0",
         "0.0",
         "0.0",
         "0.0",
         "0.0",
         "0.0",
         "0.0",
         "0.0",
         "0.0",
         "0.0",
         "0.0",
         "0.0",
         "0.0",
         "0.0",
         "0.0",
         "0.0",
         "0.0",
         "0.0",
         "0.0",
         "0.0",
         "0.0",
         "0.0",
         "0.0",
         "0.0",
         "0.0",
         "5.0",
         "0.0",
         "0.0",
         "0.0",
         "0.0",
         "0.0",
         "0.0",
         "0.0",
         "5.0",
         "0.0",
         "4.0",
         "4.0",
         "0.0",
         "0.0",
         "0.0",
         "0.0",
         "0.0",
         "0.0",
         "0.0",
         "0.0",
         "5.0",
         "0.0",
         "0.0",
         "0.0",
         "3.0",
         "0.0",
         "0.0",
         "0.0",
         "3.0",
         "0.0",
         "0.0",
         "0.0",
         "0.0",
         "0.0",
         "0.0",
         "0.0",
         "0.0",
         "0.0",
         "0.0",
         "0.0",
         "5.0",
         "0.0",
         "0.0",
         "0.0",
         "0.0",
         "0.0",
         "0.0",
         "0.0",
         "3.0",
         "0.0",
         "0.0",
         "0.0",
         "0.0",
         "0.0",
         "0.0",
         "0.0",
         "3.0",
         "0.0",
         "0.0",
         "0.0",
         "0.0",
         "0.0",
         "4.0",
         "0.0",
         "0.0",
         "0.0",
         "0.0",
         "5.0",
         "0.0",
         "0.0",
         "0.0",
         "0.0",
         "0.0",
         "0.0",
         "5.0",
         "0.0",
         "1.0",
         "0.0",
         "0.0",
         "0.0",
         "3.0",
         "0.0",
         "0.0",
         "0.0",
         "0.0",
         "0.0",
         "0.0",
         "0.0",
         "0.0",
         "0.0",
         "0.0",
         "0.0",
         "0.0",
         "0.0",
         "0.0",
         "0.0",
         "5.0",
         "5.0",
         "0.0",
         "0.0",
         "0.0",
         "0.0",
         "0.0",
         "0.0",
         "0.0",
         "0.0",
         "0.0",
         "5.0",
         "0.0",
         "0.0",
         "0.0",
         "0.0",
         "0.0",
         "4.0",
         "0.0",
         "0.0",
         "0.0",
         "0.0",
         "2.0",
         "4.0",
         "0.0",
         "4.0",
         "3.0",
         "0.0",
         "0.0",
         "0.0",
         "2.0",
         "4.0",
         "0.0",
         "5.0",
         "0.0",
         "0.0",
         "0.0",
         "2.0",
         "0.0",
         "0.0",
         "0.0",
         "0.0",
         "0.0",
         "0.0",
         "0.0",
         "0.0",
         "0.0",
         "0.0",
         "0.0",
         "0.0",
         "0.0",
         "0.0",
         "0.0",
         "0.0",
         "0.0",
         "0.0",
         "0.0",
         "0.0",
         "0.0",
         "5.0",
         "0.0",
         "4.0",
         "0.0",
         "0.0",
         "0.0",
         "0.0",
         "0.0",
         "5.0",
         "0.0",
         "0.0",
         "0.0",
         "0.0",
         "0.0",
         "0.0",
         "0.0",
         "0.0",
         "0.0",
         "0.0",
         "0.0",
         "0.0",
         "0.0",
         "0.0",
         "1.0",
         "0.0",
         "0.0",
         "0.0",
         "3.0",
         "0.0",
         "0.0",
         "0.0",
         "0.0",
         "4.0",
         "0.0",
         "0.0",
         "0.0",
         "0.0",
         "0.0",
         "0.0",
         "0.0",
         "0.0",
         "0.0",
         "0.0",
         "0.0",
         "0.0",
         "0.0",
         "0.0",
         "0.0",
         "0.0",
         "0.0",
         "5.0",
         "0.0",
         "0.0",
         "0.0",
         "1.0",
         "0.0",
         "0.0",
         "0.0",
         "0.0",
         "0.0",
         "0.0",
         "0.0",
         "0.0",
         "0.0",
         "0.0",
         "0.0",
         "0.0",
         "0.0",
         "0.0",
         "3.0",
         "0.0",
         "4.0",
         "0.0",
         "0.0",
         "0.0",
         "0.0",
         "4.0",
         "0.0",
         "0.0",
         "0.0",
         "3.0",
         "0.0",
         "0.0",
         "0.0",
         "1.0",
         "0.0",
         "0.0",
         "0.0",
         "0.0",
         "0.0",
         "0.0",
         "0.0",
         "0.0",
         "0.0",
         "0.0",
         "0.0",
         "0.0",
         "0.0",
         "0.0",
         "0.0",
         "0.0",
         "0.0",
         "0.0",
         "3.0",
         "0.0",
         "4.0",
         "3.0",
         "0.0",
         "0.0",
         "0.0",
         "1.0",
         "1.0",
         "0.0",
         "0.0",
         "0.0",
         "5.0",
         "0.0",
         "0.0",
         "0.0",
         "4.0",
         "0.0",
         "3.0",
         "4.0",
         "3.0",
         "5.0",
         "0.0",
         "0.0",
         "0.0",
         "0.0",
         "0.0",
         "0.0",
         "0.0",
         "0.0",
         "0.0",
         "0.0",
         "0.0",
         "0.0",
         "5.0",
         "0.0",
         "1.0",
         "0.0",
         "0.0",
         "0.0",
         "3.0",
         "0.0",
         "0.0",
         "0.0",
         "0.0",
         "0.0",
         "0.0",
         "2.0",
         "0.0",
         "0.0",
         "0.0",
         "0.0",
         "0.0",
         "0.0",
         "0.0",
         "0.0",
         "0.0",
         "4.0",
         "0.0",
         "0.0",
         "0.0",
         "5.0",
         "4.0",
         "0.0",
         "0.0",
         "3.0",
         "0.0",
         "4.0",
         "0.0",
         "0.0",
         "3.0",
         "5.0",
         "4.0",
         "0.0",
         "0.0",
         "0.0",
         "5.0",
         "3.0",
         "0.0",
         "0.0",
         "0.0",
         "0.0",
         "0.0",
         "0.0",
         "0.0",
         "0.0",
         "0.0",
         "0.0",
         "0.0",
         "0.0",
         "0.0",
         "4.0",
         "5.0",
         "0.0",
         "0.0",
         "0.0",
         "0.0",
         "0.0",
         "0.0",
         "0.0",
         "0.0",
         "0.0",
         "0.0",
         "0.0",
         "0.0",
         "0.0",
         "0.0",
         "0.0",
         "0.0",
         "0.0",
         "5.0",
         "0.0",
         "0.0",
         "0.0",
         "0.0",
         "0.0",
         "0.0",
         "0.0",
         "0.0",
         "0.0",
         "0.0",
         "2.0",
         "0.0",
         "0.0",
         "0.0",
         "0.0",
         "5.0",
         "0.0",
         "0.0",
         "0.0",
         "0.0",
         "0.0",
         "0.0",
         "0.0",
         "0.0",
         "0.0",
         "0.0",
         "0.0",
         "0.0",
         "2.0",
         "0.0",
         "0.0",
         "0.0",
         "1.0",
         "0.0",
         "5.0",
         "0.0",
         "5.0",
         "0.0",
         "4.0",
         "0.0",
         "0.0",
         "0.0",
         "0.0",
         "0.0",
         "0.0",
         "0.0",
         "0.0",
         "0.0",
         "0.0",
         "5.0",
         "0.0",
         "0.0",
         "0.0",
         "4.0",
         "0.0",
         "0.0",
         "0.0",
         "0.0",
         "0.0",
         "0.0",
         "0.0",
         "0.0",
         "0.0",
         "0.0",
         "0.0",
         "0.0",
         "3.0",
         "0.0",
         "0.0",
         "0.0",
         "0.0",
         "0.0",
         "0.0",
         "0.0",
         "0.0",
         "3.0",
         "0.0",
         "0.0",
         "0.0",
         "0.0",
         "0.0",
         "0.0",
         "4.0",
         "0.0",
         "0.0",
         "4.0",
         "0.0",
         "0.0",
         "0.0",
         "0.0",
         "0.0",
         "0.0",
         "0.0",
         "0.0",
         "0.0",
         "0.0",
         "0.0",
         "0.0",
         "0.0",
         "0.0",
         "0.0",
         "0.0",
         "0.0",
         "0.0",
         "0.0",
         "0.0",
         "0.0",
         "0.0",
         "0.0",
         "0.0",
         "0.0",
         "4.0",
         "0.0",
         "0.0",
         "5.0",
         "0.0",
         "0.0",
         "0.0",
         "2.0",
         "0.0",
         "0.0",
         "0.0",
         "0.0",
         "0.0",
         "0.0",
         "0.0",
         "0.0",
         "2.0",
         "0.0",
         "0.0",
         "0.0",
         "0.0",
         "1.0",
         "0.0",
         "0.0",
         "5.0",
         "0.0",
         "0.0",
         "0.0",
         "0.0",
         "0.0",
         "3.0",
         "0.0",
         "0.0",
         "0.0",
         "0.0",
         "0.0",
         "0.0",
         "0.0",
         "5.0",
         "0.0",
         "0.0",
         "0.0",
         "0.0",
         "0.0",
         "0.0",
         "0.0",
         "0.0",
         "0.0",
         "0.0",
         "0.0",
         "0.0",
         "0.0",
         "5.0",
         "0.0",
         "1.0",
         "0.0",
         "0.0",
         "0.0",
         "0.0",
         "0.0",
         "0.0",
         "0.0",
         "0.0",
         "0.0",
         "0.0",
         "0.0",
         "0.0",
         "0.0",
         "0.0",
         "0.0",
         "0.0",
         "0.0",
         "0.0",
         "4.0",
         "0.0",
         "0.0",
         "0.0",
         "2.0",
         "0.0",
         "0.0",
         "0.0",
         "0.0",
         "0.0",
         "0.0",
         "4.0",
         "0.0",
         "0.0",
         "0.0",
         "0.0",
         "0.0",
         "0.0",
         "0.0",
         "0.0",
         "0.0",
         "3.0",
         "0.0",
         "0.0",
         "0.0",
         "0.0",
         "0.0",
         "0.0",
         "0.0",
         "0.0",
         "0.0",
         "0.0",
         "0.0",
         "0.0",
         "0.0",
         "0.0",
         "0.0",
         "5.0",
         "3.0",
         "0.0",
         "0.0",
         "0.0",
         "0.0",
         "0.0",
         "0.0",
         "2.0",
         "0.0",
         "0.0",
         "0.0",
         "0.0",
         "3.0",
         "0.0",
         "0.0",
         "0.0",
         "0.0",
         "0.0",
         "0.0",
         "0.0",
         "0.0",
         "0.0",
         "0.0",
         "0.0",
         "0.0",
         "3.0",
         "0.0",
         "0.0",
         "0.0",
         "0.0",
         "0.0",
         "0.0",
         "2.0",
         "0.0",
         "0.0",
         "4.0",
         "0.0",
         "0.0",
         "0.0",
         "0.0",
         "0.0",
         "0.0",
         "0.0",
         "0.0",
         "0.0",
         "0.0",
         "0.0",
         "0.0",
         "0.0",
         "0.0",
         "0.0",
         "0.0",
         "0.0",
         "0.0",
         "0.0",
         "0.0",
         "5.0",
         "0.0",
         "0.0",
         "0.0",
         "0.0",
         "5.0",
         "0.0",
         "0.0",
         "0.0",
         "0.0",
         "4.0",
         "0.0",
         "0.0",
         "0.0",
         "3.0",
         "0.0",
         "5.0",
         "0.0",
         "0.0",
         "0.0",
         "0.0",
         "0.0",
         "0.0",
         "0.0",
         "4.0",
         "0.0",
         "0.0",
         "0.0",
         "0.0",
         "0.0",
         "0.0",
         "0.0",
         "0.0",
         "0.0",
         "0.0",
         "0.0",
         "5.0",
         "0.0",
         "0.0",
         "0.0",
         "0.0",
         "0.0",
         "2.0",
         "0.0",
         "0.0",
         "0.0",
         "3.0",
         "0.0",
         "0.0",
         "0.0",
         "0.0",
         "4.0",
         "0.0",
         "0.0",
         "0.0",
         "0.0",
         "5.0",
         "5.0",
         "0.0",
         "0.0",
         "0.0",
         "0.0",
         "0.0",
         "0.0",
         "0.0",
         "5.0",
         "0.0",
         "0.0",
         "3.0",
         "0.0",
         "0.0",
         "0.0",
         "0.0",
         "0.0",
         "0.0",
         "0.0",
         "3.0",
         "0.0",
         "0.0",
         "1.0",
         "0.0",
         "0.0",
         "0.0",
         "0.0",
         "0.0",
         "2.0",
         "0.0",
         "0.0",
         "0.0",
         "0.0",
         "0.0",
         "0.0",
         "0.0",
         "0.0",
         "0.0",
         "0.0",
         "0.0",
         "5.0",
         "2.0",
         "0.0",
         "0.0",
         "0.0",
         "0.0",
         "3.0",
         "0.0",
         "0.0",
         "0.0",
         "0.0",
         "3.0",
         "0.0",
         "0.0",
         "0.0",
         "0.0",
         "0.0",
         "0.0",
         "0.0",
         "0.0",
         "0.0",
         "0.0",
         "0.0",
         "0.0",
         "0.0",
         "0.0",
         "5.0",
         "1.0",
         "0.0",
         "5.0",
         "0.0",
         "0.0",
         "0.0",
         "0.0",
         "0.0",
         "0.0",
         "0.0",
         "0.0",
         "0.0",
         "0.0",
         "0.0",
         "0.0",
         "0.0",
         "0.0",
         "0.0",
         "0.0",
         "0.0",
         "0.0",
         "0.0",
         "0.0",
         "0.0",
         "0.0",
         "0.0",
         "0.0",
         "0.0",
         "0.0",
         "0.0",
         "0.0",
         "0.0",
         "4.0",
         "0.0",
         "0.0",
         "0.0",
         "0.0",
         "0.0",
         "0.0",
         "0.0",
         "0.0",
         "0.0",
         "1.0",
         "0.0",
         "0.0",
         "0.0",
         "0.0",
         "0.0",
         "0.0",
         "3.0",
         "0.0",
         "0.0",
         "0.0",
         "0.0",
         "0.0",
         "0.0",
         "0.0",
         "0.0",
         "0.0",
         "0.0",
         "0.0",
         "0.0",
         "0.0",
         "0.0",
         "0.0",
         "0.0",
         "0.0",
         "0.0",
         "3.0",
         "0.0",
         "0.0",
         "0.0",
         "0.0",
         "0.0",
         "0.0",
         "0.0",
         "0.0",
         "0.0",
         "0.0",
         "0.0",
         "0.0",
         "0.0",
         "3.0",
         "0.0",
         "0.0",
         "0.0",
         "0.0",
         "0.0",
         "0.0",
         "0.0",
         "5.0",
         "4.0",
         "0.0",
         "4.0",
         "0.0",
         "0.0",
         "0.0",
         "0.0",
         "0.0",
         "0.0",
         "0.0",
         "0.0",
         "0.0",
         "5.0",
         "0.0",
         "0.0",
         "0.0",
         "0.0",
         "0.0",
         "0.0",
         "0.0",
         "5.0",
         "0.0",
         "0.0",
         "5.0",
         "0.0",
         "0.0",
         "2.0",
         "0.0",
         "5.0",
         "0.0",
         "0.0",
         "0.0",
         "0.0",
         "0.0",
         "4.0",
         "4.0",
         "0.0",
         "0.0",
         "0.0",
         "0.0",
         "0.0",
         "0.0",
         "0.0",
         "0.0",
         "0.0",
         "0.0",
         "4.0",
         "0.0",
         "0.0",
         "4.0",
         "5.0",
         "0.0",
         "0.0",
         "4.0",
         "0.0",
         "0.0",
         "0.0",
         "0.0",
         "0.0",
         "0.0",
         "0.0",
         "0.0",
         "0.0",
         "0.0",
         "0.0",
         "0.0",
         "0.0",
         "3.0",
         "0.0",
         "0.0",
         "0.0",
         "5.0",
         "0.0",
         "0.0",
         "0.0",
         "0.0",
         "4.0",
         "0.0",
         "0.0",
         "5.0",
         "4.0",
         "0.0",
         "0.0",
         "3.0",
         "0.0",
         "5.0",
         "4.0",
         "0.0",
         "0.0",
         "0.0",
         "0.0",
         "0.0",
         "4.0",
         "0.0",
         "0.0",
         "0.0",
         "3.0",
         "0.0",
         "0.0",
         "0.0",
         "0.0",
         "0.0",
         "2.0",
         "0.0",
         "0.0",
         "0.0",
         "0.0",
         "0.0",
         "0.0",
         "0.0",
         "0.0",
         "3.0",
         "0.0",
         "0.0",
         "0.0",
         "0.0",
         "0.0",
         "0.0",
         "0.0",
         "0.0",
         "0.0",
         "2.0",
         "0.0",
         "0.0",
         "0.0",
         "0.0",
         "0.0",
         "0.0",
         "0.0",
         "0.0",
         "0.0",
         "0.0",
         "0.0",
         "0.0",
         "5.0",
         "0.0",
         "0.0",
         "0.0",
         "0.0",
         "0.0",
         "0.0",
         "0.0",
         "0.0",
         "0.0",
         "0.0",
         "0.0",
         "2.0",
         "0.0",
         "0.0",
         "0.0",
         "0.0",
         "2.0",
         "0.0",
         "0.0",
         "0.0",
         "0.0",
         "0.0",
         "0.0",
         "0.0",
         "4.0",
         "0.0",
         "5.0",
         "5.0",
         "0.0",
         "0.0",
         "0.0",
         "0.0",
         "3.0",
         "0.0",
         "0.0",
         "0.0",
         "0.0",
         "0.0",
         "0.0",
         "4.0",
         "0.0",
         "0.0",
         "0.0",
         "0.0",
         "0.0",
         "0.0",
         "0.0",
         "5.0",
         "0.0",
         "4.0",
         "0.0",
         "0.0",
         "5.0",
         "0.0",
         "0.0",
         "0.0",
         "0.0",
         "2.0",
         "0.0",
         "4.0",
         "3.0",
         "0.0",
         "4.0",
         "0.0",
         "0.0",
         "0.0",
         "0.0",
         "0.0",
         "0.0",
         "0.0",
         "0.0",
         "0.0",
         "0.0",
         "0.0",
         "0.0",
         "1.0",
         "0.0",
         "0.0",
         "0.0",
         "0.0",
         "0.0",
         "0.0",
         "0.0",
         "0.0",
         "0.0",
         "0.0",
         "0.0",
         "0.0",
         "0.0",
         "2.0",
         "0.0",
         "0.0",
         "0.0",
         "0.0",
         "0.0",
         "0.0",
         "0.0",
         "0.0",
         "0.0",
         "0.0",
         "4.0",
         "4.0",
         "0.0",
         "4.0",
         "4.0",
         "0.0",
         "0.0",
         "5.0",
         "5.0",
         "3.0",
         "0.0",
         "2.0",
         "0.0",
         "0.0",
         "1.0",
         "0.0",
         "0.0",
         "4.0",
         "0.0",
         "0.0",
         "4.0",
         "0.0",
         "0.0",
         "0.0",
         "0.0",
         "0.0",
         "0.0",
         "0.0",
         "0.0",
         "1.0",
         "0.0",
         "0.0",
         "0.0",
         "0.0",
         "0.0",
         "0.0",
         "0.0",
         "0.0",
         "0.0",
         "0.0",
         "0.0",
         "0.0",
         "4.0",
         "0.0",
         "0.0",
         "0.0",
         "0.0",
         "0.0",
         "0.0",
         "0.0",
         "0.0",
         "5.0",
         "0.0",
         "0.0",
         "0.0",
         "0.0",
         "0.0",
         "0.0",
         "0.0",
         "0.0",
         "0.0",
         "0.0",
         "0.0",
         "0.0",
         "0.0",
         "0.0",
         "4.0",
         "0.0",
         "0.0",
         "0.0",
         "5.0",
         "5.0",
         "0.0",
         "0.0",
         "0.0",
         "0.0",
         "0.0",
         "0.0",
         "0.0",
         "0.0",
         "0.0",
         "1.0",
         "0.0",
         "0.0",
         "0.0",
         "0.0",
         "0.0",
         "0.0",
         "0.0",
         "0.0",
         "0.0",
         "4.0",
         "0.0",
         "0.0",
         "5.0",
         "5.0",
         "4.0",
         "0.0",
         "0.0",
         "0.0",
         "0.0",
         "0.0",
         "0.0",
         "0.0",
         "0.0",
         "0.0",
         "0.0",
         "0.0",
         "0.0",
         "0.0",
         "0.0",
         "0.0",
         "0.0",
         "0.0",
         "0.0",
         "0.0",
         "0.0",
         "0.0",
         "0.0",
         "3.0",
         "0.0",
         "0.0",
         "0.0",
         "0.0",
         "0.0",
         "0.0",
         "4.0",
         "0.0",
         "0.0",
         "0.0",
         "0.0",
         "0.0",
         "0.0",
         "5.0",
         "0.0",
         "0.0",
         "0.0",
         "0.0",
         "0.0",
         "0.0",
         "0.0",
         "0.0",
         "0.0",
         "0.0",
         "3.0",
         "0.0",
         "0.0",
         "5.0",
         "0.0",
         "1.0",
         "0.0",
         "0.0",
         "0.0",
         "4.0",
         "0.0",
         "0.0",
         "0.0",
         "3.0",
         "0.0",
         "0.0",
         "0.0",
         "0.0",
         "0.0",
         "0.0",
         "0.0",
         "0.0",
         "0.0",
         "0.0",
         "4.0",
         "2.0",
         "0.0",
         "0.0",
         "0.0",
         "0.0",
         "0.0",
         "4.0",
         "4.0",
         "0.0",
         "0.0",
         "0.0",
         "0.0",
         "0.0",
         "5.0",
         "0.0",
         "0.0",
         "0.0",
         "0.0",
         "0.0",
         "0.0",
         "0.0",
         "0.0",
         "0.0",
         "0.0",
         "0.0",
         "0.0",
         "0.0",
         "0.0",
         "0.0",
         "0.0",
         "0.0",
         "0.0",
         "0.0",
         "0.0",
         "0.0",
         "0.0",
         "0.0",
         "0.0",
         "5.0",
         "0.0",
         "0.0",
         "0.0",
         "0.0",
         "0.0",
         "0.0",
         "0.0",
         "0.0",
         "0.0",
         "3.0",
         "0.0",
         "5.0",
         "0.0",
         "0.0",
         "0.0",
         "4.0",
         "0.0",
         "5.0",
         "0.0",
         "0.0",
         "0.0",
         "4.0",
         "4.0",
         "4.0",
         "0.0",
         "0.0",
         "0.0",
         "0.0",
         "0.0",
         "0.0",
         "0.0",
         "0.0",
         "0.0",
         "0.0",
         "0.0",
         "4.0",
         "0.0",
         "0.0",
         "0.0",
         "0.0",
         "0.0",
         "0.0",
         "0.0",
         "0.0",
         "0.0",
         "0.0",
         "4.0",
         "0.0",
         "0.0",
         "0.0",
         "0.0",
         "0.0",
         "0.0",
         "0.0",
         "5.0",
         "0.0",
         "0.0",
         "0.0",
         "0.0",
         "5.0",
         "3.0",
         "0.0",
         "0.0",
         "0.0",
         "4.0",
         "0.0"
        ],
        [
         "2",
         "0.0",
         "0.0",
         "0.0",
         "0.0",
         "0.0",
         "0.0",
         "0.0",
         "0.0",
         "1.0",
         "0.0",
         "0.0",
         "0.0",
         "0.0",
         "0.0",
         "0.0",
         "3.0",
         "0.0",
         "0.0",
         "0.0",
         "0.0",
         "0.0",
         "0.0",
         "0.0",
         "0.0",
         "0.0",
         "0.0",
         "0.0",
         "0.0",
         "0.0",
         "0.0",
         "0.0",
         "0.0",
         "4.0",
         "0.0",
         "0.0",
         "0.0",
         "0.0",
         "0.0",
         "0.0",
         "0.0",
         "0.0",
         "0.0",
         "0.0",
         "0.0",
         "0.0",
         "0.0",
         "0.0",
         "0.0",
         "0.0",
         "0.0",
         "0.0",
         "0.0",
         "0.0",
         "0.0",
         "0.0",
         "0.0",
         "0.0",
         "0.0",
         "0.0",
         "0.0",
         "0.0",
         "0.0",
         "0.0",
         "0.0",
         "0.0",
         "0.0",
         "0.0",
         "0.0",
         "0.0",
         "0.0",
         "0.0",
         "0.0",
         "0.0",
         "0.0",
         "0.0",
         "0.0",
         "0.0",
         "0.0",
         "0.0",
         "0.0",
         "0.0",
         "0.0",
         "0.0",
         "0.0",
         "3.0",
         "0.0",
         "0.0",
         "0.0",
         "0.0",
         "0.0",
         "0.0",
         "0.0",
         "1.0",
         "0.0",
         "0.0",
         "0.0",
         "0.0",
         "0.0",
         "5.0",
         "0.0",
         "0.0",
         "0.0",
         "0.0",
         "0.0",
         "0.0",
         "0.0",
         "0.0",
         "0.0",
         "0.0",
         "0.0",
         "0.0",
         "0.0",
         "0.0",
         "0.0",
         "0.0",
         "0.0",
         "0.0",
         "0.0",
         "0.0",
         "0.0",
         "0.0",
         "0.0",
         "0.0",
         "0.0",
         "0.0",
         "0.0",
         "0.0",
         "0.0",
         "0.0",
         "0.0",
         "0.0",
         "0.0",
         "0.0",
         "0.0",
         "0.0",
         "0.0",
         "0.0",
         "0.0",
         "0.0",
         "0.0",
         "0.0",
         "0.0",
         "0.0",
         "0.0",
         "3.0",
         "0.0",
         "0.0",
         "0.0",
         "0.0",
         "0.0",
         "0.0",
         "0.0",
         "0.0",
         "0.0",
         "0.0",
         "0.0",
         "0.0",
         "0.0",
         "0.0",
         "0.0",
         "0.0",
         "0.0",
         "0.0",
         "0.0",
         "0.0",
         "0.0",
         "0.0",
         "0.0",
         "0.0",
         "0.0",
         "0.0",
         "0.0",
         "0.0",
         "0.0",
         "0.0",
         "0.0",
         "0.0",
         "0.0",
         "4.0",
         "0.0",
         "0.0",
         "0.0",
         "0.0",
         "0.0",
         "0.0",
         "0.0",
         "0.0",
         "0.0",
         "0.0",
         "0.0",
         "0.0",
         "0.0",
         "0.0",
         "0.0",
         "0.0",
         "0.0",
         "0.0",
         "0.0",
         "0.0",
         "0.0",
         "0.0",
         "0.0",
         "0.0",
         "0.0",
         "0.0",
         "0.0",
         "0.0",
         "0.0",
         "0.0",
         "0.0",
         "0.0",
         "0.0",
         "0.0",
         "0.0",
         "0.0",
         "0.0",
         "0.0",
         "0.0",
         "0.0",
         "0.0",
         "0.0",
         "0.0",
         "0.0",
         "0.0",
         "0.0",
         "0.0",
         "0.0",
         "0.0",
         "4.0",
         "0.0",
         "0.0",
         "0.0",
         "0.0",
         "0.0",
         "0.0",
         "0.0",
         "0.0",
         "0.0",
         "0.0",
         "0.0",
         "0.0",
         "0.0",
         "0.0",
         "0.0",
         "0.0",
         "0.0",
         "0.0",
         "0.0",
         "0.0",
         "0.0",
         "0.0",
         "0.0",
         "0.0",
         "0.0",
         "0.0",
         "0.0",
         "0.0",
         "0.0",
         "0.0",
         "0.0",
         "0.0",
         "0.0",
         "0.0",
         "0.0",
         "0.0",
         "0.0",
         "0.0",
         "0.0",
         "0.0",
         "0.0",
         "0.0",
         "0.0",
         "0.0",
         "0.0",
         "0.0",
         "0.0",
         "0.0",
         "0.0",
         "0.0",
         "0.0",
         "0.0",
         "0.0",
         "0.0",
         "0.0",
         "0.0",
         "0.0",
         "0.0",
         "0.0",
         "0.0",
         "0.0",
         "0.0",
         "0.0",
         "0.0",
         "0.0",
         "0.0",
         "0.0",
         "0.0",
         "0.0",
         "0.0",
         "0.0",
         "0.0",
         "0.0",
         "0.0",
         "0.0",
         "0.0",
         "0.0",
         "0.0",
         "0.0",
         "0.0",
         "0.0",
         "0.0",
         "0.0",
         "0.0",
         "0.0",
         "0.0",
         "0.0",
         "0.0",
         "0.0",
         "0.0",
         "0.0",
         "0.0",
         "0.0",
         "0.0",
         "0.0",
         "0.0",
         "0.0",
         "0.0",
         "0.0",
         "0.0",
         "0.0",
         "0.0",
         "0.0",
         "0.0",
         "3.0",
         "0.0",
         "0.0",
         "0.0",
         "0.0",
         "0.0",
         "0.0",
         "0.0",
         "0.0",
         "0.0",
         "0.0",
         "0.0",
         "0.0",
         "0.0",
         "0.0",
         "0.0",
         "0.0",
         "0.0",
         "0.0",
         "0.0",
         "0.0",
         "0.0",
         "0.0",
         "0.0",
         "0.0",
         "0.0",
         "0.0",
         "0.0",
         "0.0",
         "0.0",
         "0.0",
         "0.0",
         "0.0",
         "0.0",
         "0.0",
         "0.0",
         "0.0",
         "0.0",
         "0.0",
         "0.0",
         "0.0",
         "0.0",
         "0.0",
         "0.0",
         "0.0",
         "0.0",
         "0.0",
         "0.0",
         "0.0",
         "0.0",
         "0.0",
         "0.0",
         "0.0",
         "0.0",
         "0.0",
         "0.0",
         "0.0",
         "0.0",
         "0.0",
         "0.0",
         "0.0",
         "0.0",
         "0.0",
         "1.0",
         "0.0",
         "0.0",
         "0.0",
         "0.0",
         "0.0",
         "0.0",
         "0.0",
         "0.0",
         "0.0",
         "0.0",
         "0.0",
         "0.0",
         "0.0",
         "3.0",
         "0.0",
         "0.0",
         "0.0",
         "0.0",
         "0.0",
         "0.0",
         "0.0",
         "0.0",
         "0.0",
         "0.0",
         "0.0",
         "0.0",
         "0.0",
         "0.0",
         "4.0",
         "0.0",
         "0.0",
         "0.0",
         "0.0",
         "0.0",
         "0.0",
         "0.0",
         "0.0",
         "0.0",
         "0.0",
         "0.0",
         "0.0",
         "0.0",
         "0.0",
         "0.0",
         "0.0",
         "0.0",
         "0.0",
         "0.0",
         "0.0",
         "0.0",
         "0.0",
         "0.0",
         "0.0",
         "0.0",
         "0.0",
         "0.0",
         "0.0",
         "0.0",
         "5.0",
         "0.0",
         "0.0",
         "0.0",
         "0.0",
         "4.0",
         "0.0",
         "0.0",
         "0.0",
         "0.0",
         "0.0",
         "0.0",
         "0.0",
         "0.0",
         "0.0",
         "0.0",
         "0.0",
         "0.0",
         "0.0",
         "0.0",
         "0.0",
         "3.0",
         "0.0",
         "0.0",
         "0.0",
         "0.0",
         "0.0",
         "0.0",
         "0.0",
         "3.0",
         "0.0",
         "0.0",
         "3.0",
         "0.0",
         "0.0",
         "0.0",
         "0.0",
         "0.0",
         "0.0",
         "0.0",
         "0.0",
         "0.0",
         "0.0",
         "5.0",
         "0.0",
         "0.0",
         "0.0",
         "0.0",
         "0.0",
         "0.0",
         "0.0",
         "0.0",
         "0.0",
         "0.0",
         "0.0",
         "0.0",
         "0.0",
         "0.0",
         "0.0",
         "0.0",
         "0.0",
         "0.0",
         "0.0",
         "3.0",
         "0.0",
         "0.0",
         "0.0",
         "0.0",
         "0.0",
         "0.0",
         "0.0",
         "0.0",
         "0.0",
         "0.0",
         "0.0",
         "0.0",
         "0.0",
         "0.0",
         "0.0",
         "0.0",
         "0.0",
         "0.0",
         "0.0",
         "4.0",
         "0.0",
         "0.0",
         "0.0",
         "0.0",
         "0.0",
         "0.0",
         "0.0",
         "0.0",
         "0.0",
         "0.0",
         "0.0",
         "0.0",
         "0.0",
         "0.0",
         "0.0",
         "0.0",
         "0.0",
         "0.0",
         "0.0",
         "0.0",
         "0.0",
         "0.0",
         "0.0",
         "0.0",
         "0.0",
         "0.0",
         "0.0",
         "0.0",
         "0.0",
         "0.0",
         "0.0",
         "0.0",
         "0.0",
         "4.0",
         "0.0",
         "0.0",
         "0.0",
         "0.0",
         "0.0",
         "0.0",
         "0.0",
         "0.0",
         "0.0",
         "0.0",
         "0.0",
         "0.0",
         "0.0",
         "0.0",
         "0.0",
         "0.0",
         "0.0",
         "0.0",
         "0.0",
         "0.0",
         "0.0",
         "0.0",
         "0.0",
         "0.0",
         "0.0",
         "0.0",
         "0.0",
         "0.0",
         "0.0",
         "0.0",
         "0.0",
         "0.0",
         "0.0",
         "0.0",
         "0.0",
         "0.0",
         "0.0",
         "0.0",
         "0.0",
         "5.0",
         "0.0",
         "0.0",
         "0.0",
         "0.0",
         "0.0",
         "0.0",
         "0.0",
         "0.0",
         "5.0",
         "0.0",
         "0.0",
         "0.0",
         "0.0",
         "0.0",
         "0.0",
         "0.0",
         "0.0",
         "0.0",
         "0.0",
         "0.0",
         "0.0",
         "0.0",
         "0.0",
         "0.0",
         "0.0",
         "0.0",
         "0.0",
         "0.0",
         "0.0",
         "0.0",
         "0.0",
         "0.0",
         "0.0",
         "0.0",
         "0.0",
         "0.0",
         "0.0",
         "0.0",
         "0.0",
         "0.0",
         "0.0",
         "0.0",
         "0.0",
         "0.0",
         "0.0",
         "0.0",
         "0.0",
         "0.0",
         "0.0",
         "0.0",
         "0.0",
         "0.0",
         "0.0",
         "4.0",
         "0.0",
         "0.0",
         "0.0",
         "0.0",
         "0.0",
         "0.0",
         "0.0",
         "0.0",
         "0.0",
         "0.0",
         "0.0",
         "0.0",
         "0.0",
         "0.0",
         "0.0",
         "0.0",
         "0.0",
         "0.0",
         "0.0",
         "0.0",
         "0.0",
         "0.0",
         "0.0",
         "0.0",
         "0.0",
         "0.0",
         "0.0",
         "0.0",
         "4.0",
         "0.0",
         "0.0",
         "0.0",
         "0.0",
         "0.0",
         "0.0",
         "0.0",
         "0.0",
         "0.0",
         "0.0",
         "0.0",
         "0.0",
         "0.0",
         "0.0",
         "0.0",
         "0.0",
         "0.0",
         "0.0",
         "0.0",
         "0.0",
         "0.0",
         "0.0",
         "0.0",
         "0.0",
         "0.0",
         "0.0",
         "0.0",
         "0.0",
         "0.0",
         "0.0",
         "0.0",
         "0.0",
         "0.0",
         "3.0",
         "0.0",
         "0.0",
         "0.0",
         "4.0",
         "0.0",
         "0.0",
         "0.0",
         "0.0",
         "0.0",
         "0.0",
         "0.0",
         "0.0",
         "0.0",
         "0.0",
         "0.0",
         "0.0",
         "0.0",
         "0.0",
         "0.0",
         "0.0",
         "0.0",
         "0.0",
         "0.0",
         "0.0",
         "0.0",
         "0.0",
         "0.0",
         "0.0",
         "0.0",
         "0.0",
         "0.0",
         "0.0",
         "0.0",
         "0.0",
         "0.0",
         "0.0",
         "0.0",
         "0.0",
         "0.0",
         "0.0",
         "0.0",
         "0.0",
         "0.0",
         "0.0",
         "0.0",
         "0.0",
         "0.0",
         "0.0",
         "0.0",
         "0.0",
         "4.0",
         "0.0",
         "0.0",
         "0.0",
         "0.0",
         "0.0",
         "0.0",
         "0.0",
         "0.0",
         "0.0",
         "0.0",
         "0.0",
         "0.0",
         "0.0",
         "0.0",
         "0.0",
         "0.0",
         "0.0",
         "0.0",
         "0.0",
         "0.0",
         "0.0",
         "0.0",
         "0.0",
         "0.0",
         "0.0",
         "0.0",
         "0.0",
         "0.0",
         "0.0",
         "0.0",
         "0.0",
         "0.0",
         "0.0",
         "0.0",
         "0.0",
         "0.0",
         "0.0",
         "0.0",
         "0.0",
         "0.0",
         "0.0",
         "0.0",
         "0.0",
         "0.0",
         "5.0",
         "0.0",
         "0.0",
         "0.0",
         "5.0",
         "0.0",
         "0.0",
         "0.0",
         "0.0",
         "0.0",
         "0.0",
         "0.0",
         "0.0",
         "0.0",
         "0.0",
         "0.0",
         "0.0",
         "0.0",
         "0.0",
         "0.0",
         "0.0",
         "0.0",
         "0.0",
         "0.0",
         "0.0",
         "0.0",
         "0.0",
         "0.0",
         "0.0",
         "0.0",
         "4.0",
         "0.0",
         "0.0",
         "0.0",
         "0.0",
         "1.0",
         "0.0",
         "0.0",
         "0.0",
         "0.0",
         "0.0",
         "0.0",
         "0.0",
         "0.0",
         "0.0",
         "0.0",
         "0.0",
         "0.0",
         "0.0",
         "0.0",
         "0.0",
         "0.0",
         "0.0",
         "0.0",
         "0.0",
         "0.0",
         "0.0",
         "0.0",
         "0.0",
         "0.0",
         "0.0",
         "0.0",
         "0.0",
         "0.0",
         "0.0",
         "0.0",
         "0.0",
         "0.0",
         "0.0",
         "0.0",
         "0.0",
         "0.0",
         "0.0",
         "0.0",
         "0.0",
         "0.0",
         "0.0",
         "0.0",
         "0.0",
         "0.0",
         "0.0",
         "0.0",
         "0.0",
         "0.0",
         "0.0",
         "0.0",
         "0.0",
         "0.0",
         "0.0",
         "0.0",
         "0.0",
         "0.0",
         "0.0",
         "0.0",
         "0.0",
         "0.0",
         "0.0",
         "0.0",
         "0.0",
         "0.0",
         "0.0",
         "0.0",
         "0.0",
         "0.0",
         "0.0",
         "0.0",
         "0.0",
         "0.0",
         "0.0",
         "0.0",
         "0.0",
         "0.0",
         "0.0",
         "0.0",
         "0.0",
         "0.0",
         "0.0",
         "0.0",
         "0.0",
         "0.0",
         "0.0",
         "3.0",
         "0.0",
         "0.0",
         "0.0",
         "0.0",
         "0.0",
         "0.0",
         "0.0",
         "0.0",
         "0.0",
         "0.0",
         "0.0",
         "0.0",
         "0.0",
         "0.0",
         "0.0",
         "0.0",
         "0.0",
         "4.0",
         "0.0",
         "0.0",
         "0.0",
         "0.0",
         "0.0",
         "0.0",
         "0.0",
         "0.0",
         "0.0",
         "0.0",
         "3.0",
         "4.0",
         "0.0",
         "0.0",
         "0.0",
         "0.0",
         "0.0",
         "0.0",
         "0.0",
         "0.0",
         "0.0",
         "0.0",
         "0.0",
         "0.0",
         "0.0",
         "0.0",
         "0.0",
         "0.0",
         "0.0",
         "0.0",
         "0.0",
         "0.0",
         "0.0",
         "0.0",
         "0.0",
         "0.0",
         "0.0",
         "0.0",
         "0.0",
         "0.0",
         "0.0",
         "0.0",
         "0.0",
         "0.0",
         "0.0",
         "0.0",
         "4.0",
         "0.0",
         "0.0",
         "0.0",
         "0.0",
         "0.0",
         "0.0",
         "0.0",
         "0.0",
         "0.0",
         "0.0",
         "0.0",
         "0.0",
         "0.0",
         "4.0",
         "0.0",
         "0.0",
         "0.0",
         "0.0",
         "0.0",
         "0.0",
         "0.0",
         "0.0",
         "0.0",
         "0.0",
         "0.0",
         "0.0",
         "0.0",
         "0.0",
         "0.0",
         "0.0",
         "0.0",
         "0.0",
         "0.0",
         "0.0",
         "0.0",
         "0.0",
         "0.0",
         "0.0",
         "0.0",
         "0.0",
         "0.0",
         "0.0",
         "0.0",
         "0.0",
         "0.0",
         "0.0",
         "0.0",
         "0.0",
         "0.0",
         "0.0",
         "0.0",
         "0.0",
         "0.0",
         "0.0",
         "0.0",
         "0.0",
         "0.0",
         "0.0",
         "0.0",
         "0.0",
         "0.0",
         "0.0",
         "0.0",
         "0.0",
         "0.0",
         "0.0",
         "0.0",
         "0.0",
         "0.0",
         "0.0",
         "0.0",
         "0.0",
         "0.0",
         "0.0",
         "0.0",
         "0.0",
         "0.0",
         "0.0",
         "0.0",
         "0.0",
         "0.0",
         "0.0",
         "0.0",
         "0.0",
         "0.0",
         "0.0",
         "0.0",
         "4.0",
         "0.0",
         "0.0",
         "0.0",
         "0.0",
         "0.0",
         "0.0",
         "0.0",
         "0.0",
         "0.0",
         "0.0",
         "0.0",
         "0.0",
         "0.0",
         "0.0",
         "0.0",
         "0.0",
         "0.0",
         "0.0",
         "0.0",
         "0.0",
         "0.0",
         "0.0",
         "0.0",
         "0.0",
         "0.0",
         "0.0",
         "0.0",
         "0.0",
         "0.0",
         "0.0",
         "0.0",
         "0.0",
         "0.0",
         "0.0",
         "0.0",
         "0.0",
         "0.0",
         "0.0",
         "0.0",
         "0.0",
         "0.0",
         "0.0",
         "0.0",
         "0.0",
         "0.0",
         "0.0",
         "0.0",
         "0.0",
         "0.0",
         "0.0",
         "0.0",
         "0.0",
         "0.0",
         "0.0",
         "0.0",
         "0.0",
         "0.0",
         "0.0",
         "0.0",
         "0.0",
         "0.0",
         "0.0",
         "0.0",
         "0.0",
         "0.0",
         "0.0",
         "0.0",
         "4.0",
         "0.0",
         "0.0",
         "0.0",
         "0.0",
         "0.0",
         "0.0",
         "0.0",
         "0.0",
         "0.0",
         "0.0",
         "0.0",
         "0.0",
         "0.0",
         "0.0",
         "0.0",
         "0.0",
         "0.0",
         "3.0",
         "0.0",
         "0.0",
         "0.0",
         "0.0",
         "0.0",
         "0.0",
         "0.0",
         "0.0",
         "0.0",
         "0.0",
         "0.0",
         "0.0",
         "0.0",
         "0.0",
         "0.0",
         "0.0",
         "0.0",
         "0.0",
         "0.0",
         "0.0",
         "4.0",
         "0.0",
         "0.0",
         "0.0",
         "0.0",
         "0.0",
         "0.0",
         "0.0",
         "0.0",
         "0.0",
         "0.0",
         "0.0",
         "0.0",
         "0.0",
         "0.0",
         "0.0",
         "0.0",
         "0.0",
         "0.0",
         "0.0",
         "0.0",
         "0.0",
         "0.0",
         "0.0",
         "0.0",
         "0.0",
         "4.0",
         "0.0",
         "0.0",
         "0.0",
         "0.0",
         "0.0",
         "2.0",
         "0.0",
         "0.0",
         "0.0",
         "0.0",
         "0.0",
         "3.0",
         "0.0",
         "0.0",
         "0.0",
         "0.0",
         "0.0",
         "0.0",
         "0.0",
         "0.0",
         "0.0",
         "0.0",
         "0.0",
         "0.0",
         "0.0",
         "0.0",
         "0.0",
         "0.0",
         "4.0",
         "0.0",
         "0.0",
         "0.0",
         "0.0",
         "0.0",
         "0.0",
         "0.0",
         "0.0",
         "3.0",
         "0.0",
         "0.0",
         "0.0",
         "0.0",
         "0.0",
         "0.0",
         "0.0",
         "0.0",
         "0.0",
         "0.0",
         "0.0",
         "0.0",
         "0.0",
         "3.0",
         "0.0",
         "0.0",
         "0.0",
         "0.0",
         "0.0",
         "0.0",
         "0.0",
         "0.0",
         "0.0",
         "0.0",
         "5.0",
         "0.0",
         "5.0",
         "0.0",
         "0.0",
         "0.0",
         "0.0",
         "0.0",
         "0.0",
         "0.0",
         "0.0",
         "0.0",
         "0.0",
         "0.0",
         "0.0",
         "0.0",
         "0.0",
         "0.0",
         "0.0",
         "5.0",
         "0.0",
         "0.0",
         "0.0",
         "0.0",
         "0.0",
         "0.0",
         "0.0",
         "0.0",
         "0.0",
         "0.0",
         "0.0",
         "0.0",
         "0.0",
         "0.0",
         "0.0",
         "0.0",
         "0.0",
         "0.0",
         "0.0",
         "0.0",
         "0.0",
         "0.0",
         "0.0",
         "0.0",
         "0.0",
         "0.0",
         "0.0",
         "0.0",
         "0.0",
         "0.0",
         "0.0",
         "0.0",
         "0.0",
         "0.0",
         "0.0",
         "0.0",
         "0.0",
         "0.0",
         "0.0",
         "0.0",
         "0.0",
         "0.0",
         "0.0",
         "0.0",
         "0.0",
         "0.0",
         "0.0",
         "0.0",
         "0.0",
         "0.0",
         "0.0",
         "0.0",
         "0.0",
         "0.0",
         "0.0",
         "0.0",
         "0.0",
         "0.0",
         "0.0",
         "0.0",
         "0.0",
         "0.0",
         "0.0",
         "0.0",
         "0.0",
         "0.0",
         "0.0",
         "0.0",
         "0.0",
         "0.0",
         "0.0",
         "0.0",
         "0.0",
         "0.0",
         "0.0",
         "0.0",
         "0.0",
         "0.0",
         "0.0",
         "0.0",
         "0.0",
         "0.0",
         "0.0",
         "5.0",
         "0.0",
         "0.0",
         "0.0",
         "0.0",
         "0.0",
         "0.0",
         "0.0",
         "0.0",
         "0.0",
         "0.0",
         "0.0",
         "0.0",
         "0.0",
         "0.0",
         "0.0",
         "0.0",
         "0.0",
         "0.0",
         "0.0",
         "0.0",
         "0.0",
         "0.0",
         "0.0",
         "0.0",
         "0.0",
         "0.0",
         "0.0",
         "0.0",
         "0.0",
         "0.0",
         "0.0",
         "0.0",
         "0.0",
         "0.0",
         "0.0",
         "0.0",
         "0.0",
         "0.0",
         "0.0",
         "0.0",
         "0.0",
         "0.0",
         "0.0",
         "0.0",
         "0.0",
         "0.0",
         "0.0",
         "0.0",
         "0.0",
         "0.0",
         "0.0",
         "0.0",
         "0.0",
         "0.0",
         "0.0",
         "0.0",
         "0.0",
         "0.0",
         "0.0",
         "0.0",
         "0.0",
         "0.0",
         "0.0",
         "0.0",
         "0.0",
         "0.0",
         "0.0",
         "0.0",
         "0.0",
         "0.0",
         "0.0",
         "0.0",
         "0.0",
         "0.0",
         "0.0",
         "0.0",
         "0.0",
         "0.0",
         "0.0",
         "0.0",
         "0.0",
         "0.0",
         "0.0",
         "0.0",
         "0.0",
         "0.0",
         "0.0",
         "0.0",
         "0.0",
         "0.0",
         "0.0",
         "0.0",
         "0.0",
         "0.0",
         "0.0",
         "0.0",
         "4.0",
         "0.0",
         "4.0",
         "0.0",
         "0.0",
         "5.0",
         "0.0",
         "0.0",
         "0.0",
         "0.0",
         "0.0",
         "0.0",
         "0.0",
         "0.0",
         "0.0",
         "0.0",
         "0.0",
         "0.0",
         "0.0",
         "0.0",
         "0.0",
         "0.0",
         "0.0",
         "0.0",
         "0.0",
         "0.0",
         "0.0",
         "0.0",
         "4.0",
         "0.0",
         "0.0",
         "0.0",
         "0.0",
         "0.0",
         "0.0",
         "0.0",
         "0.0",
         "0.0",
         "0.0",
         "0.0",
         "0.0",
         "0.0",
         "4.0",
         "0.0",
         "0.0",
         "0.0",
         "0.0",
         "0.0",
         "0.0",
         "0.0",
         "0.0",
         "0.0",
         "0.0",
         "0.0",
         "0.0",
         "0.0",
         "0.0",
         "0.0",
         "0.0",
         "0.0",
         "0.0",
         "4.0",
         "0.0",
         "0.0",
         "0.0",
         "0.0",
         "0.0",
         "0.0",
         "0.0",
         "0.0",
         "0.0",
         "0.0",
         "0.0",
         "0.0",
         "0.0",
         "3.0",
         "0.0",
         "0.0",
         "0.0",
         "0.0",
         "0.0",
         "0.0",
         "0.0",
         "0.0",
         "0.0",
         "0.0",
         "0.0",
         "0.0",
         "0.0",
         "0.0",
         "0.0",
         "0.0",
         "0.0",
         "0.0",
         "0.0",
         "0.0",
         "0.0",
         "0.0",
         "0.0",
         "0.0",
         "0.0",
         "0.0",
         "0.0",
         "0.0",
         "0.0",
         "0.0",
         "0.0",
         "0.0",
         "0.0",
         "0.0",
         "0.0",
         "0.0",
         "0.0",
         "0.0",
         "0.0",
         "0.0",
         "0.0",
         "0.0",
         "0.0",
         "0.0",
         "0.0",
         "0.0",
         "0.0",
         "0.0",
         "0.0",
         "0.0",
         "0.0",
         "0.0",
         "0.0",
         "0.0",
         "0.0",
         "0.0",
         "0.0",
         "0.0",
         "0.0",
         "0.0",
         "0.0",
         "0.0",
         "0.0",
         "0.0",
         "0.0",
         "0.0",
         "5.0",
         "0.0",
         "0.0",
         "0.0",
         "0.0",
         "0.0",
         "0.0",
         "0.0",
         "0.0",
         "0.0",
         "0.0",
         "0.0",
         "0.0",
         "0.0",
         "0.0",
         "0.0",
         "0.0",
         "0.0",
         "0.0",
         "0.0",
         "0.0",
         "0.0",
         "0.0",
         "0.0",
         "0.0",
         "0.0",
         "0.0"
        ],
        [
         "3",
         "0.0",
         "0.0",
         "0.0",
         "0.0",
         "2.0",
         "0.0",
         "0.0",
         "0.0",
         "0.0",
         "0.0",
         "0.0",
         "0.0",
         "0.0",
         "0.0",
         "0.0",
         "0.0",
         "0.0",
         "0.0",
         "0.0",
         "0.0",
         "0.0",
         "0.0",
         "0.0",
         "0.0",
         "0.0",
         "0.0",
         "0.0",
         "0.0",
         "0.0",
         "0.0",
         "0.0",
         "0.0",
         "2.0",
         "0.0",
         "0.0",
         "0.0",
         "0.0",
         "0.0",
         "0.0",
         "0.0",
         "0.0",
         "0.0",
         "0.0",
         "3.0",
         "0.0",
         "0.0",
         "0.0",
         "0.0",
         "0.0",
         "0.0",
         "0.0",
         "0.0",
         "0.0",
         "0.0",
         "0.0",
         "0.0",
         "0.0",
         "0.0",
         "0.0",
         "0.0",
         "0.0",
         "0.0",
         "0.0",
         "0.0",
         "0.0",
         "0.0",
         "0.0",
         "0.0",
         "0.0",
         "0.0",
         "0.0",
         "0.0",
         "0.0",
         "0.0",
         "0.0",
         "0.0",
         "0.0",
         "0.0",
         "0.0",
         "0.0",
         "0.0",
         "0.0",
         "0.0",
         "0.0",
         "0.0",
         "0.0",
         "0.0",
         "0.0",
         "0.0",
         "4.0",
         "0.0",
         "0.0",
         "0.0",
         "0.0",
         "0.0",
         "0.0",
         "0.0",
         "0.0",
         "0.0",
         "0.0",
         "0.0",
         "0.0",
         "0.0",
         "0.0",
         "0.0",
         "0.0",
         "0.0",
         "0.0",
         "0.0",
         "0.0",
         "0.0",
         "0.0",
         "0.0",
         "0.0",
         "0.0",
         "0.0",
         "0.0",
         "0.0",
         "0.0",
         "0.0",
         "0.0",
         "0.0",
         "0.0",
         "0.0",
         "0.0",
         "0.0",
         "0.0",
         "0.0",
         "0.0",
         "0.0",
         "0.0",
         "0.0",
         "0.0",
         "0.0",
         "0.0",
         "0.0",
         "2.0",
         "0.0",
         "0.0",
         "0.0",
         "0.0",
         "0.0",
         "0.0",
         "0.0",
         "0.0",
         "0.0",
         "0.0",
         "0.0",
         "0.0",
         "0.0",
         "0.0",
         "0.0",
         "0.0",
         "0.0",
         "0.0",
         "0.0",
         "0.0",
         "0.0",
         "0.0",
         "0.0",
         "0.0",
         "0.0",
         "0.0",
         "0.0",
         "0.0",
         "0.0",
         "0.0",
         "0.0",
         "0.0",
         "0.0",
         "0.0",
         "0.0",
         "0.0",
         "0.0",
         "0.0",
         "0.0",
         "0.0",
         "0.0",
         "0.0",
         "0.0",
         "0.0",
         "0.0",
         "0.0",
         "0.0",
         "0.0",
         "0.0",
         "0.0",
         "0.0",
         "0.0",
         "0.0",
         "0.0",
         "0.0",
         "0.0",
         "0.0",
         "0.0",
         "0.0",
         "0.0",
         "0.0",
         "0.0",
         "0.0",
         "0.0",
         "0.0",
         "0.0",
         "0.0",
         "0.0",
         "0.0",
         "0.0",
         "5.0",
         "0.0",
         "0.0",
         "0.0",
         "0.0",
         "0.0",
         "0.0",
         "0.0",
         "0.0",
         "0.0",
         "0.0",
         "0.0",
         "0.0",
         "0.0",
         "0.0",
         "0.0",
         "0.0",
         "0.0",
         "0.0",
         "0.0",
         "0.0",
         "0.0",
         "0.0",
         "0.0",
         "0.0",
         "0.0",
         "0.0",
         "0.0",
         "0.0",
         "0.0",
         "0.0",
         "0.0",
         "0.0",
         "0.0",
         "0.0",
         "0.0",
         "0.0",
         "0.0",
         "0.0",
         "0.0",
         "0.0",
         "0.0",
         "0.0",
         "0.0",
         "0.0",
         "0.0",
         "0.0",
         "0.0",
         "0.0",
         "0.0",
         "0.0",
         "0.0",
         "0.0",
         "0.0",
         "0.0",
         "0.0",
         "0.0",
         "0.0",
         "0.0",
         "0.0",
         "0.0",
         "0.0",
         "0.0",
         "0.0",
         "0.0",
         "0.0",
         "0.0",
         "0.0",
         "0.0",
         "0.0",
         "0.0",
         "0.0",
         "0.0",
         "0.0",
         "0.0",
         "0.0",
         "0.0",
         "0.0",
         "0.0",
         "0.0",
         "0.0",
         "0.0",
         "0.0",
         "0.0",
         "0.0",
         "0.0",
         "3.0",
         "0.0",
         "0.0",
         "0.0",
         "0.0",
         "0.0",
         "0.0",
         "0.0",
         "0.0",
         "0.0",
         "0.0",
         "0.0",
         "0.0",
         "0.0",
         "0.0",
         "0.0",
         "0.0",
         "0.0",
         "0.0",
         "0.0",
         "0.0",
         "0.0",
         "0.0",
         "0.0",
         "0.0",
         "0.0",
         "0.0",
         "0.0",
         "0.0",
         "0.0",
         "0.0",
         "0.0",
         "0.0",
         "0.0",
         "0.0",
         "0.0",
         "0.0",
         "0.0",
         "0.0",
         "5.0",
         "2.0",
         "0.0",
         "0.0",
         "0.0",
         "0.0",
         "0.0",
         "4.0",
         "0.0",
         "0.0",
         "0.0",
         "0.0",
         "0.0",
         "0.0",
         "0.0",
         "0.0",
         "1.0",
         "0.0",
         "1.0",
         "0.0",
         "0.0",
         "0.0",
         "0.0",
         "0.0",
         "0.0",
         "0.0",
         "0.0",
         "0.0",
         "0.0",
         "0.0",
         "0.0",
         "0.0",
         "0.0",
         "0.0",
         "0.0",
         "0.0",
         "0.0",
         "0.0",
         "0.0",
         "0.0",
         "0.0",
         "0.0",
         "0.0",
         "0.0",
         "0.0",
         "0.0",
         "2.0",
         "0.0",
         "0.0",
         "0.0",
         "0.0",
         "0.0",
         "0.0",
         "0.0",
         "0.0",
         "0.0",
         "0.0",
         "0.0",
         "0.0",
         "0.0",
         "0.0",
         "0.0",
         "0.0",
         "0.0",
         "0.0",
         "3.0",
         "1.0",
         "0.0",
         "0.0",
         "0.0",
         "0.0",
         "0.0",
         "0.0",
         "0.0",
         "0.0",
         "4.0",
         "0.0",
         "0.0",
         "3.0",
         "1.0",
         "0.0",
         "0.0",
         "0.0",
         "0.0",
         "0.0",
         "0.0",
         "0.0",
         "0.0",
         "0.0",
         "0.0",
         "0.0",
         "0.0",
         "0.0",
         "0.0",
         "0.0",
         "0.0",
         "0.0",
         "0.0",
         "0.0",
         "0.0",
         "0.0",
         "0.0",
         "0.0",
         "0.0",
         "0.0",
         "0.0",
         "0.0",
         "0.0",
         "0.0",
         "0.0",
         "0.0",
         "0.0",
         "0.0",
         "0.0",
         "0.0",
         "0.0",
         "0.0",
         "0.0",
         "0.0",
         "0.0",
         "0.0",
         "4.0",
         "0.0",
         "0.0",
         "0.0",
         "0.0",
         "0.0",
         "0.0",
         "0.0",
         "0.0",
         "0.0",
         "0.0",
         "0.0",
         "0.0",
         "0.0",
         "0.0",
         "0.0",
         "0.0",
         "0.0",
         "4.0",
         "0.0",
         "0.0",
         "2.0",
         "0.0",
         "0.0",
         "0.0",
         "0.0",
         "0.0",
         "0.0",
         "0.0",
         "0.0",
         "0.0",
         "0.0",
         "0.0",
         "0.0",
         "0.0",
         "0.0",
         "0.0",
         "3.0",
         "0.0",
         "0.0",
         "0.0",
         "0.0",
         "0.0",
         "0.0",
         "0.0",
         "0.0",
         "0.0",
         "0.0",
         "0.0",
         "0.0",
         "0.0",
         "0.0",
         "0.0",
         "0.0",
         "0.0",
         "0.0",
         "0.0",
         "0.0",
         "0.0",
         "0.0",
         "0.0",
         "0.0",
         "0.0",
         "0.0",
         "0.0",
         "0.0",
         "0.0",
         "0.0",
         "0.0",
         "0.0",
         "0.0",
         "0.0",
         "0.0",
         "0.0",
         "0.0",
         "0.0",
         "0.0",
         "0.0",
         "0.0",
         "0.0",
         "0.0",
         "0.0",
         "0.0",
         "0.0",
         "0.0",
         "0.0",
         "0.0",
         "0.0",
         "0.0",
         "0.0",
         "0.0",
         "0.0",
         "0.0",
         "0.0",
         "0.0",
         "0.0",
         "0.0",
         "0.0",
         "0.0",
         "0.0",
         "0.0",
         "0.0",
         "0.0",
         "0.0",
         "0.0",
         "0.0",
         "0.0",
         "0.0",
         "0.0",
         "0.0",
         "0.0",
         "0.0",
         "0.0",
         "0.0",
         "0.0",
         "0.0",
         "0.0",
         "0.0",
         "0.0",
         "0.0",
         "0.0",
         "0.0",
         "0.0",
         "0.0",
         "2.0",
         "0.0",
         "2.0",
         "0.0",
         "0.0",
         "0.0",
         "0.0",
         "0.0",
         "0.0",
         "0.0",
         "0.0",
         "0.0",
         "0.0",
         "0.0",
         "0.0",
         "0.0",
         "0.0",
         "0.0",
         "0.0",
         "0.0",
         "0.0",
         "0.0",
         "0.0",
         "0.0",
         "0.0",
         "0.0",
         "0.0",
         "0.0",
         "0.0",
         "0.0",
         "0.0",
         "0.0",
         "0.0",
         "0.0",
         "0.0",
         "0.0",
         "0.0",
         "0.0",
         "0.0",
         "0.0",
         "0.0",
         "0.0",
         "0.0",
         "0.0",
         "2.0",
         "0.0",
         "0.0",
         "0.0",
         "0.0",
         "0.0",
         "0.0",
         "0.0",
         "0.0",
         "0.0",
         "0.0",
         "0.0",
         "0.0",
         "0.0",
         "0.0",
         "0.0",
         "0.0",
         "0.0",
         "0.0",
         "0.0",
         "0.0",
         "0.0",
         "0.0",
         "0.0",
         "0.0",
         "0.0",
         "0.0",
         "0.0",
         "0.0",
         "0.0",
         "0.0",
         "0.0",
         "0.0",
         "0.0",
         "3.0",
         "0.0",
         "0.0",
         "0.0",
         "0.0",
         "0.0",
         "0.0",
         "0.0",
         "0.0",
         "0.0",
         "0.0",
         "0.0",
         "0.0",
         "0.0",
         "0.0",
         "0.0",
         "0.0",
         "0.0",
         "0.0",
         "0.0",
         "0.0",
         "0.0",
         "0.0",
         "0.0",
         "0.0",
         "0.0",
         "0.0",
         "0.0",
         "0.0",
         "0.0",
         "0.0",
         "0.0",
         "0.0",
         "0.0",
         "0.0",
         "0.0",
         "0.0",
         "0.0",
         "0.0",
         "0.0",
         "3.0",
         "0.0",
         "0.0",
         "0.0",
         "0.0",
         "0.0",
         "0.0",
         "0.0",
         "0.0",
         "0.0",
         "1.0",
         "0.0",
         "0.0",
         "1.0",
         "0.0",
         "0.0",
         "0.0",
         "0.0",
         "0.0",
         "0.0",
         "0.0",
         "0.0",
         "0.0",
         "0.0",
         "0.0",
         "0.0",
         "0.0",
         "0.0",
         "0.0",
         "0.0",
         "0.0",
         "0.0",
         "0.0",
         "0.0",
         "0.0",
         "0.0",
         "0.0",
         "0.0",
         "0.0",
         "0.0",
         "0.0",
         "0.0",
         "0.0",
         "0.0",
         "0.0",
         "0.0",
         "2.0",
         "0.0",
         "0.0",
         "0.0",
         "0.0",
         "0.0",
         "0.0",
         "0.0",
         "0.0",
         "0.0",
         "0.0",
         "0.0",
         "0.0",
         "0.0",
         "0.0",
         "0.0",
         "0.0",
         "0.0",
         "0.0",
         "0.0",
         "0.0",
         "0.0",
         "0.0",
         "0.0",
         "0.0",
         "0.0",
         "5.0",
         "0.0",
         "0.0",
         "0.0",
         "0.0",
         "0.0",
         "0.0",
         "0.0",
         "0.0",
         "0.0",
         "0.0",
         "0.0",
         "0.0",
         "0.0",
         "0.0",
         "0.0",
         "0.0",
         "0.0",
         "0.0",
         "0.0",
         "0.0",
         "0.0",
         "0.0",
         "0.0",
         "0.0",
         "0.0",
         "0.0",
         "0.0",
         "0.0",
         "0.0",
         "0.0",
         "0.0",
         "0.0",
         "0.0",
         "0.0",
         "0.0",
         "0.0",
         "0.0",
         "0.0",
         "0.0",
         "0.0",
         "0.0",
         "0.0",
         "0.0",
         "0.0",
         "0.0",
         "0.0",
         "0.0",
         "0.0",
         "0.0",
         "0.0",
         "0.0",
         "0.0",
         "0.0",
         "0.0",
         "0.0",
         "1.0",
         "0.0",
         "0.0",
         "0.0",
         "0.0",
         "0.0",
         "2.0",
         "0.0",
         "0.0",
         "0.0",
         "0.0",
         "0.0",
         "0.0",
         "0.0",
         "0.0",
         "0.0",
         "0.0",
         "0.0",
         "0.0",
         "0.0",
         "0.0",
         "0.0",
         "0.0",
         "0.0",
         "0.0",
         "0.0",
         "0.0",
         "0.0",
         "0.0",
         "0.0",
         "0.0",
         "0.0",
         "0.0",
         "0.0",
         "0.0",
         "0.0",
         "0.0",
         "2.0",
         "0.0",
         "0.0",
         "0.0",
         "0.0",
         "0.0",
         "0.0",
         "0.0",
         "0.0",
         "0.0",
         "0.0",
         "0.0",
         "0.0",
         "0.0",
         "0.0",
         "0.0",
         "0.0",
         "0.0",
         "0.0",
         "0.0",
         "0.0",
         "0.0",
         "0.0",
         "0.0",
         "0.0",
         "0.0",
         "0.0",
         "0.0",
         "0.0",
         "2.0",
         "0.0",
         "0.0",
         "0.0",
         "0.0",
         "0.0",
         "0.0",
         "0.0",
         "0.0",
         "0.0",
         "0.0",
         "0.0",
         "0.0",
         "0.0",
         "0.0",
         "0.0",
         "0.0",
         "0.0",
         "0.0",
         "0.0",
         "0.0",
         "0.0",
         "0.0",
         "0.0",
         "0.0",
         "3.0",
         "0.0",
         "0.0",
         "0.0",
         "0.0",
         "0.0",
         "0.0",
         "0.0",
         "0.0",
         "0.0",
         "0.0",
         "0.0",
         "0.0",
         "0.0",
         "4.0",
         "0.0",
         "0.0",
         "0.0",
         "0.0",
         "0.0",
         "0.0",
         "0.0",
         "0.0",
         "0.0",
         "0.0",
         "0.0",
         "0.0",
         "0.0",
         "0.0",
         "0.0",
         "0.0",
         "0.0",
         "0.0",
         "0.0",
         "0.0",
         "0.0",
         "0.0",
         "0.0",
         "0.0",
         "0.0",
         "0.0",
         "0.0",
         "0.0",
         "0.0",
         "0.0",
         "0.0",
         "0.0",
         "0.0",
         "0.0",
         "0.0",
         "0.0",
         "0.0",
         "0.0",
         "0.0",
         "0.0",
         "0.0",
         "0.0",
         "0.0",
         "0.0",
         "0.0",
         "0.0",
         "0.0",
         "0.0",
         "0.0",
         "0.0",
         "0.0",
         "0.0",
         "0.0",
         "2.0",
         "0.0",
         "0.0",
         "0.0",
         "0.0",
         "0.0",
         "0.0",
         "0.0",
         "0.0",
         "0.0",
         "0.0",
         "0.0",
         "0.0",
         "0.0",
         "0.0",
         "0.0",
         "0.0",
         "0.0",
         "0.0",
         "0.0",
         "5.0",
         "0.0",
         "0.0",
         "0.0",
         "0.0",
         "0.0",
         "0.0",
         "0.0",
         "0.0",
         "0.0",
         "0.0",
         "0.0",
         "0.0",
         "0.0",
         "0.0",
         "0.0",
         "0.0",
         "0.0",
         "3.0",
         "0.0",
         "0.0",
         "0.0",
         "0.0",
         "0.0",
         "0.0",
         "0.0",
         "0.0",
         "0.0",
         "0.0",
         "0.0",
         "0.0",
         "0.0",
         "0.0",
         "0.0",
         "0.0",
         "0.0",
         "0.0",
         "0.0",
         "0.0",
         "0.0",
         "0.0",
         "0.0",
         "0.0",
         "0.0",
         "0.0",
         "0.0",
         "0.0",
         "0.0",
         "0.0",
         "0.0",
         "0.0",
         "0.0",
         "0.0",
         "0.0",
         "0.0",
         "0.0",
         "0.0",
         "0.0",
         "0.0",
         "0.0",
         "0.0",
         "0.0",
         "0.0",
         "0.0",
         "0.0",
         "0.0",
         "0.0",
         "0.0",
         "0.0",
         "0.0",
         "0.0",
         "0.0",
         "0.0",
         "0.0",
         "0.0",
         "0.0",
         "0.0",
         "0.0",
         "0.0",
         "0.0",
         "0.0",
         "0.0",
         "0.0",
         "0.0",
         "0.0",
         "0.0",
         "0.0",
         "0.0",
         "0.0",
         "0.0",
         "0.0",
         "0.0",
         "0.0",
         "0.0",
         "0.0",
         "0.0",
         "0.0",
         "0.0",
         "0.0",
         "0.0",
         "0.0",
         "0.0",
         "0.0",
         "0.0",
         "0.0",
         "0.0",
         "0.0",
         "0.0",
         "0.0",
         "0.0",
         "0.0",
         "0.0",
         "0.0",
         "0.0",
         "0.0",
         "0.0",
         "0.0",
         "0.0",
         "0.0",
         "5.0",
         "0.0",
         "0.0",
         "0.0",
         "0.0",
         "0.0",
         "0.0",
         "0.0",
         "0.0",
         "0.0",
         "0.0",
         "0.0",
         "0.0",
         "0.0",
         "0.0",
         "0.0",
         "0.0",
         "0.0",
         "0.0",
         "0.0",
         "0.0",
         "0.0",
         "0.0",
         "0.0",
         "0.0",
         "0.0",
         "0.0",
         "0.0",
         "0.0",
         "0.0",
         "0.0",
         "0.0",
         "0.0",
         "0.0",
         "0.0",
         "0.0",
         "0.0",
         "1.0",
         "0.0",
         "0.0",
         "0.0",
         "0.0",
         "0.0",
         "0.0",
         "0.0",
         "0.0",
         "0.0",
         "0.0",
         "0.0",
         "0.0",
         "0.0",
         "0.0",
         "0.0",
         "0.0",
         "0.0",
         "0.0",
         "0.0",
         "0.0",
         "0.0",
         "0.0",
         "0.0",
         "0.0",
         "0.0",
         "0.0",
         "0.0",
         "0.0",
         "3.0",
         "0.0",
         "0.0",
         "0.0",
         "0.0",
         "0.0",
         "0.0",
         "0.0",
         "0.0",
         "0.0",
         "0.0",
         "0.0",
         "0.0",
         "0.0",
         "0.0",
         "0.0",
         "0.0",
         "0.0",
         "0.0",
         "0.0",
         "0.0",
         "0.0",
         "0.0",
         "0.0",
         "0.0",
         "0.0",
         "0.0",
         "0.0",
         "0.0",
         "0.0",
         "0.0",
         "0.0",
         "0.0",
         "0.0",
         "0.0",
         "0.0",
         "0.0",
         "0.0",
         "0.0",
         "0.0",
         "0.0",
         "0.0",
         "0.0",
         "0.0",
         "0.0",
         "0.0",
         "0.0",
         "4.0",
         "0.0",
         "0.0",
         "0.0",
         "0.0",
         "0.0",
         "0.0",
         "0.0",
         "0.0",
         "0.0",
         "0.0",
         "0.0",
         "0.0",
         "0.0",
         "0.0",
         "0.0",
         "0.0",
         "0.0",
         "0.0",
         "0.0",
         "0.0",
         "0.0",
         "0.0",
         "0.0",
         "0.0",
         "0.0",
         "0.0",
         "0.0",
         "0.0",
         "0.0",
         "0.0",
         "0.0",
         "0.0",
         "0.0",
         "0.0",
         "0.0",
         "0.0",
         "0.0",
         "0.0",
         "0.0",
         "0.0",
         "0.0",
         "0.0",
         "0.0",
         "0.0",
         "0.0",
         "0.0",
         "4.0",
         "0.0",
         "0.0",
         "2.0",
         "0.0",
         "0.0",
         "0.0",
         "0.0",
         "0.0",
         "0.0",
         "0.0",
         "0.0",
         "0.0",
         "0.0",
         "0.0",
         "0.0",
         "0.0",
         "0.0",
         "0.0",
         "0.0",
         "0.0",
         "0.0",
         "0.0",
         "0.0",
         "0.0",
         "0.0",
         "0.0",
         "0.0",
         "0.0",
         "0.0",
         "0.0",
         "0.0",
         "0.0",
         "0.0",
         "0.0",
         "0.0",
         "0.0",
         "0.0",
         "0.0",
         "0.0",
         "0.0",
         "0.0",
         "0.0",
         "0.0",
         "0.0",
         "0.0",
         "0.0",
         "0.0",
         "0.0",
         "0.0",
         "0.0",
         "0.0",
         "0.0",
         "0.0",
         "0.0",
         "0.0",
         "0.0",
         "0.0",
         "0.0",
         "0.0",
         "0.0",
         "0.0",
         "0.0",
         "0.0",
         "0.0",
         "0.0",
         "0.0",
         "0.0",
         "0.0",
         "0.0",
         "0.0",
         "0.0",
         "0.0",
         "0.0",
         "0.0",
         "0.0",
         "0.0",
         "0.0",
         "0.0",
         "0.0",
         "0.0",
         "0.0",
         "0.0",
         "0.0",
         "0.0",
         "0.0",
         "0.0",
         "0.0",
         "0.0",
         "0.0",
         "0.0",
         "0.0",
         "0.0",
         "0.0",
         "0.0",
         "3.0",
         "2.0",
         "0.0",
         "0.0",
         "0.0",
         "0.0",
         "0.0",
         "0.0",
         "0.0",
         "0.0",
         "0.0",
         "0.0",
         "0.0",
         "0.0",
         "0.0",
         "0.0",
         "0.0",
         "0.0",
         "0.0",
         "0.0",
         "0.0",
         "0.0",
         "0.0",
         "0.0",
         "0.0",
         "3.0",
         "0.0",
         "0.0",
         "0.0",
         "0.0",
         "0.0",
         "0.0",
         "0.0",
         "0.0",
         "0.0",
         "0.0",
         "0.0",
         "0.0",
         "0.0",
         "0.0",
         "0.0",
         "0.0",
         "0.0",
         "0.0",
         "0.0",
         "0.0",
         "0.0",
         "0.0",
         "0.0",
         "0.0",
         "0.0",
         "0.0",
         "0.0",
         "0.0",
         "0.0",
         "0.0",
         "0.0",
         "0.0",
         "0.0",
         "0.0",
         "0.0",
         "0.0",
         "0.0",
         "0.0",
         "0.0",
         "0.0",
         "0.0",
         "0.0",
         "0.0",
         "0.0",
         "0.0",
         "0.0",
         "0.0",
         "0.0",
         "0.0",
         "0.0",
         "0.0",
         "0.0",
         "0.0",
         "0.0",
         "0.0",
         "0.0",
         "0.0",
         "0.0",
         "0.0",
         "0.0",
         "0.0",
         "0.0",
         "0.0",
         "0.0",
         "0.0",
         "0.0",
         "0.0",
         "0.0",
         "0.0",
         "0.0",
         "0.0",
         "0.0",
         "0.0",
         "0.0",
         "0.0",
         "0.0",
         "0.0",
         "0.0",
         "0.0",
         "0.0",
         "0.0",
         "0.0",
         "0.0",
         "0.0",
         "0.0",
         "0.0",
         "0.0",
         "0.0",
         "0.0",
         "0.0",
         "0.0",
         "0.0",
         "0.0",
         "0.0",
         "0.0",
         "0.0",
         "0.0",
         "0.0",
         "0.0",
         "0.0",
         "0.0",
         "0.0",
         "0.0",
         "0.0",
         "0.0",
         "0.0",
         "0.0",
         "0.0",
         "0.0",
         "0.0",
         "0.0",
         "0.0",
         "0.0",
         "0.0",
         "0.0",
         "0.0",
         "0.0",
         "0.0",
         "0.0",
         "0.0",
         "0.0",
         "0.0",
         "0.0",
         "0.0",
         "0.0",
         "0.0",
         "0.0",
         "0.0",
         "0.0",
         "0.0",
         "0.0",
         "0.0",
         "0.0",
         "0.0",
         "0.0",
         "0.0",
         "0.0",
         "0.0",
         "0.0",
         "0.0",
         "0.0",
         "0.0",
         "0.0",
         "0.0",
         "0.0",
         "0.0",
         "0.0",
         "0.0",
         "0.0",
         "0.0",
         "0.0",
         "0.0",
         "3.0",
         "0.0",
         "3.0",
         "0.0",
         "0.0",
         "0.0",
         "0.0",
         "0.0",
         "0.0",
         "0.0",
         "0.0",
         "0.0",
         "0.0",
         "0.0",
         "0.0",
         "0.0",
         "0.0",
         "0.0",
         "0.0",
         "0.0",
         "0.0",
         "0.0",
         "0.0",
         "0.0",
         "0.0",
         "0.0",
         "0.0",
         "0.0",
         "0.0",
         "0.0",
         "0.0",
         "0.0",
         "0.0",
         "0.0",
         "0.0",
         "5.0",
         "0.0",
         "0.0",
         "0.0",
         "0.0",
         "0.0",
         "0.0",
         "0.0",
         "0.0",
         "0.0",
         "0.0",
         "0.0",
         "0.0",
         "0.0",
         "0.0",
         "0.0",
         "0.0",
         "3.0",
         "0.0",
         "0.0",
         "0.0",
         "0.0",
         "0.0",
         "0.0",
         "0.0",
         "0.0",
         "0.0",
         "0.0",
         "0.0",
         "0.0",
         "0.0",
         "0.0",
         "0.0",
         "0.0",
         "0.0",
         "0.0",
         "0.0",
         "0.0",
         "0.0",
         "0.0",
         "0.0",
         "0.0",
         "0.0",
         "0.0",
         "0.0",
         "0.0",
         "0.0",
         "0.0",
         "0.0",
         "0.0",
         "0.0",
         "0.0",
         "0.0",
         "0.0",
         "0.0",
         "0.0",
         "0.0",
         "0.0",
         "0.0",
         "0.0",
         "0.0",
         "0.0",
         "0.0",
         "0.0",
         "0.0",
         "0.0",
         "0.0",
         "0.0",
         "0.0",
         "0.0",
         "0.0",
         "0.0",
         "0.0",
         "0.0",
         "0.0"
        ],
        [
         "4",
         "0.0",
         "0.0",
         "0.0",
         "0.0",
         "0.0",
         "0.0",
         "0.0",
         "0.0",
         "0.0",
         "0.0",
         "0.0",
         "0.0",
         "0.0",
         "0.0",
         "0.0",
         "0.0",
         "0.0",
         "0.0",
         "0.0",
         "0.0",
         "0.0",
         "0.0",
         "0.0",
         "0.0",
         "0.0",
         "0.0",
         "0.0",
         "0.0",
         "0.0",
         "0.0",
         "0.0",
         "0.0",
         "5.0",
         "0.0",
         "0.0",
         "0.0",
         "0.0",
         "0.0",
         "0.0",
         "0.0",
         "0.0",
         "0.0",
         "0.0",
         "0.0",
         "0.0",
         "0.0",
         "0.0",
         "0.0",
         "0.0",
         "0.0",
         "0.0",
         "0.0",
         "0.0",
         "0.0",
         "0.0",
         "0.0",
         "0.0",
         "0.0",
         "0.0",
         "0.0",
         "0.0",
         "0.0",
         "0.0",
         "0.0",
         "0.0",
         "0.0",
         "0.0",
         "0.0",
         "0.0",
         "0.0",
         "0.0",
         "0.0",
         "0.0",
         "0.0",
         "0.0",
         "0.0",
         "0.0",
         "0.0",
         "0.0",
         "0.0",
         "0.0",
         "0.0",
         "0.0",
         "0.0",
         "0.0",
         "0.0",
         "0.0",
         "0.0",
         "0.0",
         "0.0",
         "0.0",
         "0.0",
         "0.0",
         "0.0",
         "0.0",
         "0.0",
         "0.0",
         "0.0",
         "0.0",
         "0.0",
         "5.0",
         "0.0",
         "0.0",
         "0.0",
         "0.0",
         "0.0",
         "0.0",
         "0.0",
         "0.0",
         "0.0",
         "0.0",
         "0.0",
         "0.0",
         "0.0",
         "0.0",
         "0.0",
         "0.0",
         "0.0",
         "0.0",
         "0.0",
         "0.0",
         "0.0",
         "0.0",
         "0.0",
         "0.0",
         "0.0",
         "0.0",
         "0.0",
         "0.0",
         "0.0",
         "0.0",
         "0.0",
         "0.0",
         "0.0",
         "0.0",
         "0.0",
         "0.0",
         "0.0",
         "0.0",
         "0.0",
         "0.0",
         "0.0",
         "0.0",
         "0.0",
         "0.0",
         "0.0",
         "0.0",
         "0.0",
         "0.0",
         "0.0",
         "0.0",
         "0.0",
         "0.0",
         "0.0",
         "0.0",
         "0.0",
         "0.0",
         "0.0",
         "0.0",
         "0.0",
         "0.0",
         "0.0",
         "0.0",
         "0.0",
         "0.0",
         "0.0",
         "0.0",
         "0.0",
         "0.0",
         "0.0",
         "0.0",
         "0.0",
         "0.0",
         "0.0",
         "0.0",
         "0.0",
         "0.0",
         "0.0",
         "0.0",
         "0.0",
         "0.0",
         "0.0",
         "0.0",
         "0.0",
         "0.0",
         "0.0",
         "0.0",
         "0.0",
         "0.0",
         "0.0",
         "0.0",
         "0.0",
         "0.0",
         "0.0",
         "0.0",
         "0.0",
         "0.0",
         "0.0",
         "5.0",
         "0.0",
         "0.0",
         "0.0",
         "0.0",
         "0.0",
         "0.0",
         "0.0",
         "0.0",
         "0.0",
         "0.0",
         "0.0",
         "0.0",
         "0.0",
         "0.0",
         "0.0",
         "0.0",
         "0.0",
         "0.0",
         "0.0",
         "0.0",
         "0.0",
         "0.0",
         "0.0",
         "0.0",
         "0.0",
         "0.0",
         "0.0",
         "0.0",
         "0.0",
         "0.0",
         "0.0",
         "0.0",
         "0.0",
         "0.0",
         "0.0",
         "0.0",
         "0.0",
         "0.0",
         "0.0",
         "0.0",
         "0.0",
         "0.0",
         "0.0",
         "0.0",
         "0.0",
         "0.0",
         "0.0",
         "0.0",
         "0.0",
         "0.0",
         "0.0",
         "0.0",
         "0.0",
         "0.0",
         "0.0",
         "0.0",
         "0.0",
         "0.0",
         "0.0",
         "0.0",
         "0.0",
         "0.0",
         "0.0",
         "0.0",
         "0.0",
         "0.0",
         "0.0",
         "0.0",
         "0.0",
         "0.0",
         "0.0",
         "0.0",
         "0.0",
         "0.0",
         "0.0",
         "0.0",
         "0.0",
         "0.0",
         "0.0",
         "0.0",
         "0.0",
         "0.0",
         "0.0",
         "0.0",
         "0.0",
         "0.0",
         "0.0",
         "0.0",
         "0.0",
         "0.0",
         "0.0",
         "0.0",
         "0.0",
         "0.0",
         "0.0",
         "0.0",
         "0.0",
         "0.0",
         "0.0",
         "0.0",
         "0.0",
         "0.0",
         "0.0",
         "0.0",
         "0.0",
         "0.0",
         "0.0",
         "0.0",
         "0.0",
         "0.0",
         "0.0",
         "0.0",
         "0.0",
         "0.0",
         "0.0",
         "3.0",
         "0.0",
         "0.0",
         "0.0",
         "0.0",
         "0.0",
         "0.0",
         "0.0",
         "0.0",
         "0.0",
         "0.0",
         "0.0",
         "0.0",
         "0.0",
         "0.0",
         "0.0",
         "0.0",
         "0.0",
         "3.0",
         "5.0",
         "0.0",
         "0.0",
         "0.0",
         "0.0",
         "0.0",
         "5.0",
         "0.0",
         "0.0",
         "0.0",
         "0.0",
         "0.0",
         "0.0",
         "0.0",
         "0.0",
         "0.0",
         "0.0",
         "0.0",
         "0.0",
         "0.0",
         "0.0",
         "0.0",
         "0.0",
         "0.0",
         "0.0",
         "0.0",
         "0.0",
         "0.0",
         "0.0",
         "0.0",
         "0.0",
         "0.0",
         "0.0",
         "0.0",
         "0.0",
         "0.0",
         "0.0",
         "0.0",
         "0.0",
         "0.0",
         "0.0",
         "0.0",
         "0.0",
         "0.0",
         "0.0",
         "0.0",
         "0.0",
         "0.0",
         "0.0",
         "0.0",
         "0.0",
         "0.0",
         "0.0",
         "0.0",
         "0.0",
         "0.0",
         "0.0",
         "0.0",
         "0.0",
         "0.0",
         "0.0",
         "0.0",
         "0.0",
         "0.0",
         "0.0",
         "0.0",
         "0.0",
         "0.0",
         "0.0",
         "0.0",
         "0.0",
         "0.0",
         "0.0",
         "0.0",
         "5.0",
         "0.0",
         "0.0",
         "0.0",
         "0.0",
         "0.0",
         "0.0",
         "0.0",
         "0.0",
         "0.0",
         "0.0",
         "0.0",
         "0.0",
         "0.0",
         "0.0",
         "0.0",
         "0.0",
         "0.0",
         "0.0",
         "0.0",
         "0.0",
         "0.0",
         "0.0",
         "0.0",
         "0.0",
         "0.0",
         "0.0",
         "0.0",
         "0.0",
         "0.0",
         "0.0",
         "0.0",
         "0.0",
         "0.0",
         "0.0",
         "0.0",
         "0.0",
         "0.0",
         "0.0",
         "0.0",
         "0.0",
         "0.0",
         "0.0",
         "0.0",
         "0.0",
         "0.0",
         "0.0",
         "0.0",
         "0.0",
         "0.0",
         "0.0",
         "0.0",
         "0.0",
         "0.0",
         "0.0",
         "0.0",
         "0.0",
         "0.0",
         "0.0",
         "0.0",
         "0.0",
         "0.0",
         "0.0",
         "0.0",
         "4.0",
         "0.0",
         "0.0",
         "0.0",
         "0.0",
         "0.0",
         "0.0",
         "0.0",
         "0.0",
         "0.0",
         "0.0",
         "0.0",
         "0.0",
         "0.0",
         "0.0",
         "0.0",
         "0.0",
         "0.0",
         "0.0",
         "0.0",
         "0.0",
         "0.0",
         "0.0",
         "0.0",
         "0.0",
         "0.0",
         "0.0",
         "0.0",
         "0.0",
         "0.0",
         "0.0",
         "0.0",
         "0.0",
         "0.0",
         "0.0",
         "0.0",
         "0.0",
         "0.0",
         "0.0",
         "0.0",
         "0.0",
         "0.0",
         "0.0",
         "0.0",
         "0.0",
         "0.0",
         "0.0",
         "0.0",
         "0.0",
         "0.0",
         "0.0",
         "0.0",
         "0.0",
         "0.0",
         "0.0",
         "0.0",
         "0.0",
         "0.0",
         "0.0",
         "0.0",
         "0.0",
         "0.0",
         "0.0",
         "0.0",
         "0.0",
         "0.0",
         "0.0",
         "0.0",
         "0.0",
         "0.0",
         "0.0",
         "0.0",
         "0.0",
         "0.0",
         "0.0",
         "0.0",
         "0.0",
         "0.0",
         "0.0",
         "0.0",
         "0.0",
         "0.0",
         "0.0",
         "0.0",
         "0.0",
         "0.0",
         "0.0",
         "0.0",
         "0.0",
         "0.0",
         "0.0",
         "0.0",
         "0.0",
         "0.0",
         "0.0",
         "0.0",
         "0.0",
         "0.0",
         "0.0",
         "0.0",
         "0.0",
         "0.0",
         "0.0",
         "0.0",
         "0.0",
         "0.0",
         "0.0",
         "0.0",
         "0.0",
         "0.0",
         "0.0",
         "0.0",
         "0.0",
         "0.0",
         "0.0",
         "0.0",
         "0.0",
         "0.0",
         "0.0",
         "0.0",
         "0.0",
         "0.0",
         "0.0",
         "0.0",
         "0.0",
         "0.0",
         "0.0",
         "0.0",
         "0.0",
         "0.0",
         "0.0",
         "0.0",
         "0.0",
         "0.0",
         "0.0",
         "0.0",
         "0.0",
         "0.0",
         "0.0",
         "0.0",
         "0.0",
         "0.0",
         "0.0",
         "0.0",
         "0.0",
         "0.0",
         "0.0",
         "0.0",
         "0.0",
         "0.0",
         "0.0",
         "0.0",
         "0.0",
         "0.0",
         "0.0",
         "0.0",
         "0.0",
         "0.0",
         "0.0",
         "0.0",
         "0.0",
         "0.0",
         "0.0",
         "0.0",
         "0.0",
         "0.0",
         "0.0",
         "0.0",
         "0.0",
         "0.0",
         "0.0",
         "0.0",
         "0.0",
         "0.0",
         "0.0",
         "0.0",
         "0.0",
         "0.0",
         "0.0",
         "0.0",
         "0.0",
         "0.0",
         "0.0",
         "0.0",
         "0.0",
         "0.0",
         "0.0",
         "0.0",
         "0.0",
         "0.0",
         "0.0",
         "0.0",
         "0.0",
         "0.0",
         "0.0",
         "0.0",
         "0.0",
         "0.0",
         "0.0",
         "0.0",
         "0.0",
         "0.0",
         "0.0",
         "0.0",
         "0.0",
         "0.0",
         "0.0",
         "0.0",
         "0.0",
         "0.0",
         "0.0",
         "0.0",
         "0.0",
         "0.0",
         "0.0",
         "0.0",
         "0.0",
         "0.0",
         "0.0",
         "0.0",
         "0.0",
         "0.0",
         "0.0",
         "0.0",
         "0.0",
         "0.0",
         "0.0",
         "0.0",
         "0.0",
         "0.0",
         "0.0",
         "0.0",
         "0.0",
         "0.0",
         "0.0",
         "0.0",
         "0.0",
         "0.0",
         "0.0",
         "0.0",
         "0.0",
         "0.0",
         "0.0",
         "0.0",
         "0.0",
         "0.0",
         "0.0",
         "0.0",
         "0.0",
         "0.0",
         "0.0",
         "0.0",
         "0.0",
         "0.0",
         "0.0",
         "0.0",
         "0.0",
         "0.0",
         "0.0",
         "0.0",
         "0.0",
         "0.0",
         "5.0",
         "0.0",
         "0.0",
         "0.0",
         "0.0",
         "0.0",
         "0.0",
         "0.0",
         "0.0",
         "0.0",
         "5.0",
         "0.0",
         "0.0",
         "0.0",
         "3.0",
         "0.0",
         "0.0",
         "0.0",
         "0.0",
         "0.0",
         "0.0",
         "0.0",
         "0.0",
         "0.0",
         "0.0",
         "0.0",
         "0.0",
         "0.0",
         "0.0",
         "0.0",
         "0.0",
         "0.0",
         "0.0",
         "0.0",
         "0.0",
         "0.0",
         "0.0",
         "0.0",
         "0.0",
         "0.0",
         "0.0",
         "0.0",
         "0.0",
         "0.0",
         "0.0",
         "0.0",
         "0.0",
         "0.0",
         "0.0",
         "0.0",
         "0.0",
         "0.0",
         "0.0",
         "0.0",
         "0.0",
         "0.0",
         "0.0",
         "0.0",
         "0.0",
         "0.0",
         "0.0",
         "0.0",
         "0.0",
         "0.0",
         "0.0",
         "0.0",
         "0.0",
         "0.0",
         "0.0",
         "0.0",
         "0.0",
         "0.0",
         "0.0",
         "0.0",
         "0.0",
         "0.0",
         "0.0",
         "0.0",
         "0.0",
         "0.0",
         "0.0",
         "0.0",
         "0.0",
         "0.0",
         "0.0",
         "0.0",
         "0.0",
         "0.0",
         "0.0",
         "0.0",
         "0.0",
         "0.0",
         "0.0",
         "0.0",
         "0.0",
         "0.0",
         "0.0",
         "0.0",
         "0.0",
         "0.0",
         "0.0",
         "0.0",
         "0.0",
         "0.0",
         "0.0",
         "0.0",
         "0.0",
         "0.0",
         "0.0",
         "0.0",
         "0.0",
         "0.0",
         "0.0",
         "0.0",
         "0.0",
         "0.0",
         "0.0",
         "0.0",
         "0.0",
         "0.0",
         "0.0",
         "0.0",
         "0.0",
         "0.0",
         "0.0",
         "0.0",
         "0.0",
         "5.0",
         "0.0",
         "0.0",
         "0.0",
         "0.0",
         "0.0",
         "0.0",
         "0.0",
         "0.0",
         "0.0",
         "0.0",
         "0.0",
         "0.0",
         "0.0",
         "0.0",
         "0.0",
         "0.0",
         "0.0",
         "0.0",
         "0.0",
         "0.0",
         "0.0",
         "0.0",
         "0.0",
         "0.0",
         "0.0",
         "0.0",
         "0.0",
         "0.0",
         "5.0",
         "0.0",
         "0.0",
         "0.0",
         "0.0",
         "0.0",
         "0.0",
         "0.0",
         "0.0",
         "0.0",
         "0.0",
         "0.0",
         "0.0",
         "0.0",
         "0.0",
         "0.0",
         "0.0",
         "0.0",
         "0.0",
         "0.0",
         "0.0",
         "0.0",
         "0.0",
         "0.0",
         "0.0",
         "0.0",
         "0.0",
         "0.0",
         "0.0",
         "0.0",
         "0.0",
         "0.0",
         "0.0",
         "0.0",
         "0.0",
         "0.0",
         "0.0",
         "0.0",
         "0.0",
         "0.0",
         "0.0",
         "0.0",
         "0.0",
         "0.0",
         "0.0",
         "0.0",
         "0.0",
         "0.0",
         "0.0",
         "0.0",
         "0.0",
         "0.0",
         "0.0",
         "0.0",
         "0.0",
         "0.0",
         "0.0",
         "0.0",
         "0.0",
         "0.0",
         "0.0",
         "0.0",
         "0.0",
         "0.0",
         "0.0",
         "0.0",
         "0.0",
         "0.0",
         "0.0",
         "0.0",
         "0.0",
         "0.0",
         "0.0",
         "0.0",
         "0.0",
         "0.0",
         "0.0",
         "0.0",
         "0.0",
         "0.0",
         "0.0",
         "0.0",
         "0.0",
         "0.0",
         "0.0",
         "0.0",
         "0.0",
         "0.0",
         "0.0",
         "0.0",
         "0.0",
         "0.0",
         "0.0",
         "3.0",
         "0.0",
         "0.0",
         "0.0",
         "0.0",
         "0.0",
         "0.0",
         "0.0",
         "0.0",
         "0.0",
         "0.0",
         "0.0",
         "0.0",
         "0.0",
         "0.0",
         "0.0",
         "0.0",
         "0.0",
         "0.0",
         "0.0",
         "0.0",
         "0.0",
         "0.0",
         "0.0",
         "0.0",
         "0.0",
         "0.0",
         "0.0",
         "0.0",
         "0.0",
         "0.0",
         "0.0",
         "0.0",
         "0.0",
         "0.0",
         "0.0",
         "0.0",
         "0.0",
         "0.0",
         "0.0",
         "0.0",
         "0.0",
         "0.0",
         "0.0",
         "0.0",
         "0.0",
         "0.0",
         "0.0",
         "0.0",
         "0.0",
         "0.0",
         "0.0",
         "0.0",
         "0.0",
         "0.0",
         "0.0",
         "0.0",
         "0.0",
         "0.0",
         "0.0",
         "0.0",
         "0.0",
         "0.0",
         "0.0",
         "0.0",
         "0.0",
         "0.0",
         "0.0",
         "0.0",
         "0.0",
         "0.0",
         "0.0",
         "0.0",
         "0.0",
         "0.0",
         "0.0",
         "0.0",
         "0.0",
         "0.0",
         "0.0",
         "0.0",
         "0.0",
         "0.0",
         "0.0",
         "0.0",
         "0.0",
         "0.0",
         "0.0",
         "0.0",
         "0.0",
         "0.0",
         "0.0",
         "0.0",
         "0.0",
         "0.0",
         "0.0",
         "0.0",
         "0.0",
         "0.0",
         "0.0",
         "0.0",
         "0.0",
         "0.0",
         "0.0",
         "0.0",
         "0.0",
         "0.0",
         "0.0",
         "0.0",
         "0.0",
         "0.0",
         "0.0",
         "0.0",
         "0.0",
         "0.0",
         "0.0",
         "0.0",
         "0.0",
         "0.0",
         "0.0",
         "4.0",
         "0.0",
         "0.0",
         "0.0",
         "0.0",
         "0.0",
         "0.0",
         "0.0",
         "0.0",
         "0.0",
         "0.0",
         "0.0",
         "0.0",
         "0.0",
         "0.0",
         "0.0",
         "0.0",
         "0.0",
         "0.0",
         "0.0",
         "0.0",
         "0.0",
         "0.0",
         "0.0",
         "0.0",
         "0.0",
         "0.0",
         "0.0",
         "0.0",
         "0.0",
         "0.0",
         "0.0",
         "0.0",
         "0.0",
         "0.0",
         "0.0",
         "0.0",
         "0.0",
         "0.0",
         "0.0",
         "0.0",
         "0.0",
         "0.0",
         "0.0",
         "0.0",
         "0.0",
         "0.0",
         "0.0",
         "0.0",
         "0.0",
         "0.0",
         "0.0",
         "0.0",
         "0.0",
         "0.0",
         "0.0",
         "0.0",
         "0.0",
         "0.0",
         "0.0",
         "0.0",
         "0.0",
         "0.0",
         "0.0",
         "0.0",
         "0.0",
         "0.0",
         "0.0",
         "0.0",
         "0.0",
         "0.0",
         "0.0",
         "0.0",
         "0.0",
         "0.0",
         "0.0",
         "0.0",
         "0.0",
         "0.0",
         "0.0",
         "0.0",
         "0.0",
         "0.0",
         "0.0",
         "0.0",
         "0.0",
         "0.0",
         "0.0",
         "0.0",
         "0.0",
         "0.0",
         "0.0",
         "0.0",
         "0.0",
         "0.0",
         "0.0",
         "0.0",
         "0.0",
         "0.0",
         "0.0",
         "0.0",
         "0.0",
         "0.0",
         "0.0",
         "0.0",
         "0.0",
         "0.0",
         "0.0",
         "0.0",
         "0.0",
         "0.0",
         "0.0",
         "0.0",
         "0.0",
         "0.0",
         "0.0",
         "0.0",
         "0.0",
         "0.0",
         "0.0",
         "0.0",
         "0.0",
         "0.0",
         "0.0",
         "0.0",
         "0.0",
         "0.0",
         "0.0",
         "0.0",
         "0.0",
         "0.0",
         "0.0",
         "0.0",
         "0.0",
         "0.0",
         "0.0",
         "0.0",
         "0.0",
         "0.0",
         "0.0",
         "0.0",
         "0.0",
         "0.0",
         "0.0",
         "0.0",
         "0.0",
         "0.0",
         "0.0",
         "0.0",
         "0.0",
         "0.0",
         "0.0",
         "0.0",
         "0.0",
         "0.0",
         "0.0",
         "0.0",
         "0.0",
         "0.0",
         "0.0",
         "0.0",
         "0.0",
         "0.0",
         "0.0",
         "0.0",
         "0.0",
         "0.0",
         "0.0",
         "0.0",
         "0.0",
         "0.0",
         "0.0",
         "0.0",
         "0.0",
         "0.0",
         "0.0",
         "0.0",
         "0.0",
         "0.0",
         "0.0",
         "0.0",
         "0.0",
         "4.0",
         "0.0",
         "0.0",
         "0.0",
         "0.0",
         "0.0",
         "0.0",
         "0.0",
         "0.0",
         "0.0",
         "0.0",
         "0.0",
         "0.0",
         "0.0",
         "0.0",
         "0.0",
         "0.0",
         "4.0",
         "0.0",
         "0.0",
         "0.0",
         "0.0",
         "0.0",
         "0.0",
         "0.0",
         "0.0",
         "0.0",
         "0.0",
         "0.0",
         "0.0",
         "0.0",
         "0.0",
         "0.0",
         "0.0",
         "0.0",
         "0.0",
         "0.0",
         "0.0",
         "0.0",
         "0.0",
         "0.0",
         "0.0",
         "0.0",
         "0.0",
         "0.0",
         "0.0",
         "0.0",
         "0.0",
         "0.0",
         "0.0",
         "0.0",
         "0.0",
         "0.0",
         "0.0",
         "0.0",
         "0.0",
         "0.0",
         "0.0",
         "0.0",
         "0.0",
         "0.0",
         "0.0",
         "0.0",
         "0.0",
         "0.0",
         "0.0",
         "0.0",
         "0.0",
         "0.0",
         "0.0",
         "0.0",
         "0.0",
         "0.0",
         "0.0",
         "0.0",
         "0.0",
         "0.0",
         "0.0",
         "0.0",
         "0.0",
         "0.0",
         "0.0",
         "0.0",
         "0.0",
         "0.0",
         "2.0",
         "0.0",
         "0.0",
         "0.0",
         "0.0",
         "0.0",
         "0.0",
         "0.0",
         "0.0",
         "0.0",
         "0.0",
         "0.0",
         "0.0",
         "0.0",
         "0.0",
         "0.0",
         "0.0",
         "0.0",
         "0.0",
         "0.0",
         "0.0",
         "0.0",
         "0.0",
         "0.0",
         "0.0",
         "0.0",
         "0.0",
         "0.0",
         "0.0",
         "5.0",
         "0.0",
         "0.0",
         "4.0",
         "0.0",
         "0.0",
         "0.0",
         "0.0",
         "0.0",
         "0.0",
         "0.0",
         "0.0",
         "0.0",
         "0.0",
         "0.0",
         "0.0",
         "0.0",
         "0.0",
         "0.0",
         "0.0",
         "0.0",
         "0.0",
         "0.0",
         "0.0",
         "0.0",
         "0.0",
         "0.0",
         "0.0",
         "0.0",
         "0.0",
         "0.0",
         "0.0",
         "0.0",
         "0.0",
         "0.0",
         "0.0",
         "0.0",
         "0.0",
         "0.0",
         "0.0",
         "0.0",
         "0.0",
         "0.0",
         "0.0",
         "0.0",
         "0.0",
         "0.0",
         "0.0",
         "0.0",
         "0.0",
         "0.0",
         "0.0",
         "0.0",
         "0.0",
         "0.0",
         "0.0",
         "0.0",
         "0.0",
         "0.0",
         "0.0",
         "0.0",
         "0.0",
         "0.0",
         "0.0",
         "0.0",
         "0.0",
         "0.0",
         "0.0",
         "0.0",
         "0.0",
         "0.0",
         "0.0",
         "0.0",
         "0.0",
         "0.0",
         "0.0",
         "0.0",
         "0.0",
         "0.0",
         "0.0",
         "0.0",
         "0.0",
         "0.0",
         "0.0",
         "0.0",
         "0.0",
         "0.0",
         "0.0",
         "0.0",
         "0.0",
         "0.0",
         "0.0",
         "0.0",
         "0.0",
         "0.0",
         "0.0",
         "0.0",
         "0.0",
         "0.0",
         "0.0",
         "0.0",
         "0.0",
         "0.0",
         "0.0",
         "0.0",
         "0.0",
         "0.0",
         "0.0",
         "0.0",
         "0.0",
         "0.0",
         "0.0",
         "0.0",
         "0.0",
         "0.0",
         "0.0",
         "0.0",
         "0.0",
         "0.0",
         "0.0",
         "0.0",
         "0.0",
         "0.0",
         "0.0",
         "0.0",
         "0.0",
         "0.0",
         "0.0",
         "0.0",
         "0.0",
         "0.0",
         "0.0",
         "0.0",
         "0.0",
         "0.0",
         "0.0",
         "0.0",
         "0.0",
         "0.0",
         "0.0",
         "0.0",
         "0.0",
         "0.0",
         "0.0",
         "0.0",
         "0.0",
         "0.0",
         "0.0",
         "0.0",
         "0.0",
         "0.0",
         "0.0",
         "0.0",
         "0.0",
         "0.0",
         "0.0",
         "0.0",
         "0.0",
         "5.0",
         "0.0",
         "0.0",
         "0.0",
         "0.0",
         "0.0",
         "0.0",
         "0.0",
         "0.0",
         "0.0",
         "0.0",
         "0.0",
         "0.0",
         "0.0",
         "0.0",
         "0.0",
         "0.0",
         "0.0",
         "0.0",
         "0.0",
         "0.0",
         "0.0",
         "0.0",
         "0.0",
         "0.0",
         "0.0",
         "0.0",
         "0.0",
         "0.0",
         "0.0",
         "0.0",
         "0.0",
         "0.0",
         "0.0",
         "0.0",
         "0.0",
         "0.0",
         "0.0",
         "0.0",
         "0.0",
         "0.0",
         "0.0",
         "0.0",
         "0.0",
         "0.0",
         "0.0",
         "0.0",
         "0.0",
         "0.0",
         "0.0",
         "5.0",
         "0.0",
         "0.0",
         "0.0",
         "0.0",
         "0.0",
         "0.0",
         "0.0",
         "0.0",
         "0.0",
         "0.0",
         "0.0",
         "0.0",
         "0.0",
         "0.0",
         "0.0",
         "0.0",
         "0.0",
         "0.0",
         "0.0",
         "0.0",
         "0.0",
         "0.0",
         "0.0",
         "0.0",
         "0.0",
         "0.0",
         "0.0",
         "0.0",
         "0.0",
         "0.0",
         "0.0",
         "0.0",
         "0.0",
         "0.0",
         "0.0",
         "0.0",
         "0.0",
         "0.0",
         "0.0",
         "0.0",
         "0.0",
         "0.0",
         "5.0",
         "0.0",
         "0.0",
         "0.0",
         "0.0",
         "0.0",
         "0.0",
         "0.0",
         "0.0",
         "0.0",
         "0.0",
         "0.0",
         "0.0",
         "0.0",
         "0.0"
        ],
        [
         "5",
         "0.0",
         "0.0",
         "2.0",
         "0.0",
         "0.0",
         "0.0",
         "0.0",
         "4.0",
         "0.0",
         "0.0",
         "0.0",
         "0.0",
         "0.0",
         "0.0",
         "0.0",
         "0.0",
         "0.0",
         "0.0",
         "1.0",
         "0.0",
         "2.0",
         "0.0",
         "0.0",
         "0.0",
         "5.0",
         "0.0",
         "0.0",
         "0.0",
         "0.0",
         "3.0",
         "0.0",
         "0.0",
         "0.0",
         "0.0",
         "0.0",
         "0.0",
         "4.0",
         "4.0",
         "0.0",
         "0.0",
         "3.0",
         "4.0",
         "0.0",
         "0.0",
         "3.0",
         "0.0",
         "0.0",
         "0.0",
         "0.0",
         "0.0",
         "0.0",
         "0.0",
         "0.0",
         "0.0",
         "0.0",
         "0.0",
         "0.0",
         "5.0",
         "0.0",
         "0.0",
         "1.0",
         "1.0",
         "1.0",
         "1.0",
         "1.0",
         "1.0",
         "0.0",
         "0.0",
         "0.0",
         "0.0",
         "0.0",
         "0.0",
         "0.0",
         "0.0",
         "0.0",
         "0.0",
         "0.0",
         "0.0",
         "0.0",
         "0.0",
         "0.0",
         "0.0",
         "0.0",
         "0.0",
         "0.0",
         "0.0",
         "0.0",
         "0.0",
         "0.0",
         "0.0",
         "1.0",
         "0.0",
         "0.0",
         "3.0",
         "0.0",
         "0.0",
         "0.0",
         "0.0",
         "0.0",
         "0.0",
         "0.0",
         "0.0",
         "0.0",
         "0.0",
         "0.0",
         "0.0",
         "0.0",
         "0.0",
         "0.0",
         "0.0",
         "0.0",
         "0.0",
         "0.0",
         "4.0",
         "0.0",
         "0.0",
         "0.0",
         "0.0",
         "0.0",
         "0.0",
         "0.0",
         "0.0",
         "0.0",
         "0.0",
         "0.0",
         "0.0",
         "0.0",
         "0.0",
         "0.0",
         "0.0",
         "1.0",
         "0.0",
         "3.0",
         "4.0",
         "2.0",
         "0.0",
         "0.0",
         "0.0",
         "0.0",
         "0.0",
         "0.0",
         "0.0",
         "0.0",
         "0.0",
         "0.0",
         "0.0",
         "0.0",
         "0.0",
         "0.0",
         "0.0",
         "0.0",
         "0.0",
         "0.0",
         "0.0",
         "0.0",
         "0.0",
         "0.0",
         "0.0",
         "0.0",
         "0.0",
         "2.0",
         "1.0",
         "0.0",
         "0.0",
         "0.0",
         "0.0",
         "0.0",
         "0.0",
         "0.0",
         "0.0",
         "0.0",
         "0.0",
         "0.0",
         "0.0",
         "0.0",
         "0.0",
         "1.0",
         "0.0",
         "3.0",
         "4.0",
         "0.0",
         "0.0",
         "1.0",
         "1.0",
         "5.0",
         "0.0",
         "0.0",
         "2.0",
         "0.0",
         "0.0",
         "0.0",
         "0.0",
         "0.0",
         "0.0",
         "0.0",
         "0.0",
         "0.0",
         "0.0",
         "0.0",
         "5.0",
         "2.0",
         "0.0",
         "3.0",
         "0.0",
         "0.0",
         "0.0",
         "0.0",
         "0.0",
         "0.0",
         "0.0",
         "0.0",
         "0.0",
         "0.0",
         "0.0",
         "0.0",
         "0.0",
         "0.0",
         "0.0",
         "0.0",
         "0.0",
         "0.0",
         "5.0",
         "0.0",
         "0.0",
         "0.0",
         "0.0",
         "0.0",
         "0.0",
         "0.0",
         "0.0",
         "0.0",
         "0.0",
         "0.0",
         "1.0",
         "0.0",
         "0.0",
         "0.0",
         "0.0",
         "0.0",
         "0.0",
         "0.0",
         "0.0",
         "0.0",
         "0.0",
         "0.0",
         "0.0",
         "0.0",
         "4.0",
         "0.0",
         "4.0",
         "0.0",
         "0.0",
         "0.0",
         "0.0",
         "0.0",
         "0.0",
         "0.0",
         "0.0",
         "0.0",
         "0.0",
         "0.0",
         "0.0",
         "0.0",
         "0.0",
         "0.0",
         "0.0",
         "0.0",
         "0.0",
         "0.0",
         "0.0",
         "3.0",
         "0.0",
         "0.0",
         "0.0",
         "0.0",
         "0.0",
         "0.0",
         "0.0",
         "0.0",
         "0.0",
         "0.0",
         "0.0",
         "0.0",
         "0.0",
         "0.0",
         "0.0",
         "0.0",
         "0.0",
         "0.0",
         "0.0",
         "0.0",
         "0.0",
         "0.0",
         "0.0",
         "1.0",
         "0.0",
         "0.0",
         "0.0",
         "0.0",
         "0.0",
         "3.0",
         "0.0",
         "0.0",
         "0.0",
         "0.0",
         "0.0",
         "0.0",
         "0.0",
         "0.0",
         "0.0",
         "0.0",
         "0.0",
         "0.0",
         "5.0",
         "0.0",
         "0.0",
         "0.0",
         "0.0",
         "5.0",
         "3.0",
         "0.0",
         "0.0",
         "0.0",
         "0.0",
         "0.0",
         "0.0",
         "0.0",
         "0.0",
         "0.0",
         "0.0",
         "0.0",
         "0.0",
         "0.0",
         "0.0",
         "0.0",
         "0.0",
         "0.0",
         "0.0",
         "0.0",
         "0.0",
         "0.0",
         "0.0",
         "0.0",
         "0.0",
         "0.0",
         "0.0",
         "0.0",
         "0.0",
         "0.0",
         "0.0",
         "0.0",
         "0.0",
         "0.0",
         "0.0",
         "0.0",
         "0.0",
         "0.0",
         "0.0",
         "0.0",
         "0.0",
         "0.0",
         "0.0",
         "0.0",
         "0.0",
         "0.0",
         "0.0",
         "0.0",
         "0.0",
         "0.0",
         "0.0",
         "0.0",
         "0.0",
         "0.0",
         "0.0",
         "0.0",
         "0.0",
         "3.0",
         "0.0",
         "0.0",
         "0.0",
         "0.0",
         "0.0",
         "3.0",
         "0.0",
         "0.0",
         "0.0",
         "0.0",
         "0.0",
         "0.0",
         "0.0",
         "0.0",
         "0.0",
         "0.0",
         "0.0",
         "0.0",
         "0.0",
         "0.0",
         "0.0",
         "0.0",
         "0.0",
         "0.0",
         "0.0",
         "0.0",
         "0.0",
         "0.0",
         "0.0",
         "0.0",
         "0.0",
         "0.0",
         "0.0",
         "0.0",
         "0.0",
         "0.0",
         "0.0",
         "3.0",
         "3.0",
         "0.0",
         "0.0",
         "0.0",
         "0.0",
         "0.0",
         "0.0",
         "0.0",
         "0.0",
         "0.0",
         "0.0",
         "0.0",
         "0.0",
         "0.0",
         "0.0",
         "0.0",
         "0.0",
         "0.0",
         "0.0",
         "0.0",
         "0.0",
         "0.0",
         "0.0",
         "0.0",
         "0.0",
         "0.0",
         "5.0",
         "0.0",
         "0.0",
         "0.0",
         "0.0",
         "4.0",
         "0.0",
         "0.0",
         "0.0",
         "0.0",
         "0.0",
         "0.0",
         "0.0",
         "0.0",
         "0.0",
         "5.0",
         "0.0",
         "0.0",
         "0.0",
         "0.0",
         "0.0",
         "0.0",
         "0.0",
         "0.0",
         "0.0",
         "0.0",
         "0.0",
         "0.0",
         "0.0",
         "0.0",
         "0.0",
         "0.0",
         "0.0",
         "0.0",
         "0.0",
         "0.0",
         "0.0",
         "0.0",
         "0.0",
         "0.0",
         "0.0",
         "0.0",
         "0.0",
         "0.0",
         "0.0",
         "0.0",
         "0.0",
         "0.0",
         "0.0",
         "0.0",
         "0.0",
         "0.0",
         "0.0",
         "4.0",
         "0.0",
         "0.0",
         "0.0",
         "5.0",
         "0.0",
         "0.0",
         "0.0",
         "0.0",
         "0.0",
         "0.0",
         "0.0",
         "0.0",
         "0.0",
         "0.0",
         "0.0",
         "0.0",
         "5.0",
         "0.0",
         "0.0",
         "0.0",
         "0.0",
         "0.0",
         "0.0",
         "0.0",
         "3.0",
         "0.0",
         "0.0",
         "0.0",
         "0.0",
         "0.0",
         "0.0",
         "0.0",
         "0.0",
         "5.0",
         "0.0",
         "0.0",
         "3.0",
         "0.0",
         "0.0",
         "0.0",
         "0.0",
         "0.0",
         "0.0",
         "0.0",
         "0.0",
         "0.0",
         "0.0",
         "0.0",
         "0.0",
         "0.0",
         "0.0",
         "0.0",
         "5.0",
         "0.0",
         "0.0",
         "0.0",
         "1.0",
         "0.0",
         "0.0",
         "4.0",
         "0.0",
         "0.0",
         "0.0",
         "0.0",
         "0.0",
         "1.0",
         "0.0",
         "0.0",
         "0.0",
         "0.0",
         "0.0",
         "0.0",
         "0.0",
         "0.0",
         "4.0",
         "3.0",
         "0.0",
         "0.0",
         "0.0",
         "0.0",
         "0.0",
         "0.0",
         "0.0",
         "0.0",
         "0.0",
         "0.0",
         "0.0",
         "0.0",
         "0.0",
         "0.0",
         "0.0",
         "0.0",
         "1.0",
         "0.0",
         "0.0",
         "0.0",
         "0.0",
         "0.0",
         "0.0",
         "0.0",
         "0.0",
         "1.0",
         "0.0",
         "0.0",
         "0.0",
         "0.0",
         "0.0",
         "0.0",
         "0.0",
         "0.0",
         "0.0",
         "0.0",
         "0.0",
         "0.0",
         "0.0",
         "0.0",
         "0.0",
         "0.0",
         "0.0",
         "0.0",
         "0.0",
         "3.0",
         "0.0",
         "0.0",
         "0.0",
         "0.0",
         "0.0",
         "0.0",
         "0.0",
         "0.0",
         "0.0",
         "0.0",
         "0.0",
         "5.0",
         "0.0",
         "0.0",
         "1.0",
         "0.0",
         "0.0",
         "0.0",
         "0.0",
         "0.0",
         "0.0",
         "0.0",
         "0.0",
         "0.0",
         "0.0",
         "0.0",
         "0.0",
         "0.0",
         "0.0",
         "0.0",
         "0.0",
         "0.0",
         "0.0",
         "0.0",
         "0.0",
         "0.0",
         "0.0",
         "0.0",
         "0.0",
         "0.0",
         "0.0",
         "5.0",
         "0.0",
         "0.0",
         "0.0",
         "0.0",
         "0.0",
         "0.0",
         "0.0",
         "0.0",
         "5.0",
         "0.0",
         "0.0",
         "0.0",
         "0.0",
         "5.0",
         "1.0",
         "0.0",
         "0.0",
         "0.0",
         "0.0",
         "0.0",
         "0.0",
         "0.0",
         "0.0",
         "0.0",
         "0.0",
         "0.0",
         "3.0",
         "0.0",
         "0.0",
         "0.0",
         "0.0",
         "3.0",
         "0.0",
         "0.0",
         "0.0",
         "0.0",
         "0.0",
         "0.0",
         "0.0",
         "0.0",
         "0.0",
         "2.0",
         "0.0",
         "0.0",
         "0.0",
         "0.0",
         "0.0",
         "0.0",
         "2.0",
         "0.0",
         "0.0",
         "0.0",
         "0.0",
         "0.0",
         "0.0",
         "0.0",
         "0.0",
         "0.0",
         "0.0",
         "0.0",
         "0.0",
         "0.0",
         "0.0",
         "0.0",
         "0.0",
         "0.0",
         "0.0",
         "0.0",
         "0.0",
         "0.0",
         "0.0",
         "0.0",
         "0.0",
         "0.0",
         "0.0",
         "0.0",
         "0.0",
         "0.0",
         "0.0",
         "0.0",
         "0.0",
         "0.0",
         "0.0",
         "0.0",
         "0.0",
         "4.0",
         "0.0",
         "0.0",
         "3.0",
         "0.0",
         "0.0",
         "0.0",
         "0.0",
         "0.0",
         "0.0",
         "0.0",
         "0.0",
         "0.0",
         "0.0",
         "0.0",
         "0.0",
         "0.0",
         "0.0",
         "0.0",
         "0.0",
         "2.0",
         "0.0",
         "0.0",
         "0.0",
         "4.0",
         "0.0",
         "0.0",
         "0.0",
         "0.0",
         "2.0",
         "1.0",
         "1.0",
         "0.0",
         "0.0",
         "3.0",
         "0.0",
         "0.0",
         "0.0",
         "0.0",
         "0.0",
         "0.0",
         "0.0",
         "0.0",
         "0.0",
         "0.0",
         "0.0",
         "3.0",
         "0.0",
         "0.0",
         "0.0",
         "1.0",
         "0.0",
         "0.0",
         "0.0",
         "0.0",
         "0.0",
         "0.0",
         "0.0",
         "0.0",
         "0.0",
         "0.0",
         "0.0",
         "0.0",
         "0.0",
         "0.0",
         "0.0",
         "0.0",
         "0.0",
         "0.0",
         "0.0",
         "0.0",
         "0.0",
         "0.0",
         "0.0",
         "0.0",
         "0.0",
         "1.0",
         "0.0",
         "0.0",
         "0.0",
         "0.0",
         "0.0",
         "0.0",
         "0.0",
         "0.0",
         "0.0",
         "0.0",
         "0.0",
         "0.0",
         "0.0",
         "0.0",
         "0.0",
         "0.0",
         "0.0",
         "4.0",
         "0.0",
         "0.0",
         "0.0",
         "0.0",
         "0.0",
         "0.0",
         "0.0",
         "1.0",
         "0.0",
         "0.0",
         "0.0",
         "1.0",
         "0.0",
         "0.0",
         "0.0",
         "0.0",
         "0.0",
         "0.0",
         "0.0",
         "0.0",
         "0.0",
         "0.0",
         "0.0",
         "0.0",
         "0.0",
         "0.0",
         "0.0",
         "0.0",
         "0.0",
         "0.0",
         "0.0",
         "0.0",
         "0.0",
         "0.0",
         "0.0",
         "0.0",
         "1.0",
         "0.0",
         "0.0",
         "0.0",
         "0.0",
         "0.0",
         "0.0",
         "0.0",
         "0.0",
         "0.0",
         "0.0",
         "0.0",
         "0.0",
         "0.0",
         "0.0",
         "0.0",
         "0.0",
         "0.0",
         "0.0",
         "0.0",
         "0.0",
         "3.0",
         "0.0",
         "0.0",
         "0.0",
         "0.0",
         "0.0",
         "0.0",
         "0.0",
         "0.0",
         "0.0",
         "0.0",
         "0.0",
         "0.0",
         "4.0",
         "0.0",
         "0.0",
         "0.0",
         "0.0",
         "0.0",
         "0.0",
         "0.0",
         "0.0",
         "0.0",
         "0.0",
         "0.0",
         "0.0",
         "0.0",
         "0.0",
         "0.0",
         "0.0",
         "0.0",
         "0.0",
         "0.0",
         "0.0",
         "2.0",
         "0.0",
         "0.0",
         "0.0",
         "0.0",
         "0.0",
         "0.0",
         "0.0",
         "0.0",
         "0.0",
         "0.0",
         "0.0",
         "0.0",
         "0.0",
         "0.0",
         "4.0",
         "0.0",
         "3.0",
         "1.0",
         "0.0",
         "0.0",
         "0.0",
         "0.0",
         "0.0",
         "0.0",
         "0.0",
         "0.0",
         "0.0",
         "0.0",
         "0.0",
         "0.0",
         "0.0",
         "0.0",
         "0.0",
         "5.0",
         "0.0",
         "0.0",
         "0.0",
         "0.0",
         "0.0",
         "0.0",
         "0.0",
         "0.0",
         "0.0",
         "0.0",
         "0.0",
         "0.0",
         "3.0",
         "0.0",
         "0.0",
         "0.0",
         "0.0",
         "0.0",
         "0.0",
         "1.0",
         "0.0",
         "0.0",
         "3.0",
         "0.0",
         "0.0",
         "0.0",
         "0.0",
         "0.0",
         "0.0",
         "0.0",
         "0.0",
         "3.0",
         "3.0",
         "0.0",
         "0.0",
         "0.0",
         "0.0",
         "0.0",
         "0.0",
         "0.0",
         "0.0",
         "0.0",
         "0.0",
         "0.0",
         "0.0",
         "0.0",
         "0.0",
         "0.0",
         "2.0",
         "0.0",
         "0.0",
         "0.0",
         "0.0",
         "0.0",
         "3.0",
         "0.0",
         "0.0",
         "0.0",
         "1.0",
         "0.0",
         "0.0",
         "0.0",
         "0.0",
         "0.0",
         "0.0",
         "3.0",
         "0.0",
         "0.0",
         "0.0",
         "0.0",
         "0.0",
         "0.0",
         "5.0",
         "0.0",
         "0.0",
         "3.0",
         "0.0",
         "0.0",
         "0.0",
         "0.0",
         "0.0",
         "0.0",
         "0.0",
         "0.0",
         "0.0",
         "0.0",
         "0.0",
         "0.0",
         "0.0",
         "0.0",
         "0.0",
         "0.0",
         "0.0",
         "0.0",
         "0.0",
         "0.0",
         "0.0",
         "0.0",
         "0.0",
         "3.0",
         "0.0",
         "0.0",
         "0.0",
         "0.0",
         "0.0",
         "0.0",
         "0.0",
         "0.0",
         "0.0",
         "0.0",
         "0.0",
         "0.0",
         "0.0",
         "0.0",
         "0.0",
         "0.0",
         "0.0",
         "0.0",
         "0.0",
         "0.0",
         "1.0",
         "0.0",
         "0.0",
         "0.0",
         "0.0",
         "0.0",
         "0.0",
         "0.0",
         "1.0",
         "0.0",
         "2.0",
         "1.0",
         "0.0",
         "0.0",
         "0.0",
         "0.0",
         "0.0",
         "0.0",
         "0.0",
         "0.0",
         "0.0",
         "1.0",
         "0.0",
         "0.0",
         "0.0",
         "0.0",
         "0.0",
         "0.0",
         "0.0",
         "0.0",
         "0.0",
         "0.0",
         "0.0",
         "0.0",
         "0.0",
         "0.0",
         "0.0",
         "0.0",
         "3.0",
         "0.0",
         "0.0",
         "0.0",
         "0.0",
         "0.0",
         "0.0",
         "0.0",
         "0.0",
         "0.0",
         "0.0",
         "0.0",
         "0.0",
         "0.0",
         "0.0",
         "0.0",
         "0.0",
         "0.0",
         "0.0",
         "0.0",
         "0.0",
         "0.0",
         "0.0",
         "0.0",
         "0.0",
         "0.0",
         "0.0",
         "0.0",
         "0.0",
         "0.0",
         "0.0",
         "0.0",
         "3.0",
         "2.0",
         "0.0",
         "0.0",
         "0.0",
         "0.0",
         "0.0",
         "0.0",
         "0.0",
         "0.0",
         "0.0",
         "0.0",
         "0.0",
         "0.0",
         "1.0",
         "0.0",
         "0.0",
         "0.0",
         "0.0",
         "0.0",
         "0.0",
         "0.0",
         "0.0",
         "4.0",
         "0.0",
         "0.0",
         "2.0",
         "0.0",
         "0.0",
         "0.0",
         "0.0",
         "0.0",
         "0.0",
         "0.0",
         "3.0",
         "0.0",
         "0.0",
         "0.0",
         "0.0",
         "0.0",
         "0.0",
         "0.0",
         "0.0",
         "0.0",
         "0.0",
         "0.0",
         "0.0",
         "0.0",
         "2.0",
         "0.0",
         "5.0",
         "0.0",
         "0.0",
         "0.0",
         "0.0",
         "0.0",
         "0.0",
         "0.0",
         "0.0",
         "0.0",
         "0.0",
         "0.0",
         "0.0",
         "0.0",
         "0.0",
         "0.0",
         "0.0",
         "0.0",
         "0.0",
         "0.0",
         "0.0",
         "0.0",
         "0.0",
         "0.0",
         "0.0",
         "0.0",
         "0.0",
         "0.0",
         "0.0",
         "5.0",
         "5.0",
         "0.0",
         "0.0",
         "0.0",
         "0.0",
         "0.0",
         "0.0",
         "0.0",
         "0.0",
         "0.0",
         "0.0",
         "0.0",
         "0.0",
         "2.0",
         "0.0",
         "0.0",
         "0.0",
         "0.0",
         "0.0",
         "0.0",
         "0.0",
         "0.0",
         "0.0",
         "0.0",
         "0.0",
         "0.0",
         "0.0",
         "0.0",
         "0.0",
         "0.0",
         "0.0",
         "4.0",
         "0.0",
         "0.0",
         "0.0",
         "0.0",
         "0.0",
         "0.0",
         "0.0",
         "0.0",
         "0.0",
         "1.0",
         "0.0",
         "0.0",
         "0.0",
         "0.0",
         "0.0",
         "0.0",
         "0.0",
         "0.0",
         "0.0",
         "0.0",
         "0.0",
         "0.0",
         "0.0",
         "0.0",
         "0.0",
         "0.0",
         "0.0",
         "0.0",
         "0.0",
         "0.0",
         "0.0",
         "0.0",
         "5.0",
         "0.0",
         "0.0",
         "0.0",
         "0.0",
         "0.0",
         "0.0",
         "3.0",
         "0.0",
         "0.0",
         "0.0",
         "0.0",
         "0.0",
         "0.0",
         "0.0",
         "0.0",
         "0.0",
         "0.0",
         "0.0",
         "0.0",
         "0.0",
         "0.0",
         "0.0",
         "2.0",
         "0.0",
         "0.0",
         "0.0",
         "0.0",
         "0.0",
         "3.0",
         "3.0",
         "0.0",
         "0.0",
         "0.0",
         "0.0",
         "0.0",
         "0.0",
         "0.0",
         "0.0",
         "0.0",
         "0.0",
         "0.0",
         "0.0",
         "0.0",
         "0.0",
         "0.0",
         "0.0",
         "0.0",
         "0.0",
         "0.0",
         "4.0",
         "3.0",
         "0.0",
         "3.0",
         "0.0",
         "0.0",
         "0.0",
         "0.0",
         "0.0",
         "0.0",
         "0.0",
         "0.0",
         "0.0",
         "0.0",
         "0.0",
         "0.0",
         "3.0",
         "0.0",
         "0.0",
         "0.0",
         "0.0",
         "0.0",
         "0.0",
         "0.0",
         "0.0",
         "0.0",
         "0.0",
         "0.0",
         "0.0",
         "0.0",
         "0.0",
         "0.0",
         "3.0",
         "0.0",
         "0.0",
         "0.0",
         "0.0",
         "0.0",
         "0.0",
         "0.0",
         "0.0",
         "2.0",
         "3.0",
         "1.0",
         "4.0",
         "4.0",
         "3.0",
         "2.0",
         "5.0",
         "4.0",
         "4.0",
         "0.0",
         "0.0",
         "0.0",
         "0.0",
         "0.0",
         "0.0",
         "0.0",
         "4.0",
         "0.0",
         "0.0",
         "0.0",
         "0.0",
         "0.0",
         "0.0",
         "0.0",
         "0.0",
         "0.0",
         "2.0",
         "0.0",
         "0.0",
         "0.0",
         "0.0",
         "0.0",
         "0.0",
         "0.0",
         "3.0",
         "0.0",
         "0.0",
         "0.0",
         "0.0",
         "0.0",
         "2.0",
         "0.0",
         "0.0",
         "0.0",
         "0.0",
         "0.0",
         "0.0",
         "0.0",
         "0.0",
         "0.0",
         "0.0",
         "0.0",
         "0.0",
         "0.0",
         "0.0",
         "0.0",
         "0.0",
         "0.0",
         "3.0",
         "3.0",
         "0.0",
         "0.0",
         "0.0",
         "0.0",
         "0.0",
         "0.0",
         "0.0",
         "0.0",
         "0.0",
         "0.0",
         "0.0",
         "0.0",
         "0.0",
         "0.0",
         "0.0",
         "0.0",
         "0.0",
         "0.0",
         "0.0",
         "0.0",
         "0.0",
         "0.0",
         "0.0",
         "0.0",
         "0.0",
         "0.0",
         "0.0",
         "1.0",
         "0.0",
         "0.0",
         "5.0",
         "0.0",
         "0.0",
         "0.0",
         "0.0",
         "0.0",
         "0.0",
         "3.0",
         "0.0",
         "0.0",
         "0.0",
         "0.0",
         "0.0",
         "0.0",
         "0.0",
         "0.0",
         "0.0",
         "0.0",
         "0.0",
         "0.0",
         "0.0",
         "0.0",
         "0.0",
         "0.0",
         "0.0",
         "0.0",
         "3.0",
         "0.0",
         "4.0",
         "0.0",
         "0.0",
         "0.0",
         "0.0",
         "0.0",
         "0.0",
         "0.0",
         "0.0",
         "0.0",
         "0.0",
         "0.0",
         "0.0",
         "0.0",
         "4.0",
         "0.0",
         "3.0",
         "0.0",
         "0.0",
         "0.0",
         "0.0",
         "0.0",
         "0.0",
         "0.0",
         "4.0",
         "0.0",
         "0.0",
         "0.0",
         "0.0",
         "0.0",
         "0.0",
         "0.0",
         "0.0",
         "0.0",
         "0.0",
         "0.0",
         "0.0",
         "0.0",
         "0.0",
         "0.0",
         "0.0",
         "0.0",
         "0.0",
         "0.0",
         "0.0",
         "0.0",
         "0.0",
         "0.0",
         "0.0",
         "0.0",
         "4.0",
         "0.0",
         "0.0",
         "0.0",
         "0.0",
         "0.0",
         "0.0",
         "0.0",
         "0.0",
         "0.0",
         "0.0",
         "0.0",
         "0.0",
         "0.0",
         "0.0",
         "0.0",
         "0.0",
         "0.0",
         "0.0",
         "0.0",
         "0.0",
         "0.0",
         "3.0",
         "0.0",
         "0.0",
         "0.0",
         "0.0",
         "0.0",
         "0.0",
         "0.0",
         "0.0",
         "0.0",
         "0.0",
         "0.0",
         "0.0",
         "0.0",
         "0.0",
         "0.0",
         "0.0",
         "0.0",
         "0.0",
         "0.0",
         "0.0",
         "0.0",
         "0.0",
         "0.0",
         "0.0",
         "0.0",
         "0.0",
         "0.0",
         "0.0",
         "0.0",
         "0.0",
         "0.0",
         "0.0",
         "0.0",
         "1.0",
         "0.0",
         "0.0",
         "0.0",
         "0.0",
         "1.0",
         "0.0",
         "0.0",
         "0.0",
         "0.0",
         "0.0",
         "0.0",
         "0.0",
         "0.0",
         "0.0",
         "0.0",
         "0.0",
         "1.0",
         "3.0",
         "0.0",
         "0.0",
         "0.0",
         "0.0",
         "0.0",
         "0.0",
         "0.0",
         "0.0",
         "0.0",
         "0.0",
         "0.0",
         "0.0",
         "0.0",
         "0.0",
         "0.0",
         "0.0",
         "0.0",
         "0.0",
         "5.0",
         "0.0",
         "0.0",
         "0.0",
         "0.0",
         "4.0",
         "0.0",
         "0.0",
         "0.0",
         "0.0",
         "4.0",
         "0.0"
        ]
       ],
       "shape": {
        "columns": 1664,
        "rows": 5
       }
      },
      "text/html": [
       "<div>\n",
       "<style scoped>\n",
       "    .dataframe tbody tr th:only-of-type {\n",
       "        vertical-align: middle;\n",
       "    }\n",
       "\n",
       "    .dataframe tbody tr th {\n",
       "        vertical-align: top;\n",
       "    }\n",
       "\n",
       "    .dataframe thead th {\n",
       "        text-align: right;\n",
       "    }\n",
       "</style>\n",
       "<table border=\"1\" class=\"dataframe\">\n",
       "  <thead>\n",
       "    <tr style=\"text-align: right;\">\n",
       "      <th>title</th>\n",
       "      <th>'Til There Was You (1997)</th>\n",
       "      <th>1-900 (1994)</th>\n",
       "      <th>101 Dalmatians (1996)</th>\n",
       "      <th>12 Angry Men (1957)</th>\n",
       "      <th>187 (1997)</th>\n",
       "      <th>2 Days in the Valley (1996)</th>\n",
       "      <th>20,000 Leagues Under the Sea (1954)</th>\n",
       "      <th>2001: A Space Odyssey (1968)</th>\n",
       "      <th>3 Ninjas: High Noon At Mega Mountain (1998)</th>\n",
       "      <th>39 Steps, The (1935)</th>\n",
       "      <th>...</th>\n",
       "      <th>Yankee Zulu (1994)</th>\n",
       "      <th>Year of the Horse (1997)</th>\n",
       "      <th>You So Crazy (1994)</th>\n",
       "      <th>Young Frankenstein (1974)</th>\n",
       "      <th>Young Guns (1988)</th>\n",
       "      <th>Young Guns II (1990)</th>\n",
       "      <th>Young Poisoner's Handbook, The (1995)</th>\n",
       "      <th>Zeus and Roxanne (1997)</th>\n",
       "      <th>unknown</th>\n",
       "      <th>Á köldum klaka (Cold Fever) (1994)</th>\n",
       "    </tr>\n",
       "    <tr>\n",
       "      <th>user_id</th>\n",
       "      <th></th>\n",
       "      <th></th>\n",
       "      <th></th>\n",
       "      <th></th>\n",
       "      <th></th>\n",
       "      <th></th>\n",
       "      <th></th>\n",
       "      <th></th>\n",
       "      <th></th>\n",
       "      <th></th>\n",
       "      <th></th>\n",
       "      <th></th>\n",
       "      <th></th>\n",
       "      <th></th>\n",
       "      <th></th>\n",
       "      <th></th>\n",
       "      <th></th>\n",
       "      <th></th>\n",
       "      <th></th>\n",
       "      <th></th>\n",
       "      <th></th>\n",
       "    </tr>\n",
       "  </thead>\n",
       "  <tbody>\n",
       "    <tr>\n",
       "      <th>1</th>\n",
       "      <td>0.0</td>\n",
       "      <td>0.0</td>\n",
       "      <td>2.0</td>\n",
       "      <td>5.0</td>\n",
       "      <td>0.0</td>\n",
       "      <td>0.0</td>\n",
       "      <td>3.0</td>\n",
       "      <td>4.0</td>\n",
       "      <td>0.0</td>\n",
       "      <td>0.0</td>\n",
       "      <td>...</td>\n",
       "      <td>0.0</td>\n",
       "      <td>0.0</td>\n",
       "      <td>0.0</td>\n",
       "      <td>5.0</td>\n",
       "      <td>3.0</td>\n",
       "      <td>0.0</td>\n",
       "      <td>0.0</td>\n",
       "      <td>0.0</td>\n",
       "      <td>4.0</td>\n",
       "      <td>0.0</td>\n",
       "    </tr>\n",
       "    <tr>\n",
       "      <th>2</th>\n",
       "      <td>0.0</td>\n",
       "      <td>0.0</td>\n",
       "      <td>0.0</td>\n",
       "      <td>0.0</td>\n",
       "      <td>0.0</td>\n",
       "      <td>0.0</td>\n",
       "      <td>0.0</td>\n",
       "      <td>0.0</td>\n",
       "      <td>1.0</td>\n",
       "      <td>0.0</td>\n",
       "      <td>...</td>\n",
       "      <td>0.0</td>\n",
       "      <td>0.0</td>\n",
       "      <td>0.0</td>\n",
       "      <td>0.0</td>\n",
       "      <td>0.0</td>\n",
       "      <td>0.0</td>\n",
       "      <td>0.0</td>\n",
       "      <td>0.0</td>\n",
       "      <td>0.0</td>\n",
       "      <td>0.0</td>\n",
       "    </tr>\n",
       "    <tr>\n",
       "      <th>3</th>\n",
       "      <td>0.0</td>\n",
       "      <td>0.0</td>\n",
       "      <td>0.0</td>\n",
       "      <td>0.0</td>\n",
       "      <td>2.0</td>\n",
       "      <td>0.0</td>\n",
       "      <td>0.0</td>\n",
       "      <td>0.0</td>\n",
       "      <td>0.0</td>\n",
       "      <td>0.0</td>\n",
       "      <td>...</td>\n",
       "      <td>0.0</td>\n",
       "      <td>0.0</td>\n",
       "      <td>0.0</td>\n",
       "      <td>0.0</td>\n",
       "      <td>0.0</td>\n",
       "      <td>0.0</td>\n",
       "      <td>0.0</td>\n",
       "      <td>0.0</td>\n",
       "      <td>0.0</td>\n",
       "      <td>0.0</td>\n",
       "    </tr>\n",
       "    <tr>\n",
       "      <th>4</th>\n",
       "      <td>0.0</td>\n",
       "      <td>0.0</td>\n",
       "      <td>0.0</td>\n",
       "      <td>0.0</td>\n",
       "      <td>0.0</td>\n",
       "      <td>0.0</td>\n",
       "      <td>0.0</td>\n",
       "      <td>0.0</td>\n",
       "      <td>0.0</td>\n",
       "      <td>0.0</td>\n",
       "      <td>...</td>\n",
       "      <td>0.0</td>\n",
       "      <td>0.0</td>\n",
       "      <td>0.0</td>\n",
       "      <td>0.0</td>\n",
       "      <td>0.0</td>\n",
       "      <td>0.0</td>\n",
       "      <td>0.0</td>\n",
       "      <td>0.0</td>\n",
       "      <td>0.0</td>\n",
       "      <td>0.0</td>\n",
       "    </tr>\n",
       "    <tr>\n",
       "      <th>5</th>\n",
       "      <td>0.0</td>\n",
       "      <td>0.0</td>\n",
       "      <td>2.0</td>\n",
       "      <td>0.0</td>\n",
       "      <td>0.0</td>\n",
       "      <td>0.0</td>\n",
       "      <td>0.0</td>\n",
       "      <td>4.0</td>\n",
       "      <td>0.0</td>\n",
       "      <td>0.0</td>\n",
       "      <td>...</td>\n",
       "      <td>0.0</td>\n",
       "      <td>0.0</td>\n",
       "      <td>0.0</td>\n",
       "      <td>4.0</td>\n",
       "      <td>0.0</td>\n",
       "      <td>0.0</td>\n",
       "      <td>0.0</td>\n",
       "      <td>0.0</td>\n",
       "      <td>4.0</td>\n",
       "      <td>0.0</td>\n",
       "    </tr>\n",
       "  </tbody>\n",
       "</table>\n",
       "<p>5 rows × 1664 columns</p>\n",
       "</div>"
      ],
      "text/plain": [
       "title    'Til There Was You (1997)  1-900 (1994)  101 Dalmatians (1996)  \\\n",
       "user_id                                                                   \n",
       "1                              0.0           0.0                    2.0   \n",
       "2                              0.0           0.0                    0.0   \n",
       "3                              0.0           0.0                    0.0   \n",
       "4                              0.0           0.0                    0.0   \n",
       "5                              0.0           0.0                    2.0   \n",
       "\n",
       "title    12 Angry Men (1957)  187 (1997)  2 Days in the Valley (1996)  \\\n",
       "user_id                                                                 \n",
       "1                        5.0         0.0                          0.0   \n",
       "2                        0.0         0.0                          0.0   \n",
       "3                        0.0         2.0                          0.0   \n",
       "4                        0.0         0.0                          0.0   \n",
       "5                        0.0         0.0                          0.0   \n",
       "\n",
       "title    20,000 Leagues Under the Sea (1954)  2001: A Space Odyssey (1968)  \\\n",
       "user_id                                                                      \n",
       "1                                        3.0                           4.0   \n",
       "2                                        0.0                           0.0   \n",
       "3                                        0.0                           0.0   \n",
       "4                                        0.0                           0.0   \n",
       "5                                        0.0                           4.0   \n",
       "\n",
       "title    3 Ninjas: High Noon At Mega Mountain (1998)  39 Steps, The (1935)  \\\n",
       "user_id                                                                      \n",
       "1                                                0.0                   0.0   \n",
       "2                                                1.0                   0.0   \n",
       "3                                                0.0                   0.0   \n",
       "4                                                0.0                   0.0   \n",
       "5                                                0.0                   0.0   \n",
       "\n",
       "title    ...  Yankee Zulu (1994)  Year of the Horse (1997)  \\\n",
       "user_id  ...                                                 \n",
       "1        ...                 0.0                       0.0   \n",
       "2        ...                 0.0                       0.0   \n",
       "3        ...                 0.0                       0.0   \n",
       "4        ...                 0.0                       0.0   \n",
       "5        ...                 0.0                       0.0   \n",
       "\n",
       "title    You So Crazy (1994)  Young Frankenstein (1974)  Young Guns (1988)  \\\n",
       "user_id                                                                      \n",
       "1                        0.0                        5.0                3.0   \n",
       "2                        0.0                        0.0                0.0   \n",
       "3                        0.0                        0.0                0.0   \n",
       "4                        0.0                        0.0                0.0   \n",
       "5                        0.0                        4.0                0.0   \n",
       "\n",
       "title    Young Guns II (1990)  Young Poisoner's Handbook, The (1995)  \\\n",
       "user_id                                                                \n",
       "1                         0.0                                    0.0   \n",
       "2                         0.0                                    0.0   \n",
       "3                         0.0                                    0.0   \n",
       "4                         0.0                                    0.0   \n",
       "5                         0.0                                    0.0   \n",
       "\n",
       "title    Zeus and Roxanne (1997)  unknown  Á köldum klaka (Cold Fever) (1994)  \n",
       "user_id                                                                        \n",
       "1                            0.0      4.0                                 0.0  \n",
       "2                            0.0      0.0                                 0.0  \n",
       "3                            0.0      0.0                                 0.0  \n",
       "4                            0.0      0.0                                 0.0  \n",
       "5                            0.0      4.0                                 0.0  \n",
       "\n",
       "[5 rows x 1664 columns]"
      ]
     },
     "execution_count": 7,
     "metadata": {},
     "output_type": "execute_result"
    }
   ],
   "source": [
    "user_item_matrix = user_item_matrix.fillna(0)\n",
    "\n",
    "user_item_matrix.head()"
   ]
  },
  {
   "cell_type": "markdown",
   "id": "19c6d866",
   "metadata": {},
   "source": [
    "## Cosine Similarity"
   ]
  },
  {
   "cell_type": "code",
   "execution_count": 8,
   "id": "b380518a",
   "metadata": {},
   "outputs": [
    {
     "data": {
      "application/vnd.microsoft.datawrangler.viewer.v0+json": {
       "columns": [
        {
         "name": "user_id",
         "rawType": "int64",
         "type": "integer"
        },
        {
         "name": "1",
         "rawType": "float64",
         "type": "float"
        },
        {
         "name": "2",
         "rawType": "float64",
         "type": "float"
        },
        {
         "name": "3",
         "rawType": "float64",
         "type": "float"
        },
        {
         "name": "4",
         "rawType": "float64",
         "type": "float"
        },
        {
         "name": "5",
         "rawType": "float64",
         "type": "float"
        },
        {
         "name": "6",
         "rawType": "float64",
         "type": "float"
        },
        {
         "name": "7",
         "rawType": "float64",
         "type": "float"
        },
        {
         "name": "8",
         "rawType": "float64",
         "type": "float"
        },
        {
         "name": "9",
         "rawType": "float64",
         "type": "float"
        },
        {
         "name": "10",
         "rawType": "float64",
         "type": "float"
        },
        {
         "name": "11",
         "rawType": "float64",
         "type": "float"
        },
        {
         "name": "12",
         "rawType": "float64",
         "type": "float"
        },
        {
         "name": "13",
         "rawType": "float64",
         "type": "float"
        },
        {
         "name": "14",
         "rawType": "float64",
         "type": "float"
        },
        {
         "name": "15",
         "rawType": "float64",
         "type": "float"
        },
        {
         "name": "16",
         "rawType": "float64",
         "type": "float"
        },
        {
         "name": "17",
         "rawType": "float64",
         "type": "float"
        },
        {
         "name": "18",
         "rawType": "float64",
         "type": "float"
        },
        {
         "name": "19",
         "rawType": "float64",
         "type": "float"
        },
        {
         "name": "20",
         "rawType": "float64",
         "type": "float"
        },
        {
         "name": "21",
         "rawType": "float64",
         "type": "float"
        },
        {
         "name": "22",
         "rawType": "float64",
         "type": "float"
        },
        {
         "name": "23",
         "rawType": "float64",
         "type": "float"
        },
        {
         "name": "24",
         "rawType": "float64",
         "type": "float"
        },
        {
         "name": "25",
         "rawType": "float64",
         "type": "float"
        },
        {
         "name": "26",
         "rawType": "float64",
         "type": "float"
        },
        {
         "name": "27",
         "rawType": "float64",
         "type": "float"
        },
        {
         "name": "28",
         "rawType": "float64",
         "type": "float"
        },
        {
         "name": "29",
         "rawType": "float64",
         "type": "float"
        },
        {
         "name": "30",
         "rawType": "float64",
         "type": "float"
        },
        {
         "name": "31",
         "rawType": "float64",
         "type": "float"
        },
        {
         "name": "32",
         "rawType": "float64",
         "type": "float"
        },
        {
         "name": "33",
         "rawType": "float64",
         "type": "float"
        },
        {
         "name": "34",
         "rawType": "float64",
         "type": "float"
        },
        {
         "name": "35",
         "rawType": "float64",
         "type": "float"
        },
        {
         "name": "36",
         "rawType": "float64",
         "type": "float"
        },
        {
         "name": "37",
         "rawType": "float64",
         "type": "float"
        },
        {
         "name": "38",
         "rawType": "float64",
         "type": "float"
        },
        {
         "name": "39",
         "rawType": "float64",
         "type": "float"
        },
        {
         "name": "40",
         "rawType": "float64",
         "type": "float"
        },
        {
         "name": "41",
         "rawType": "float64",
         "type": "float"
        },
        {
         "name": "42",
         "rawType": "float64",
         "type": "float"
        },
        {
         "name": "43",
         "rawType": "float64",
         "type": "float"
        },
        {
         "name": "44",
         "rawType": "float64",
         "type": "float"
        },
        {
         "name": "45",
         "rawType": "float64",
         "type": "float"
        },
        {
         "name": "46",
         "rawType": "float64",
         "type": "float"
        },
        {
         "name": "47",
         "rawType": "float64",
         "type": "float"
        },
        {
         "name": "48",
         "rawType": "float64",
         "type": "float"
        },
        {
         "name": "49",
         "rawType": "float64",
         "type": "float"
        },
        {
         "name": "50",
         "rawType": "float64",
         "type": "float"
        },
        {
         "name": "51",
         "rawType": "float64",
         "type": "float"
        },
        {
         "name": "52",
         "rawType": "float64",
         "type": "float"
        },
        {
         "name": "53",
         "rawType": "float64",
         "type": "float"
        },
        {
         "name": "54",
         "rawType": "float64",
         "type": "float"
        },
        {
         "name": "55",
         "rawType": "float64",
         "type": "float"
        },
        {
         "name": "56",
         "rawType": "float64",
         "type": "float"
        },
        {
         "name": "57",
         "rawType": "float64",
         "type": "float"
        },
        {
         "name": "58",
         "rawType": "float64",
         "type": "float"
        },
        {
         "name": "59",
         "rawType": "float64",
         "type": "float"
        },
        {
         "name": "60",
         "rawType": "float64",
         "type": "float"
        },
        {
         "name": "61",
         "rawType": "float64",
         "type": "float"
        },
        {
         "name": "62",
         "rawType": "float64",
         "type": "float"
        },
        {
         "name": "63",
         "rawType": "float64",
         "type": "float"
        },
        {
         "name": "64",
         "rawType": "float64",
         "type": "float"
        },
        {
         "name": "65",
         "rawType": "float64",
         "type": "float"
        },
        {
         "name": "66",
         "rawType": "float64",
         "type": "float"
        },
        {
         "name": "67",
         "rawType": "float64",
         "type": "float"
        },
        {
         "name": "68",
         "rawType": "float64",
         "type": "float"
        },
        {
         "name": "69",
         "rawType": "float64",
         "type": "float"
        },
        {
         "name": "70",
         "rawType": "float64",
         "type": "float"
        },
        {
         "name": "71",
         "rawType": "float64",
         "type": "float"
        },
        {
         "name": "72",
         "rawType": "float64",
         "type": "float"
        },
        {
         "name": "73",
         "rawType": "float64",
         "type": "float"
        },
        {
         "name": "74",
         "rawType": "float64",
         "type": "float"
        },
        {
         "name": "75",
         "rawType": "float64",
         "type": "float"
        },
        {
         "name": "76",
         "rawType": "float64",
         "type": "float"
        },
        {
         "name": "77",
         "rawType": "float64",
         "type": "float"
        },
        {
         "name": "78",
         "rawType": "float64",
         "type": "float"
        },
        {
         "name": "79",
         "rawType": "float64",
         "type": "float"
        },
        {
         "name": "80",
         "rawType": "float64",
         "type": "float"
        },
        {
         "name": "81",
         "rawType": "float64",
         "type": "float"
        },
        {
         "name": "82",
         "rawType": "float64",
         "type": "float"
        },
        {
         "name": "83",
         "rawType": "float64",
         "type": "float"
        },
        {
         "name": "84",
         "rawType": "float64",
         "type": "float"
        },
        {
         "name": "85",
         "rawType": "float64",
         "type": "float"
        },
        {
         "name": "86",
         "rawType": "float64",
         "type": "float"
        },
        {
         "name": "87",
         "rawType": "float64",
         "type": "float"
        },
        {
         "name": "88",
         "rawType": "float64",
         "type": "float"
        },
        {
         "name": "89",
         "rawType": "float64",
         "type": "float"
        },
        {
         "name": "90",
         "rawType": "float64",
         "type": "float"
        },
        {
         "name": "91",
         "rawType": "float64",
         "type": "float"
        },
        {
         "name": "92",
         "rawType": "float64",
         "type": "float"
        },
        {
         "name": "93",
         "rawType": "float64",
         "type": "float"
        },
        {
         "name": "94",
         "rawType": "float64",
         "type": "float"
        },
        {
         "name": "95",
         "rawType": "float64",
         "type": "float"
        },
        {
         "name": "96",
         "rawType": "float64",
         "type": "float"
        },
        {
         "name": "97",
         "rawType": "float64",
         "type": "float"
        },
        {
         "name": "98",
         "rawType": "float64",
         "type": "float"
        },
        {
         "name": "99",
         "rawType": "float64",
         "type": "float"
        },
        {
         "name": "100",
         "rawType": "float64",
         "type": "float"
        },
        {
         "name": "101",
         "rawType": "float64",
         "type": "float"
        },
        {
         "name": "102",
         "rawType": "float64",
         "type": "float"
        },
        {
         "name": "103",
         "rawType": "float64",
         "type": "float"
        },
        {
         "name": "104",
         "rawType": "float64",
         "type": "float"
        },
        {
         "name": "105",
         "rawType": "float64",
         "type": "float"
        },
        {
         "name": "106",
         "rawType": "float64",
         "type": "float"
        },
        {
         "name": "107",
         "rawType": "float64",
         "type": "float"
        },
        {
         "name": "108",
         "rawType": "float64",
         "type": "float"
        },
        {
         "name": "109",
         "rawType": "float64",
         "type": "float"
        },
        {
         "name": "110",
         "rawType": "float64",
         "type": "float"
        },
        {
         "name": "111",
         "rawType": "float64",
         "type": "float"
        },
        {
         "name": "112",
         "rawType": "float64",
         "type": "float"
        },
        {
         "name": "113",
         "rawType": "float64",
         "type": "float"
        },
        {
         "name": "114",
         "rawType": "float64",
         "type": "float"
        },
        {
         "name": "115",
         "rawType": "float64",
         "type": "float"
        },
        {
         "name": "116",
         "rawType": "float64",
         "type": "float"
        },
        {
         "name": "117",
         "rawType": "float64",
         "type": "float"
        },
        {
         "name": "118",
         "rawType": "float64",
         "type": "float"
        },
        {
         "name": "119",
         "rawType": "float64",
         "type": "float"
        },
        {
         "name": "120",
         "rawType": "float64",
         "type": "float"
        },
        {
         "name": "121",
         "rawType": "float64",
         "type": "float"
        },
        {
         "name": "122",
         "rawType": "float64",
         "type": "float"
        },
        {
         "name": "123",
         "rawType": "float64",
         "type": "float"
        },
        {
         "name": "124",
         "rawType": "float64",
         "type": "float"
        },
        {
         "name": "125",
         "rawType": "float64",
         "type": "float"
        },
        {
         "name": "126",
         "rawType": "float64",
         "type": "float"
        },
        {
         "name": "127",
         "rawType": "float64",
         "type": "float"
        },
        {
         "name": "128",
         "rawType": "float64",
         "type": "float"
        },
        {
         "name": "129",
         "rawType": "float64",
         "type": "float"
        },
        {
         "name": "130",
         "rawType": "float64",
         "type": "float"
        },
        {
         "name": "131",
         "rawType": "float64",
         "type": "float"
        },
        {
         "name": "132",
         "rawType": "float64",
         "type": "float"
        },
        {
         "name": "133",
         "rawType": "float64",
         "type": "float"
        },
        {
         "name": "134",
         "rawType": "float64",
         "type": "float"
        },
        {
         "name": "135",
         "rawType": "float64",
         "type": "float"
        },
        {
         "name": "136",
         "rawType": "float64",
         "type": "float"
        },
        {
         "name": "137",
         "rawType": "float64",
         "type": "float"
        },
        {
         "name": "138",
         "rawType": "float64",
         "type": "float"
        },
        {
         "name": "139",
         "rawType": "float64",
         "type": "float"
        },
        {
         "name": "140",
         "rawType": "float64",
         "type": "float"
        },
        {
         "name": "141",
         "rawType": "float64",
         "type": "float"
        },
        {
         "name": "142",
         "rawType": "float64",
         "type": "float"
        },
        {
         "name": "143",
         "rawType": "float64",
         "type": "float"
        },
        {
         "name": "144",
         "rawType": "float64",
         "type": "float"
        },
        {
         "name": "145",
         "rawType": "float64",
         "type": "float"
        },
        {
         "name": "146",
         "rawType": "float64",
         "type": "float"
        },
        {
         "name": "147",
         "rawType": "float64",
         "type": "float"
        },
        {
         "name": "148",
         "rawType": "float64",
         "type": "float"
        },
        {
         "name": "149",
         "rawType": "float64",
         "type": "float"
        },
        {
         "name": "150",
         "rawType": "float64",
         "type": "float"
        },
        {
         "name": "151",
         "rawType": "float64",
         "type": "float"
        },
        {
         "name": "152",
         "rawType": "float64",
         "type": "float"
        },
        {
         "name": "153",
         "rawType": "float64",
         "type": "float"
        },
        {
         "name": "154",
         "rawType": "float64",
         "type": "float"
        },
        {
         "name": "155",
         "rawType": "float64",
         "type": "float"
        },
        {
         "name": "156",
         "rawType": "float64",
         "type": "float"
        },
        {
         "name": "157",
         "rawType": "float64",
         "type": "float"
        },
        {
         "name": "158",
         "rawType": "float64",
         "type": "float"
        },
        {
         "name": "159",
         "rawType": "float64",
         "type": "float"
        },
        {
         "name": "160",
         "rawType": "float64",
         "type": "float"
        },
        {
         "name": "161",
         "rawType": "float64",
         "type": "float"
        },
        {
         "name": "162",
         "rawType": "float64",
         "type": "float"
        },
        {
         "name": "163",
         "rawType": "float64",
         "type": "float"
        },
        {
         "name": "164",
         "rawType": "float64",
         "type": "float"
        },
        {
         "name": "165",
         "rawType": "float64",
         "type": "float"
        },
        {
         "name": "166",
         "rawType": "float64",
         "type": "float"
        },
        {
         "name": "167",
         "rawType": "float64",
         "type": "float"
        },
        {
         "name": "168",
         "rawType": "float64",
         "type": "float"
        },
        {
         "name": "169",
         "rawType": "float64",
         "type": "float"
        },
        {
         "name": "170",
         "rawType": "float64",
         "type": "float"
        },
        {
         "name": "171",
         "rawType": "float64",
         "type": "float"
        },
        {
         "name": "172",
         "rawType": "float64",
         "type": "float"
        },
        {
         "name": "173",
         "rawType": "float64",
         "type": "float"
        },
        {
         "name": "174",
         "rawType": "float64",
         "type": "float"
        },
        {
         "name": "175",
         "rawType": "float64",
         "type": "float"
        },
        {
         "name": "176",
         "rawType": "float64",
         "type": "float"
        },
        {
         "name": "177",
         "rawType": "float64",
         "type": "float"
        },
        {
         "name": "178",
         "rawType": "float64",
         "type": "float"
        },
        {
         "name": "179",
         "rawType": "float64",
         "type": "float"
        },
        {
         "name": "180",
         "rawType": "float64",
         "type": "float"
        },
        {
         "name": "181",
         "rawType": "float64",
         "type": "float"
        },
        {
         "name": "182",
         "rawType": "float64",
         "type": "float"
        },
        {
         "name": "183",
         "rawType": "float64",
         "type": "float"
        },
        {
         "name": "184",
         "rawType": "float64",
         "type": "float"
        },
        {
         "name": "185",
         "rawType": "float64",
         "type": "float"
        },
        {
         "name": "186",
         "rawType": "float64",
         "type": "float"
        },
        {
         "name": "187",
         "rawType": "float64",
         "type": "float"
        },
        {
         "name": "188",
         "rawType": "float64",
         "type": "float"
        },
        {
         "name": "189",
         "rawType": "float64",
         "type": "float"
        },
        {
         "name": "190",
         "rawType": "float64",
         "type": "float"
        },
        {
         "name": "191",
         "rawType": "float64",
         "type": "float"
        },
        {
         "name": "192",
         "rawType": "float64",
         "type": "float"
        },
        {
         "name": "193",
         "rawType": "float64",
         "type": "float"
        },
        {
         "name": "194",
         "rawType": "float64",
         "type": "float"
        },
        {
         "name": "195",
         "rawType": "float64",
         "type": "float"
        },
        {
         "name": "196",
         "rawType": "float64",
         "type": "float"
        },
        {
         "name": "197",
         "rawType": "float64",
         "type": "float"
        },
        {
         "name": "198",
         "rawType": "float64",
         "type": "float"
        },
        {
         "name": "199",
         "rawType": "float64",
         "type": "float"
        },
        {
         "name": "200",
         "rawType": "float64",
         "type": "float"
        },
        {
         "name": "201",
         "rawType": "float64",
         "type": "float"
        },
        {
         "name": "202",
         "rawType": "float64",
         "type": "float"
        },
        {
         "name": "203",
         "rawType": "float64",
         "type": "float"
        },
        {
         "name": "204",
         "rawType": "float64",
         "type": "float"
        },
        {
         "name": "205",
         "rawType": "float64",
         "type": "float"
        },
        {
         "name": "206",
         "rawType": "float64",
         "type": "float"
        },
        {
         "name": "207",
         "rawType": "float64",
         "type": "float"
        },
        {
         "name": "208",
         "rawType": "float64",
         "type": "float"
        },
        {
         "name": "209",
         "rawType": "float64",
         "type": "float"
        },
        {
         "name": "210",
         "rawType": "float64",
         "type": "float"
        },
        {
         "name": "211",
         "rawType": "float64",
         "type": "float"
        },
        {
         "name": "212",
         "rawType": "float64",
         "type": "float"
        },
        {
         "name": "213",
         "rawType": "float64",
         "type": "float"
        },
        {
         "name": "214",
         "rawType": "float64",
         "type": "float"
        },
        {
         "name": "215",
         "rawType": "float64",
         "type": "float"
        },
        {
         "name": "216",
         "rawType": "float64",
         "type": "float"
        },
        {
         "name": "217",
         "rawType": "float64",
         "type": "float"
        },
        {
         "name": "218",
         "rawType": "float64",
         "type": "float"
        },
        {
         "name": "219",
         "rawType": "float64",
         "type": "float"
        },
        {
         "name": "220",
         "rawType": "float64",
         "type": "float"
        },
        {
         "name": "221",
         "rawType": "float64",
         "type": "float"
        },
        {
         "name": "222",
         "rawType": "float64",
         "type": "float"
        },
        {
         "name": "223",
         "rawType": "float64",
         "type": "float"
        },
        {
         "name": "224",
         "rawType": "float64",
         "type": "float"
        },
        {
         "name": "225",
         "rawType": "float64",
         "type": "float"
        },
        {
         "name": "226",
         "rawType": "float64",
         "type": "float"
        },
        {
         "name": "227",
         "rawType": "float64",
         "type": "float"
        },
        {
         "name": "228",
         "rawType": "float64",
         "type": "float"
        },
        {
         "name": "229",
         "rawType": "float64",
         "type": "float"
        },
        {
         "name": "230",
         "rawType": "float64",
         "type": "float"
        },
        {
         "name": "231",
         "rawType": "float64",
         "type": "float"
        },
        {
         "name": "232",
         "rawType": "float64",
         "type": "float"
        },
        {
         "name": "233",
         "rawType": "float64",
         "type": "float"
        },
        {
         "name": "234",
         "rawType": "float64",
         "type": "float"
        },
        {
         "name": "235",
         "rawType": "float64",
         "type": "float"
        },
        {
         "name": "236",
         "rawType": "float64",
         "type": "float"
        },
        {
         "name": "237",
         "rawType": "float64",
         "type": "float"
        },
        {
         "name": "238",
         "rawType": "float64",
         "type": "float"
        },
        {
         "name": "239",
         "rawType": "float64",
         "type": "float"
        },
        {
         "name": "240",
         "rawType": "float64",
         "type": "float"
        },
        {
         "name": "241",
         "rawType": "float64",
         "type": "float"
        },
        {
         "name": "242",
         "rawType": "float64",
         "type": "float"
        },
        {
         "name": "243",
         "rawType": "float64",
         "type": "float"
        },
        {
         "name": "244",
         "rawType": "float64",
         "type": "float"
        },
        {
         "name": "245",
         "rawType": "float64",
         "type": "float"
        },
        {
         "name": "246",
         "rawType": "float64",
         "type": "float"
        },
        {
         "name": "247",
         "rawType": "float64",
         "type": "float"
        },
        {
         "name": "248",
         "rawType": "float64",
         "type": "float"
        },
        {
         "name": "249",
         "rawType": "float64",
         "type": "float"
        },
        {
         "name": "250",
         "rawType": "float64",
         "type": "float"
        },
        {
         "name": "251",
         "rawType": "float64",
         "type": "float"
        },
        {
         "name": "252",
         "rawType": "float64",
         "type": "float"
        },
        {
         "name": "253",
         "rawType": "float64",
         "type": "float"
        },
        {
         "name": "254",
         "rawType": "float64",
         "type": "float"
        },
        {
         "name": "255",
         "rawType": "float64",
         "type": "float"
        },
        {
         "name": "256",
         "rawType": "float64",
         "type": "float"
        },
        {
         "name": "257",
         "rawType": "float64",
         "type": "float"
        },
        {
         "name": "258",
         "rawType": "float64",
         "type": "float"
        },
        {
         "name": "259",
         "rawType": "float64",
         "type": "float"
        },
        {
         "name": "260",
         "rawType": "float64",
         "type": "float"
        },
        {
         "name": "261",
         "rawType": "float64",
         "type": "float"
        },
        {
         "name": "262",
         "rawType": "float64",
         "type": "float"
        },
        {
         "name": "263",
         "rawType": "float64",
         "type": "float"
        },
        {
         "name": "264",
         "rawType": "float64",
         "type": "float"
        },
        {
         "name": "265",
         "rawType": "float64",
         "type": "float"
        },
        {
         "name": "266",
         "rawType": "float64",
         "type": "float"
        },
        {
         "name": "267",
         "rawType": "float64",
         "type": "float"
        },
        {
         "name": "268",
         "rawType": "float64",
         "type": "float"
        },
        {
         "name": "269",
         "rawType": "float64",
         "type": "float"
        },
        {
         "name": "270",
         "rawType": "float64",
         "type": "float"
        },
        {
         "name": "271",
         "rawType": "float64",
         "type": "float"
        },
        {
         "name": "272",
         "rawType": "float64",
         "type": "float"
        },
        {
         "name": "273",
         "rawType": "float64",
         "type": "float"
        },
        {
         "name": "274",
         "rawType": "float64",
         "type": "float"
        },
        {
         "name": "275",
         "rawType": "float64",
         "type": "float"
        },
        {
         "name": "276",
         "rawType": "float64",
         "type": "float"
        },
        {
         "name": "277",
         "rawType": "float64",
         "type": "float"
        },
        {
         "name": "278",
         "rawType": "float64",
         "type": "float"
        },
        {
         "name": "279",
         "rawType": "float64",
         "type": "float"
        },
        {
         "name": "280",
         "rawType": "float64",
         "type": "float"
        },
        {
         "name": "281",
         "rawType": "float64",
         "type": "float"
        },
        {
         "name": "282",
         "rawType": "float64",
         "type": "float"
        },
        {
         "name": "283",
         "rawType": "float64",
         "type": "float"
        },
        {
         "name": "284",
         "rawType": "float64",
         "type": "float"
        },
        {
         "name": "285",
         "rawType": "float64",
         "type": "float"
        },
        {
         "name": "286",
         "rawType": "float64",
         "type": "float"
        },
        {
         "name": "287",
         "rawType": "float64",
         "type": "float"
        },
        {
         "name": "288",
         "rawType": "float64",
         "type": "float"
        },
        {
         "name": "289",
         "rawType": "float64",
         "type": "float"
        },
        {
         "name": "290",
         "rawType": "float64",
         "type": "float"
        },
        {
         "name": "291",
         "rawType": "float64",
         "type": "float"
        },
        {
         "name": "292",
         "rawType": "float64",
         "type": "float"
        },
        {
         "name": "293",
         "rawType": "float64",
         "type": "float"
        },
        {
         "name": "294",
         "rawType": "float64",
         "type": "float"
        },
        {
         "name": "295",
         "rawType": "float64",
         "type": "float"
        },
        {
         "name": "296",
         "rawType": "float64",
         "type": "float"
        },
        {
         "name": "297",
         "rawType": "float64",
         "type": "float"
        },
        {
         "name": "298",
         "rawType": "float64",
         "type": "float"
        },
        {
         "name": "299",
         "rawType": "float64",
         "type": "float"
        },
        {
         "name": "300",
         "rawType": "float64",
         "type": "float"
        },
        {
         "name": "301",
         "rawType": "float64",
         "type": "float"
        },
        {
         "name": "302",
         "rawType": "float64",
         "type": "float"
        },
        {
         "name": "303",
         "rawType": "float64",
         "type": "float"
        },
        {
         "name": "304",
         "rawType": "float64",
         "type": "float"
        },
        {
         "name": "305",
         "rawType": "float64",
         "type": "float"
        },
        {
         "name": "306",
         "rawType": "float64",
         "type": "float"
        },
        {
         "name": "307",
         "rawType": "float64",
         "type": "float"
        },
        {
         "name": "308",
         "rawType": "float64",
         "type": "float"
        },
        {
         "name": "309",
         "rawType": "float64",
         "type": "float"
        },
        {
         "name": "310",
         "rawType": "float64",
         "type": "float"
        },
        {
         "name": "311",
         "rawType": "float64",
         "type": "float"
        },
        {
         "name": "312",
         "rawType": "float64",
         "type": "float"
        },
        {
         "name": "313",
         "rawType": "float64",
         "type": "float"
        },
        {
         "name": "314",
         "rawType": "float64",
         "type": "float"
        },
        {
         "name": "315",
         "rawType": "float64",
         "type": "float"
        },
        {
         "name": "316",
         "rawType": "float64",
         "type": "float"
        },
        {
         "name": "317",
         "rawType": "float64",
         "type": "float"
        },
        {
         "name": "318",
         "rawType": "float64",
         "type": "float"
        },
        {
         "name": "319",
         "rawType": "float64",
         "type": "float"
        },
        {
         "name": "320",
         "rawType": "float64",
         "type": "float"
        },
        {
         "name": "321",
         "rawType": "float64",
         "type": "float"
        },
        {
         "name": "322",
         "rawType": "float64",
         "type": "float"
        },
        {
         "name": "323",
         "rawType": "float64",
         "type": "float"
        },
        {
         "name": "324",
         "rawType": "float64",
         "type": "float"
        },
        {
         "name": "325",
         "rawType": "float64",
         "type": "float"
        },
        {
         "name": "326",
         "rawType": "float64",
         "type": "float"
        },
        {
         "name": "327",
         "rawType": "float64",
         "type": "float"
        },
        {
         "name": "328",
         "rawType": "float64",
         "type": "float"
        },
        {
         "name": "329",
         "rawType": "float64",
         "type": "float"
        },
        {
         "name": "330",
         "rawType": "float64",
         "type": "float"
        },
        {
         "name": "331",
         "rawType": "float64",
         "type": "float"
        },
        {
         "name": "332",
         "rawType": "float64",
         "type": "float"
        },
        {
         "name": "333",
         "rawType": "float64",
         "type": "float"
        },
        {
         "name": "334",
         "rawType": "float64",
         "type": "float"
        },
        {
         "name": "335",
         "rawType": "float64",
         "type": "float"
        },
        {
         "name": "336",
         "rawType": "float64",
         "type": "float"
        },
        {
         "name": "337",
         "rawType": "float64",
         "type": "float"
        },
        {
         "name": "338",
         "rawType": "float64",
         "type": "float"
        },
        {
         "name": "339",
         "rawType": "float64",
         "type": "float"
        },
        {
         "name": "340",
         "rawType": "float64",
         "type": "float"
        },
        {
         "name": "341",
         "rawType": "float64",
         "type": "float"
        },
        {
         "name": "342",
         "rawType": "float64",
         "type": "float"
        },
        {
         "name": "343",
         "rawType": "float64",
         "type": "float"
        },
        {
         "name": "344",
         "rawType": "float64",
         "type": "float"
        },
        {
         "name": "345",
         "rawType": "float64",
         "type": "float"
        },
        {
         "name": "346",
         "rawType": "float64",
         "type": "float"
        },
        {
         "name": "347",
         "rawType": "float64",
         "type": "float"
        },
        {
         "name": "348",
         "rawType": "float64",
         "type": "float"
        },
        {
         "name": "349",
         "rawType": "float64",
         "type": "float"
        },
        {
         "name": "350",
         "rawType": "float64",
         "type": "float"
        },
        {
         "name": "351",
         "rawType": "float64",
         "type": "float"
        },
        {
         "name": "352",
         "rawType": "float64",
         "type": "float"
        },
        {
         "name": "353",
         "rawType": "float64",
         "type": "float"
        },
        {
         "name": "354",
         "rawType": "float64",
         "type": "float"
        },
        {
         "name": "355",
         "rawType": "float64",
         "type": "float"
        },
        {
         "name": "356",
         "rawType": "float64",
         "type": "float"
        },
        {
         "name": "357",
         "rawType": "float64",
         "type": "float"
        },
        {
         "name": "358",
         "rawType": "float64",
         "type": "float"
        },
        {
         "name": "359",
         "rawType": "float64",
         "type": "float"
        },
        {
         "name": "360",
         "rawType": "float64",
         "type": "float"
        },
        {
         "name": "361",
         "rawType": "float64",
         "type": "float"
        },
        {
         "name": "362",
         "rawType": "float64",
         "type": "float"
        },
        {
         "name": "363",
         "rawType": "float64",
         "type": "float"
        },
        {
         "name": "364",
         "rawType": "float64",
         "type": "float"
        },
        {
         "name": "365",
         "rawType": "float64",
         "type": "float"
        },
        {
         "name": "366",
         "rawType": "float64",
         "type": "float"
        },
        {
         "name": "367",
         "rawType": "float64",
         "type": "float"
        },
        {
         "name": "368",
         "rawType": "float64",
         "type": "float"
        },
        {
         "name": "369",
         "rawType": "float64",
         "type": "float"
        },
        {
         "name": "370",
         "rawType": "float64",
         "type": "float"
        },
        {
         "name": "371",
         "rawType": "float64",
         "type": "float"
        },
        {
         "name": "372",
         "rawType": "float64",
         "type": "float"
        },
        {
         "name": "373",
         "rawType": "float64",
         "type": "float"
        },
        {
         "name": "374",
         "rawType": "float64",
         "type": "float"
        },
        {
         "name": "375",
         "rawType": "float64",
         "type": "float"
        },
        {
         "name": "376",
         "rawType": "float64",
         "type": "float"
        },
        {
         "name": "377",
         "rawType": "float64",
         "type": "float"
        },
        {
         "name": "378",
         "rawType": "float64",
         "type": "float"
        },
        {
         "name": "379",
         "rawType": "float64",
         "type": "float"
        },
        {
         "name": "380",
         "rawType": "float64",
         "type": "float"
        },
        {
         "name": "381",
         "rawType": "float64",
         "type": "float"
        },
        {
         "name": "382",
         "rawType": "float64",
         "type": "float"
        },
        {
         "name": "383",
         "rawType": "float64",
         "type": "float"
        },
        {
         "name": "384",
         "rawType": "float64",
         "type": "float"
        },
        {
         "name": "385",
         "rawType": "float64",
         "type": "float"
        },
        {
         "name": "386",
         "rawType": "float64",
         "type": "float"
        },
        {
         "name": "387",
         "rawType": "float64",
         "type": "float"
        },
        {
         "name": "388",
         "rawType": "float64",
         "type": "float"
        },
        {
         "name": "389",
         "rawType": "float64",
         "type": "float"
        },
        {
         "name": "390",
         "rawType": "float64",
         "type": "float"
        },
        {
         "name": "391",
         "rawType": "float64",
         "type": "float"
        },
        {
         "name": "392",
         "rawType": "float64",
         "type": "float"
        },
        {
         "name": "393",
         "rawType": "float64",
         "type": "float"
        },
        {
         "name": "394",
         "rawType": "float64",
         "type": "float"
        },
        {
         "name": "395",
         "rawType": "float64",
         "type": "float"
        },
        {
         "name": "396",
         "rawType": "float64",
         "type": "float"
        },
        {
         "name": "397",
         "rawType": "float64",
         "type": "float"
        },
        {
         "name": "398",
         "rawType": "float64",
         "type": "float"
        },
        {
         "name": "399",
         "rawType": "float64",
         "type": "float"
        },
        {
         "name": "400",
         "rawType": "float64",
         "type": "float"
        },
        {
         "name": "401",
         "rawType": "float64",
         "type": "float"
        },
        {
         "name": "402",
         "rawType": "float64",
         "type": "float"
        },
        {
         "name": "403",
         "rawType": "float64",
         "type": "float"
        },
        {
         "name": "404",
         "rawType": "float64",
         "type": "float"
        },
        {
         "name": "405",
         "rawType": "float64",
         "type": "float"
        },
        {
         "name": "406",
         "rawType": "float64",
         "type": "float"
        },
        {
         "name": "407",
         "rawType": "float64",
         "type": "float"
        },
        {
         "name": "408",
         "rawType": "float64",
         "type": "float"
        },
        {
         "name": "409",
         "rawType": "float64",
         "type": "float"
        },
        {
         "name": "410",
         "rawType": "float64",
         "type": "float"
        },
        {
         "name": "411",
         "rawType": "float64",
         "type": "float"
        },
        {
         "name": "412",
         "rawType": "float64",
         "type": "float"
        },
        {
         "name": "413",
         "rawType": "float64",
         "type": "float"
        },
        {
         "name": "414",
         "rawType": "float64",
         "type": "float"
        },
        {
         "name": "415",
         "rawType": "float64",
         "type": "float"
        },
        {
         "name": "416",
         "rawType": "float64",
         "type": "float"
        },
        {
         "name": "417",
         "rawType": "float64",
         "type": "float"
        },
        {
         "name": "418",
         "rawType": "float64",
         "type": "float"
        },
        {
         "name": "419",
         "rawType": "float64",
         "type": "float"
        },
        {
         "name": "420",
         "rawType": "float64",
         "type": "float"
        },
        {
         "name": "421",
         "rawType": "float64",
         "type": "float"
        },
        {
         "name": "422",
         "rawType": "float64",
         "type": "float"
        },
        {
         "name": "423",
         "rawType": "float64",
         "type": "float"
        },
        {
         "name": "424",
         "rawType": "float64",
         "type": "float"
        },
        {
         "name": "425",
         "rawType": "float64",
         "type": "float"
        },
        {
         "name": "426",
         "rawType": "float64",
         "type": "float"
        },
        {
         "name": "427",
         "rawType": "float64",
         "type": "float"
        },
        {
         "name": "428",
         "rawType": "float64",
         "type": "float"
        },
        {
         "name": "429",
         "rawType": "float64",
         "type": "float"
        },
        {
         "name": "430",
         "rawType": "float64",
         "type": "float"
        },
        {
         "name": "431",
         "rawType": "float64",
         "type": "float"
        },
        {
         "name": "432",
         "rawType": "float64",
         "type": "float"
        },
        {
         "name": "433",
         "rawType": "float64",
         "type": "float"
        },
        {
         "name": "434",
         "rawType": "float64",
         "type": "float"
        },
        {
         "name": "435",
         "rawType": "float64",
         "type": "float"
        },
        {
         "name": "436",
         "rawType": "float64",
         "type": "float"
        },
        {
         "name": "437",
         "rawType": "float64",
         "type": "float"
        },
        {
         "name": "438",
         "rawType": "float64",
         "type": "float"
        },
        {
         "name": "439",
         "rawType": "float64",
         "type": "float"
        },
        {
         "name": "440",
         "rawType": "float64",
         "type": "float"
        },
        {
         "name": "441",
         "rawType": "float64",
         "type": "float"
        },
        {
         "name": "442",
         "rawType": "float64",
         "type": "float"
        },
        {
         "name": "443",
         "rawType": "float64",
         "type": "float"
        },
        {
         "name": "444",
         "rawType": "float64",
         "type": "float"
        },
        {
         "name": "445",
         "rawType": "float64",
         "type": "float"
        },
        {
         "name": "446",
         "rawType": "float64",
         "type": "float"
        },
        {
         "name": "447",
         "rawType": "float64",
         "type": "float"
        },
        {
         "name": "448",
         "rawType": "float64",
         "type": "float"
        },
        {
         "name": "449",
         "rawType": "float64",
         "type": "float"
        },
        {
         "name": "450",
         "rawType": "float64",
         "type": "float"
        },
        {
         "name": "451",
         "rawType": "float64",
         "type": "float"
        },
        {
         "name": "452",
         "rawType": "float64",
         "type": "float"
        },
        {
         "name": "453",
         "rawType": "float64",
         "type": "float"
        },
        {
         "name": "454",
         "rawType": "float64",
         "type": "float"
        },
        {
         "name": "455",
         "rawType": "float64",
         "type": "float"
        },
        {
         "name": "456",
         "rawType": "float64",
         "type": "float"
        },
        {
         "name": "457",
         "rawType": "float64",
         "type": "float"
        },
        {
         "name": "458",
         "rawType": "float64",
         "type": "float"
        },
        {
         "name": "459",
         "rawType": "float64",
         "type": "float"
        },
        {
         "name": "460",
         "rawType": "float64",
         "type": "float"
        },
        {
         "name": "461",
         "rawType": "float64",
         "type": "float"
        },
        {
         "name": "462",
         "rawType": "float64",
         "type": "float"
        },
        {
         "name": "463",
         "rawType": "float64",
         "type": "float"
        },
        {
         "name": "464",
         "rawType": "float64",
         "type": "float"
        },
        {
         "name": "465",
         "rawType": "float64",
         "type": "float"
        },
        {
         "name": "466",
         "rawType": "float64",
         "type": "float"
        },
        {
         "name": "467",
         "rawType": "float64",
         "type": "float"
        },
        {
         "name": "468",
         "rawType": "float64",
         "type": "float"
        },
        {
         "name": "469",
         "rawType": "float64",
         "type": "float"
        },
        {
         "name": "470",
         "rawType": "float64",
         "type": "float"
        },
        {
         "name": "471",
         "rawType": "float64",
         "type": "float"
        },
        {
         "name": "472",
         "rawType": "float64",
         "type": "float"
        },
        {
         "name": "473",
         "rawType": "float64",
         "type": "float"
        },
        {
         "name": "474",
         "rawType": "float64",
         "type": "float"
        },
        {
         "name": "475",
         "rawType": "float64",
         "type": "float"
        },
        {
         "name": "476",
         "rawType": "float64",
         "type": "float"
        },
        {
         "name": "477",
         "rawType": "float64",
         "type": "float"
        },
        {
         "name": "478",
         "rawType": "float64",
         "type": "float"
        },
        {
         "name": "479",
         "rawType": "float64",
         "type": "float"
        },
        {
         "name": "480",
         "rawType": "float64",
         "type": "float"
        },
        {
         "name": "481",
         "rawType": "float64",
         "type": "float"
        },
        {
         "name": "482",
         "rawType": "float64",
         "type": "float"
        },
        {
         "name": "483",
         "rawType": "float64",
         "type": "float"
        },
        {
         "name": "484",
         "rawType": "float64",
         "type": "float"
        },
        {
         "name": "485",
         "rawType": "float64",
         "type": "float"
        },
        {
         "name": "486",
         "rawType": "float64",
         "type": "float"
        },
        {
         "name": "487",
         "rawType": "float64",
         "type": "float"
        },
        {
         "name": "488",
         "rawType": "float64",
         "type": "float"
        },
        {
         "name": "489",
         "rawType": "float64",
         "type": "float"
        },
        {
         "name": "490",
         "rawType": "float64",
         "type": "float"
        },
        {
         "name": "491",
         "rawType": "float64",
         "type": "float"
        },
        {
         "name": "492",
         "rawType": "float64",
         "type": "float"
        },
        {
         "name": "493",
         "rawType": "float64",
         "type": "float"
        },
        {
         "name": "494",
         "rawType": "float64",
         "type": "float"
        },
        {
         "name": "495",
         "rawType": "float64",
         "type": "float"
        },
        {
         "name": "496",
         "rawType": "float64",
         "type": "float"
        },
        {
         "name": "497",
         "rawType": "float64",
         "type": "float"
        },
        {
         "name": "498",
         "rawType": "float64",
         "type": "float"
        },
        {
         "name": "499",
         "rawType": "float64",
         "type": "float"
        },
        {
         "name": "500",
         "rawType": "float64",
         "type": "float"
        },
        {
         "name": "501",
         "rawType": "float64",
         "type": "float"
        },
        {
         "name": "502",
         "rawType": "float64",
         "type": "float"
        },
        {
         "name": "503",
         "rawType": "float64",
         "type": "float"
        },
        {
         "name": "504",
         "rawType": "float64",
         "type": "float"
        },
        {
         "name": "505",
         "rawType": "float64",
         "type": "float"
        },
        {
         "name": "506",
         "rawType": "float64",
         "type": "float"
        },
        {
         "name": "507",
         "rawType": "float64",
         "type": "float"
        },
        {
         "name": "508",
         "rawType": "float64",
         "type": "float"
        },
        {
         "name": "509",
         "rawType": "float64",
         "type": "float"
        },
        {
         "name": "510",
         "rawType": "float64",
         "type": "float"
        },
        {
         "name": "511",
         "rawType": "float64",
         "type": "float"
        },
        {
         "name": "512",
         "rawType": "float64",
         "type": "float"
        },
        {
         "name": "513",
         "rawType": "float64",
         "type": "float"
        },
        {
         "name": "514",
         "rawType": "float64",
         "type": "float"
        },
        {
         "name": "515",
         "rawType": "float64",
         "type": "float"
        },
        {
         "name": "516",
         "rawType": "float64",
         "type": "float"
        },
        {
         "name": "517",
         "rawType": "float64",
         "type": "float"
        },
        {
         "name": "518",
         "rawType": "float64",
         "type": "float"
        },
        {
         "name": "519",
         "rawType": "float64",
         "type": "float"
        },
        {
         "name": "520",
         "rawType": "float64",
         "type": "float"
        },
        {
         "name": "521",
         "rawType": "float64",
         "type": "float"
        },
        {
         "name": "522",
         "rawType": "float64",
         "type": "float"
        },
        {
         "name": "523",
         "rawType": "float64",
         "type": "float"
        },
        {
         "name": "524",
         "rawType": "float64",
         "type": "float"
        },
        {
         "name": "525",
         "rawType": "float64",
         "type": "float"
        },
        {
         "name": "526",
         "rawType": "float64",
         "type": "float"
        },
        {
         "name": "527",
         "rawType": "float64",
         "type": "float"
        },
        {
         "name": "528",
         "rawType": "float64",
         "type": "float"
        },
        {
         "name": "529",
         "rawType": "float64",
         "type": "float"
        },
        {
         "name": "530",
         "rawType": "float64",
         "type": "float"
        },
        {
         "name": "531",
         "rawType": "float64",
         "type": "float"
        },
        {
         "name": "532",
         "rawType": "float64",
         "type": "float"
        },
        {
         "name": "533",
         "rawType": "float64",
         "type": "float"
        },
        {
         "name": "534",
         "rawType": "float64",
         "type": "float"
        },
        {
         "name": "535",
         "rawType": "float64",
         "type": "float"
        },
        {
         "name": "536",
         "rawType": "float64",
         "type": "float"
        },
        {
         "name": "537",
         "rawType": "float64",
         "type": "float"
        },
        {
         "name": "538",
         "rawType": "float64",
         "type": "float"
        },
        {
         "name": "539",
         "rawType": "float64",
         "type": "float"
        },
        {
         "name": "540",
         "rawType": "float64",
         "type": "float"
        },
        {
         "name": "541",
         "rawType": "float64",
         "type": "float"
        },
        {
         "name": "542",
         "rawType": "float64",
         "type": "float"
        },
        {
         "name": "543",
         "rawType": "float64",
         "type": "float"
        },
        {
         "name": "544",
         "rawType": "float64",
         "type": "float"
        },
        {
         "name": "545",
         "rawType": "float64",
         "type": "float"
        },
        {
         "name": "546",
         "rawType": "float64",
         "type": "float"
        },
        {
         "name": "547",
         "rawType": "float64",
         "type": "float"
        },
        {
         "name": "548",
         "rawType": "float64",
         "type": "float"
        },
        {
         "name": "549",
         "rawType": "float64",
         "type": "float"
        },
        {
         "name": "550",
         "rawType": "float64",
         "type": "float"
        },
        {
         "name": "551",
         "rawType": "float64",
         "type": "float"
        },
        {
         "name": "552",
         "rawType": "float64",
         "type": "float"
        },
        {
         "name": "553",
         "rawType": "float64",
         "type": "float"
        },
        {
         "name": "554",
         "rawType": "float64",
         "type": "float"
        },
        {
         "name": "555",
         "rawType": "float64",
         "type": "float"
        },
        {
         "name": "556",
         "rawType": "float64",
         "type": "float"
        },
        {
         "name": "557",
         "rawType": "float64",
         "type": "float"
        },
        {
         "name": "558",
         "rawType": "float64",
         "type": "float"
        },
        {
         "name": "559",
         "rawType": "float64",
         "type": "float"
        },
        {
         "name": "560",
         "rawType": "float64",
         "type": "float"
        },
        {
         "name": "561",
         "rawType": "float64",
         "type": "float"
        },
        {
         "name": "562",
         "rawType": "float64",
         "type": "float"
        },
        {
         "name": "563",
         "rawType": "float64",
         "type": "float"
        },
        {
         "name": "564",
         "rawType": "float64",
         "type": "float"
        },
        {
         "name": "565",
         "rawType": "float64",
         "type": "float"
        },
        {
         "name": "566",
         "rawType": "float64",
         "type": "float"
        },
        {
         "name": "567",
         "rawType": "float64",
         "type": "float"
        },
        {
         "name": "568",
         "rawType": "float64",
         "type": "float"
        },
        {
         "name": "569",
         "rawType": "float64",
         "type": "float"
        },
        {
         "name": "570",
         "rawType": "float64",
         "type": "float"
        },
        {
         "name": "571",
         "rawType": "float64",
         "type": "float"
        },
        {
         "name": "572",
         "rawType": "float64",
         "type": "float"
        },
        {
         "name": "573",
         "rawType": "float64",
         "type": "float"
        },
        {
         "name": "574",
         "rawType": "float64",
         "type": "float"
        },
        {
         "name": "575",
         "rawType": "float64",
         "type": "float"
        },
        {
         "name": "576",
         "rawType": "float64",
         "type": "float"
        },
        {
         "name": "577",
         "rawType": "float64",
         "type": "float"
        },
        {
         "name": "578",
         "rawType": "float64",
         "type": "float"
        },
        {
         "name": "579",
         "rawType": "float64",
         "type": "float"
        },
        {
         "name": "580",
         "rawType": "float64",
         "type": "float"
        },
        {
         "name": "581",
         "rawType": "float64",
         "type": "float"
        },
        {
         "name": "582",
         "rawType": "float64",
         "type": "float"
        },
        {
         "name": "583",
         "rawType": "float64",
         "type": "float"
        },
        {
         "name": "584",
         "rawType": "float64",
         "type": "float"
        },
        {
         "name": "585",
         "rawType": "float64",
         "type": "float"
        },
        {
         "name": "586",
         "rawType": "float64",
         "type": "float"
        },
        {
         "name": "587",
         "rawType": "float64",
         "type": "float"
        },
        {
         "name": "588",
         "rawType": "float64",
         "type": "float"
        },
        {
         "name": "589",
         "rawType": "float64",
         "type": "float"
        },
        {
         "name": "590",
         "rawType": "float64",
         "type": "float"
        },
        {
         "name": "591",
         "rawType": "float64",
         "type": "float"
        },
        {
         "name": "592",
         "rawType": "float64",
         "type": "float"
        },
        {
         "name": "593",
         "rawType": "float64",
         "type": "float"
        },
        {
         "name": "594",
         "rawType": "float64",
         "type": "float"
        },
        {
         "name": "595",
         "rawType": "float64",
         "type": "float"
        },
        {
         "name": "596",
         "rawType": "float64",
         "type": "float"
        },
        {
         "name": "597",
         "rawType": "float64",
         "type": "float"
        },
        {
         "name": "598",
         "rawType": "float64",
         "type": "float"
        },
        {
         "name": "599",
         "rawType": "float64",
         "type": "float"
        },
        {
         "name": "600",
         "rawType": "float64",
         "type": "float"
        },
        {
         "name": "601",
         "rawType": "float64",
         "type": "float"
        },
        {
         "name": "602",
         "rawType": "float64",
         "type": "float"
        },
        {
         "name": "603",
         "rawType": "float64",
         "type": "float"
        },
        {
         "name": "604",
         "rawType": "float64",
         "type": "float"
        },
        {
         "name": "605",
         "rawType": "float64",
         "type": "float"
        },
        {
         "name": "606",
         "rawType": "float64",
         "type": "float"
        },
        {
         "name": "607",
         "rawType": "float64",
         "type": "float"
        },
        {
         "name": "608",
         "rawType": "float64",
         "type": "float"
        },
        {
         "name": "609",
         "rawType": "float64",
         "type": "float"
        },
        {
         "name": "610",
         "rawType": "float64",
         "type": "float"
        },
        {
         "name": "611",
         "rawType": "float64",
         "type": "float"
        },
        {
         "name": "612",
         "rawType": "float64",
         "type": "float"
        },
        {
         "name": "613",
         "rawType": "float64",
         "type": "float"
        },
        {
         "name": "614",
         "rawType": "float64",
         "type": "float"
        },
        {
         "name": "615",
         "rawType": "float64",
         "type": "float"
        },
        {
         "name": "616",
         "rawType": "float64",
         "type": "float"
        },
        {
         "name": "617",
         "rawType": "float64",
         "type": "float"
        },
        {
         "name": "618",
         "rawType": "float64",
         "type": "float"
        },
        {
         "name": "619",
         "rawType": "float64",
         "type": "float"
        },
        {
         "name": "620",
         "rawType": "float64",
         "type": "float"
        },
        {
         "name": "621",
         "rawType": "float64",
         "type": "float"
        },
        {
         "name": "622",
         "rawType": "float64",
         "type": "float"
        },
        {
         "name": "623",
         "rawType": "float64",
         "type": "float"
        },
        {
         "name": "624",
         "rawType": "float64",
         "type": "float"
        },
        {
         "name": "625",
         "rawType": "float64",
         "type": "float"
        },
        {
         "name": "626",
         "rawType": "float64",
         "type": "float"
        },
        {
         "name": "627",
         "rawType": "float64",
         "type": "float"
        },
        {
         "name": "628",
         "rawType": "float64",
         "type": "float"
        },
        {
         "name": "629",
         "rawType": "float64",
         "type": "float"
        },
        {
         "name": "630",
         "rawType": "float64",
         "type": "float"
        },
        {
         "name": "631",
         "rawType": "float64",
         "type": "float"
        },
        {
         "name": "632",
         "rawType": "float64",
         "type": "float"
        },
        {
         "name": "633",
         "rawType": "float64",
         "type": "float"
        },
        {
         "name": "634",
         "rawType": "float64",
         "type": "float"
        },
        {
         "name": "635",
         "rawType": "float64",
         "type": "float"
        },
        {
         "name": "636",
         "rawType": "float64",
         "type": "float"
        },
        {
         "name": "637",
         "rawType": "float64",
         "type": "float"
        },
        {
         "name": "638",
         "rawType": "float64",
         "type": "float"
        },
        {
         "name": "639",
         "rawType": "float64",
         "type": "float"
        },
        {
         "name": "640",
         "rawType": "float64",
         "type": "float"
        },
        {
         "name": "641",
         "rawType": "float64",
         "type": "float"
        },
        {
         "name": "642",
         "rawType": "float64",
         "type": "float"
        },
        {
         "name": "643",
         "rawType": "float64",
         "type": "float"
        },
        {
         "name": "644",
         "rawType": "float64",
         "type": "float"
        },
        {
         "name": "645",
         "rawType": "float64",
         "type": "float"
        },
        {
         "name": "646",
         "rawType": "float64",
         "type": "float"
        },
        {
         "name": "647",
         "rawType": "float64",
         "type": "float"
        },
        {
         "name": "648",
         "rawType": "float64",
         "type": "float"
        },
        {
         "name": "649",
         "rawType": "float64",
         "type": "float"
        },
        {
         "name": "650",
         "rawType": "float64",
         "type": "float"
        },
        {
         "name": "651",
         "rawType": "float64",
         "type": "float"
        },
        {
         "name": "652",
         "rawType": "float64",
         "type": "float"
        },
        {
         "name": "653",
         "rawType": "float64",
         "type": "float"
        },
        {
         "name": "654",
         "rawType": "float64",
         "type": "float"
        },
        {
         "name": "655",
         "rawType": "float64",
         "type": "float"
        },
        {
         "name": "656",
         "rawType": "float64",
         "type": "float"
        },
        {
         "name": "657",
         "rawType": "float64",
         "type": "float"
        },
        {
         "name": "658",
         "rawType": "float64",
         "type": "float"
        },
        {
         "name": "659",
         "rawType": "float64",
         "type": "float"
        },
        {
         "name": "660",
         "rawType": "float64",
         "type": "float"
        },
        {
         "name": "661",
         "rawType": "float64",
         "type": "float"
        },
        {
         "name": "662",
         "rawType": "float64",
         "type": "float"
        },
        {
         "name": "663",
         "rawType": "float64",
         "type": "float"
        },
        {
         "name": "664",
         "rawType": "float64",
         "type": "float"
        },
        {
         "name": "665",
         "rawType": "float64",
         "type": "float"
        },
        {
         "name": "666",
         "rawType": "float64",
         "type": "float"
        },
        {
         "name": "667",
         "rawType": "float64",
         "type": "float"
        },
        {
         "name": "668",
         "rawType": "float64",
         "type": "float"
        },
        {
         "name": "669",
         "rawType": "float64",
         "type": "float"
        },
        {
         "name": "670",
         "rawType": "float64",
         "type": "float"
        },
        {
         "name": "671",
         "rawType": "float64",
         "type": "float"
        },
        {
         "name": "672",
         "rawType": "float64",
         "type": "float"
        },
        {
         "name": "673",
         "rawType": "float64",
         "type": "float"
        },
        {
         "name": "674",
         "rawType": "float64",
         "type": "float"
        },
        {
         "name": "675",
         "rawType": "float64",
         "type": "float"
        },
        {
         "name": "676",
         "rawType": "float64",
         "type": "float"
        },
        {
         "name": "677",
         "rawType": "float64",
         "type": "float"
        },
        {
         "name": "678",
         "rawType": "float64",
         "type": "float"
        },
        {
         "name": "679",
         "rawType": "float64",
         "type": "float"
        },
        {
         "name": "680",
         "rawType": "float64",
         "type": "float"
        },
        {
         "name": "681",
         "rawType": "float64",
         "type": "float"
        },
        {
         "name": "682",
         "rawType": "float64",
         "type": "float"
        },
        {
         "name": "683",
         "rawType": "float64",
         "type": "float"
        },
        {
         "name": "684",
         "rawType": "float64",
         "type": "float"
        },
        {
         "name": "685",
         "rawType": "float64",
         "type": "float"
        },
        {
         "name": "686",
         "rawType": "float64",
         "type": "float"
        },
        {
         "name": "687",
         "rawType": "float64",
         "type": "float"
        },
        {
         "name": "688",
         "rawType": "float64",
         "type": "float"
        },
        {
         "name": "689",
         "rawType": "float64",
         "type": "float"
        },
        {
         "name": "690",
         "rawType": "float64",
         "type": "float"
        },
        {
         "name": "691",
         "rawType": "float64",
         "type": "float"
        },
        {
         "name": "692",
         "rawType": "float64",
         "type": "float"
        },
        {
         "name": "693",
         "rawType": "float64",
         "type": "float"
        },
        {
         "name": "694",
         "rawType": "float64",
         "type": "float"
        },
        {
         "name": "695",
         "rawType": "float64",
         "type": "float"
        },
        {
         "name": "696",
         "rawType": "float64",
         "type": "float"
        },
        {
         "name": "697",
         "rawType": "float64",
         "type": "float"
        },
        {
         "name": "698",
         "rawType": "float64",
         "type": "float"
        },
        {
         "name": "699",
         "rawType": "float64",
         "type": "float"
        },
        {
         "name": "700",
         "rawType": "float64",
         "type": "float"
        },
        {
         "name": "701",
         "rawType": "float64",
         "type": "float"
        },
        {
         "name": "702",
         "rawType": "float64",
         "type": "float"
        },
        {
         "name": "703",
         "rawType": "float64",
         "type": "float"
        },
        {
         "name": "704",
         "rawType": "float64",
         "type": "float"
        },
        {
         "name": "705",
         "rawType": "float64",
         "type": "float"
        },
        {
         "name": "706",
         "rawType": "float64",
         "type": "float"
        },
        {
         "name": "707",
         "rawType": "float64",
         "type": "float"
        },
        {
         "name": "708",
         "rawType": "float64",
         "type": "float"
        },
        {
         "name": "709",
         "rawType": "float64",
         "type": "float"
        },
        {
         "name": "710",
         "rawType": "float64",
         "type": "float"
        },
        {
         "name": "711",
         "rawType": "float64",
         "type": "float"
        },
        {
         "name": "712",
         "rawType": "float64",
         "type": "float"
        },
        {
         "name": "713",
         "rawType": "float64",
         "type": "float"
        },
        {
         "name": "714",
         "rawType": "float64",
         "type": "float"
        },
        {
         "name": "715",
         "rawType": "float64",
         "type": "float"
        },
        {
         "name": "716",
         "rawType": "float64",
         "type": "float"
        },
        {
         "name": "717",
         "rawType": "float64",
         "type": "float"
        },
        {
         "name": "718",
         "rawType": "float64",
         "type": "float"
        },
        {
         "name": "719",
         "rawType": "float64",
         "type": "float"
        },
        {
         "name": "720",
         "rawType": "float64",
         "type": "float"
        },
        {
         "name": "721",
         "rawType": "float64",
         "type": "float"
        },
        {
         "name": "722",
         "rawType": "float64",
         "type": "float"
        },
        {
         "name": "723",
         "rawType": "float64",
         "type": "float"
        },
        {
         "name": "724",
         "rawType": "float64",
         "type": "float"
        },
        {
         "name": "725",
         "rawType": "float64",
         "type": "float"
        },
        {
         "name": "726",
         "rawType": "float64",
         "type": "float"
        },
        {
         "name": "727",
         "rawType": "float64",
         "type": "float"
        },
        {
         "name": "728",
         "rawType": "float64",
         "type": "float"
        },
        {
         "name": "729",
         "rawType": "float64",
         "type": "float"
        },
        {
         "name": "730",
         "rawType": "float64",
         "type": "float"
        },
        {
         "name": "731",
         "rawType": "float64",
         "type": "float"
        },
        {
         "name": "732",
         "rawType": "float64",
         "type": "float"
        },
        {
         "name": "733",
         "rawType": "float64",
         "type": "float"
        },
        {
         "name": "734",
         "rawType": "float64",
         "type": "float"
        },
        {
         "name": "735",
         "rawType": "float64",
         "type": "float"
        },
        {
         "name": "736",
         "rawType": "float64",
         "type": "float"
        },
        {
         "name": "737",
         "rawType": "float64",
         "type": "float"
        },
        {
         "name": "738",
         "rawType": "float64",
         "type": "float"
        },
        {
         "name": "739",
         "rawType": "float64",
         "type": "float"
        },
        {
         "name": "740",
         "rawType": "float64",
         "type": "float"
        },
        {
         "name": "741",
         "rawType": "float64",
         "type": "float"
        },
        {
         "name": "742",
         "rawType": "float64",
         "type": "float"
        },
        {
         "name": "743",
         "rawType": "float64",
         "type": "float"
        },
        {
         "name": "744",
         "rawType": "float64",
         "type": "float"
        },
        {
         "name": "745",
         "rawType": "float64",
         "type": "float"
        },
        {
         "name": "746",
         "rawType": "float64",
         "type": "float"
        },
        {
         "name": "747",
         "rawType": "float64",
         "type": "float"
        },
        {
         "name": "748",
         "rawType": "float64",
         "type": "float"
        },
        {
         "name": "749",
         "rawType": "float64",
         "type": "float"
        },
        {
         "name": "750",
         "rawType": "float64",
         "type": "float"
        },
        {
         "name": "751",
         "rawType": "float64",
         "type": "float"
        },
        {
         "name": "752",
         "rawType": "float64",
         "type": "float"
        },
        {
         "name": "753",
         "rawType": "float64",
         "type": "float"
        },
        {
         "name": "754",
         "rawType": "float64",
         "type": "float"
        },
        {
         "name": "755",
         "rawType": "float64",
         "type": "float"
        },
        {
         "name": "756",
         "rawType": "float64",
         "type": "float"
        },
        {
         "name": "757",
         "rawType": "float64",
         "type": "float"
        },
        {
         "name": "758",
         "rawType": "float64",
         "type": "float"
        },
        {
         "name": "759",
         "rawType": "float64",
         "type": "float"
        },
        {
         "name": "760",
         "rawType": "float64",
         "type": "float"
        },
        {
         "name": "761",
         "rawType": "float64",
         "type": "float"
        },
        {
         "name": "762",
         "rawType": "float64",
         "type": "float"
        },
        {
         "name": "763",
         "rawType": "float64",
         "type": "float"
        },
        {
         "name": "764",
         "rawType": "float64",
         "type": "float"
        },
        {
         "name": "765",
         "rawType": "float64",
         "type": "float"
        },
        {
         "name": "766",
         "rawType": "float64",
         "type": "float"
        },
        {
         "name": "767",
         "rawType": "float64",
         "type": "float"
        },
        {
         "name": "768",
         "rawType": "float64",
         "type": "float"
        },
        {
         "name": "769",
         "rawType": "float64",
         "type": "float"
        },
        {
         "name": "770",
         "rawType": "float64",
         "type": "float"
        },
        {
         "name": "771",
         "rawType": "float64",
         "type": "float"
        },
        {
         "name": "772",
         "rawType": "float64",
         "type": "float"
        },
        {
         "name": "773",
         "rawType": "float64",
         "type": "float"
        },
        {
         "name": "774",
         "rawType": "float64",
         "type": "float"
        },
        {
         "name": "775",
         "rawType": "float64",
         "type": "float"
        },
        {
         "name": "776",
         "rawType": "float64",
         "type": "float"
        },
        {
         "name": "777",
         "rawType": "float64",
         "type": "float"
        },
        {
         "name": "778",
         "rawType": "float64",
         "type": "float"
        },
        {
         "name": "779",
         "rawType": "float64",
         "type": "float"
        },
        {
         "name": "780",
         "rawType": "float64",
         "type": "float"
        },
        {
         "name": "781",
         "rawType": "float64",
         "type": "float"
        },
        {
         "name": "782",
         "rawType": "float64",
         "type": "float"
        },
        {
         "name": "783",
         "rawType": "float64",
         "type": "float"
        },
        {
         "name": "784",
         "rawType": "float64",
         "type": "float"
        },
        {
         "name": "785",
         "rawType": "float64",
         "type": "float"
        },
        {
         "name": "786",
         "rawType": "float64",
         "type": "float"
        },
        {
         "name": "787",
         "rawType": "float64",
         "type": "float"
        },
        {
         "name": "788",
         "rawType": "float64",
         "type": "float"
        },
        {
         "name": "789",
         "rawType": "float64",
         "type": "float"
        },
        {
         "name": "790",
         "rawType": "float64",
         "type": "float"
        },
        {
         "name": "791",
         "rawType": "float64",
         "type": "float"
        },
        {
         "name": "792",
         "rawType": "float64",
         "type": "float"
        },
        {
         "name": "793",
         "rawType": "float64",
         "type": "float"
        },
        {
         "name": "794",
         "rawType": "float64",
         "type": "float"
        },
        {
         "name": "795",
         "rawType": "float64",
         "type": "float"
        },
        {
         "name": "796",
         "rawType": "float64",
         "type": "float"
        },
        {
         "name": "797",
         "rawType": "float64",
         "type": "float"
        },
        {
         "name": "798",
         "rawType": "float64",
         "type": "float"
        },
        {
         "name": "799",
         "rawType": "float64",
         "type": "float"
        },
        {
         "name": "800",
         "rawType": "float64",
         "type": "float"
        },
        {
         "name": "801",
         "rawType": "float64",
         "type": "float"
        },
        {
         "name": "802",
         "rawType": "float64",
         "type": "float"
        },
        {
         "name": "803",
         "rawType": "float64",
         "type": "float"
        },
        {
         "name": "804",
         "rawType": "float64",
         "type": "float"
        },
        {
         "name": "805",
         "rawType": "float64",
         "type": "float"
        },
        {
         "name": "806",
         "rawType": "float64",
         "type": "float"
        },
        {
         "name": "807",
         "rawType": "float64",
         "type": "float"
        },
        {
         "name": "808",
         "rawType": "float64",
         "type": "float"
        },
        {
         "name": "809",
         "rawType": "float64",
         "type": "float"
        },
        {
         "name": "810",
         "rawType": "float64",
         "type": "float"
        },
        {
         "name": "811",
         "rawType": "float64",
         "type": "float"
        },
        {
         "name": "812",
         "rawType": "float64",
         "type": "float"
        },
        {
         "name": "813",
         "rawType": "float64",
         "type": "float"
        },
        {
         "name": "814",
         "rawType": "float64",
         "type": "float"
        },
        {
         "name": "815",
         "rawType": "float64",
         "type": "float"
        },
        {
         "name": "816",
         "rawType": "float64",
         "type": "float"
        },
        {
         "name": "817",
         "rawType": "float64",
         "type": "float"
        },
        {
         "name": "818",
         "rawType": "float64",
         "type": "float"
        },
        {
         "name": "819",
         "rawType": "float64",
         "type": "float"
        },
        {
         "name": "820",
         "rawType": "float64",
         "type": "float"
        },
        {
         "name": "821",
         "rawType": "float64",
         "type": "float"
        },
        {
         "name": "822",
         "rawType": "float64",
         "type": "float"
        },
        {
         "name": "823",
         "rawType": "float64",
         "type": "float"
        },
        {
         "name": "824",
         "rawType": "float64",
         "type": "float"
        },
        {
         "name": "825",
         "rawType": "float64",
         "type": "float"
        },
        {
         "name": "826",
         "rawType": "float64",
         "type": "float"
        },
        {
         "name": "827",
         "rawType": "float64",
         "type": "float"
        },
        {
         "name": "828",
         "rawType": "float64",
         "type": "float"
        },
        {
         "name": "829",
         "rawType": "float64",
         "type": "float"
        },
        {
         "name": "830",
         "rawType": "float64",
         "type": "float"
        },
        {
         "name": "831",
         "rawType": "float64",
         "type": "float"
        },
        {
         "name": "832",
         "rawType": "float64",
         "type": "float"
        },
        {
         "name": "833",
         "rawType": "float64",
         "type": "float"
        },
        {
         "name": "834",
         "rawType": "float64",
         "type": "float"
        },
        {
         "name": "835",
         "rawType": "float64",
         "type": "float"
        },
        {
         "name": "836",
         "rawType": "float64",
         "type": "float"
        },
        {
         "name": "837",
         "rawType": "float64",
         "type": "float"
        },
        {
         "name": "838",
         "rawType": "float64",
         "type": "float"
        },
        {
         "name": "839",
         "rawType": "float64",
         "type": "float"
        },
        {
         "name": "840",
         "rawType": "float64",
         "type": "float"
        },
        {
         "name": "841",
         "rawType": "float64",
         "type": "float"
        },
        {
         "name": "842",
         "rawType": "float64",
         "type": "float"
        },
        {
         "name": "843",
         "rawType": "float64",
         "type": "float"
        },
        {
         "name": "844",
         "rawType": "float64",
         "type": "float"
        },
        {
         "name": "845",
         "rawType": "float64",
         "type": "float"
        },
        {
         "name": "846",
         "rawType": "float64",
         "type": "float"
        },
        {
         "name": "847",
         "rawType": "float64",
         "type": "float"
        },
        {
         "name": "848",
         "rawType": "float64",
         "type": "float"
        },
        {
         "name": "849",
         "rawType": "float64",
         "type": "float"
        },
        {
         "name": "850",
         "rawType": "float64",
         "type": "float"
        },
        {
         "name": "851",
         "rawType": "float64",
         "type": "float"
        },
        {
         "name": "852",
         "rawType": "float64",
         "type": "float"
        },
        {
         "name": "853",
         "rawType": "float64",
         "type": "float"
        },
        {
         "name": "854",
         "rawType": "float64",
         "type": "float"
        },
        {
         "name": "855",
         "rawType": "float64",
         "type": "float"
        },
        {
         "name": "856",
         "rawType": "float64",
         "type": "float"
        },
        {
         "name": "857",
         "rawType": "float64",
         "type": "float"
        },
        {
         "name": "858",
         "rawType": "float64",
         "type": "float"
        },
        {
         "name": "859",
         "rawType": "float64",
         "type": "float"
        },
        {
         "name": "860",
         "rawType": "float64",
         "type": "float"
        },
        {
         "name": "861",
         "rawType": "float64",
         "type": "float"
        },
        {
         "name": "862",
         "rawType": "float64",
         "type": "float"
        },
        {
         "name": "863",
         "rawType": "float64",
         "type": "float"
        },
        {
         "name": "864",
         "rawType": "float64",
         "type": "float"
        },
        {
         "name": "865",
         "rawType": "float64",
         "type": "float"
        },
        {
         "name": "866",
         "rawType": "float64",
         "type": "float"
        },
        {
         "name": "867",
         "rawType": "float64",
         "type": "float"
        },
        {
         "name": "868",
         "rawType": "float64",
         "type": "float"
        },
        {
         "name": "869",
         "rawType": "float64",
         "type": "float"
        },
        {
         "name": "870",
         "rawType": "float64",
         "type": "float"
        },
        {
         "name": "871",
         "rawType": "float64",
         "type": "float"
        },
        {
         "name": "872",
         "rawType": "float64",
         "type": "float"
        },
        {
         "name": "873",
         "rawType": "float64",
         "type": "float"
        },
        {
         "name": "874",
         "rawType": "float64",
         "type": "float"
        },
        {
         "name": "875",
         "rawType": "float64",
         "type": "float"
        },
        {
         "name": "876",
         "rawType": "float64",
         "type": "float"
        },
        {
         "name": "877",
         "rawType": "float64",
         "type": "float"
        },
        {
         "name": "878",
         "rawType": "float64",
         "type": "float"
        },
        {
         "name": "879",
         "rawType": "float64",
         "type": "float"
        },
        {
         "name": "880",
         "rawType": "float64",
         "type": "float"
        },
        {
         "name": "881",
         "rawType": "float64",
         "type": "float"
        },
        {
         "name": "882",
         "rawType": "float64",
         "type": "float"
        },
        {
         "name": "883",
         "rawType": "float64",
         "type": "float"
        },
        {
         "name": "884",
         "rawType": "float64",
         "type": "float"
        },
        {
         "name": "885",
         "rawType": "float64",
         "type": "float"
        },
        {
         "name": "886",
         "rawType": "float64",
         "type": "float"
        },
        {
         "name": "887",
         "rawType": "float64",
         "type": "float"
        },
        {
         "name": "888",
         "rawType": "float64",
         "type": "float"
        },
        {
         "name": "889",
         "rawType": "float64",
         "type": "float"
        },
        {
         "name": "890",
         "rawType": "float64",
         "type": "float"
        },
        {
         "name": "891",
         "rawType": "float64",
         "type": "float"
        },
        {
         "name": "892",
         "rawType": "float64",
         "type": "float"
        },
        {
         "name": "893",
         "rawType": "float64",
         "type": "float"
        },
        {
         "name": "894",
         "rawType": "float64",
         "type": "float"
        },
        {
         "name": "895",
         "rawType": "float64",
         "type": "float"
        },
        {
         "name": "896",
         "rawType": "float64",
         "type": "float"
        },
        {
         "name": "897",
         "rawType": "float64",
         "type": "float"
        },
        {
         "name": "898",
         "rawType": "float64",
         "type": "float"
        },
        {
         "name": "899",
         "rawType": "float64",
         "type": "float"
        },
        {
         "name": "900",
         "rawType": "float64",
         "type": "float"
        },
        {
         "name": "901",
         "rawType": "float64",
         "type": "float"
        },
        {
         "name": "902",
         "rawType": "float64",
         "type": "float"
        },
        {
         "name": "903",
         "rawType": "float64",
         "type": "float"
        },
        {
         "name": "904",
         "rawType": "float64",
         "type": "float"
        },
        {
         "name": "905",
         "rawType": "float64",
         "type": "float"
        },
        {
         "name": "906",
         "rawType": "float64",
         "type": "float"
        },
        {
         "name": "907",
         "rawType": "float64",
         "type": "float"
        },
        {
         "name": "908",
         "rawType": "float64",
         "type": "float"
        },
        {
         "name": "909",
         "rawType": "float64",
         "type": "float"
        },
        {
         "name": "910",
         "rawType": "float64",
         "type": "float"
        },
        {
         "name": "911",
         "rawType": "float64",
         "type": "float"
        },
        {
         "name": "912",
         "rawType": "float64",
         "type": "float"
        },
        {
         "name": "913",
         "rawType": "float64",
         "type": "float"
        },
        {
         "name": "914",
         "rawType": "float64",
         "type": "float"
        },
        {
         "name": "915",
         "rawType": "float64",
         "type": "float"
        },
        {
         "name": "916",
         "rawType": "float64",
         "type": "float"
        },
        {
         "name": "917",
         "rawType": "float64",
         "type": "float"
        },
        {
         "name": "918",
         "rawType": "float64",
         "type": "float"
        },
        {
         "name": "919",
         "rawType": "float64",
         "type": "float"
        },
        {
         "name": "920",
         "rawType": "float64",
         "type": "float"
        },
        {
         "name": "921",
         "rawType": "float64",
         "type": "float"
        },
        {
         "name": "922",
         "rawType": "float64",
         "type": "float"
        },
        {
         "name": "923",
         "rawType": "float64",
         "type": "float"
        },
        {
         "name": "924",
         "rawType": "float64",
         "type": "float"
        },
        {
         "name": "925",
         "rawType": "float64",
         "type": "float"
        },
        {
         "name": "926",
         "rawType": "float64",
         "type": "float"
        },
        {
         "name": "927",
         "rawType": "float64",
         "type": "float"
        },
        {
         "name": "928",
         "rawType": "float64",
         "type": "float"
        },
        {
         "name": "929",
         "rawType": "float64",
         "type": "float"
        },
        {
         "name": "930",
         "rawType": "float64",
         "type": "float"
        },
        {
         "name": "931",
         "rawType": "float64",
         "type": "float"
        },
        {
         "name": "932",
         "rawType": "float64",
         "type": "float"
        },
        {
         "name": "933",
         "rawType": "float64",
         "type": "float"
        },
        {
         "name": "934",
         "rawType": "float64",
         "type": "float"
        },
        {
         "name": "935",
         "rawType": "float64",
         "type": "float"
        },
        {
         "name": "936",
         "rawType": "float64",
         "type": "float"
        },
        {
         "name": "937",
         "rawType": "float64",
         "type": "float"
        },
        {
         "name": "938",
         "rawType": "float64",
         "type": "float"
        },
        {
         "name": "939",
         "rawType": "float64",
         "type": "float"
        },
        {
         "name": "940",
         "rawType": "float64",
         "type": "float"
        },
        {
         "name": "941",
         "rawType": "float64",
         "type": "float"
        },
        {
         "name": "942",
         "rawType": "float64",
         "type": "float"
        },
        {
         "name": "943",
         "rawType": "float64",
         "type": "float"
        }
       ],
       "ref": "f5034669-0d19-4865-8425-45b471a03966",
       "rows": [
        [
         "1",
         "1.0",
         "0.16893670026032648",
         "0.048388318014646506",
         "0.06456101298651447",
         "0.3796700934496271",
         "0.4296824593541975",
         "0.44309651217865514",
         "0.32007947796856717",
         "0.07838506474727933",
         "0.37773262729480717",
         "0.3121057914752662",
         "0.31567100549918553",
         "0.44226451816804857",
         "0.33315545616369474",
         "0.18283462240706877",
         "0.4052619971224927",
         "0.21650040029770226",
         "0.47537148792418427",
         "0.10942881052484446",
         "0.2422603654862495",
         "0.1998627454205436",
         "0.38235566375489377",
         "0.4476973434907619",
         "0.2863003173819131",
         "0.33661209331951775",
         "0.25286230843896895",
         "0.12998822097879847",
         "0.3057984419795239",
         "0.12949191300867036",
         "0.1825073735805645",
         "0.11507916670390742",
         "0.19841439123760224",
         "0.03373398700092099",
         "0.02913789707894278",
         "0.03825864968849005",
         "0.026673675189981837",
         "0.27985180187232556",
         "0.1962349423812318",
         "0.0576987668578728",
         "0.08407346309754539",
         "0.31369565342574696",
         "0.3744065073249494",
         "0.40191162089732513",
         "0.4865290827774467",
         "0.21125448342030734",
         "0.12354289030286561",
         "0.06367138516280862",
         "0.2128040748640555",
         "0.3384884826771823",
         "0.09554725556702537",
         "0.22355511387319854",
         "0.20085014830230322",
         "0.2574170062289593",
         "0.18895241619994113",
         "0.21545511576849272",
         "0.4337465414496577",
         "0.2707584095933505",
         "0.41936782548178764",
         "0.4952687406627169",
         "0.38621067933774894",
         "0.042402778296520324",
         "0.47566061642136237",
         "0.2513623072353235",
         "0.4960023064616472",
         "0.32341521317236055",
         "0.16749034753796485",
         "0.16438324038235588",
         "0.17880899316988036",
         "0.322961478323096",
         "0.3806161083963836",
         "0.262813564257695",
         "0.40504434942082657",
         "0.33682282568349564",
         "0.16625302800850317",
         "0.21249272425824672",
         "0.3049850468176228",
         "0.4039811817202893",
         "0.07797228978580432",
         "0.21213203109056591",
         "0.22317814479658443",
         "0.20754730575888405",
         "0.3470967760487152",
         "0.28870989852396667",
         "0.206448065992736",
         "0.4033613316053761",
         "0.08423821769970433",
         "0.4200140018589785",
         "0.004220777129612119",
         "0.31854847544686204",
         "0.3672538083659846",
         "0.2532860186331085",
         "0.5394148292008314",
         "0.13399269759696603",
         "0.47856538166844803",
         "0.4703916769870993",
         "0.36241320465856053",
         "0.35339243973553636",
         "0.13639210717503378",
         "0.27903780905883235",
         "0.05753521995939159",
         "0.1549451277256892",
         "0.39839897485081543",
         "0.22682503050443817",
         "0.2251510599877638",
         "0.10273780412002499",
         "0.2896262996541023",
         "0.08040504985500184",
         "0.19675379776377053",
         "0.45720656777216245",
         "0.22059622790555936",
         "0.06569250100179352",
         "0.032326449393137925",
         "0.14148883887418096",
         "0.2785841287209316",
         "0.3482394831414609",
         "0.2184574470829316",
         "0.3167194129866251",
         "0.2758323669257692",
         "0.3159401797015441",
         "0.18519325524702518",
         "0.2737403248169932",
         "0.18530344436988938",
         "0.20862432834028077",
         "0.27470954484149024",
         "0.3692504023280764",
         "0.03695902987604472",
         "0.13677707265305925",
         "0.3371935560839363",
         "0.08792803365377663",
         "0.4171239405081104",
         "0.18411997495142524",
         "0.17522679677172617",
         "0.07408249012991906",
         "0.07303123101225045",
         "0.23552259284252472",
         "0.230894477543631",
         "0.2639147558389829",
         "0.2466595409372399",
         "0.10325105074145755",
         "0.0404421071559446",
         "0.16880440100637084",
         "0.21516395719588532",
         "0.030926596780877263",
         "0.4283392105628502",
         "0.385900979104931",
         "0.06433890085560384",
         "0.04572552911395248",
         "0.32164713125808503",
         "0.06688857968662347",
         "0.237390714068026",
         "0.43107798433894573",
         "0.22552802198861216",
         "0.18810840241720853",
         "0.2189625516811146",
         "0.004908422557250958",
         "0.22765832631182867",
         "0.19092122157586683",
         "0.42552945620339255",
         "0.1585090696049016",
         "0.33860922365923013",
         "0.26467019742450754",
         "0.21144598913369994",
         "0.16030724113310402",
         "0.1059852404453624",
         "0.22636027652721258",
         "0.021444599233330485",
         "0.14960415279124817",
         "0.16011140961985598",
         "0.16109861588629648",
         "0.024817994748123753",
         "0.09593155364529835",
         "0.09647088594821401",
         "0.06333829577374092",
         "0.3116680607473957",
         "0.2943965285466735",
         "0.20892792416173978",
         "0.4360110632728553",
         "0.46845585971005876",
         "0.040789461707911985",
         "0.21807179798771598",
         "0.20518332797572145",
         "0.2426387907558827",
         "0.2734759465395377",
         "0.39061285113466615",
         "0.248435630678024",
         "0.17069152460203507",
         "0.2558355141711128",
         "0.34372702207851286",
         "0.39057965403322203",
         "0.12911411273343834",
         "0.05525097236382183",
         "0.18429203397485944",
         "0.2206065602851909",
         "0.48103991159275217",
         "0.22819100106132137",
         "0.15544827352413867",
         "0.2849431858694131",
         "0.46745756590245",
         "0.19398950332219722",
         "0.37748811844141283",
         "0.4723114845455171",
         "0.18907986023221898",
         "0.17920674327673633",
         "0.17768736186053416",
         "0.06921181900141547",
         "0.05934586673810321",
         "0.437205915142029",
         "0.1631716078780885",
         "0.1844858506369092",
         "0.3890911581816073",
         "0.13626773433824552",
         "0.12819645652235429",
         "0.39872306801067126",
         "0.41312495645941083",
         "0.4374531059795837",
         "0.4072713102818568",
         "0.23318380625110416",
         "0.270323401929021",
         "0.132870530418363",
         "0.057698766857872806",
         "0.3495156015092841",
         "0.5004292869391013",
         "0.15040287736899188",
         "0.18493442457512116",
         "0.11125400043167549",
         "0.314758335397946",
         "0.23285039177521655",
         "0.060115653536159",
         "0.04326247964290032",
         "0.3587470198561942",
         "0.12325535504123507",
         "0.35035711839130246",
         "0.3436812280303758",
         "0.43205827834337224",
         "0.2704989209940681",
         "0.3054111270010097",
         "0.25193923891062997",
         "0.11802020493655802",
         "0.3394772940418186",
         "0.05971914111321999",
         "0.03241108943183959",
         "0.057552242225805864",
         "0.2598277382801673",
         "0.4264514526833768",
         "0.11987973599312693",
         "0.3823396325009096",
         "0.2615422457409221",
         "0.35831357321748947",
         "0.46795604659229356",
         "0.35085789842749215",
         "0.3163879240402043",
         "0.1635603383196676",
         "0.30627059456472333",
         "0.33253239115720906",
         "0.14710205786068117",
         "0.31572128804773725",
         "0.23472834167184015",
         "0.023342315368900697",
         "0.23300548723284054",
         "0.0379832065292119",
         "0.03204277201589837",
         "0.31416502467336543",
         "0.35842678880409673",
         "0.32965125647223",
         "0.136216216299047",
         "0.1323648020640516",
         "0.4670344163523051",
         "0.5388828815253691",
         "0.383769948619948",
         "0.2699027993597413",
         "0.4487010748067757",
         "0.3123062698298971",
         "0.033863734103352805",
         "0.20855868642993333",
         "0.32510580557225593",
         "0.5232773602576194",
         "0.20935206493939604",
         "0.08150366268206045",
         "0.4174915625174783",
         "0.3617865743765725",
         "0.021015663917442733",
         "0.07738703201593175",
         "0.2659862252620994",
         "0.06945748718084266",
         "0.20545610158852837",
         "0.40390414960984405",
         "0.27324079826058534",
         "0.32650432658265177",
         "0.12798518232441303",
         "0.39056530233571063",
         "0.3995470083182873",
         "0.3895272978300194",
         "0.513443059978093",
         "0.21018752980155384",
         "0.41676794222766683",
         "0.38572829094062483",
         "0.49699667589248436",
         "0.31709648325898815",
         "0.44439657733937066",
         "0.03829499728977098",
         "0.5060226917568634",
         "0.053386852310870536",
         "0.5233874668921505",
         "0.0325933887685219",
         "0.4677524590048049",
         "0.1855674796353875",
         "0.4075165618662037",
         "0.487435392563457",
         "0.043884210369781185",
         "0.138833121439475",
         "0.43194245327810343",
         "0.3219781592502301",
         "0.4140767084212497",
         "0.2329515819408155",
         "0.3337917700040067",
         "0.2389077303427114",
         "0.03816181517408933",
         "0.3105422884635445",
         "0.052123454871926884",
         "0.3571485811081188",
         "0.31601525936873387",
         "0.25938652021944303",
         "0.2997681561359587",
         "0.12837234351768734",
         "0.33598136641545223",
         "0.3227413678060733",
         "0.4712033384263418",
         "0.37863674637181255",
         "0.2649847110009432",
         "0.36771080050069327",
         "0.268148665271033",
         "0.32493142037757655",
         "0.15748402533539632",
         "0.4620351216208977",
         "0.039876213361288236",
         "0.2819261043183735",
         "0.20985036009567531",
         "0.20920188483953264",
         "0.49299580833510226",
         "0.21037989026137707",
         "0.002713332353872452",
         "0.38548506042518293",
         "0.4899199747970962",
         "0.4211326309575857",
         "0.4094102357865988",
         "0.41401968790696136",
         "0.4241807481881939",
         "0.14145830912969481",
         "0.1118720871206455",
         "0.28606178054478454",
         "0.0174431492586419",
         "0.35571736879357696",
         "0.05549685114640215",
         "0.39290878014100655",
         "0.028879065396153914",
         "0.03460495063297113",
         "0.1558094913400907",
         "0.12673900181593453",
         "0.14720049535972196",
         "0.3570591690190753",
         "0.3618150521927156",
         "0.03460495063297113",
         "0.47855423601901814",
         "0.045287064514792294",
         "0.18743024487918425",
         "0.11754006731997368",
         "0.20248933305979933",
         "0.21051796908854853",
         "0.17271103487937717",
         "0.3046068960859392",
         "0.31686581016722953",
         "0.1742687636786478",
         "0.43789596874726433",
         "0.4303040640119726",
         "0.1250114513913641",
         "0.18482653004294614",
         "0.18601019689920167",
         "0.4503522699538076",
         "0.4273258539013013",
         "0.37131777933464866",
         "0.26887064591501697",
         "0.22969785980278468",
         "0.22679334243105745",
         "0.03494665893122069",
         "0.35620151198399874",
         "0.12054454591945825",
         "0.5153764352615204",
         "0.13963583579738473",
         "0.33740285183926577",
         "0.113921659487939",
         "0.34909423968511144",
         "0.2661195051276918",
         "0.362785914784885",
         "0.43088344715885707",
         "0.2646624624675323",
         "0.12134466761972741",
         "0.28769806421327415",
         "0.42092702024455675",
         "0.392507777809224",
         "0.04429957967425765",
         "0.2972970653741202",
         "0.3324841764441684",
         "0.21981983750923617",
         "0.08533970788620146",
         "0.3792406424169583",
         "0.45524295783185437",
         "0.49531829625410045",
         "0.06134363985894471",
         "0.3574000473733689",
         "0.04412589247732995",
         "0.32197448860874994",
         "0.29566932800607554",
         "0.20346361593691387",
         "0.08593416989880602",
         "0.1490361710237359",
         "0.4461970392546294",
         "0.5018824707643462",
         "0.054618361390735864",
         "0.22495580520325034",
         "0.16344860029862143",
         "0.33464125166797726",
         "0.2365575834827482",
         "0.10010400424914835",
         "0.12812620286700632",
         "0.40878705797162046",
         "0.16245644185979588",
         "0.0402723749979058",
         "0.054564556810365955",
         "0.527610440815716",
         "0.2922296710482802",
         "0.02309019327174354",
         "0.2103423202817703",
         "0.17390951935930332",
         "0.11072575719352158",
         "0.5359605669750767",
         "0.24137928118284058",
         "0.41236287213199163",
         "0.1682515599954188",
         "0.1528701319066335",
         "0.09963892175769433",
         "0.1332052704204928",
         "0.40101008074838534",
         "0.08293211971588434",
         "0.1309420998648459",
         "0.2452991306770155",
         "0.053171797069471734",
         "0.413236938804741",
         "0.07476108903895996",
         "0.21143431491566309",
         "0.4464542508401893",
         "0.051296973341207266",
         "0.40414728067248673",
         "0.3967483181452303",
         "0.3670381626502646",
         "0.42481127791993434",
         "0.3836484079528531",
         "0.5413635362536566",
         "0.32673486070184155",
         "0.2491396422150313",
         "0.22291966323803541",
         "0.11412882520759284",
         "0.07503001281186421",
         "0.2894962941021367",
         "0.15499582423775604",
         "0.31986206668062045",
         "0.296325187792832",
         "0.24732446885632875",
         "0.46572550720446126",
         "0.13595035207091577",
         "0.21664414288022688",
         "0.12267025049818049",
         "0.4030039727165231",
         "0.1964362386310237",
         "0.45565223980714875",
         "0.10389172332884586",
         "0.26414670006795715",
         "0.10670143632388468",
         "0.32590158728623286",
         "0.47057936785281024",
         "0.30866420862334465",
         "0.25150284473834805",
         "0.09394833445752278",
         "0.2720664504674151",
         "0.42479563616656946",
         "0.049274488359610444",
         "0.26896846267908214",
         "0.4330537991757545",
         "0.4211583418676596",
         "0.04947209962892935",
         "0.23348618335136817",
         "0.17982527838496729",
         "0.2189605664476452",
         "0.43676254921119173",
         "0.25789167316751327",
         "0.40770090727705055",
         "0.3426450378037261",
         "0.4886493566559721",
         "0.3895268948421049",
         "0.279483148891071",
         "0.38859876588853876",
         "0.20215255837915205",
         "0.038461810102192455",
         "0.3958459031119054",
         "0.3579511634005577",
         "0.33279399296686896",
         "0.39994051961472527",
         "0.099947753641341",
         "0.42097013310156867",
         "0.08810024960075999",
         "0.032488546282351",
         "0.01163922559264245",
         "0.1785257211279545",
         "0.18024790568184562",
         "0.5163506483718001",
         "0.03525665926034308",
         "0.15172504989785457",
         "0.14120739940965177",
         "0.17717939086375067",
         "0.021700841472510033",
         "0.08052808282977904",
         "0.4963023281659453",
         "0.22218001992218403",
         "0.27251635135750024",
         "0.4040796197643269",
         "0.2186177464343905",
         "0.1582976715169412",
         "0.3989524065087233",
         "0.27844980523080404",
         "0.06673336494505466",
         "0.2470454943567208",
         "0.0072207586151488475",
         "0.32295093664355945",
         "0.45517822589763485",
         "0.13884758764602684",
         "0.40678959261798253",
         "0.36560813640739076",
         "0.46730994837897427",
         "0.40720063053631245",
         "0.24733716615054932",
         "0.2321884727470983",
         "0.2509424671079363",
         "0.3848017840755724",
         "0.4575182318052959",
         "0.03548721927176389",
         "0.40766361171569643",
         "0.19272598074112673",
         "0.030644156190977476",
         "0.26181002776357054",
         "0.17447353742808594",
         "0.14581340297745177",
         "0.4398057387134416",
         "0.21199653909733754",
         "0.24674417266542145",
         "0.38106428966685",
         "0.27363966869399736",
         "0.18340116042215146",
         "0.20479996237321169",
         "0.18705898273889654",
         "0.25501602248217287",
         "0.3056111065909907",
         "0.47940120850434836",
         "0.25561178081362246",
         "0.1432806552862671",
         "0.12018107801598224",
         "0.16557730484187916",
         "0.41863622092360064",
         "0.32788174074829507",
         "0.17586439492477435",
         "0.24174591634850834",
         "0.04693986054910812",
         "0.18949369684381845",
         "0.12501087360549734",
         "0.2276274582045909",
         "0.1168594108012201",
         "0.1827912209576198",
         "0.22477111736441183",
         "0.3970709670627052",
         "0.05823792649711066",
         "0.3080997362217469",
         "0.2015005359101457",
         "0.16862382966988562",
         "0.22797319912760952",
         "0.1817404222905351",
         "0.26277000400717404",
         "0.2012786554271031",
         "0.39805979732289354",
         "0.06908468760920554",
         "0.3439864086984865",
         "0.0285227255884609",
         "0.21581279704492717",
         "0.2507733297928607",
         "0.4764004716324268",
         "0.3472292717391113",
         "0.211267302077298",
         "0.16833012095672648",
         "0.0922428142527508",
         "0.1468695014921342",
         "0.056688480181615986",
         "0.05168701125546843",
         "0.2912500626505994",
         "0.40325788715227096",
         "0.15956513874624534",
         "0.25430734837896024",
         "0.1703218088193404",
         "0.2605225412564956",
         "0.4968916858901095",
         "0.1616908624771139",
         "0.31385902670748445",
         "0.06325941123123584",
         "0.24414457174020987",
         "0.04680446314217487",
         "0.1424984696641404",
         "0.17190730098090112",
         "0.14837885565132106",
         "0.2920008708517896",
         "0.042158222288780745",
         "0.14978843870721664",
         "0.4500277143452132",
         "0.2492751328045407",
         "0.1963315107149583",
         "0.36602997000819737",
         "0.492973792524094",
         "0.25448171065407577",
         "0.2383188362615275",
         "0.3661746968191056",
         "0.06968829564025754",
         "0.3861475198596048",
         "0.07206659622197355",
         "0.39540462351542693",
         "0.2624855581988867",
         "0.013233848890832607",
         "0.40264108534575577",
         "0.23077014838963336",
         "0.21737639663980685",
         "0.11893527267865621",
         "0.19346840263205645",
         "0.1755334081098383",
         "0.36294689840499034",
         "0.2833595444400977",
         "0.3399983612012531",
         "0.18724943327723292",
         "0.3216750647373947",
         "0.4768120843423574",
         "0.12612631541426192",
         "0.3968050979495026",
         "0.025578096738674942",
         "0.23618123909990657",
         "0.44995881888894973",
         "0.16687820439973813",
         "0.4599589116771009",
         "0.08402569379586272",
         "0.04526789697841539",
         "0.46659798780687006",
         "0.3850488057567218",
         "0.4275041838936576",
         "0.04820531273100244",
         "0.12227412985010608",
         "0.3075082718540808",
         "0.3743205751660784",
         "0.4409154258522204",
         "0.4096150374122217",
         "0.1267986030906801",
         "0.30369315157660215",
         "0.4113768227096499",
         "0.35462414786536717",
         "0.41927149316307755",
         "0.2340322874765161",
         "0.12966918642641845",
         "0.32632128906681934",
         "0.16317461539624767",
         "0.3429332131247514",
         "0.1319740562780548",
         "0.07380080859951257",
         "0.1685702974399176",
         "0.07267899790307895",
         "0.2484704809430187",
         "0.139501639818903",
         "0.1905109896168093",
         "0.30299401362409034",
         "0.26741069274003704",
         "0.011509368412463965",
         "0.5081497775676209",
         "0.12923195251517677",
         "0.32459982785801894",
         "0.02447744307493872",
         "0.3482475198146061",
         "0.055275834582737396",
         "0.0033309580967567512",
         "0.22020215624335157",
         "0.3344677899855807",
         "0.1594679657900314",
         "0.16184032566013593",
         "0.3420941493881853",
         "0.3591880127770584",
         "0.055463002986023704",
         "0.06754083203673644",
         "0.20499444852435958",
         "0.31715237678536656",
         "0.29253138748812385",
         "0.2545970372599589",
         "0.13917249181383917",
         "0.12227050941582548",
         "0.20275992652012567",
         "0.2343685377244742",
         "0.30302714482553217",
         "0.16812220415920107",
         "0.29494815743529523",
         "0.16517977884161694",
         "0.3531188420711803",
         "0.3153845965847343",
         "0.37418726141551234",
         "0.2397299361910205",
         "0.039431648596762944",
         "0.18092101485777898",
         "0.48949638203327006",
         "0.4199430198716401",
         "0.16317105959814582",
         "0.07700849498742349",
         "0.21020214378973934",
         "0.07120612590660219",
         "0.3124270937232517",
         "0.13562087270127654",
         "0.2624674688082207",
         "0.06620768645998534",
         "0.12597051475207457",
         "0.06686433616026916",
         "0.5064297179448024",
         "0.10416736683415258",
         "0.01342895300962292",
         "0.22319039258368495",
         "0.23752197231830952",
         "0.034327276051787176",
         "0.2354624954383253",
         "0.23446553672854611",
         "0.19834516211666547",
         "0.11889711520629802",
         "0.33141343280398683",
         "0.5286950009645098",
         "0.19340704262836422",
         "0.059349709853557774",
         "0.3254303503335966",
         "0.23651366265365031",
         "0.14986503779586177",
         "0.1334874369953668",
         "0.3321720405893345",
         "0.3719169263112992",
         "0.4292600171723229",
         "0.41531323895286637",
         "0.4599229814677894",
         "0.058999405312288936",
         "0.3688580846888886",
         "0.054362536277590155",
         "0.24038607775419285",
         "0.07495209519190323",
         "0.05163053151802035",
         "0.33432879267068566",
         "0.4436959629483612",
         "0.4724082388954568",
         "0.14974494528682344",
         "0.1855674796353875",
         "0.17723147396323843",
         "0.08115613227381464",
         "0.4048973469666901",
         "0.3066657340849076",
         "0.1849268566952863",
         "0.3530413853790115",
         "0.2060872268815589",
         "0.22972005002430412",
         "0.16995276037584123",
         "0.20945780027910466",
         "0.283751808792322",
         "0.046117330559222604",
         "0.47254479144808786",
         "0.42836036206783223",
         "0.05977072601640768",
         "0.27325933349151066",
         "0.23466677318728146",
         "0.35227099936543316",
         "0.23134155520550645",
         "0.19150501917438106",
         "0.28471118240198084",
         "0.09758994559961051",
         "0.04628074655021632",
         "0.06656463303168532",
         "0.22770356931440955",
         "0.40250191564658505",
         "0.046404536901179086",
         "0.37443647839562544",
         "0.20493585332593",
         "0.431908701182966",
         "0.08526171801620895",
         "0.17693350728551108",
         "0.23475022955007563",
         "0.26531482742764295",
         "0.4201407742618949",
         "0.4279546808171177",
         "0.11768825978706383",
         "0.2758565121325632",
         "0.11928830186909802",
         "0.16992119009914355",
         "0.032736418893705974",
         "0.16614308684579887",
         "0.059405652642874014",
         "0.4754247849650936",
         "0.4412845250085016",
         "0.4566025919171196",
         "0.29272985404001156",
         "0.046064308503357194",
         "0.034911053420676255",
         "0.020459541507638075",
         "0.02293633108822686",
         "0.00480431324233077",
         "0.05624558606664508",
         "0.14534889585962468",
         "0.41667589205949424",
         "0.032381945075341714",
         "0.15099311843284113",
         "0.04804899838452468",
         "0.08821013500940278",
         "0.026508511526466223",
         "0.230620320053311",
         "0.16225035920744468",
         "0.5224946025929675",
         "0.0374121611833956",
         "0.21341270734198103",
         "0.3251029637108816",
         "0.07080468708187163",
         "0.1987223258350545",
         "0.23335803690854445",
         "0.33732599911011574",
         "0.267176193816314",
         "0.07278245560371183",
         "0.4125901237521531",
         "0.17708309065510972",
         "0.2688781479455672",
         "0.2039673747711085",
         "0.17179087836559126",
         "0.3752238429785689",
         "0.1974567830206108",
         "0.38377502095690463",
         "0.04600491794359661",
         "0.07963660114139717",
         "0.43383628283307785",
         "0.3726853447849865",
         "0.05528619709955607",
         "0.43812250295066446",
         "0.3790782733328375",
         "0.345138437401674",
         "0.15626947373943514",
         "0.274932171344806",
         "0.2835840866959379",
         "0.17473985190482444",
         "0.046344337274136935",
         "0.43179085185496663",
         "0.14503313362555906",
         "0.0433203190725977",
         "0.09410068216088982",
         "0.0922981085311811",
         "0.07804950867570459",
         "0.12854099443945385",
         "0.13285854484398232",
         "0.4179113203381322",
         "0.06290974347565643",
         "0.5492769659400488",
         "0.15909746562112137",
         "0.04444112553903175",
         "0.3822946627016184",
         "0.4869181373115796",
         "0.18882090798380757",
         "0.4219116732518573",
         "0.27701634787476115",
         "0.07549270764591498",
         "0.02938849496421049",
         "0.16034197340189638",
         "0.2695861292481903",
         "0.11230109677693992",
         "0.2750872808007529",
         "0.33463527570701135",
         "0.18459371549241976",
         "0.44890891615474293",
         "0.44720018410974516",
         "0.4020474768355131",
         "0.42824281900613714",
         "0.18940197899737352",
         "0.3112125424798551",
         "0.5119543039464306",
         "0.3075307204250211",
         "0.14436281373409304",
         "0.5200026608663655",
         "0.3274957308417288",
         "0.12722297512862646",
         "0.4379665628257626",
         "0.218678717136431",
         "0.30982942664007734",
         "0.14349130885397512",
         "0.5048695367416737",
         "0.3968919029752579",
         "0.05892259492331812",
         "0.40317135409032073",
         "0.13917443273743338",
         "0.32065801189905807",
         "0.21154315618792097",
         "0.3903349754664673",
         "0.1133417260969121",
         "0.12330237334101288",
         "0.13864562134721437",
         "0.23558620764839133",
         "0.27715760988304344",
         "0.11655114848434892",
         "0.2613735011736135",
         "0.28638953375132176",
         "0.19957558778942736",
         "0.43913292628559575",
         "0.05776895295757572",
         "0.04795570171859986",
         "0.5662931542771621",
         "0.12912202597302894",
         "0.23304114614346405",
         "0.3363470820161954",
         "0.05904469701750698",
         "0.27775900361217365",
         "0.3844614822514192",
         "0.15869892007863903",
         "0.30381340228477",
         "0.0795913864558336",
         "0.08421969862715226",
         "0.25819363805961904",
         "0.22415265389451416",
         "0.280955899440966",
         "0.2800518616808506",
         "0.14823333452161794",
         "0.3553738030588627",
         "0.49190131348005617",
         "0.37221316056571147",
         "0.11985966906857627",
         "0.26986014366575045",
         "0.19334266001490538",
         "0.19794868903201357",
         "0.11872183975226368",
         "0.31506359312952703",
         "0.1490861520734746",
         "0.18161190758118548",
         "0.3994318449778143"
        ],
        [
         "2",
         "0.16893670026032648",
         "1.0",
         "0.11339322973729463",
         "0.1796940363244407",
         "0.07362338196501553",
         "0.242106388826084",
         "0.10860441266412882",
         "0.1042567151784975",
         "0.1624695905693816",
         "0.16127340064031878",
         "0.1303988589496694",
         "0.12233863076108328",
         "0.22679910687289784",
         "0.2287604342658298",
         "0.4489588976821756",
         "0.12643680081943875",
         "0.22564250386806364",
         "0.18080097850117405",
         "0.10226895036418952",
         "0.06103323219666894",
         "0.2066897481807949",
         "0.0650305649075583",
         "0.14779344230965405",
         "0.1798973881016328",
         "0.14995076571637742",
         "0.4495287466124429",
         "0.18671165343204887",
         "0.10407673903526009",
         "0.1766610356713099",
         "0.23210951049215744",
         "0.08259809832457458",
         "0.22276733498887136",
         "0.1728331970608024",
         "0.21436575626607618",
         "0.07899496528284382",
         "0.10795673355233784",
         "0.08052553511694018",
         "0.059114119799483014",
         "0.27085973531551616",
         "0.25381427103901694",
         "0.12702638719306872",
         "0.11750601424733806",
         "0.3091842595029313",
         "0.12033130578619804",
         "0.3271602174694228",
         "0.23428781136217794",
         "0.3305644278807961",
         "0.10062882025064392",
         "0.1435634677158063",
         "0.06941412172489464",
         "0.04624494154250187",
         "0.27551406922697164",
         "0.17481737474353296",
         "0.3314153029765918",
         "0.10517570442410257",
         "0.10297819469928358",
         "0.21821085038147853",
         "0.23085564899792052",
         "0.14005356967530042",
         "0.06532835413454027",
         "0.18663955784867992",
         "0.20580420768494131",
         "0.4339122628829457",
         "0.1714764738098938",
         "0.11530138826828673",
         "0.3118375042434706",
         "0.09428113695142448",
         "0.31583720085569106",
         "0.18553438733712474",
         "0.09152941990061877",
         "0.21319627943446584",
         "0.07760763776369492",
         "0.15622369526431823",
         "0.3149622115297799",
         "0.18807978050860702",
         "0.09458775380603753",
         "0.08457096256471427",
         "0.26600471759519606",
         "0.4000073463915449",
         "0.1334884705589556",
         "0.2946958369345224",
         "0.20760732558700087",
         "0.11374248117458735",
         "0.22481898158678204",
         "0.19336439176990697",
         "0.1969839098857576",
         "0.1023368305906405",
         "0.21029527558281136",
         "0.2682142822580369",
         "0.2325589950414088",
         "0.08447019013348266",
         "0.163250332254553",
         "0.17583922327688334",
         "0.12297990805291585",
         "0.12267566627885393",
         "0.09674565826014869",
         "0.0496448241226569",
         "0.033591581553387415",
         "0.20735333943310863",
         "0.25427578730205735",
         "0.22207770687523154",
         "0.17580318079018376",
         "0.18034151658551453",
         "0.47352701467681163",
         "0.26395597711759666",
         "0.18037320538756246",
         "0.23390339016869915",
         "0.35551126855907667",
         "0.13518837293845753",
         "0.0985669819511027",
         "0.3884100880183624",
         "0.33453654413366757",
         "0.3272168318383617",
         "0.053018058957495395",
         "0.16829993899494872",
         "0.31736543530276073",
         "0.1675309412496143",
         "0.04602766709364037",
         "0.2680863447629085",
         "0.2590478295791179",
         "0.2799828604321055",
         "0.04680015724879253",
         "0.24326310465158565",
         "0.05041350994215851",
         "0.11887186002920798",
         "0.2507901973295498",
         "0.12339270100055887",
         "0.14918708313146728",
         "0.39596862604264577",
         "0.2030449532668578",
         "0.4810909444216205",
         "0.22602438734861363",
         "0.3062970472727836",
         "0.24250940905797264",
         "0.03235249249864778",
         "0.33630833644633534",
         "0.11270780157687546",
         "0.11319098597294089",
         "0.28819958757614145",
         "0.24985924743183813",
         "0.3105209395506105",
         "0.022749113168385654",
         "0.17758057552320716",
         "0.2814868794089799",
         "0.2575480294694235",
         "0.25964243054768255",
         "0.2784685613850971",
         "0.045283663099803764",
         "0.3464773259686783",
         "0.28875513324803065",
         "0.1320748983033125",
         "0.18607865106471735",
         "0.07791632330139234",
         "0.11488334922821168",
         "0.17468314528284792",
         "0.04593625348891256",
         "0.37506793914326425",
         "0.19760232588428714",
         "0.24252405125299847",
         "0.1879261594419845",
         "0.27625054415083317",
         "0.12326937086756753",
         "0.24406785270161005",
         "0.20602543721631522",
         "0.07947840467739478",
         "0.14834189718327218",
         "0.03710229787134781",
         "0.29855734259839206",
         "0.1405208298248212",
         "0.1651424799130332",
         "0.3430050246289982",
         "0.0",
         "0.2864994914826884",
         "0.20891506380094269",
         "0.1163354564271557",
         "0.3076185807341705",
         "0.1731100728423625",
         "0.26261646122856597",
         "0.31459553285333464",
         "0.03542836784338272",
         "0.32984092872179654",
         "0.1873063065927505",
         "0.08354737819030987",
         "0.20261193324613183",
         "0.2963545312806557",
         "0.165733143275888",
         "0.043742249106741",
         "0.10268039441831066",
         "0.1576058396453772",
         "0.3153411471478473",
         "0.2986560827064277",
         "0.3750872011168321",
         "0.25717380202852913",
         "0.10398651592021961",
         "0.19366368308111453",
         "0.2273686282667944",
         "0.18878019680111455",
         "0.09923561142113863",
         "0.2860117142795724",
         "0.1154047896432079",
         "0.19014517110144502",
         "0.1797005996510066",
         "0.2117370350734523",
         "0.29673014758835153",
         "0.2967921659472762",
         "0.27555107893785696",
         "0.2212435633515428",
         "0.0310536065582397",
         "0.3708974417832082",
         "0.16164806112327562",
         "0.1588424516095391",
         "0.06334230746260305",
         "0.16281843231319618",
         "0.15744733395326058",
         "0.11402720989936917",
         "0.17910464248210492",
         "0.03511912809770994",
         "0.07429829248449922",
         "0.08594715281019621",
         "0.3147829356369512",
         "0.1205835877702061",
         "0.17356674239340483",
         "0.2398456652301603",
         "0.14342102653847116",
         "0.05020671471384414",
         "0.14094053434210563",
         "0.31769644096423205",
         "0.2034549193280473",
         "0.29926594744218143",
         "0.12709479616767994",
         "0.19640896578988862",
         "0.19506674592040182",
         "0.16531402819318733",
         "0.204736658211043",
         "0.1403004166673989",
         "0.19164469134802328",
         "0.07093273663545793",
         "0.23974746842116634",
         "0.11774492486665886",
         "0.3613543495556953",
         "0.2578323246030394",
         "0.23271192531944357",
         "0.19761246671914934",
         "0.12639696695235814",
         "0.09873868135066449",
         "0.09503873905278895",
         "0.27782299987364256",
         "0.14079301261169788",
         "0.1764097369138534",
         "0.14720654363986688",
         "0.2577382048492968",
         "0.27100178688414367",
         "0.13054516927877646",
         "0.08035492111879475",
         "0.08177900421963323",
         "0.14054210576415085",
         "0.2829210948268164",
         "0.26527091007969456",
         "0.13563342167950523",
         "0.12819845008291825",
         "0.09757027200080201",
         "0.144722872569128",
         "0.1375391221280687",
         "0.11782272343614349",
         "0.3180127871904765",
         "0.4085671594936292",
         "0.0667584383068034",
         "0.14343970314462132",
         "0.11701067574429948",
         "0.19897036631224743",
         "0.24690906292465098",
         "0.06010685541278164",
         "0.26249064310747583",
         "0.2538179253017812",
         "0.09584242457087361",
         "0.20658889916300155",
         "0.39544655041641036",
         "0.25513701447124143",
         "0.10884723440951152",
         "0.14288041485941227",
         "0.18554410093842008",
         "0.2049460421610997",
         "0.06621124505067873",
         "0.3174897178959195",
         "0.2443139821713932",
         "0.21290422315320692",
         "0.19904836183746644",
         "0.22531434282648427",
         "0.049463827538186185",
         "0.05711633947506449",
         "0.11000281808595025",
         "0.14251280413407566",
         "0.22406154920360408",
         "0.3045083720955594",
         "0.06287135440595919",
         "0.3957950824519768",
         "0.2711266466474934",
         "0.15302387528702308",
         "0.23591764663342848",
         "0.1242607240032221",
         "0.13502305468490441",
         "0.18627012397806306",
         "0.19552098761507603",
         "0.3042789265139058",
         "0.24386236958356317",
         "0.4366568721976922",
         "0.11844314011028459",
         "0.15118885655351308",
         "0.18577929275870625",
         "0.27291669248907513",
         "0.09542030960808809",
         "0.0777165214095404",
         "0.07499413624408086",
         "0.12025492287625987",
         "0.21847475543085",
         "0.20426711784419072",
         "0.12470540567391161",
         "0.2055370081118794",
         "0.19680071832914178",
         "0.11886732996977709",
         "0.11807957367719957",
         "0.16093229313091173",
         "0.21646068203515517",
         "0.36789519603141385",
         "0.11124113306083243",
         "0.04816164651841047",
         "0.21393960733135814",
         "0.19746588777202342",
         "0.3292585675616758",
         "0.15371484371114452",
         "0.18466928332886812",
         "0.20956683347842558",
         "0.2060519185953367",
         "0.2877494346666435",
         "0.17644295457968281",
         "0.20367154180569663",
         "0.0892563817135007",
         "0.1253962868795715",
         "0.12309394318599301",
         "0.06042664697932663",
         "0.10413688113829106",
         "0.17278910992938518",
         "0.18676200225970288",
         "0.3953717012444497",
         "0.3371044876999574",
         "0.11831478907806943",
         "0.1965033539469667",
         "0.17237663770580955",
         "0.20492263513796297",
         "0.1017728117649556",
         "0.24854543840447332",
         "0.09570612530631736",
         "0.2544878294479939",
         "0.25196423479917857",
         "0.18296057493647963",
         "0.3096952123019611",
         "0.21955994830468412",
         "0.022218938363617307",
         "0.2097731529821983",
         "0.3447400062904239",
         "0.18333870357723703",
         "0.19378589307783534",
         "0.17618868783113883",
         "0.16900141075546946",
         "0.3361456321351656",
         "0.015378928962175848",
         "0.10649676767408464",
         "0.15894327445366072",
         "0.08608568398620116",
         "0.13419441218515088",
         "0.08430395084792083",
         "0.0996675604558146",
         "0.09172743540631789",
         "0.16851403373976592",
         "0.08834584988205164",
         "0.23960079953467545",
         "0.16874036666029918",
         "0.2752441366386626",
         "0.13169242382170218",
         "0.14555283429467816",
         "0.14667225179179688",
         "0.12368532857261612",
         "0.16652655570700833",
         "0.270516941484083",
         "0.10733787052788549",
         "0.12246520982314824",
         "0.11833192208156751",
         "0.26484539936787277",
         "0.14463239193232752",
         "0.3145059844920829",
         "0.1380930814213176",
         "0.2777912928306586",
         "0.19124332159304797",
         "0.07556973651667333",
         "0.23121959491051422",
         "0.16071131276252937",
         "0.16501917589252604",
         "0.11943768399819658",
         "0.1300959237940751",
         "0.3013999007208508",
         "0.22210174595846516",
         "0.29227446485303876",
         "0.2610515467903136",
         "0.24747889276628948",
         "0.06044778087632301",
         "0.11961610203852088",
         "0.1580479067650039",
         "0.2716558247362375",
         "0.13626066078144927",
         "0.3125020762927694",
         "0.08737473683010032",
         "0.05584650738519885",
         "0.44363327421426585",
         "0.2822251009193252",
         "0.04434489469222494",
         "0.30696242766444126",
         "0.1250047693610394",
         "0.258408767252124",
         "0.2661784303633533",
         "0.3082137829029483",
         "0.10280397069752922",
         "0.26128680545081845",
         "0.37947630837928603",
         "0.3140864668277827",
         "0.2284031998029292",
         "0.03891605907913678",
         "0.15953616033145557",
         "0.31020612436291206",
         "0.17648103611501426",
         "0.2702620604382373",
         "0.1870466253347442",
         "0.3264201873366823",
         "0.2314888488369394",
         "0.16593156266863868",
         "0.14917336262848638",
         "0.10607980835268746",
         "0.11670045592181613",
         "0.31185070856885977",
         "0.38882936550256597",
         "0.17848244871623797",
         "0.21850734878832134",
         "0.07864873978709255",
         "0.1588376678927258",
         "0.3758363735401184",
         "0.204901495640922",
         "0.2974713754838788",
         "0.22877054834216307",
         "0.21165805591410317",
         "0.23063591203538347",
         "0.23021197625144812",
         "0.1858407876782196",
         "0.1303592885807084",
         "0.16075511089606453",
         "0.24107141021667586",
         "0.27998242103528503",
         "0.11818419706971058",
         "0.1590612056797614",
         "0.25953615595920876",
         "0.25644733759452165",
         "0.4977797672485534",
         "0.30842611573638845",
         "0.25351760925759653",
         "0.4256176982373549",
         "0.3455151620323469",
         "0.18032056623834497",
         "0.17918867503891922",
         "0.3066206083515023",
         "0.2320055378238543",
         "0.07337438011591353",
         "0.3546227358390788",
         "0.05006842845914311",
         "0.07829276903156272",
         "0.32525629340784856",
         "0.21049920281646636",
         "0.33982952989189796",
         "0.03631166501151596",
         "0.2045493039795453",
         "0.15764221274815862",
         "0.18532126138657878",
         "0.15118349021297162",
         "0.11009745579893586",
         "0.37822121025303806",
         "0.23516203468519345",
         "0.16686939457379824",
         "0.3256401617746253",
         "0.44669646593061596",
         "0.2068724768219276",
         "0.13558178028174236",
         "0.24358907055273374",
         "0.2770287171199001",
         "0.22845818000597812",
         "0.15646051241200434",
         "0.15797036622509875",
         "0.17633673321891838",
         "0.05160935476143208",
         "0.05469459781031395",
         "0.14949522055044645",
         "0.14456075908944552",
         "0.19392660443286966",
         "0.2439245375789247",
         "0.24941861633252885",
         "0.1140663469026573",
         "0.2444350176504582",
         "0.16356627914789662",
         "0.09235317335184158",
         "0.052537763978817584",
         "0.22933556792216658",
         "0.06959812385613756",
         "0.239762152854749",
         "0.23701417362047544",
         "0.14793642323583286",
         "0.20579986722442237",
         "0.11721558612967298",
         "0.23717773798584751",
         "0.2633590656428999",
         "0.10645740470303533",
         "0.3064998161783521",
         "0.22131891032746065",
         "0.06315790442951008",
         "0.39966852416922266",
         "0.13192040702402938",
         "0.034504460997489925",
         "0.19142142334987286",
         "0.19279981047224815",
         "0.3382724562718004",
         "0.41626781335356344",
         "0.12322360264020368",
         "0.07567285362903123",
         "0.18900882279119283",
         "0.12146712675754814",
         "0.22338401733002627",
         "0.20984194977486964",
         "0.2691673557839901",
         "0.17350693818725046",
         "0.17255879535966512",
         "0.07791273337925797",
         "0.2650867460315309",
         "0.13563944244796855",
         "0.2463566832728664",
         "0.2943189536973848",
         "0.09405517074485326",
         "0.12731992054158875",
         "0.08288533815467526",
         "0.2991690433664024",
         "0.05960845174007727",
         "0.10166762020013877",
         "0.2914317643834918",
         "0.3598525439010294",
         "0.2534028067631248",
         "0.2875358636909819",
         "0.18206308470532448",
         "0.3224496339938173",
         "0.08635228512542176",
         "0.1842894741003873",
         "0.2354789076169699",
         "0.08621384496826306",
         "0.1976018146173321",
         "0.2575834192812148",
         "0.07043280879313588",
         "0.26084349561842385",
         "0.11937054312263083",
         "0.07585814546863359",
         "0.17406378025076522",
         "0.31078969269647005",
         "0.01224826325050629",
         "0.09427592987237139",
         "0.11802653897140886",
         "0.11232037739710207",
         "0.4430963571796771",
         "0.24206915295282905",
         "0.0",
         "0.2595397035681729",
         "0.17194165290282748",
         "0.355716804511378",
         "0.06220615728167384",
         "0.22152254317304726",
         "0.11099875941257341",
         "0.1864620561505455",
         "0.18335772096810946",
         "0.2449751762331746",
         "0.2181652911342482",
         "0.24294009290327645",
         "0.09832172753866",
         "0.12823108169027275",
         "0.09857607991146006",
         "0.10905276909943909",
         "0.2956768004960815",
         "0.1723978451614191",
         "0.22798578390112773",
         "0.33851756247379916",
         "0.19638083153048147",
         "0.28507166307533605",
         "0.23640273194166722",
         "0.30865151321127465",
         "0.287394818991557",
         "0.30574899470659384",
         "0.3156249342015956",
         "0.22862163960815785",
         "0.21039581546484623",
         "0.057842229988500624",
         "0.11114286702217994",
         "0.2093741986234202",
         "0.10721475408262993",
         "0.09823541575737703",
         "0.27269391596465997",
         "0.18617127973478795",
         "0.0969120240693239",
         "0.15684069655044938",
         "0.22854797207678",
         "0.16442414700917465",
         "0.2978144693411895",
         "0.2031448014866371",
         "0.1966940738675926",
         "0.27521427543549676",
         "0.20022060603260355",
         "0.3433695671035876",
         "0.07455577894320296",
         "0.14600648528210977",
         "0.20741091657123167",
         "0.10476671411275323",
         "0.14526603262152524",
         "0.12021623656816426",
         "0.17928808105708416",
         "0.44807679282804863",
         "0.1197756386083497",
         "0.25583282183905515",
         "0.09497703384095973",
         "0.20878910098205036",
         "0.21741212437374152",
         "0.2747486432621285",
         "0.2862771921322384",
         "0.10324568396501616",
         "0.10177370647448068",
         "0.3944979678607454",
         "0.24554938245002356",
         "0.2667166279228514",
         "0.3319068846635481",
         "0.04969667162938636",
         "0.17700890195835084",
         "0.08517485733755083",
         "0.1493922735253401",
         "0.07411402016928774",
         "0.10843786258706549",
         "0.29323411301700386",
         "0.046149274331807266",
         "0.22489388888652798",
         "0.08221742579801543",
         "0.12267140456145051",
         "0.23985169145998553",
         "0.12826999085244434",
         "0.3763497373402175",
         "0.2067611855910981",
         "0.18188578630659744",
         "0.24510994896865082",
         "0.27625713923749395",
         "0.2461337601283307",
         "0.23807309768445592",
         "0.1335107595486625",
         "0.10919761554719229",
         "0.14361817693223647",
         "0.1407841984499456",
         "0.25099904724211025",
         "0.2826419919583835",
         "0.14185912344220045",
         "0.20068662525915315",
         "0.18950105260554223",
         "0.18194081286864305",
         "0.3195941251574149",
         "0.18916100795996324",
         "0.0",
         "0.113688876362222",
         "0.27989102390307263",
         "0.34832147781438155",
         "0.32405600313156246",
         "0.22170281158793353",
         "0.270874517964961",
         "0.12498238902781758",
         "0.4252935290059035",
         "0.12842326026448087",
         "0.3051084899706435",
         "0.1726747498624873",
         "0.17357481296492935",
         "0.2978203561351207",
         "0.1134207647499566",
         "0.17422284633973686",
         "0.055294343385111314",
         "0.17052964080764987",
         "0.10738658424905553",
         "0.20426640910514032",
         "0.1054949374715539",
         "0.0759952613003759",
         "0.19582175278211086",
         "0.15223365564750757",
         "0.07715426687713728",
         "0.2306889932353802",
         "0.24818906070906824",
         "0.38313369790696694",
         "0.1797563810150154",
         "0.2892342977669904",
         "0.04862984997156545",
         "0.5717037109328169",
         "0.14150952112005571",
         "0.3005531187477024",
         "0.16414331956873565",
         "0.17768752687654052",
         "0.2023732276309716",
         "0.21658815365188816",
         "0.29477491806755324",
         "0.1130231450817049",
         "0.23336003670216116",
         "0.18348960736369047",
         "0.016210814498135055",
         "0.26533195156933254",
         "0.25295374464699033",
         "0.13953775796704357",
         "0.14576422940426934",
         "0.42698565543809625",
         "0.18622825909257906",
         "0.17846277196994242",
         "0.33276265088168966",
         "0.23483995614854972",
         "0.196662319198287",
         "0.1295303569779809",
         "0.3072099490905385",
         "0.24499647530633933",
         "0.17758194101819963",
         "0.11541339226462947",
         "0.25381678467851626",
         "0.16633337328795697",
         "0.2880217522241229",
         "0.07558010957443168",
         "0.2004572414341102",
         "0.38751426422627966",
         "0.15324840805583506",
         "0.46150618875268",
         "0.20159147442427336",
         "0.09203383563582254",
         "0.10239988951098572",
         "0.10950644869968681",
         "0.282183441145583",
         "0.15269807104317537",
         "0.32408294992417547",
         "0.40380013504195733",
         "0.22258333908005282",
         "0.16392053125219122",
         "0.06461287049721816",
         "0.20598420819432423",
         "0.08424734368205995",
         "0.1374003634356375",
         "0.2595533771747828",
         "0.18974399196738198",
         "0.25606036899971324",
         "0.18871252148668444",
         "0.29583616075021424",
         "0.2774727756559809",
         "0.15086449060923043",
         "0.10254025692681332",
         "0.25737573278183085",
         "0.22452073731855177",
         "0.15960561535501855",
         "0.26538460169294964",
         "0.1531155578448191",
         "0.15473165627200147",
         "0.23811529242211135",
         "0.3297191568708054",
         "0.04878592204850933",
         "0.09927812565365388",
         "0.4496459141934429",
         "0.20084670720138256",
         "0.3232994318986959",
         "0.254146435560506",
         "0.2512977804934843",
         "0.12478296986947772",
         "0.06432354788881402",
         "0.2716558247362375",
         "0.06961001322678247",
         "0.0812217161842611",
         "0.007776353843348196",
         "0.2263721668943166",
         "0.1127891242322832",
         "0.1622012577291217",
         "0.2985321504422371",
         "0.21096119326139073",
         "0.31968287047299865",
         "0.17241737951897212",
         "0.1736387154398477",
         "0.2846889038310217",
         "0.12678289278928861",
         "0.24797995618204544",
         "0.1613113166032541",
         "0.33340610105443946",
         "0.17095354968345294",
         "0.24884372286397266",
         "0.333252112032028",
         "0.07789272916430476",
         "0.21154418604005804",
         "0.2553321168041298",
         "0.11249776984170712",
         "0.2081022369412584",
         "0.3292473559680495",
         "0.19469224105351043",
         "0.10701854757909345",
         "0.3100533569073371",
         "0.11703350024414083",
         "0.09226697582107234",
         "0.14935457723371337",
         "0.08787932837284",
         "0.1716176623136602",
         "0.3045172157279462",
         "0.2156308492566235",
         "0.24865320325093754",
         "0.15086299080917462",
         "0.12383700106269813",
         "0.05901167059663627",
         "0.06859963104895378",
         "0.12202127969277317",
         "0.14527587339042874",
         "0.3037351277238706",
         "0.17092723901770523",
         "0.27081037767289096",
         "0.14053473062084135",
         "0.1200000275782916",
         "0.12742262979186827",
         "0.13503456246840642",
         "0.2523606071611751",
         "0.09518642703631103",
         "0.3173540277751137",
         "0.20206340957753993",
         "0.2574171894028715",
         "0.10972051313993225",
         "0.23445048083268066",
         "0.20460519486495155",
         "0.09302676101147164",
         "0.457306413673012",
         "0.17643665715131407",
         "0.11052954586653939",
         "0.3313978875214981",
         "0.2874413821695196",
         "0.2960048251782008",
         "0.09541543772856668",
         "0.27410866884635643",
         "0.23209245760514047",
         "0.08330698044549875",
         "0.1344807606751984",
         "0.30019604771823516",
         "0.05580626593512559",
         "0.12052184341215598",
         "0.04000356781457012",
         "0.042670497532500455",
         "0.05031062076636454",
         "0.22667237780885402",
         "0.1815684755509823",
         "0.21377068809810115",
         "0.2591303562758405",
         "0.03056556018126527",
         "0.292016678491625",
         "0.23082120545605203",
         "0.2318644600665295",
         "0.2079532262013459",
         "0.36672800102487335",
         "0.18460032009624802",
         "0.11396121867738822",
         "0.3126635051668441",
         "0.1608841293519182",
         "0.10305465829126223",
         "0.25326125982491055",
         "0.11254362735457794",
         "0.07260612251693369",
         "0.3644032635070236",
         "0.15183446329281478",
         "0.24485367397955923",
         "0.2618937231910281",
         "0.24845825755005507",
         "0.35911865412170846",
         "0.10592129369814329",
         "0.12436206073755827",
         "0.15834294580789707",
         "0.19348199536706656",
         "0.33262805104933213",
         "0.24694503760895564",
         "0.13155937855626873",
         "0.1063151411409409",
         "0.2358678513321499",
         "0.18200061152308208",
         "0.1381112737137184",
         "0.08183570810919694",
         "0.12937244926759603",
         "0.20090404018638292",
         "0.14514578914595855",
         "0.10033054585646398",
         "0.29746331388010167",
         "0.13561039236052488",
         "0.1460510842593862",
         "0.39475521302210076",
         "0.3042413391647294",
         "0.1703991666282169",
         "0.07913034846921596",
         "0.29004109206560347",
         "0.1653706394954241",
         "0.10724652873740123",
         "0.08297530856258646",
         "0.26544869013419936",
         "0.18868163470312238",
         "0.21329408702828698",
         "0.22683790752045419",
         "0.28083991425759997",
         "0.27154893713176226",
         "0.10257897362164711",
         "0.1552680327911985",
         "0.3480818556739102",
         "0.02573127816965272",
         "0.023340734816504397",
         "0.17163357276197447",
         "0.039616877443739096",
         "0.26302781665099806",
         "0.11801110693743641",
         "0.29181082821917714",
         "0.050275363442655215",
         "0.3719175234154875",
         "0.3315791332492245",
         "0.1687550776417067",
         "0.12337060712469636",
         "0.23375484682041142",
         "0.24675452599026998",
         "0.04889924404767808",
         "0.3939738326654918",
         "0.11486872328120547",
         "0.09359697949029769",
         "0.11564320034151833",
         "0.2911505112447002",
         "0.50370347676504",
         "0.048301823367870436",
         "0.10314558966626551",
         "0.1470948662791471",
         "0.3106613791466133",
         "0.36332823894520927",
         "0.41072508739271185",
         "0.3227133985021541",
         "0.23109564979578617",
         "0.2287925946397893",
         "0.1629107193713039",
         "0.175272599035093",
         "0.10673209335589091"
        ],
        [
         "3",
         "0.048388318014646506",
         "0.11339322973729463",
         "1.0000000000000002",
         "0.34978136874675214",
         "0.021592116257509477",
         "0.07401813689922494",
         "0.06742250860462276",
         "0.08441897205444207",
         "0.06203867544410589",
         "0.06621711054423042",
         "0.07715396306786432",
         "0.06844652287015983",
         "0.19771595230507166",
         "0.04348018731468095",
         "0.13261025390651188",
         "0.05948740072889174",
         "0.031832926505114455",
         "0.03434066744011883",
         "0.10599607660287842",
         "0.05152557262433944",
         "0.1688947296870191",
         "0.03503602967930704",
         "0.03146180835538367",
         "0.07259875610305137",
         "0.03763697734183241",
         "0.18333951133589468",
         "0.054175878995318894",
         "0.06962794124274588",
         "0.15576735512035972",
         "0.11025467726453136",
         "0.1933696995157457",
         "0.12763705978997297",
         "0.36242041385643503",
         "0.14260473596211673",
         "0.2603445938861306",
         "0.13453336688020454",
         "0.012732301532625117",
         "0.06326860007533813",
         "0.2895163687690528",
         "0.3916152249853556",
         "0.05229623925424031",
         "0.041577847680325616",
         "0.13419673789977235",
         "0.10940061664218587",
         "0.0387967232901716",
         "0.19087506648524452",
         "0.3271970210179873",
         "0.05717991940806956",
         "0.14029414003064564",
         "0.12829326709079666",
         "0.05045295657627776",
         "0.07290288754468814",
         "0.05249304154480873",
         "0.29159042523156603",
         "0.044133103420384574",
         "0.044162185076309785",
         "0.1318560714359308",
         "0.09216694327382288",
         "0.04789178906901836",
         "0.030458481358409176",
         "0.3445444216123758",
         "0.06674325887635246",
         "0.1359999876867378",
         "0.09319474155835585",
         "0.06792829010875717",
         "0.10987736075126622",
         "0.0",
         "0.09343675215625578",
         "0.16153327232779652",
         "0.06241128345158653",
         "0.07127938095646816",
         "0.026459209966244252",
         "0.06477838317364615",
         "0.3353843908779309",
         "0.040347119796734804",
         "0.08733924540693926",
         "0.038444340789594314",
         "0.05496393316411228",
         "0.12022193919775444",
         "0.0346750306185481",
         "0.044654362209787905",
         "0.05854045939133269",
         "0.05778811415567622",
         "0.08539866779117361",
         "0.10193416533382257",
         "0.15862277500035615",
         "0.0537390415577767",
         "0.11567944372781247",
         "0.06388540085868837",
         "0.11157879724584657",
         "0.20758018057337208",
         "0.07238936024949073",
         "0.0",
         "0.11140930791225587",
         "0.03406520956180849",
         "0.05555207294409718",
         "0.0",
         "0.054972323963819826",
         "0.18886943037712337",
         "0.40516953280769663",
         "0.04405190168937057",
         "0.1568035024253322",
         "0.06768974434224127",
         "0.31020771777564315",
         "0.3466358559598853",
         "0.02963646021831585",
         "0.324946329895381",
         "0.06407390131599053",
         "0.0704673068436304",
         "0.1269522126878872",
         "0.32440428652883696",
         "0.35348477442308424",
         "0.3243116252371181",
         "0.021161849067366328",
         "0.03921409518346092",
         "0.32703505467332206",
         "0.0991241499964832",
         "0.07190005502059163",
         "0.1616602010964873",
         "0.031241967404497833",
         "0.09476940205438888",
         "0.0",
         "0.05554854469809053",
         "0.0",
         "0.07693385196790671",
         "0.3602054650219177",
         "0.15317419842513344",
         "0.09071703914047924",
         "0.22183753967801415",
         "0.20132890673122134",
         "0.04283042281198596",
         "0.0",
         "0.26966109547489536",
         "0.18692892529290958",
         "0.1411855087042086",
         "0.07324256989168951",
         "0.08740055692311148",
         "0.029402546061998127",
         "0.12701580821184882",
         "0.29568667644398006",
         "0.1324091253439689",
         "0.2150992771266437",
         "0.40866894826784983",
         "0.11901821218625833",
         "0.210737527938884",
         "0.4160503886556668",
         "0.16851824853746783",
         "0.02685011277406675",
         "0.3843700691208443",
         "0.12435400084345176",
         "0.07468231110537553",
         "0.030849665682202865",
         "0.13784796645460573",
         "0.04700139439538424",
         "0.3363146012971417",
         "0.07634886757737289",
         "0.07352756690751075",
         "0.03335567032396683",
         "0.13134094293120757",
         "0.0389550015346052",
         "0.06421612990679357",
         "0.04202692235167596",
         "0.19416000463828445",
         "0.2390909707430404",
         "0.20246076134336033",
         "0.3247449953520996",
         "0.038692575453991504",
         "0.07719302356170497",
         "0.14418195086400018",
         "0.27329076123090806",
         "0.32234965774364677",
         "0.0",
         "0.4165437235261497",
         "0.07977378285443838",
         "0.0",
         "0.3066255407923149",
         "0.23494801893940737",
         "0.16417834151751384",
         "0.3125770492267891",
         "0.05245647423455897",
         "0.16645811707843888",
         "0.043294505951081905",
         "0.059770290768243875",
         "0.08090860525574622",
         "0.11661282338022332",
         "0.1397910739051374",
         "0.011639642437131347",
         "0.06395053768484593",
         "0.05736954646515881",
         "0.187717683837214",
         "0.28722186075436545",
         "0.08351385893729377",
         "0.12472748308819519",
         "0.0522460986239867",
         "0.10835175799063779",
         "0.029069276145374204",
         "0.24921867347745338",
         "0.05630594319496611",
         "0.08404313663724204",
         "0.044966407184633836",
         "0.16062756002440942",
         "0.03974032844302895",
         "0.16666384990014543",
         "0.22266175422544315",
         "0.20396755301630565",
         "0.25631287351909254",
         "0.0808176608240404",
         "0.0040332500391775114",
         "0.1438538313476936",
         "0.05153291142810056",
         "0.03757697593004132",
         "0.10229518606771525",
         "0.054339497234091275",
         "0.14213702455481125",
         "0.07532213423306097",
         "0.04239095171826139",
         "0.022350276773828927",
         "0.013509832641071542",
         "0.05753935223982588",
         "0.27703721494280054",
         "0.11572053630651892",
         "0.10881150713628576",
         "0.14268025108729127",
         "0.1547915795671011",
         "0.003803835248432125",
         "0.01642791516323214",
         "0.0826824738328605",
         "0.06292910297556381",
         "0.2792411728502942",
         "0.025604768203322137",
         "0.06302382800379641",
         "0.0827620349525978",
         "0.019603980757208508",
         "0.06757090949708881",
         "0.12217691011081329",
         "0.09230801738088393",
         "0.0",
         "0.07986658448801456",
         "0.05980553573717903",
         "0.20552558968158663",
         "0.23000505202270488",
         "0.09678329010368424",
         "0.05172078944450369",
         "0.06755155182596906",
         "0.08976942912422037",
         "0.05467853313766595",
         "0.13072435182865172",
         "0.07099360279651812",
         "0.09554849836777375",
         "0.1850680942701544",
         "0.058360365259376504",
         "0.05089978159085285",
         "0.09464886367115573",
         "0.04472792944714561",
         "0.14986240393124214",
         "0.047723380363274615",
         "0.10153461651336192",
         "0.18088061716571865",
         "0.07975730623839206",
         "0.2080251943278334",
         "0.24325165454368777",
         "0.07017413087573361",
         "0.1099874929656744",
         "0.04590853268752475",
         "0.15053618399565663",
         "0.11309107751473547",
         "0.026484748988149856",
         "0.08097171254684316",
         "0.0656613869567848",
         "0.07305425075939065",
         "0.09662411523785351",
         "0.02300920080122134",
         "0.35013091408015723",
         "0.10849236624841752",
         "0.055806370900503714",
         "0.19649429772350077",
         "0.04808931314900236",
         "0.11525552562247425",
         "0.0444692496173223",
         "0.05708557765553202",
         "0.23738277846541322",
         "0.37265819138765527",
         "0.017762969292967817",
         "0.4275165872734882",
         "0.11571568867969224",
         "0.1020695723536015",
         "0.16999944442910225",
         "0.1768743464034702",
         "0.0",
         "0.05441768741360282",
         "0.043552894801234567",
         "0.10238967851702079",
         "0.0864798889704636",
         "0.34052224613234117",
         "0.02707589773689651",
         "0.0572738455925456",
         "0.10746339972744057",
         "0.05878455603392564",
         "0.11989030282113211",
         "0.13939421990618603",
         "0.10329619108555507",
         "0.3009213293037486",
         "0.12754871272138701",
         "0.19616202374839298",
         "0.09489658116655411",
         "0.07392259463004289",
         "0.03274174723782036",
         "0.0469407255875301",
         "0.23386627507503413",
         "0.05800334233749978",
         "0.07698715963788993",
         "0.010870290167044107",
         "0.07971254291441315",
         "0.08162050645338498",
         "0.11704916371867405",
         "0.03159015897918048",
         "0.4703389781989352",
         "0.0761196912535535",
         "0.23118356555540887",
         "0.03261272733490657",
         "0.0",
         "0.0985376498162906",
         "0.1540719347997913",
         "0.26412669413452544",
         "0.06600466457744632",
         "0.03940805274132818",
         "0.14114805588768306",
         "0.19778555371746281",
         "0.18872020128602218",
         "0.03288274148694813",
         "0.03577292105280032",
         "0.19026697908434992",
         "0.03147219872364347",
         "0.16281828200597082",
         "0.4527847812226484",
         "0.017282567751092597",
         "0.0152153409937285",
         "0.0025523620198284053",
         "0.07907852660224658",
         "0.025355812685905345",
         "0.11103061161093748",
         "0.07854662197764238",
         "0.07190134005295713",
         "0.0691374599759648",
         "0.10357727301609272",
         "0.08255163106968647",
         "0.10346062911419696",
         "0.04822099692309599",
         "0.018910943620152987",
         "0.08619708499313376",
         "0.22329065172216786",
         "0.04291019766365479",
         "0.3445409904298697",
         "0.08073572238748782",
         "0.25385044975393845",
         "0.31367109608318394",
         "0.06284191657325164",
         "0.08020829712390955",
         "0.08094414862955798",
         "0.10750754561207317",
         "0.037080245162557174",
         "0.35565856563762593",
         "0.12985791105131597",
         "0.15458650075215621",
         "0.211704894612973",
         "0.013981933469148703",
         "0.13384326052673576",
         "0.0926146581612404",
         "0.1690541459460132",
         "0.07017547596518633",
         "0.018152982177192446",
         "0.10899317105634528",
         "0.05250800874923671",
         "0.038558684985937286",
         "0.0591038852835688",
         "0.1346755575013759",
         "0.15931275393900282",
         "0.09417448909224453",
         "0.06408440437340325",
         "0.0804715934715563",
         "0.07005888539421971",
         "0.037865804796515065",
         "0.10750980061279847",
         "0.33643234750670287",
         "0.06583282564850414",
         "0.05060940022794593",
         "0.08470324213734083",
         "0.15885966974791466",
         "0.05164137184353109",
         "0.19514170307727668",
         "0.08146574677715422",
         "0.27504517956316754",
         "0.15760978019878644",
         "0.03841240321720245",
         "0.1680736447373808",
         "0.16791162638956394",
         "0.1679259917895903",
         "0.014478422656343597",
         "0.10711990960422443",
         "0.25821233305489144",
         "0.09097783074479615",
         "0.03424288072916584",
         "0.05298710459070527",
         "0.28956886335147375",
         "0.07065875350656826",
         "0.03595420752138448",
         "0.033809672086535854",
         "0.28739383411948827",
         "0.09206757563450996",
         "0.2090656990989828",
         "0.06808951354791103",
         "0.07616025985924997",
         "0.2309692658059346",
         "0.2971021928764259",
         "0.1058312866338808",
         "0.18153815647692095",
         "0.08453272374501362",
         "0.23389582167662282",
         "0.04467678256998464",
         "0.06055518976220943",
         "0.03468820252049271",
         "0.1800935442992083",
         "0.27497439916935734",
         "0.07581116592122923",
         "0.23866892103931414",
         "0.027689471305202645",
         "0.2387922303342921",
         "0.37264287729562245",
         "0.0806482513544283",
         "0.16346525158784145",
         "0.29234282658207017",
         "0.11203517799594083",
         "0.15401903956055538",
         "0.025910832453939894",
         "0.15643609685511375",
         "0.09383711425107091",
         "0.03420967990229874",
         "0.10252384281809718",
         "0.07637535235762415",
         "0.17448849167536165",
         "0.11919510991145621",
         "0.08160830925477691",
         "0.297214133376105",
         "0.16692948883867162",
         "0.17593922927508626",
         "0.34809479056350995",
         "0.06404972348582713",
         "0.3130398153531314",
         "0.02944517567275772",
         "0.1097588534440354",
         "0.41126926663957974",
         "0.040086860561337825",
         "0.09266908959031626",
         "0.10516509340277161",
         "0.09960624735218762",
         "0.06325599979310244",
         "0.03835754642867778",
         "0.10548473207560102",
         "0.15359682389045834",
         "0.13514013368291192",
         "0.22807932800673822",
         "0.2668154977039338",
         "0.055519675995457776",
         "0.24616852297237238",
         "0.07190375250381668",
         "0.2753782945485687",
         "0.1503878483655128",
         "0.0816505367405006",
         "0.0",
         "0.10198665187142207",
         "0.0",
         "0.09382922102468189",
         "0.12310418016971536",
         "0.08081290162054247",
         "0.14035611386172653",
         "0.10611377912744714",
         "0.013690924897713327",
         "0.09985567636379776",
         "0.10818638709696685",
         "0.06872512081271726",
         "0.0535168828572268",
         "0.18568669236642146",
         "0.0834191997480073",
         "0.06742722905567222",
         "0.3309982756528843",
         "0.17151641445621943",
         "0.08752778422414649",
         "0.1415795349131035",
         "0.49828917995379096",
         "0.07911955107773197",
         "0.06858198203957991",
         "0.03333935348235796",
         "0.15685753200981198",
         "0.10047364768706381",
         "0.021190241762036658",
         "0.07092102295441907",
         "0.06247720882520145",
         "0.06099472416508071",
         "0.14179877387283968",
         "0.0670525428070332",
         "0.09618791910952723",
         "0.3225522921337091",
         "0.09561099462234299",
         "0.08335892139650707",
         "0.09782210062678491",
         "0.07774568650418082",
         "0.2604212261017663",
         "0.04437534143394534",
         "0.34933104277253774",
         "0.22485309200313633",
         "0.3156750289504679",
         "0.08082951584610608",
         "0.0832105704883542",
         "0.09926835174737582",
         "0.34771594612995593",
         "0.038080129929624985",
         "0.13154916058411364",
         "0.016767890053081814",
         "0.3460355655420668",
         "0.05166303154686548",
         "0.08193147462155881",
         "0.030115329622277177",
         "0.030832623429867666",
         "0.05201582560401706",
         "0.075981549578096",
         "0.2378556453421307",
         "0.04127427765911719",
         "0.054824092818679115",
         "0.4445415375888138",
         "0.09563292756014852",
         "0.16491697189145949",
         "0.16082841660345076",
         "0.10988361754095947",
         "0.0829385480647655",
         "0.060359533492572164",
         "0.04375119895413852",
         "0.1661725517534582",
         "0.07021035547466384",
         "0.06392294341279867",
         "0.13835284554389857",
         "0.029199001172884428",
         "0.11029428454035217",
         "0.03947228287379842",
         "0.32858219754511975",
         "0.060472263369359354",
         "0.2072429646991974",
         "0.397437905178095",
         "0.21611709208856933",
         "0.09056479633425865",
         "0.19327483199615203",
         "0.18852574971975491",
         "0.08826288350234515",
         "0.02997585507304342",
         "0.08261093312922776",
         "0.18681272148503883",
         "0.21476757698533946",
         "0.21721560624633898",
         "0.0",
         "0.0793474861861723",
         "0.15328443860445767",
         "0.07838070356193322",
         "0.039143615089025044",
         "0.09961406108646936",
         "0.19734215865750973",
         "0.0",
         "0.05142723979516175",
         "0.07193645422547079",
         "0.02269275271752898",
         "0.16575967692314245",
         "0.31704595047883183",
         "0.04604149741398574",
         "0.0471927125330755",
         "0.046896830540843946",
         "0.34624676978684427",
         "0.13881793940751366",
         "0.07917096208278261",
         "0.06208023927729778",
         "0.22168544421798952",
         "0.1456189432182806",
         "0.17865405238905835",
         "0.02479344134935244",
         "0.15472240016725178",
         "0.04469517534018215",
         "0.06082580372415693",
         "0.013179646782423397",
         "0.03692356244319797",
         "0.47773638631787696",
         "0.12564696356121177",
         "0.29055646123156037",
         "0.0",
         "0.015909677294775944",
         "0.2502596289644336",
         "0.06081055585138893",
         "0.05389844759734773",
         "0.1232579400259042",
         "0.2167109922224734",
         "0.1298714709656946",
         "0.19754067400992958",
         "0.04426854142005509",
         "0.020690337506589176",
         "0.08693000195042408",
         "0.09154477389163533",
         "0.08066942066250389",
         "0.01488531321884155",
         "0.12517674268169018",
         "0.06547298870886382",
         "0.0",
         "0.13799376489259685",
         "0.05243225050930764",
         "0.07969699024768014",
         "0.41844961324700275",
         "0.04242912300925774",
         "0.10630255142718045",
         "0.026338345615363006",
         "0.0746706427010053",
         "0.47202888439719154",
         "0.0598087588556432",
         "0.041444805331332255",
         "0.17694588304801426",
         "0.1066066028899267",
         "0.06008886402341736",
         "0.021859200022856497",
         "0.052393454906134604",
         "0.27620401842445097",
         "0.04523348436219431",
         "0.27392198841388143",
         "0.08862183803493268",
         "0.21676568518979833",
         "0.1684402098836254",
         "0.09523802045999787",
         "0.21724338138719543",
         "0.059400225721286615",
         "0.12122438519089884",
         "0.1283594867830128",
         "0.2669562294221408",
         "0.044905286581170045",
         "0.14064033160253273",
         "0.03012154088966761",
         "0.00942027613603861",
         "0.11110629332201777",
         "0.0626869550701036",
         "0.033467696955678146",
         "0.029493186619817032",
         "0.20946925201031472",
         "0.08729794844175989",
         "0.25801524897730915",
         "0.05375779647437803",
         "0.042390788093067316",
         "0.05214573333443586",
         "0.04986613850970506",
         "0.12831104009822125",
         "0.193853709443855",
         "0.09554340979402823",
         "0.08770850902522742",
         "0.1647889416518081",
         "0.3826559204950895",
         "0.1611146443056534",
         "0.03952000466174777",
         "0.052459551865236986",
         "0.10893238224043253",
         "0.0718691892236528",
         "0.051714099525674476",
         "0.2100657960838454",
         "0.07756623938886084",
         "0.08766469304542104",
         "0.08898061429556556",
         "0.06324638485097676",
         "0.30636741181292626",
         "0.1462238236536403",
         "0.006727060876837034",
         "0.047705341891596",
         "0.07880243737245633",
         "0.4233048521283668",
         "0.08613869726529111",
         "0.18377867582223145",
         "0.2328845712299929",
         "0.15356818092801988",
         "0.05775842917177995",
         "0.13249439390907994",
         "0.05065436638539734",
         "0.07940736440673728",
         "0.136351281974041",
         "0.4139012596713759",
         "0.021709014165170286",
         "0.25157129645533305",
         "0.09396903499325149",
         "0.2879296106659952",
         "0.21681860916063114",
         "0.14493002380720893",
         "0.007639005547689747",
         "0.06847508958960338",
         "0.1165696459522514",
         "0.06473782811664992",
         "0.041397465711785",
         "0.36043622211372084",
         "0.14359163172354766",
         "0.2236007954273692",
         "0.07117009262508633",
         "0.18160485877925472",
         "0.09549877951534336",
         "0.13868893072298305",
         "0.12770904633370309",
         "0.13662569482605152",
         "0.13577740393367993",
         "0.05482353974666688",
         "0.1727906004469966",
         "0.07914623537543634",
         "0.1546142716139184",
         "0.05415535610078006",
         "0.23027340302180402",
         "0.09106323606953784",
         "0.02579194091567888",
         "0.30287723074596223",
         "0.10069213370928501",
         "0.0555022946164476",
         "0.05021209916646518",
         "0.26601848076033796",
         "0.018952791480307308",
         "0.046675094875301144",
         "0.19096670279427744",
         "0.24856096767955818",
         "0.12465484040730516",
         "0.03988782061761284",
         "0.46182513080588045",
         "0.23666275479781854",
         "0.07122825110288006",
         "0.06406495833915994",
         "0.05850266296013895",
         "0.25878462174789285",
         "0.18111869273379438",
         "0.006781040351882611",
         "0.15215992846692872",
         "0.06571643950902396",
         "0.045432908438487185",
         "0.18394359644926112",
         "0.09538001844448414",
         "0.019309301556527648",
         "0.06932834212389984",
         "0.09038915654881957",
         "0.30154242661944997",
         "0.029572666622706648",
         "0.10558069907707636",
         "0.2395148478349874",
         "0.08197967826542565",
         "0.04540766091864999",
         "0.029371774158159853",
         "0.10502469858201187",
         "0.1183384402056106",
         "0.0687055327263292",
         "0.3173470266626506",
         "0.061609990582002255",
         "0.4624965659481441",
         "0.1048484556507578",
         "0.07578512990549793",
         "0.2816010700860995",
         "0.05469046722823799",
         "0.10615478446922424",
         "0.1791032277072745",
         "0.16946281138098743",
         "0.06570897300448256",
         "0.08608688223701512",
         "0.04004579280263153",
         "0.012352047662087352",
         "0.047045393838094474",
         "0.0",
         "0.04766431452319249",
         "0.04011549832588549",
         "0.11149114135421281",
         "0.015651611766950322",
         "0.20130785337385496",
         "0.04676218532888715",
         "0.45113207595241955",
         "0.09123671412052271",
         "0.034830302128058606",
         "0.38394020026900383",
         "0.04989917550976263",
         "0.023225026810577584",
         "0.01060494482460404",
         "0.12348534483387923",
         "0.0670086589885002",
         "0.15800054363984284",
         "0.3639415035351942",
         "0.4326106853586909",
         "0.4750902181706513",
         "0.06915674157215845",
         "0.04757112906842614",
         "0.33488205216350353",
         "0.1188682198303487",
         "0.058092411538987455",
         "0.06514639752768199",
         "0.28704551465184275",
         "0.0",
         "0.05798089703697083",
         "0.026635609894351493",
         "0.026556407786531924",
         "0.12025822814930952",
         "0.20159368771730396",
         "0.04346843290061072",
         "0.14303413189374745",
         "0.06768974434224127",
         "0.3610937338258171",
         "0.19264838972038067",
         "0.2880839972744331",
         "0.07913676870552515",
         "0.1073015218447124",
         "0.07128841857899176",
         "0.05193273872770661",
         "0.31205641725793265",
         "0.3820604449221859",
         "0.32830541159681814",
         "0.15200987862448684",
         "0.21396781510573323",
         "0.12735348164072863",
         "0.0201191819229121",
         "0.046346980085714334",
         "0.42063641400721224",
         "0.18723324034434904",
         "0.2931792291564221",
         "0.32675730596389074",
         "0.2906090298793599",
         "0.05736558235571551",
         "0.038832000927656894",
         "0.03897682215301696",
         "0.2209828585334156",
         "0.10204593100575521",
         "0.09519384103971558",
         "0.3187609073716072",
         "0.20937344895576981",
         "0.08737263884210515",
         "0.031501165318568176",
         "0.2666807135021664",
         "0.32355469039611895",
         "0.13442601825409078",
         "0.24930492232473872",
         "0.05536255500745689",
         "0.1316937826732864",
         "0.09727886828584692",
         "0.09687258733021822",
         "0.11558958100313772",
         "0.03156808218677404",
         "0.2808654002781223",
         "0.27639282671416887",
         "0.05457700520312518",
         "0.08959860227270673",
         "0.10851304690692884",
         "0.05983858191363839",
         "0.04629880823554539",
         "0.04196505279455501",
         "0.01939719141242735",
         "0.0823328826954436",
         "0.26496237642062126",
         "0.07282725312472553",
         "0.3363786795298461",
         "0.1262096784525059",
         "0.0",
         "0.26466588066608554",
         "0.1682448597800697",
         "0.180291432878407",
         "0.025781333495565155",
         "0.19972428064078845",
         "0.035244624256126664",
         "0.059774525368542025",
         "0.4897053648674707",
         "0.09556884742639321",
         "0.1201719056045861",
         "0.2925183931127722",
         "0.09272782402394142",
         "0.0563032501319736",
         "0.050537516480320545",
         "0.1166661621030512",
         "0.21089518747652622",
         "0.16318317156474546",
         "0.3259251764749241",
         "0.11394076619836316",
         "0.1354212918315911",
         "0.07899077344621552",
         "0.1105402110096868",
         "0.06369025668333045",
         "0.062261436216282454",
         "0.17172569778044539",
         "0.03844566982493565",
         "0.03717602166154101",
         "0.12467025407948303",
         "0.06559623832410721",
         "0.062349756986951076",
         "0.06448164054843909",
         "0.05016987220872897",
         "0.0",
         "0.08615439059005803",
         "0.06115664536535977",
         "0.028302096699608804",
         "0.05673386561986632",
         "0.07531868644047031",
         "0.28331852421006265",
         "0.12604765600759282",
         "0.10386142505223399",
         "0.029430934168771315",
         "0.281880068275482",
         "0.04042393072707649",
         "0.07069071774350122",
         "0.03975785118641463",
         "0.20250700942272853",
         "0.09685933339382913",
         "0.06540457192125329",
         "0.22401099174233222",
         "0.06413764204298711",
         "0.1385671922474861",
         "0.08451766873104702",
         "0.0725985007051952",
         "0.04904587935583316",
         "0.009357557222069154",
         "0.03501382921471907",
         "0.08977797670655158",
         "0.0",
         "0.3641786022791744",
         "0.047031750431480876",
         "0.04607898270915298",
         "0.006348393857969192",
         "0.26993343242155715",
         "0.4414858931092058",
         "0.09630795268911793",
         "0.056081916533605475",
         "0.166920988679577",
         "0.07043225295127645",
         "0.18770868741985813",
         "0.29090238219100606",
         "0.053647728981037535",
         "0.07244556499562375",
         "0.037307163776939066",
         "0.02346230239942756",
         "0.18093031584289476",
         "0.0",
         "0.03689548385211748",
         "0.033885056064372754",
         "0.04345252815964608",
         "0.16714005165170875",
         "0.07128841857899176",
         "0.12627811974346603",
         "0.0267584414286134",
         "0.16453873957539078",
         "0.10289899476119108",
         "0.13675657294965293",
         "0.02699034966290756"
        ],
        [
         "4",
         "0.06456101298651447",
         "0.1796940363244407",
         "0.34978136874675214",
         "0.9999999999999997",
         "0.031804249550983286",
         "0.06843134907647029",
         "0.09150706403921804",
         "0.1880603141453584",
         "0.10128355573642733",
         "0.060859232686363146",
         "0.10418203221741007",
         "0.07532435771547094",
         "0.12061542119255189",
         "0.07066971329018173",
         "0.1490405802240453",
         "0.08495121152970198",
         "0.05389484863297648",
         "0.03558204002657617",
         "0.15867779654133962",
         "0.08656450997395762",
         "0.19011665772171882",
         "0.08230354986052388",
         "0.061922336171614634",
         "0.1754697320086663",
         "0.08411227096571525",
         "0.15132175846362672",
         "0.07429535723047834",
         "0.15234218263680543",
         "0.14346502403739766",
         "0.14451644182572768",
         "0.0705626466818435",
         "0.13501558624473653",
         "0.3475620285511559",
         "0.15210559463978576",
         "0.2036695267675363",
         "0.06704238100682157",
         "0.111554722273319",
         "0.0653068934249679",
         "0.22818105490221677",
         "0.23868919425435015",
         "0.06806538064488223",
         "0.0703935218414831",
         "0.160520413983253",
         "0.12006296325539942",
         "0.066282065093144",
         "0.17914398884155297",
         "0.25359152624053233",
         "0.0929363178975906",
         "0.08508375732818965",
         "0.14171199213517263",
         "0.09481570749185762",
         "0.05269447124470114",
         "0.08887352935921466",
         "0.1688379441088841",
         "0.05603977994678653",
         "0.10407836920720041",
         "0.14254551707661361",
         "0.08064826030238761",
         "0.06486669008512264",
         "0.056466784168938175",
         "0.28063006121707545",
         "0.09039992810801475",
         "0.1587291575561114",
         "0.1025593960946532",
         "0.12650685459259317",
         "0.21909994317169085",
         "0.0",
         "0.15279169655112057",
         "0.13069169704348677",
         "0.08151349667993325",
         "0.06669147264395035",
         "0.053756230644383826",
         "0.05849241087353063",
         "0.2550225863134666",
         "0.08050801823274689",
         "0.09691173478369894",
         "0.05930269787373995",
         "0.170294092487814",
         "0.14044410330685617",
         "0.08585852394412116",
         "0.04187200188731074",
         "0.09622886949260658",
         "0.08444996211401475",
         "0.0782178529597984",
         "0.09679486877134211",
         "0.2027171056522171",
         "0.05703416584197353",
         "0.14688861803176576",
         "0.06362435501534679",
         "0.08747302334238934",
         "0.16104648042403866",
         "0.09018497015331373",
         "0.0",
         "0.08700946733147345",
         "0.0715160369479305",
         "0.0352697374771193",
         "0.0606835045547051",
         "0.027921326164187327",
         "0.20043436586915053",
         "0.21691601046849082",
         "0.06712400494644269",
         "0.1765997334657954",
         "0.18336377711267435",
         "0.1984643470285644",
         "0.2573212647817461",
         "0.01806340090665638",
         "0.20895663667087505",
         "0.08678443591279017",
         "0.12069218923995675",
         "0.13528380849730876",
         "0.22398441839963384",
         "0.20695812277058828",
         "0.31512241909843713",
         "0.044785179116989184",
         "0.07146856415459761",
         "0.21982848634868984",
         "0.13876054842423957",
         "0.09274715585334947",
         "0.17179899189756984",
         "0.10985744057702279",
         "0.1227788785351398",
         "0.023052027074801792",
         "0.05015821854024376",
         "0.0905327172301114",
         "0.11350629878677647",
         "0.22176259438915608",
         "0.2849000728088359",
         "0.08320636149217749",
         "0.17494252868251406",
         "0.16013451837024253",
         "0.03955319923169081",
         "0.03849825713779842",
         "0.23633211151073297",
         "0.18745393950141365",
         "0.17748320838562315",
         "0.07971659460060135",
         "0.14848407609845915",
         "0.023894440531781976",
         "0.09981313661763586",
         "0.23457312275315545",
         "0.13814072457429966",
         "0.09664633369427181",
         "0.19988176173959174",
         "0.1328224896858817",
         "0.18349195673149699",
         "0.19333410592775266",
         "0.10849832712943042",
         "0.06136921563685456",
         "0.20144517452015745",
         "0.1284281679626441",
         "0.0898900952628321",
         "0.05054529234628938",
         "0.17503798979747345",
         "0.12413836774544991",
         "0.22420070795340613",
         "0.04772777348940336",
         "0.05683061397619492",
         "0.06152577702419895",
         "0.09824589287224453",
         "0.06768850562047711",
         "0.03479083056285025",
         "0.12031465681578316",
         "0.2197749939181678",
         "0.11663550524836559",
         "0.11218153318494997",
         "0.2352468566654155",
         "0.01814084349500936",
         "0.10609108892332177",
         "0.18354431655026146",
         "0.2339184769081697",
         "0.20435045318411832",
         "0.0",
         "0.3542554827199525",
         "0.05699289379371969",
         "0.08633753908060264",
         "0.20765338185732032",
         "0.1985073062167867",
         "0.1372594674782511",
         "0.24696451594042687",
         "0.04767781648651226",
         "0.16651192158618472",
         "0.054974937141692805",
         "0.11004880326789027",
         "0.07288508142726816",
         "0.06490906929061936",
         "0.12475140843808044",
         "0.047295690556659956",
         "0.1411265393908373",
         "0.05335294107291294",
         "0.18895611021592085",
         "0.14588459569010698",
         "0.1378585979464249",
         "0.15555515588197463",
         "0.05560056340147434",
         "0.1045638361021547",
         "0.0",
         "0.1982324495239476",
         "0.11238784534554411",
         "0.06567209043238711",
         "0.11419580171470853",
         "0.11195115291426552",
         "0.06728250340783785",
         "0.16142795727288323",
         "0.16128113781797526",
         "0.1748222928704389",
         "0.19196833810704583",
         "0.07479964890969378",
         "0.0",
         "0.13670351376231155",
         "0.11633063689941033",
         "0.07409839232728024",
         "0.0",
         "0.10659273000681385",
         "0.13517114067846492",
         "0.1666044650576678",
         "0.07894716555469983",
         "0.09405996304668857",
         "0.030878374312398142",
         "0.09741720350174829",
         "0.32705951202651073",
         "0.08043075203301045",
         "0.14067992125822992",
         "0.11349011403146099",
         "0.1474908003706858",
         "0.0",
         "0.041720009669965086",
         "0.10582930585399411",
         "0.06101970382851057",
         "0.1363760347485657",
         "0.10103941305813827",
         "0.1067027145615916",
         "0.05524753332678803",
         "0.03485011829217065",
         "0.08936242096915409",
         "0.070251639321616",
         "0.05196861022246976",
         "0.02535883795470569",
         "0.1647974285404899",
         "0.0416112219758834",
         "0.1518396328996613",
         "0.14770756969420812",
         "0.10288839207762503",
         "0.0",
         "0.0946497048560602",
         "0.19662988087673122",
         "0.10903122737261384",
         "0.15305070644615687",
         "0.145874199855689",
         "0.13952552322319017",
         "0.15082334595772148",
         "0.13877923522991442",
         "0.0449614199831983",
         "0.09614735572654175",
         "0.08178492121293678",
         "0.20179994114013963",
         "0.07506416917387254",
         "0.13555822093686998",
         "0.16440283105250375",
         "0.12239196532953345",
         "0.1506207569437143",
         "0.22387095235803295",
         "0.0924479108194177",
         "0.11771430095229456",
         "0.04857850211632826",
         "0.21481547509654833",
         "0.0",
         "0.0563303728631904",
         "0.1278596595280188",
         "0.0387796196724824",
         "0.09188010537009528",
         "0.0936923397238823",
         "0.12709332578671279",
         "0.07697427329158155",
         "0.13907456202180235",
         "0.1297900433575638",
         "0.16980500302835663",
         "0.061063336085661495",
         "0.1435890039978693",
         "0.043900804960589276",
         "0.07422638502863509",
         "0.25439055910555947",
         "0.32177443612855683",
         "0.10225043682219596",
         "0.206978421429879",
         "0.14186792973823087",
         "0.12330173507632093",
         "0.15319353662503604",
         "0.14295281741425617",
         "0.0",
         "0.06937002002371168",
         "0.08286677253912707",
         "0.10112153729297538",
         "0.11200753728092985",
         "0.24045202174593744",
         "0.05271708591989388",
         "0.1313471390337336",
         "0.15172053202202032",
         "0.08360133615339285",
         "0.09789322394434816",
         "0.174919037700964",
         "0.12546168208869765",
         "0.3215653204547234",
         "0.11491105657377976",
         "0.20948653981624266",
         "0.09379361686841506",
         "0.05214787911900673",
         "0.06208555447791929",
         "0.07182764191323215",
         "0.18383305705215688",
         "0.11047810902202204",
         "0.10519749100419343",
         "0.03105672157273167",
         "0.07944673945236772",
         "0.074467916712083",
         "0.10689196665400293",
         "0.03063164821455785",
         "0.2915300994622188",
         "0.08187334649965342",
         "0.07018317209275637",
         "0.1120541596920964",
         "0.038999107634795124",
         "0.09099791781452195",
         "0.18807650804038484",
         "0.2464842527893314",
         "0.06380531996604977",
         "0.032406829388020156",
         "0.14017864535662494",
         "0.1383235705407556",
         "0.17352883106244366",
         "0.06012602092286308",
         "0.011628570300570499",
         "0.20370516331942504",
         "0.07992617578304659",
         "0.11923900586400832",
         "0.2312908141917514",
         "0.08401889692499628",
         "0.048300725250494704",
         "0.032409641482328604",
         "0.07257931793692662",
         "0.03219656115626259",
         "0.08655858669120098",
         "0.11702559942970177",
         "0.11010460823549244",
         "0.12367908608762343",
         "0.13273544458681474",
         "0.10387030925942636",
         "0.16109380185474176",
         "0.061230546844725425",
         "0.02561379190194522",
         "0.12466421133356217",
         "0.2186666138415907",
         "0.06175187243290001",
         "0.21715068151683686",
         "0.05665697299993931",
         "0.341621908004679",
         "0.18315365128038957",
         "0.050068107657276796",
         "0.10139504904848057",
         "0.05631894932059861",
         "0.12052667669208464",
         "0.043048347439629264",
         "0.21326110080593297",
         "0.11453596619514572",
         "0.1170616588467688",
         "0.14562890017805538",
         "0.02840659420220306",
         "0.13017665386918525",
         "0.09608266665528352",
         "0.1216425304835325",
         "0.047524334959063774",
         "0.07990832350746231",
         "0.07424670049132909",
         "0.053339321782515624",
         "0.061103875042081424",
         "0.11084238464830354",
         "0.1525070077244325",
         "0.21378205340166528",
         "0.09634394930919615",
         "0.07554698333456636",
         "0.08392551274868168",
         "0.06704238100682156",
         "0.05420110555590645",
         "0.024542001921330825",
         "0.24276658478479463",
         "0.01888238082808262",
         "0.0514106542655318",
         "0.09717068866335561",
         "0.17812119174507524",
         "0.04808738383015328",
         "0.15899794945187926",
         "0.14079186237528193",
         "0.1465530646266457",
         "0.1270675214010837",
         "0.07518594348694906",
         "0.14353794364431255",
         "0.1382514924957592",
         "0.1125626377976095",
         "0.03768834483300283",
         "0.08671262627764596",
         "0.28103612291938146",
         "0.07889358756036793",
         "0.05565602893672347",
         "0.10260581769695273",
         "0.2515518320562839",
         "0.09420787856475656",
         "0.05884331807758553",
         "0.07212439674745241",
         "0.33527930824116176",
         "0.09352520043100297",
         "0.17425694530243796",
         "0.09431933838611666",
         "0.0515773587615698",
         "0.2608901029930426",
         "0.34524771563825285",
         "0.07679058581304066",
         "0.15672432589784321",
         "0.10232967491310323",
         "0.26294276951485945",
         "0.08509520756235604",
         "0.048849278867005935",
         "0.04845141161339934",
         "0.1764110635943558",
         "0.10670950676358382",
         "0.12321826769220717",
         "0.21984651242168562",
         "0.02343987858736893",
         "0.18327723973561932",
         "0.18461708946294106",
         "0.10256762491565541",
         "0.18641827445195758",
         "0.2795023368916259",
         "0.15933250514367064",
         "0.1535421303886019",
         "0.035094741109276066",
         "0.14595425626478303",
         "0.1062451535569928",
         "0.046083234538437184",
         "0.12536214465065598",
         "0.10418494835725181",
         "0.20704110062891573",
         "0.12396513107888142",
         "0.060398820383777405",
         "0.23539499137405928",
         "0.20778582058534265",
         "0.07359253178828454",
         "0.23130609452831824",
         "0.13642402615095842",
         "0.19616630127179907",
         "0.016315284650481637",
         "0.11400775263147216",
         "0.3792398911859787",
         "0.048688774511685004",
         "0.14954213748782305",
         "0.10586764650669789",
         "0.0936881715694679",
         "0.07922154612034708",
         "0.093381224912197",
         "0.034537490715655726",
         "0.186034084566725",
         "0.13249086199880503",
         "0.2106275518428014",
         "0.16415083593959467",
         "0.10638840042045777",
         "0.23932686622799476",
         "0.11102405471023186",
         "0.23815542344464957",
         "0.1341384643749342",
         "0.09425367924945321",
         "0.0",
         "0.1687698868194378",
         "0.03356200247322134",
         "0.14067140406665368",
         "0.06947398898713159",
         "0.08699337636922458",
         "0.17486011612520036",
         "0.11498003742564894",
         "0.034769203118467214",
         "0.13843112920447603",
         "0.14322929414950647",
         "0.062056164525358344",
         "0.04832370533800284",
         "0.24626238301925563",
         "0.1073372097445461",
         "0.09988816972965253",
         "0.1485054168589843",
         "0.18624787461962852",
         "0.14130901019327452",
         "0.1567005349554118",
         "0.3076093993787046",
         "0.07032565855963999",
         "0.05971524010956633",
         "0.0",
         "0.1966549317928385",
         "0.18572366859134565",
         "0.0738024966423108",
         "0.06831744682584383",
         "0.11357137285429693",
         "0.0752376284319993",
         "0.15204617940360143",
         "0.09376749899938677",
         "0.0722210095847439",
         "0.2532966570199867",
         "0.06737480524498507",
         "0.10192802839601492",
         "0.14532984142952232",
         "0.10607636732050263",
         "0.18986429131253557",
         "0.07137333709400362",
         "0.36053948044118833",
         "0.2255578304608472",
         "0.2266409500036991",
         "0.1368486972412905",
         "0.13346521599003872",
         "0.11428531076509778",
         "0.29744928530787434",
         "0.08945448160209762",
         "0.19182638330136983",
         "0.038325062881543644",
         "0.11972967360238843",
         "0.09184169190119024",
         "0.13270018286327032",
         "0.030592119099022538",
         "0.08874217936430101",
         "0.035467506444216895",
         "0.06615814157039654",
         "0.18202145781567922",
         "0.08285719440343",
         "0.12940217280118887",
         "0.3339411961232533",
         "0.0902079280439508",
         "0.15356729390303028",
         "0.09260102821280038",
         "0.13265378635417885",
         "0.07557867796674134",
         "0.0962415056583576",
         "0.047164926591499304",
         "0.10266003626598094",
         "0.10972605256094067",
         "0.1525216949730715",
         "0.12355451800703357",
         "0.06355989263302511",
         "0.0721052573194126",
         "0.06561362085737264",
         "0.2614644074508734",
         "0.0795564545379797",
         "0.14973894404181284",
         "0.22090897151177613",
         "0.1457199995738901",
         "0.15978709238739222",
         "0.28317516649088226",
         "0.14019070144037504",
         "0.17291623878182377",
         "0.021750311694395418",
         "0.08864666116688263",
         "0.17565521174409926",
         "0.11306506567527605",
         "0.14931513577420646",
         "0.0",
         "0.052321716237921576",
         "0.17345051306723833",
         "0.05741944916362628",
         "0.041183460791621586",
         "0.15501624929965782",
         "0.13668170670045438",
         "0.0",
         "0.07209318991300787",
         "0.04019144839376056",
         "0.036018792304377795",
         "0.18216087686305815",
         "0.3751896591644728",
         "0.04677043187148371",
         "0.1198496829128025",
         "0.06805615247719013",
         "0.190519652800514",
         "0.09139907876161799",
         "0.12063660924181224",
         "0.059607588617974806",
         "0.18876656010438753",
         "0.20022090454846253",
         "0.2685941363685399",
         "0.041976623431064126",
         "0.1742558948499005",
         "0.07896138202894581",
         "0.1029813417929351",
         "0.0",
         "0.0833514237130826",
         "0.2582330091909502",
         "0.13938188574629115",
         "0.2575570205976185",
         "0.0",
         "0.059259057718746566",
         "0.1533784545434794",
         "0.09609182457289286",
         "0.08082404766352097",
         "0.12098883366798949",
         "0.30931342392903893",
         "0.17715993547610165",
         "0.1378082554410693",
         "0.06662134255941132",
         "0.06830820551205491",
         "0.13925222349488597",
         "0.16163263997389837",
         "0.16560039762447387",
         "0.030241958532653913",
         "0.13580039933905733",
         "0.08276745847415493",
         "0.0",
         "0.12335707874526365",
         "0.09764766757007301",
         "0.09056403936931917",
         "0.18217481024665494",
         "0.0507069010893815",
         "0.14633555306079304",
         "0.062429120675942924",
         "0.09962760705325176",
         "0.29992760947946806",
         "0.03797228639503026",
         "0.062236208263611814",
         "0.14825873121192137",
         "0.13508890480927788",
         "0.07630024757264947",
         "0.05551319368707086",
         "0.113542302526632",
         "0.19932877235561952",
         "0.1225323366961384",
         "0.2782587538806055",
         "0.11376774278021297",
         "0.25192092043925307",
         "0.20012511730970395",
         "0.15784847597819146",
         "0.15032017112202156",
         "0.12962067092033264",
         "0.1070814122265801",
         "0.09864414765486723",
         "0.192682453380301",
         "0.057020290517204385",
         "0.11002398534323161",
         "0.04895748592629807",
         "0.050239450102266686",
         "0.08310993318256037",
         "0.11497673487254906",
         "0.07071492794154638",
         "0.08101893297025964",
         "0.170580187002834",
         "0.09589820434705093",
         "0.18792088166229595",
         "0.09985626751161678",
         "0.058441182689277366",
         "0.0481557370730034",
         "0.09166255977615992",
         "0.113341283243814",
         "0.16410235367048298",
         "0.11292099801538469",
         "0.1267159047982051",
         "0.12835810687966398",
         "0.18753754032595168",
         "0.1611856512472466",
         "0.028675492907956016",
         "0.08165418199548781",
         "0.11736349827460105",
         "0.11576829164419493",
         "0.03752345949556949",
         "0.17111589180898598",
         "0.050984532375072625",
         "0.10642873007804952",
         "0.11318320606333998",
         "0.056010823344610876",
         "0.28713552289927186",
         "0.1349173894039338",
         "0.0",
         "0.1266584348009931",
         "0.08755473882299547",
         "0.2587822915114932",
         "0.12744922845184856",
         "0.08029603511982328",
         "0.19850262991419326",
         "0.1371424093316394",
         "0.09778811247503244",
         "0.1330450257131146",
         "0.08269767696299568",
         "0.11960605872752719",
         "0.13077595010550896",
         "0.2283365470819847",
         "0.03997054386544791",
         "0.15617201301249933",
         "0.09545676392023478",
         "0.19686702166420705",
         "0.13524203070138519",
         "0.21032081880577996",
         "0.056906279401784304",
         "0.07519913010149444",
         "0.10119116273727663",
         "0.1111163962089309",
         "0.07797303963282527",
         "0.22010890107278022",
         "0.0416757118565413",
         "0.1981688200699659",
         "0.14861022453013034",
         "0.14100385871151977",
         "0.0673685607912206",
         "0.13707697655925977",
         "0.1527942313297841",
         "0.1826168013944428",
         "0.08325326316206182",
         "0.06682981505018146",
         "0.18771556410814555",
         "0.020721465973632287",
         "0.14004707762663005",
         "0.09733025023541184",
         "0.2050077671245069",
         "0.06141085582667116",
         "0.0514648396207317",
         "0.06806911925876483",
         "0.17047717255658057",
         "0.057387817352546076",
         "0.08734086144938388",
         "0.23287111461084647",
         "0.048132135817268426",
         "0.07789452800221566",
         "0.04171830329520538",
         "0.22724659300746253",
         "0.07674447918275791",
         "0.11576951237976843",
         "0.33057318899510724",
         "0.2545513704539594",
         "0.07235594523735527",
         "0.0931999026554676",
         "0.0",
         "0.2985817187368491",
         "0.22388680391664756",
         "0.027553594353703033",
         "0.15980856770398505",
         "0.0945722324822308",
         "0.07692034607169218",
         "0.20334309096977934",
         "0.1282368788326508",
         "0.11180554966417594",
         "0.09658416915247726",
         "0.19761305724081873",
         "0.2567223850362944",
         "0.0876191884002344",
         "0.14965432360392486",
         "0.22459096187443162",
         "0.06752237049095156",
         "0.062093446694251875",
         "0.05967358315290291",
         "0.09833241987676447",
         "0.13421726865930445",
         "0.12196200637257695",
         "0.39676467999322235",
         "0.0760653411473223",
         "0.28378320797232354",
         "0.15330758699291208",
         "0.0543423311199555",
         "0.24806714607167113",
         "0.0886255791579103",
         "0.13272054108278902",
         "0.13736990785210135",
         "0.2054011989577775",
         "0.12724082505037643",
         "0.1463445967096595",
         "0.0",
         "0.07946817607248574",
         "0.0676056800482274",
         "0.022724925232278367",
         "0.046401485713396654",
         "0.03395884305143383",
         "0.16821888996251358",
         "0.03974852486024367",
         "0.20583593393663138",
         "0.09081365991765805",
         "0.3068275304829773",
         "0.13225292636616298",
         "0.06683217481837309",
         "0.2098346691033121",
         "0.03090803974708815",
         "0.0653337088464016",
         "0.035909478570327065",
         "0.19386240465902588",
         "0.13923316644395714",
         "0.17833558557738827",
         "0.22923703777145485",
         "0.3182295314390444",
         "0.2308966751381889",
         "0.1803125409254811",
         "0.05584139118829097",
         "0.2841096680196762",
         "0.12243896897525593",
         "0.10959396964424417",
         "0.0824824791434979",
         "0.30092093505229117",
         "0.0",
         "0.11433307630001138",
         "0.04227704380456247",
         "0.030348958488658852",
         "0.10201840851503434",
         "0.20478534293368253",
         "0.05714387449942886",
         "0.10378476090324956",
         "0.12606259676496362",
         "0.3409180988839619",
         "0.1793902200896966",
         "0.14396244853414716",
         "0.08511847563212391",
         "0.07763333019047244",
         "0.10448747992145513",
         "0.07710337971810925",
         "0.24680475383646455",
         "0.14061930118871932",
         "0.20869524264943737",
         "0.22568567881505783",
         "0.23407502351386733",
         "0.13218214311739615",
         "0.051094278003961616",
         "0.06190246888264572",
         "0.3005158538492242",
         "0.30077750393288366",
         "0.28142706777342963",
         "0.15856555722406857",
         "0.2613838422748508",
         "0.052976182792260754",
         "0.016905768762935987",
         "0.05031725787033014",
         "0.10101666843264928",
         "0.06504253133180751",
         "0.1494469401005809",
         "0.2658907671627099",
         "0.10840241076024568",
         "0.03962318430422765",
         "0.06742835125472271",
         "0.23012176242241858",
         "0.2774156577632436",
         "0.08619988101027676",
         "0.14897173380956027",
         "0.10058139855254201",
         "0.15956745366860658",
         "0.10705391546067597",
         "0.12357998662117457",
         "0.11200024241493896",
         "0.07899646471433466",
         "0.15394537482003523",
         "0.21057653308982757",
         "0.11653940220227235",
         "0.12230427917350294",
         "0.012526254358929808",
         "0.08380199407978886",
         "0.12581010905335194",
         "0.07247006244403925",
         "0.039408580103108604",
         "0.12545458001504056",
         "0.13633784411139815",
         "0.09617434170395567",
         "0.26880735651089366",
         "0.1645722520448358",
         "0.0",
         "0.22362797297038187",
         "0.19020465701489003",
         "0.042264421907339964",
         "0.05799105039652089",
         "0.1154637702663025",
         "0.059671035558257354",
         "0.12144176551262395",
         "0.3425769193124659",
         "0.11554114018865608",
         "0.10966012744231922",
         "0.08950288526151468",
         "0.11585013228503499",
         "0.06311133779614586",
         "0.10053619687316817",
         "0.11615866706751267",
         "0.2166144840882794",
         "0.17514972807236925",
         "0.2819141839907698",
         "0.04061217191113522",
         "0.15132182759540683",
         "0.07552128447692966",
         "0.090093377636452",
         "0.04043663024657837",
         "0.1129413690572807",
         "0.16222657814823524",
         "0.061022415996159915",
         "0.10951733087535613",
         "0.047578979492417704",
         "0.0540281884565667",
         "0.07785158873152445",
         "0.07222072888076016",
         "0.07304864020730503",
         "0.0",
         "0.11572680613335502",
         "0.10950827123183385",
         "0.03194464317475827",
         "0.07858920398347906",
         "0.1768257477034349",
         "0.1309288912806277",
         "0.2054027255310638",
         "0.10854190878260386",
         "0.06892893671879287",
         "0.2586322308460416",
         "0.07780533574989558",
         "0.06933369808299925",
         "0.04867187702260131",
         "0.20389265432892725",
         "0.10038055564362364",
         "0.0734337559144539",
         "0.1712099739998567",
         "0.027922747205293887",
         "0.11524292766005495",
         "0.10657956724684023",
         "0.08194209866020115",
         "0.15124650933364697",
         "0.029705334936971948",
         "0.03233470210820841",
         "0.10748495092591634",
         "0.0",
         "0.13629527622439144",
         "0.055241419363098086",
         "0.04468085106382978",
         "0.0",
         "0.18338688097178615",
         "0.17123611917652856",
         "0.10037382103218147",
         "0.13254201182347042",
         "0.09434371367503977",
         "0.08214695137783692",
         "0.1680999265176178",
         "0.23218484399749734",
         "0.1275231817090358",
         "0.054318297272305256",
         "0.04823358301557322",
         "0.07333464725753404",
         "0.14018249448353176",
         "0.023274481580760023",
         "0.07144552092841276",
         "0.054615491566240904",
         "0.03678372812358323",
         "0.133618751263316",
         "0.19656060579283632",
         "0.1460583915147396",
         "0.03020231583625178",
         "0.19685817848565854",
         "0.1520408783596179",
         "0.1715381229140533",
         "0.05875213732637224"
        ],
        [
         "5",
         "0.3796700934496271",
         "0.07362338196501553",
         "0.021592116257509477",
         "0.031804249550983286",
         "1.0",
         "0.23863583142628986",
         "0.3747328775136359",
         "0.24892997136220305",
         "0.05684699579437819",
         "0.2014270140016277",
         "0.321709970278172",
         "0.13066376101567842",
         "0.34610373449424825",
         "0.24474105255902404",
         "0.0967670499922424",
         "0.28755590313924717",
         "0.08472900539058659",
         "0.28949532891931545",
         "0.11684311687282915",
         "0.2407378717043824",
         "0.17686953997611354",
         "0.4551896331353844",
         "0.4092679955558961",
         "0.13763453934425193",
         "0.3297646913159396",
         "0.1522471216050667",
         "0.08084585889199089",
         "0.3246146788183309",
         "0.05219914297051302",
         "0.16481075619396277",
         "0.04128644040511836",
         "0.16901287926905054",
         "0.0",
         "0.002488969913860419",
         "0.009401291406995377",
         "0.0",
         "0.24333620606938997",
         "0.2548718477386644",
         "0.0",
         "0.0052916951110398005",
         "0.2318978511104781",
         "0.3478748910289824",
         "0.3060131022008203",
         "0.43524947925584156",
         "0.18559889095353674",
         "0.07387155474585927",
         "0.0",
         "0.20883087284818266",
         "0.29438519938434327",
         "0.01304378370843587",
         "0.15454303616877907",
         "0.1152518729632121",
         "0.20499840378452147",
         "0.1335944034762159",
         "0.20364349913676316",
         "0.4513748110614926",
         "0.2330925567883155",
         "0.2895565460459452",
         "0.34211596836104363",
         "0.34368649986430233",
         "0.0032505675275274126",
         "0.3006368957786923",
         "0.15378501034996286",
         "0.3786331410745756",
         "0.20550314360131866",
         "0.11506551024936795",
         "0.12342569978206583",
         "0.09188223598134794",
         "0.18338194927528587",
         "0.4435020501977754",
         "0.2023273046003986",
         "0.21243222722474353",
         "0.13718162124789315",
         "0.036970573663297764",
         "0.15693680047826056",
         "0.12453066233138273",
         "0.30045584232048517",
         "0.06475410032647545",
         "0.07081792608446197",
         "0.12255402491627727",
         "0.18884991357174877",
         "0.26974024721540557",
         "0.2107468664756517",
         "0.16200204146214597",
         "0.31018586678843457",
         "0.005358469930531555",
         "0.3695768323241149",
         "0.0",
         "0.17250200585655173",
         "0.1825738821207215",
         "0.19289633340274434",
         "0.4008495853498798",
         "0.10911857431196248",
         "0.3876447938958629",
         "0.401130806352229",
         "0.24215389804606693",
         "0.38369154604274835",
         "0.18589662560346987",
         "0.19999731393342082",
         "0.0",
         "0.15473417670321538",
         "0.4224175702784505",
         "0.200843366956724",
         "0.12416332689993186",
         "0.0",
         "0.1000905320226883",
         "0.0031219222773282247",
         "0.11742380934361393",
         "0.37626668630158694",
         "0.1375084893847534",
         "0.0",
         "0.0",
         "0.06775124970997995",
         "0.1883690236543358",
         "0.1709057482271287",
         "0.06174768983800004",
         "0.2297625283804508",
         "0.18405445868555334",
         "0.2348403512569364",
         "0.1069598785693493",
         "0.18554348456863293",
         "0.10396859773855752",
         "0.11311108627825739",
         "0.20265910086812652",
         "0.36015137839321415",
         "0.004762796924888386",
         "0.1750918448211134",
         "0.24534105447424542",
         "0.0",
         "0.35211330293512166",
         "0.04179463053498078",
         "0.07011496022127736",
         "0.0041528508175828404",
         "0.027606512113028628",
         "0.17557419657926637",
         "0.0830926536687606",
         "0.26905900900749075",
         "0.14471706480729465",
         "0.04642913400827542",
         "0.0",
         "0.11742477591324765",
         "0.18626918370061335",
         "0.0",
         "0.20802252923512365",
         "0.27773666955513066",
         "0.0",
         "0.0",
         "0.34374147043992176",
         "0.0",
         "0.12045877536746735",
         "0.34668112736842716",
         "0.1354780911518307",
         "0.05413380821292449",
         "0.14766206773330276",
         "0.0",
         "0.03690179114109314",
         "0.09876005508399358",
         "0.35206414567206695",
         "0.0675208892094702",
         "0.2136336467938986",
         "0.18717433456037907",
         "0.19805100470141165",
         "0.03776087371575224",
         "0.08204551605879055",
         "0.16704643908784095",
         "0.0041812953337354315",
         "0.0872728715255267",
         "0.15216545099695167",
         "0.1509898820965655",
         "0.0039749292444048595",
         "0.0",
         "0.07903824237764709",
         "0.0025361158981311435",
         "0.16065483171956912",
         "0.13845230805804723",
         "0.09904690464277759",
         "0.2608278699918195",
         "0.3046820675467515",
         "0.0",
         "0.19660355078179864",
         "0.11111101273968935",
         "0.18702242741180217",
         "0.22005176748093894",
         "0.22621022588503806",
         "0.08029742828567456",
         "0.09850654988196463",
         "0.1813149281298382",
         "0.2280448428146864",
         "0.19335091016543202",
         "0.06969699557505618",
         "0.0",
         "0.10166897888476673",
         "0.19010566914124177",
         "0.3161197636785395",
         "0.1808394212057691",
         "0.138003092852891",
         "0.22590078299357375",
         "0.3574080931060362",
         "0.05867430338698572",
         "0.3586658989609844",
         "0.2772103819562974",
         "0.10230790005786528",
         "0.13495890698113605",
         "0.0294003659861442",
         "0.0033374752999712227",
         "0.0",
         "0.22051775489321757",
         "0.20590491584636925",
         "0.09719114164616563",
         "0.35377825053359285",
         "0.11226686422109713",
         "0.06308491254089214",
         "0.27667739571706257",
         "0.20163151947850277",
         "0.35240953077243875",
         "0.2573711070866868",
         "0.20897860770240495",
         "0.22017412647856735",
         "0.055792800530360426",
         "0.0",
         "0.26256660463717146",
         "0.4210205747426796",
         "0.10853896435289061",
         "0.09235957149071436",
         "0.09560264078556253",
         "0.18579890724344322",
         "0.06667163964360441",
         "0.04942534995773566",
         "0.0",
         "0.34496939832139006",
         "0.10862444754425367",
         "0.164053668870711",
         "0.18989911851035413",
         "0.2797079889325647",
         "0.18226243498025751",
         "0.21662632071557603",
         "0.15930484697121414",
         "0.09017189100187328",
         "0.21662913021336763",
         "0.0",
         "0.0",
         "0.018856403443273724",
         "0.09977380549476196",
         "0.2878434081509581",
         "0.12926117816698698",
         "0.36476947362735734",
         "0.17866198678233147",
         "0.28893463124314134",
         "0.28409913533358094",
         "0.1850469535388583",
         "0.23474101493457597",
         "0.05793820551868419",
         "0.17227645341561484",
         "0.3829159916149909",
         "0.15785098618937277",
         "0.22247721498372913",
         "0.09417697374945545",
         "0.0037385797254622633",
         "0.15194124573830076",
         "0.0",
         "0.015240700535118251",
         "0.25605831310897215",
         "0.26224209709776636",
         "0.29647005532312853",
         "0.09289744383333186",
         "0.04910552461453863",
         "0.37095958789680317",
         "0.45755720842340625",
         "0.25905594277644833",
         "0.18215166657582765",
         "0.2675309147378218",
         "0.1874942059599431",
         "0.0",
         "0.1298458509448848",
         "0.41139680962746017",
         "0.4434248035085327",
         "0.11870565995938494",
         "0.036437017166852846",
         "0.444700988481909",
         "0.2969124183269525",
         "0.004097660978283909",
         "0.0",
         "0.34180614113301255",
         "0.0019051187699553546",
         "0.12849206688743",
         "0.35461166724442805",
         "0.1586445084654612",
         "0.1385814479808128",
         "0.15452726888452964",
         "0.38941227438633363",
         "0.3217993708153314",
         "0.2616073803674678",
         "0.347159182900422",
         "0.1571000926942077",
         "0.3764828604129963",
         "0.20856049416543287",
         "0.3457192227660144",
         "0.2662479685815192",
         "0.26540578539598814",
         "0.07298804289460084",
         "0.41152997448631295",
         "0.0",
         "0.4131038795990115",
         "0.0052672905454117",
         "0.2936556626181963",
         "0.06988677671757584",
         "0.4788853686061983",
         "0.37023427468673736",
         "0.0",
         "0.11768786367511805",
         "0.3328345868974072",
         "0.24937110245298458",
         "0.350837053893312",
         "0.1792588824594649",
         "0.21977000924189583",
         "0.08120071231938673",
         "0.0",
         "0.23163916681549745",
         "0.025044776646046617",
         "0.28075465334019883",
         "0.15690742721294806",
         "0.06957532181755634",
         "0.14711036115510376",
         "0.04433510742551628",
         "0.24415408909687725",
         "0.3768235200204866",
         "0.32081143613033786",
         "0.2429729951916962",
         "0.1541863506818884",
         "0.32756661776271095",
         "0.04570368136626486",
         "0.23108148031997197",
         "0.16361412806913384",
         "0.3074878832933277",
         "0.0",
         "0.2507950213387013",
         "0.2509569320621017",
         "0.19912945025958173",
         "0.3352450479674244",
         "0.2447859691705631",
         "0.004056042379926229",
         "0.2051815454580575",
         "0.29032175342891653",
         "0.23496487587836978",
         "0.21234686596066904",
         "0.27997857250608416",
         "0.30727578124067007",
         "0.1025738157506563",
         "0.06601291239833065",
         "0.2562667890681328",
         "0.0",
         "0.27523493466968124",
         "0.0",
         "0.22464410578352642",
         "0.0",
         "0.0",
         "0.11290787850584202",
         "0.021465527783676136",
         "0.17533818036687887",
         "0.1271671915635797",
         "0.20081219160131042",
         "0.0",
         "0.39208947196748445",
         "0.0",
         "0.08641105858081594",
         "0.15923313492119218",
         "0.1901147389372797",
         "0.19707075946104272",
         "0.1008124419898633",
         "0.2478452421541259",
         "0.26297336992538384",
         "0.14233875938515406",
         "0.41563939475016565",
         "0.3080943263111183",
         "0.10593504181395097",
         "0.09132569609685148",
         "0.14932773619985296",
         "0.35601548731356064",
         "0.3724208421734613",
         "0.2955112607631524",
         "0.17012614612804855",
         "0.0964306826954429",
         "0.07526827517949151",
         "0.0",
         "0.2648156848563885",
         "0.13117266506536035",
         "0.3896037976651346",
         "0.07376368363788288",
         "0.29856531665909025",
         "0.06918296445509184",
         "0.1567753236950518",
         "0.13369040037984017",
         "0.309472015917331",
         "0.40078977358304985",
         "0.27336017501012455",
         "0.09532379861496759",
         "0.17286432824035566",
         "0.33640819700280045",
         "0.35756692483228675",
         "0.004138844535467337",
         "0.22830805185062508",
         "0.2208960519443506",
         "0.15866394669990969",
         "0.012547929155542136",
         "0.37961024266121596",
         "0.34653675011601354",
         "0.4691306257273752",
         "0.0",
         "0.2264420735704031",
         "0.0",
         "0.26901258115601645",
         "0.240099897924132",
         "0.10739975971270299",
         "0.058926260760230394",
         "0.09273395903565917",
         "0.29405109886319936",
         "0.4108996395814153",
         "0.0",
         "0.18129696961066133",
         "0.053156240894112854",
         "0.22930849063884548",
         "0.200047676578379",
         "0.020221772538140705",
         "0.10320802719128631",
         "0.2960074403902564",
         "0.16794039510098405",
         "0.0",
         "0.006397347441989279",
         "0.38437578606066497",
         "0.14938199777089534",
         "0.0",
         "0.13531508075635024",
         "0.11019913067085653",
         "0.0615043697537302",
         "0.4373291074341488",
         "0.1837404653475253",
         "0.3267082433525562",
         "0.12128243278617043",
         "0.06284269839157548",
         "0.013051959013986881",
         "0.10699133273223167",
         "0.33330047750564984",
         "0.0",
         "0.05539801217826058",
         "0.1779244747412563",
         "0.0",
         "0.2780325491113176",
         "0.0",
         "0.035741156226799735",
         "0.3492251316600679",
         "0.007946280999879884",
         "0.2751493421005296",
         "0.29612498603632187",
         "0.2549873907796409",
         "0.30230414988871374",
         "0.2817587534750667",
         "0.3892208438685421",
         "0.18852165266372956",
         "0.1880699545037641",
         "0.047722242071575785",
         "0.034121242180488884",
         "0.0423056250104471",
         "0.09778290033950116",
         "0.06879725668368986",
         "0.2070719142127886",
         "0.2058936471097819",
         "0.15076672417914933",
         "0.28226657725562265",
         "0.05398197562097404",
         "0.09991175487664969",
         "0.19144750310112107",
         "0.4099797740273339",
         "0.03274079208774082",
         "0.2595701048787306",
         "0.09706450818307537",
         "0.2659573027123658",
         "0.03673953122779846",
         "0.20606564454783577",
         "0.3538137537828779",
         "0.1911207548294297",
         "0.23662947778131677",
         "0.051314350140248446",
         "0.2591622368488113",
         "0.3991481988568291",
         "0.0",
         "0.10322701983274636",
         "0.28930389341368057",
         "0.27218722543048357",
         "0.005324665493019731",
         "0.16363939413994902",
         "0.05130018662457018",
         "0.07157279599623138",
         "0.3228098987645515",
         "0.20353602582338962",
         "0.4350980864444087",
         "0.262505137351741",
         "0.46444728063858753",
         "0.2155772846265408",
         "0.16440426752104279",
         "0.23527792503291045",
         "0.11313841487439043",
         "0.007186860631011585",
         "0.28278694162731133",
         "0.3168482746504467",
         "0.21000410988139281",
         "0.35400280537431555",
         "0.09134085693183222",
         "0.3704742709904352",
         "0.0585321007461168",
         "0.01030181792563531",
         "0.0",
         "0.0952268565426585",
         "0.18115859454758376",
         "0.40456042227760547",
         "0.007186860631011585",
         "0.1582665417112358",
         "0.11109725910655908",
         "0.10316282756503087",
         "0.0015824216060272545",
         "0.043281950314961605",
         "0.38520038327457207",
         "0.13600462509288763",
         "0.29328690946126557",
         "0.26862849889202617",
         "0.14398239613719668",
         "0.1037860946735471",
         "0.23618364970788863",
         "0.22965102805556145",
         "0.0",
         "0.17615403791594308",
         "0.0023986661368189653",
         "0.24206451779872745",
         "0.2981033502390397",
         "0.12070250201423761",
         "0.22563415457064936",
         "0.3843020040750586",
         "0.26138338130720623",
         "0.2516835198666239",
         "0.11053087448995717",
         "0.1512541353618754",
         "0.2997707548379807",
         "0.3367858851236408",
         "0.2574109866996447",
         "0.0014337378040116468",
         "0.4386216361442256",
         "0.207858270279354",
         "0.0",
         "0.187283620258868",
         "0.1722113841624179",
         "0.1255274273815902",
         "0.27775338112437137",
         "0.1477236631119265",
         "0.16368291598385531",
         "0.24003930115607097",
         "0.1544050132783521",
         "0.0705916859574407",
         "0.03249600203089901",
         "0.031069591949955053",
         "0.17056154721334746",
         "0.20183800003428823",
         "0.33266747791900075",
         "0.2554672780402737",
         "0.23526948493610608",
         "0.08454280473968737",
         "0.04110661564462527",
         "0.25042813364723027",
         "0.15066624743056925",
         "0.09728490216965026",
         "0.12545566695657193",
         "0.0017114232554278823",
         "0.09040400286446475",
         "0.04787663344238783",
         "0.15084150640423447",
         "0.023606492486373445",
         "0.16152510520697183",
         "0.18872758467395143",
         "0.3116990760340534",
         "0.052917206829582536",
         "0.3165420824178616",
         "0.1655743622417165",
         "0.07356503244968714",
         "0.16202802652453188",
         "0.07427841404189758",
         "0.2746969976831353",
         "0.013801958579611336",
         "0.28033579253121615",
         "0.005354828428289343",
         "0.3164371095328434",
         "0.007752250985444488",
         "0.023242734324953288",
         "0.177022006036207",
         "0.24806984469085036",
         "0.23804895740341686",
         "0.08466510751669334",
         "0.09644583831968133",
         "0.07469029001590725",
         "0.10880295610545171",
         "0.006230966209103772",
         "0.013735939971932398",
         "0.2491737934067429",
         "0.36939052338841033",
         "0.12211668222141055",
         "0.29831449197206983",
         "0.14289149010773505",
         "0.13363267719236466",
         "0.3359658962405825",
         "0.10229822483235976",
         "0.13391214092660933",
         "0.047281869564721815",
         "0.1952117451053982",
         "0.0",
         "0.06534195000135745",
         "0.12068543174794542",
         "0.11032792038813227",
         "0.1523079409231834",
         "0.0",
         "0.17458889434725416",
         "0.3165495827485975",
         "0.1866534107332719",
         "0.20946945687098725",
         "0.3416691578598526",
         "0.4538648338815813",
         "0.28805358812523907",
         "0.1072107687718364",
         "0.3381641885368011",
         "0.001509768093879229",
         "0.20957917939344411",
         "0.023084832096605692",
         "0.17742510010061174",
         "0.14500934610915672",
         "0.0",
         "0.2851060854838707",
         "0.17294408046913656",
         "0.09993858471803259",
         "0.019618334888100906",
         "0.126969142056878",
         "0.1523596923487693",
         "0.41243530160460046",
         "0.11591468211690863",
         "0.24116693805441652",
         "0.09482327840930112",
         "0.3354090018101907",
         "0.42370077221400926",
         "0.1133057311086482",
         "0.26628718405510704",
         "0.003823558298040893",
         "0.14395720240994894",
         "0.4784071773895158",
         "0.14148418672851049",
         "0.4107199485112126",
         "0.0",
         "0.027682775974931895",
         "0.3713570305326509",
         "0.2985121675146265",
         "0.22013331789255508",
         "0.0",
         "0.042180524333948824",
         "0.19288853561150088",
         "0.23480952460381702",
         "0.45803207124969486",
         "0.3445955682766624",
         "0.047708784184030774",
         "0.15357415953555426",
         "0.2694882705774143",
         "0.2703740133953975",
         "0.2596943742786243",
         "0.08236634345259103",
         "0.08975695120781449",
         "0.17519467175513576",
         "0.12680454249745973",
         "0.25489870556918004",
         "0.08510215557151435",
         "0.015043856592994084",
         "0.13040644670270052",
         "0.019659511543469853",
         "0.18851707892174763",
         "0.09719848272328412",
         "0.11845105635856379",
         "0.27032418434802435",
         "0.18945052123315353",
         "0.0028674756080232936",
         "0.3500878822801046",
         "0.015422189690439288",
         "0.25931040093787894",
         "0.0",
         "0.24237040948012556",
         "0.0",
         "0.004979304207581382",
         "0.18429612240847812",
         "0.27465641301864524",
         "0.0920579804521533",
         "0.18311068403045988",
         "0.20864371195519085",
         "0.27546682637605663",
         "0.0",
         "0.024703920414628246",
         "0.10991122509980494",
         "0.30709357839635226",
         "0.15505105638642752",
         "0.2319630147578354",
         "0.07948808821501072",
         "0.15305704543638696",
         "0.15060719736072112",
         "0.19214661122651866",
         "0.3060069078185699",
         "0.1118367600363752",
         "0.13671477724565043",
         "0.0971488754377541",
         "0.284107532599769",
         "0.2059227423401342",
         "0.29570552079027723",
         "0.27202702425325964",
         "0.0",
         "0.1347372947212208",
         "0.3300555043548576",
         "0.33746758335748006",
         "0.07638463175286421",
         "0.06648978674823251",
         "0.10910487194547468",
         "0.0",
         "0.22375567505482477",
         "0.08109349471971339",
         "0.22079078350447648",
         "0.002040638915094955",
         "0.05467001717596817",
         "0.073099651295401",
         "0.44312500733687527",
         "0.04977782919723806",
         "0.0",
         "0.1611058267856753",
         "0.10083739590593936",
         "0.006751888176348479",
         "0.04731334753238435",
         "0.1673164698476824",
         "0.07365225655748515",
         "0.05434844991111951",
         "0.1708677979448295",
         "0.44390853205552994",
         "0.0998015277109823",
         "0.0",
         "0.2658174053966109",
         "0.1362789867197534",
         "0.08467995595425543",
         "0.07888970844934118",
         "0.18197671122832565",
         "0.37525540766018795",
         "0.3034490500548177",
         "0.31883900002012866",
         "0.41461891808654394",
         "0.0",
         "0.40994423742816755",
         "0.004063209409409265",
         "0.17301684577403076",
         "0.0011671106584151985",
         "0.0034558313391984314",
         "0.2890913869283072",
         "0.35541424615200823",
         "0.3439650078318624",
         "0.14620650310335398",
         "0.12472101691136611",
         "0.09567119345101172",
         "0.035945709060171395",
         "0.23768581011625",
         "0.21208742050773424",
         "0.07613788913675067",
         "0.3426450654159025",
         "0.14878420337543288",
         "0.16053879842195992",
         "0.09424620250052992",
         "0.1085169251365953",
         "0.16923519916643107",
         "0.0020276114473202897",
         "0.35641392329434335",
         "0.34921345899678896",
         "0.0",
         "0.2007368106471469",
         "0.09541573417319256",
         "0.26005813020199897",
         "0.19789271441971262",
         "0.18659545468270708",
         "0.16821863879370297",
         "0.031222183317880823",
         "0.0",
         "0.0",
         "0.15932875110856948",
         "0.30720684023369943",
         "0.0038537845257042244",
         "0.2811701367641661",
         "0.09016675064568117",
         "0.38115589869086386",
         "0.05771503219058352",
         "0.11350591373917397",
         "0.17233372482354004",
         "0.1473113876051487",
         "0.4432272722179341",
         "0.35268929305601476",
         "0.11995026453729897",
         "0.30034874701103764",
         "0.09034823652944007",
         "0.1535861041433772",
         "0.003336562298914618",
         "0.17881924722562076",
         "0.0036494352013580287",
         "0.4450093731638427",
         "0.3904587508557281",
         "0.35247583903046054",
         "0.39784631453985725",
         "0.0",
         "0.0",
         "0.004218493470376047",
         "0.003673555987388456",
         "0.0",
         "0.0072481963204990615",
         "0.17777105590764491",
         "0.3689587306012999",
         "0.007260953936360475",
         "0.10259683524423407",
         "0.0",
         "0.02179528753570712",
         "0.0",
         "0.1522336099974963",
         "0.2047801228431179",
         "0.3597017129235239",
         "0.009642381135831607",
         "0.18020254321831491",
         "0.30529655007525497",
         "0.0",
         "0.0325352908508997",
         "0.15930484697121416",
         "0.3257621875513704",
         "0.14339003946680648",
         "0.054399661733741216",
         "0.30266258938324614",
         "0.07921206866261167",
         "0.19622864162215925",
         "0.11132659626932073",
         "0.06685359628579239",
         "0.259514768260744",
         "0.11732291118892266",
         "0.2729354601032148",
         "0.0",
         "0.0",
         "0.4298214269991056",
         "0.32253800110110514",
         "0.0",
         "0.3410017702604024",
         "0.3642430262975107",
         "0.30498901179692695",
         "0.117815869708623",
         "0.24932079253547537",
         "0.15460520666042316",
         "0.2125914304973701",
         "0.0035226168641536407",
         "0.2105091731763632",
         "0.0",
         "0.0",
         "0.011367031273989211",
         "0.03630853241899254",
         "0.04242647699765907",
         "0.09692539026610852",
         "0.03954513448172194",
         "0.3100634960840376",
         "0.0006765542160316744",
         "0.4020875270345722",
         "0.18556973068472052",
         "0.0",
         "0.2204422649089367",
         "0.43001419068561963",
         "0.10584755732726159",
         "0.26660011445322584",
         "0.13128493411764466",
         "0.05158891941651691",
         "0.0016896762061002417",
         "0.02093347019401772",
         "0.17786035498060043",
         "0.043793222416296344",
         "0.11172153110148886",
         "0.1619797890539588",
         "0.12225238913130346",
         "0.3411251463134454",
         "0.36570393404152846",
         "0.3825008636459829",
         "0.27950715200800724",
         "0.06590866463783557",
         "0.374078863538938",
         "0.34022872252604164",
         "0.28064462364704407",
         "0.0539504209422775",
         "0.32211632811878793",
         "0.34355977226945583",
         "0.08562220295794412",
         "0.3599483997191877",
         "0.16125567198318816",
         "0.05184981364605024",
         "0.14849924474404302",
         "0.3748106639922477",
         "0.3445913565263253",
         "0.001190281368696078",
         "0.37319575913011177",
         "0.09062117623086931",
         "0.328810715217936",
         "0.19330175181481177",
         "0.18493556393949112",
         "0.04866595201452259",
         "0.022341739216002944",
         "0.06236849360720012",
         "0.14553430610602336",
         "0.23119002774240974",
         "0.026398066134149904",
         "0.19168923894532564",
         "0.35094097583240164",
         "0.17583540918027837",
         "0.3346560374492535",
         "0.03871144130677612",
         "0.0",
         "0.34322821038918266",
         "0.07567217996613265",
         "0.16886301061320425",
         "0.18635211366721807",
         "0.0",
         "0.25868751804686557",
         "0.42309551397097467",
         "0.15903094009847063",
         "0.21102954038162133",
         "0.06336855638041393",
         "0.0",
         "0.28989317595776926",
         "0.08670431256426703",
         "0.23352439424190657",
         "0.14364080041006666",
         "0.0690453981168511",
         "0.32428820878134507",
         "0.3736980517227942",
         "0.34018313884945545",
         "0.08058044966014766",
         "0.0952836978536412",
         "0.08105344558642966",
         "0.14860709444350742",
         "0.07161155248645112",
         "0.2399546638225835",
         "0.13959512752076136",
         "0.1537992702475503",
         "0.31394084083543916"
        ]
       ],
       "shape": {
        "columns": 943,
        "rows": 5
       }
      },
      "text/html": [
       "<div>\n",
       "<style scoped>\n",
       "    .dataframe tbody tr th:only-of-type {\n",
       "        vertical-align: middle;\n",
       "    }\n",
       "\n",
       "    .dataframe tbody tr th {\n",
       "        vertical-align: top;\n",
       "    }\n",
       "\n",
       "    .dataframe thead th {\n",
       "        text-align: right;\n",
       "    }\n",
       "</style>\n",
       "<table border=\"1\" class=\"dataframe\">\n",
       "  <thead>\n",
       "    <tr style=\"text-align: right;\">\n",
       "      <th>user_id</th>\n",
       "      <th>1</th>\n",
       "      <th>2</th>\n",
       "      <th>3</th>\n",
       "      <th>4</th>\n",
       "      <th>5</th>\n",
       "      <th>6</th>\n",
       "      <th>7</th>\n",
       "      <th>8</th>\n",
       "      <th>9</th>\n",
       "      <th>10</th>\n",
       "      <th>...</th>\n",
       "      <th>934</th>\n",
       "      <th>935</th>\n",
       "      <th>936</th>\n",
       "      <th>937</th>\n",
       "      <th>938</th>\n",
       "      <th>939</th>\n",
       "      <th>940</th>\n",
       "      <th>941</th>\n",
       "      <th>942</th>\n",
       "      <th>943</th>\n",
       "    </tr>\n",
       "    <tr>\n",
       "      <th>user_id</th>\n",
       "      <th></th>\n",
       "      <th></th>\n",
       "      <th></th>\n",
       "      <th></th>\n",
       "      <th></th>\n",
       "      <th></th>\n",
       "      <th></th>\n",
       "      <th></th>\n",
       "      <th></th>\n",
       "      <th></th>\n",
       "      <th></th>\n",
       "      <th></th>\n",
       "      <th></th>\n",
       "      <th></th>\n",
       "      <th></th>\n",
       "      <th></th>\n",
       "      <th></th>\n",
       "      <th></th>\n",
       "      <th></th>\n",
       "      <th></th>\n",
       "      <th></th>\n",
       "    </tr>\n",
       "  </thead>\n",
       "  <tbody>\n",
       "    <tr>\n",
       "      <th>1</th>\n",
       "      <td>1.000000</td>\n",
       "      <td>0.168937</td>\n",
       "      <td>0.048388</td>\n",
       "      <td>0.064561</td>\n",
       "      <td>0.379670</td>\n",
       "      <td>0.429682</td>\n",
       "      <td>0.443097</td>\n",
       "      <td>0.320079</td>\n",
       "      <td>0.078385</td>\n",
       "      <td>0.377733</td>\n",
       "      <td>...</td>\n",
       "      <td>0.372213</td>\n",
       "      <td>0.119860</td>\n",
       "      <td>0.269860</td>\n",
       "      <td>0.193343</td>\n",
       "      <td>0.197949</td>\n",
       "      <td>0.118722</td>\n",
       "      <td>0.315064</td>\n",
       "      <td>0.149086</td>\n",
       "      <td>0.181612</td>\n",
       "      <td>0.399432</td>\n",
       "    </tr>\n",
       "    <tr>\n",
       "      <th>2</th>\n",
       "      <td>0.168937</td>\n",
       "      <td>1.000000</td>\n",
       "      <td>0.113393</td>\n",
       "      <td>0.179694</td>\n",
       "      <td>0.073623</td>\n",
       "      <td>0.242106</td>\n",
       "      <td>0.108604</td>\n",
       "      <td>0.104257</td>\n",
       "      <td>0.162470</td>\n",
       "      <td>0.161273</td>\n",
       "      <td>...</td>\n",
       "      <td>0.147095</td>\n",
       "      <td>0.310661</td>\n",
       "      <td>0.363328</td>\n",
       "      <td>0.410725</td>\n",
       "      <td>0.322713</td>\n",
       "      <td>0.231096</td>\n",
       "      <td>0.228793</td>\n",
       "      <td>0.162911</td>\n",
       "      <td>0.175273</td>\n",
       "      <td>0.106732</td>\n",
       "    </tr>\n",
       "    <tr>\n",
       "      <th>3</th>\n",
       "      <td>0.048388</td>\n",
       "      <td>0.113393</td>\n",
       "      <td>1.000000</td>\n",
       "      <td>0.349781</td>\n",
       "      <td>0.021592</td>\n",
       "      <td>0.074018</td>\n",
       "      <td>0.067423</td>\n",
       "      <td>0.084419</td>\n",
       "      <td>0.062039</td>\n",
       "      <td>0.066217</td>\n",
       "      <td>...</td>\n",
       "      <td>0.033885</td>\n",
       "      <td>0.043453</td>\n",
       "      <td>0.167140</td>\n",
       "      <td>0.071288</td>\n",
       "      <td>0.126278</td>\n",
       "      <td>0.026758</td>\n",
       "      <td>0.164539</td>\n",
       "      <td>0.102899</td>\n",
       "      <td>0.136757</td>\n",
       "      <td>0.026990</td>\n",
       "    </tr>\n",
       "    <tr>\n",
       "      <th>4</th>\n",
       "      <td>0.064561</td>\n",
       "      <td>0.179694</td>\n",
       "      <td>0.349781</td>\n",
       "      <td>1.000000</td>\n",
       "      <td>0.031804</td>\n",
       "      <td>0.068431</td>\n",
       "      <td>0.091507</td>\n",
       "      <td>0.188060</td>\n",
       "      <td>0.101284</td>\n",
       "      <td>0.060859</td>\n",
       "      <td>...</td>\n",
       "      <td>0.054615</td>\n",
       "      <td>0.036784</td>\n",
       "      <td>0.133619</td>\n",
       "      <td>0.196561</td>\n",
       "      <td>0.146058</td>\n",
       "      <td>0.030202</td>\n",
       "      <td>0.196858</td>\n",
       "      <td>0.152041</td>\n",
       "      <td>0.171538</td>\n",
       "      <td>0.058752</td>\n",
       "    </tr>\n",
       "    <tr>\n",
       "      <th>5</th>\n",
       "      <td>0.379670</td>\n",
       "      <td>0.073623</td>\n",
       "      <td>0.021592</td>\n",
       "      <td>0.031804</td>\n",
       "      <td>1.000000</td>\n",
       "      <td>0.238636</td>\n",
       "      <td>0.374733</td>\n",
       "      <td>0.248930</td>\n",
       "      <td>0.056847</td>\n",
       "      <td>0.201427</td>\n",
       "      <td>...</td>\n",
       "      <td>0.340183</td>\n",
       "      <td>0.080580</td>\n",
       "      <td>0.095284</td>\n",
       "      <td>0.081053</td>\n",
       "      <td>0.148607</td>\n",
       "      <td>0.071612</td>\n",
       "      <td>0.239955</td>\n",
       "      <td>0.139595</td>\n",
       "      <td>0.153799</td>\n",
       "      <td>0.313941</td>\n",
       "    </tr>\n",
       "  </tbody>\n",
       "</table>\n",
       "<p>5 rows × 943 columns</p>\n",
       "</div>"
      ],
      "text/plain": [
       "user_id       1         2         3         4         5         6         7    \\\n",
       "user_id                                                                         \n",
       "1        1.000000  0.168937  0.048388  0.064561  0.379670  0.429682  0.443097   \n",
       "2        0.168937  1.000000  0.113393  0.179694  0.073623  0.242106  0.108604   \n",
       "3        0.048388  0.113393  1.000000  0.349781  0.021592  0.074018  0.067423   \n",
       "4        0.064561  0.179694  0.349781  1.000000  0.031804  0.068431  0.091507   \n",
       "5        0.379670  0.073623  0.021592  0.031804  1.000000  0.238636  0.374733   \n",
       "\n",
       "user_id       8         9         10   ...       934       935       936  \\\n",
       "user_id                                ...                                 \n",
       "1        0.320079  0.078385  0.377733  ...  0.372213  0.119860  0.269860   \n",
       "2        0.104257  0.162470  0.161273  ...  0.147095  0.310661  0.363328   \n",
       "3        0.084419  0.062039  0.066217  ...  0.033885  0.043453  0.167140   \n",
       "4        0.188060  0.101284  0.060859  ...  0.054615  0.036784  0.133619   \n",
       "5        0.248930  0.056847  0.201427  ...  0.340183  0.080580  0.095284   \n",
       "\n",
       "user_id       937       938       939       940       941       942       943  \n",
       "user_id                                                                        \n",
       "1        0.193343  0.197949  0.118722  0.315064  0.149086  0.181612  0.399432  \n",
       "2        0.410725  0.322713  0.231096  0.228793  0.162911  0.175273  0.106732  \n",
       "3        0.071288  0.126278  0.026758  0.164539  0.102899  0.136757  0.026990  \n",
       "4        0.196561  0.146058  0.030202  0.196858  0.152041  0.171538  0.058752  \n",
       "5        0.081053  0.148607  0.071612  0.239955  0.139595  0.153799  0.313941  \n",
       "\n",
       "[5 rows x 943 columns]"
      ]
     },
     "execution_count": 8,
     "metadata": {},
     "output_type": "execute_result"
    }
   ],
   "source": [
    "user_sim_matrix = cosine_similarity(user_item_matrix)\n",
    "\n",
    "\n",
    "user_similarity_df = pd.DataFrame(user_sim_matrix,\n",
    "    index=user_item_matrix.index,\n",
    "    columns=user_item_matrix.index)\n",
    "\n",
    "\n",
    "user_similarity_df.head()"
   ]
  },
  {
   "cell_type": "code",
   "execution_count": 9,
   "id": "83c73c6c",
   "metadata": {},
   "outputs": [
    {
     "data": {
      "application/vnd.microsoft.datawrangler.viewer.v0+json": {
       "columns": [
        {
         "name": "user_id",
         "rawType": "int64",
         "type": "integer"
        },
        {
         "name": "10",
         "rawType": "float64",
         "type": "float"
        }
       ],
       "ref": "3ba251f2-3557-4079-bdbb-a642e2b41497",
       "rows": [
        [
         "474",
         "0.5561422430150629"
        ],
        [
         "6",
         "0.554850845846089"
        ],
        [
         "234",
         "0.5430024188752158"
        ],
        [
         "308",
         "0.5381711917655899"
        ],
        [
         "537",
         "0.5334087981490079"
        ]
       ],
       "shape": {
        "columns": 1,
        "rows": 5
       }
      },
      "text/plain": [
       "user_id\n",
       "474    0.556142\n",
       "6      0.554851\n",
       "234    0.543002\n",
       "308    0.538171\n",
       "537    0.533409\n",
       "Name: 10, dtype: float64"
      ]
     },
     "execution_count": 9,
     "metadata": {},
     "output_type": "execute_result"
    }
   ],
   "source": [
    "target_user_id = 10\n",
    "\n",
    "similarities = user_similarity_df[target_user_id].sort_values(ascending=False)\n",
    "\n",
    "similar_users = similarities.drop(index=target_user_id)\n",
    "\n",
    "top_similar_users = similar_users.head(5)\n",
    "top_similar_users\n"
   ]
  },
  {
   "cell_type": "code",
   "execution_count": 10,
   "id": "afb4d2f4",
   "metadata": {},
   "outputs": [
    {
     "data": {
      "text/plain": [
       "[]"
      ]
     },
     "execution_count": 10,
     "metadata": {},
     "output_type": "execute_result"
    }
   ],
   "source": [
    "user_ratings = user_item_matrix.loc[target_user_id]\n",
    "\n",
    "unwatched_movies = user_ratings[user_ratings.isna()].index.tolist()\n",
    "unwatched_movies[:5]  "
   ]
  },
  {
   "cell_type": "code",
   "execution_count": 11,
   "id": "c08385ac",
   "metadata": {},
   "outputs": [
    {
     "data": {
      "application/vnd.microsoft.datawrangler.viewer.v0+json": {
       "columns": [
        {
         "name": "index",
         "rawType": "int64",
         "type": "integer"
        },
        {
         "name": "title",
         "rawType": "object",
         "type": "string"
        },
        {
         "name": "predicted_rating",
         "rawType": "object",
         "type": "string"
        }
       ],
       "ref": "6ef8fa55-7eca-47c1-96a0-1cf219971616",
       "rows": [],
       "shape": {
        "columns": 2,
        "rows": 0
       }
      },
      "text/html": [
       "<div>\n",
       "<style scoped>\n",
       "    .dataframe tbody tr th:only-of-type {\n",
       "        vertical-align: middle;\n",
       "    }\n",
       "\n",
       "    .dataframe tbody tr th {\n",
       "        vertical-align: top;\n",
       "    }\n",
       "\n",
       "    .dataframe thead th {\n",
       "        text-align: right;\n",
       "    }\n",
       "</style>\n",
       "<table border=\"1\" class=\"dataframe\">\n",
       "  <thead>\n",
       "    <tr style=\"text-align: right;\">\n",
       "      <th></th>\n",
       "      <th>title</th>\n",
       "      <th>predicted_rating</th>\n",
       "    </tr>\n",
       "  </thead>\n",
       "  <tbody>\n",
       "  </tbody>\n",
       "</table>\n",
       "</div>"
      ],
      "text/plain": [
       "Empty DataFrame\n",
       "Columns: [title, predicted_rating]\n",
       "Index: []"
      ]
     },
     "execution_count": 11,
     "metadata": {},
     "output_type": "execute_result"
    }
   ],
   "source": [
    "top_users_ratings = user_item_matrix.loc[top_similar_users.index]\n",
    "\n",
    "movie_scores = {}\n",
    "\n",
    "for movie in unwatched_movies:\n",
    "    ratings = top_users_ratings[movie]\n",
    "    valid_ratings = ratings.dropna()\n",
    "\n",
    "    if len(valid_ratings) > 0:\n",
    "        movie_scores[movie] = valid_ratings.mean()\n",
    "\n",
    "\n",
    "recommendations = pd.DataFrame(movie_scores.items(), columns=['title', 'predicted_rating'])\n",
    "recommendations = recommendations.sort_values(by='predicted_rating', ascending=False)\n",
    "recommendations.head(10)\n"
   ]
  },
  {
   "cell_type": "markdown",
   "id": "59d6f93b",
   "metadata": {},
   "source": [
    "# Model training"
   ]
  },
  {
   "cell_type": "code",
   "execution_count": 12,
   "id": "7c0e56dd",
   "metadata": {},
   "outputs": [
    {
     "name": "stdout",
     "output_type": "stream",
     "text": [
      "Train size: (80000, 6)\n",
      "Test size: (20000, 6)\n"
     ]
    }
   ],
   "source": [
    "train_ratings, test_ratings = train_test_split(\n",
    "    ratings_with_titles,\n",
    "    test_size=0.2, \n",
    "    shuffle=True,      \n",
    "    random_state=42       \n",
    ")\n",
    "\n",
    "print(\"Train size:\", train_ratings.shape)\n",
    "print(\"Test size:\", test_ratings.shape)"
   ]
  },
  {
   "cell_type": "code",
   "execution_count": 13,
   "id": "104149c4",
   "metadata": {},
   "outputs": [],
   "source": [
    "user_item_matrix_train = train_ratings.pivot_table(\n",
    "    index='user_id',      \n",
    "    columns='item_id',  \n",
    "    values='rating'\n",
    ")\n",
    "user_item_matrix_train = user_item_matrix_train.fillna(0)\n",
    "\n"
   ]
  },
  {
   "cell_type": "code",
   "execution_count": 14,
   "id": "da5d5662",
   "metadata": {},
   "outputs": [],
   "source": [
    "user_sim_matrix = cosine_similarity(user_item_matrix_train)\n",
    "user_similarity_df = pd.DataFrame(user_sim_matrix,\n",
    "    index=user_item_matrix_train.index,\n",
    "    columns=user_item_matrix_train.index)"
   ]
  },
  {
   "cell_type": "code",
   "execution_count": 15,
   "id": "aea5f925",
   "metadata": {},
   "outputs": [],
   "source": [
    "def recommend_items(user_id, user_item_matrix, similarity_matrix, k=5, n_recommendations=5):\n",
    "    \n",
    "    if user_id not in user_item_matrix.index:\n",
    "        print(\"User not found.\")\n",
    "        return []\n",
    "\n",
    "    \n",
    "    user_sim_scores = similarity_matrix.loc[user_id]\n",
    "\n",
    "   \n",
    "    similar_users = user_sim_scores.drop(user_id).sort_values(ascending=False).head(k)\n",
    "\n",
    "    \n",
    "    similar_users_ratings = user_item_matrix.loc[similar_users.index]\n",
    "\n",
    "    \n",
    "    weighted_ratings = similar_users_ratings.T.dot(similar_users) / similar_users.sum()\n",
    "\n",
    "   \n",
    "    user_rated_items = user_item_matrix.loc[user_id]\n",
    "    unrated_items = user_rated_items[user_rated_items == 0].index  \n",
    "\n",
    "   \n",
    "    recommendations = weighted_ratings.loc[unrated_items].sort_values(ascending=False).head(n_recommendations)\n",
    "    return recommendations.index.tolist()"
   ]
  },
  {
   "cell_type": "code",
   "execution_count": 16,
   "id": "4067e829",
   "metadata": {},
   "outputs": [
    {
     "name": "stdout",
     "output_type": "stream",
     "text": [
      "Recommended item IDs: [515, 523, 50, 191, 211]\n"
     ]
    }
   ],
   "source": [
    "recommended_ids = recommend_items(\n",
    "    user_id=10,\n",
    "    user_item_matrix=user_item_matrix_train,\n",
    "    similarity_matrix=user_similarity_df,\n",
    ")\n",
    "\n",
    "print(\"Recommended item IDs:\", recommended_ids)\n"
   ]
  },
  {
   "cell_type": "code",
   "execution_count": 17,
   "id": "72788e2b",
   "metadata": {},
   "outputs": [],
   "source": [
    "def precision_at_k(recommendations, test_data, user_id, k=5):\n",
    "    # Get the set of item_ids that the user actually rated in the test set\n",
    "    actual_items = test_data[test_data['user_id'] == user_id]['item_id'].tolist()\n",
    "\n",
    "    if not actual_items:\n",
    "        return None\n",
    "\n",
    "    # Count how many of the top-k recommendations are in the actual items\n",
    "    relevant_recommendations = [item for item in recommendations[:k] if item in actual_items]\n",
    "\n",
    "    return len(relevant_recommendations) / k"
   ]
  },
  {
   "cell_type": "code",
   "execution_count": 18,
   "id": "452bd326",
   "metadata": {},
   "outputs": [
    {
     "name": "stdout",
     "output_type": "stream",
     "text": [
      "Recommended items: [515, 523, 50, 191, 211]\n",
      "Precision at k=5: 0.6\n"
     ]
    }
   ],
   "source": [
    "recs = recommend_items(\n",
    "    user_id=10,\n",
    "    user_item_matrix=user_item_matrix_train,\n",
    "    similarity_matrix=user_similarity_df,\n",
    "    n_recommendations=5\n",
    ")\n",
    "\n",
    "print(\"Recommended items:\", recs)\n",
    "print(\"Precision at k=5:\", precision_at_k(recs, test_ratings,user_id=10, k=5))"
   ]
  },
  {
   "cell_type": "code",
   "execution_count": null,
   "id": "f1b5a255",
   "metadata": {},
   "outputs": [],
   "source": []
  }
 ],
 "metadata": {
  "kernelspec": {
   "display_name": "Python 3",
   "language": "python",
   "name": "python3"
  },
  "language_info": {
   "codemirror_mode": {
    "name": "ipython",
    "version": 3
   },
   "file_extension": ".py",
   "mimetype": "text/x-python",
   "name": "python",
   "nbconvert_exporter": "python",
   "pygments_lexer": "ipython3",
   "version": "3.12.10"
  }
 },
 "nbformat": 4,
 "nbformat_minor": 5
}
